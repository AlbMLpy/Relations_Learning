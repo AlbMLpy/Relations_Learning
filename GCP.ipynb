{
 "cells": [
  {
   "cell_type": "code",
   "execution_count": 1,
   "metadata": {},
   "outputs": [],
   "source": [
    "import numpy as np\n",
    "from numba import jit"
   ]
  },
  {
   "cell_type": "code",
   "execution_count": 2,
   "metadata": {},
   "outputs": [],
   "source": [
    "@jit(nopython=True) \n",
    "def mttcrp(coo_tensor, vals, shape, mode, a, b):\n",
    "    \"\"\"\n",
    "        Calculate matricized-tensor times Khatri-Rao product. \n",
    "    \"\"\"\n",
    "    temp = np.zeros(shape=(shape[mode], a.shape[1]))\n",
    "    \n",
    "    if mode == 0:\n",
    "        mode_a = 1 \n",
    "        mode_b = 2\n",
    "        \n",
    "    elif mode == 1:\n",
    "        mode_a = 0\n",
    "        mode_b = 2\n",
    "        \n",
    "    else:\n",
    "        mode_a = 0\n",
    "        mode_b = 1\n",
    "        \n",
    "    for item in range(coo_tensor.shape[0]):\n",
    "        coord = coo_tensor[item]\n",
    "        temp[coord[mode], :] += a[coord[mode_a], :] * b[coord[mode_b], :] * vals[item] \n",
    "    \n",
    "    return temp"
   ]
  },
  {
   "cell_type": "code",
   "execution_count": 3,
   "metadata": {},
   "outputs": [],
   "source": [
    "@jit(nopython=True)\n",
    "def gaussian_loss(x_vals, m_vals):\n",
    "    return (x_vals - m_vals)**2\n",
    "\n",
    "@jit(nopython=True)\n",
    "def gaussian_loss_grad(x_vals, m_vals):\n",
    "    return -2 * (x_vals - m_vals)"
   ]
  },
  {
   "cell_type": "code",
   "execution_count": 4,
   "metadata": {},
   "outputs": [],
   "source": [
    "@jit(nopython=True)\n",
    "def bernoulli_logit_loss(x_vals, m_vals):\n",
    "    return np.log(1 + np.exp(m_vals)) - (x_vals * m_vals)\n",
    "\n",
    "@jit(nopython=True)\n",
    "def bernoulli_logit_loss_grad(x_vals, m_vals):\n",
    "    exp_vals = np.exp(m_vals)\n",
    "    return (exp_vals / (1 + exp_vals)) - x_vals"
   ]
  },
  {
   "cell_type": "code",
   "execution_count": 6,
   "metadata": {},
   "outputs": [],
   "source": [
    "@jit(nopython=True)\n",
    "def get_elem_deriv_tensor(coo_tensor, vals, kruskal_vals, loss_function_grad):\n",
    "    \"\"\"\n",
    "        Calculate the elementwise derivative tensor Y.\n",
    "    \"\"\"\n",
    "    \n",
    "    deriv_tensor_vals = loss_function_grad(vals, kruskal_vals) / vals.size\n",
    "    return deriv_tensor_vals    "
   ]
  },
  {
   "cell_type": "code",
   "execution_count": 7,
   "metadata": {},
   "outputs": [],
   "source": [
    "@jit(nopython=True)\n",
    "def factors_to_tensor(coo_tensor, vals, a, b, c):\n",
    "    \"\"\"\n",
    "        Calculate Kruskal tensor values with\n",
    "        the same coordinates as initial tensor has.\n",
    "    \"\"\"\n",
    "    \n",
    "    krus_vals = np.zeros_like(vals)\n",
    "    for item in range(coo_tensor.shape[0]):\n",
    "        coord = coo_tensor[item]\n",
    "        krus_vals[item] = np.sum(\n",
    "            a[coord[0], :] * b[coord[1], :] * c[coord[2], :]\n",
    "        )\n",
    "    return krus_vals    "
   ]
  },
  {
   "cell_type": "code",
   "execution_count": 118,
   "metadata": {},
   "outputs": [],
   "source": [
    "@jit(nopython=True)\n",
    "def gcp_fg(coo_tensor, vals, shape, a, b, c, l2, loss_function, loss_function_grad):\n",
    "    \"\"\"\n",
    "        GCP loss function and gradient calculation.\n",
    "        All the tensors have the same coordinate set: coo_tensor.\n",
    "    \"\"\"\n",
    "    \n",
    "    # Construct sparse kruskal tensor\n",
    "    kruskal_vals = factors_to_tensor(coo_tensor, vals, a, b, c)\n",
    "    \n",
    "    # Calculate mean loss on known entries\n",
    "    loss_array = loss_function(vals, kruskal_vals)\n",
    "    loss = np.mean(loss_array)\n",
    "    \n",
    "    # Compute the elementwise derivative tensor\n",
    "    deriv_tensor_vals = get_elem_deriv_tensor(\n",
    "        coo_tensor, vals, kruskal_vals, loss_function_grad\n",
    "    )\n",
    "    \n",
    "    # Calculate gradients w.r.t. a, b, c factor matrices\n",
    "    g_a = mttcrp(coo_tensor, deriv_tensor_vals, shape, 0, b, c)\n",
    "    g_b = mttcrp(coo_tensor, deriv_tensor_vals, shape, 1, a, c)\n",
    "    g_c = mttcrp(coo_tensor, deriv_tensor_vals, shape, 2, a, b)\n",
    "    \n",
    "    # Add L2 regularization\n",
    "    if l2 != 0:\n",
    "        g_a += l2 * a\n",
    "        g_b += l2 * b\n",
    "        g_c += l2 * c\n",
    "    \n",
    "    return loss, g_a, g_b, g_c"
   ]
  },
  {
   "cell_type": "code",
   "execution_count": 119,
   "metadata": {},
   "outputs": [],
   "source": [
    "@jit(nopython=True)\n",
    "def gcp_gd(coo_tensor,\n",
    "           vals,\n",
    "           shape,\n",
    "           loss_function,\n",
    "           loss_function_grad,\n",
    "           rank=5,\n",
    "           lr=0.1,\n",
    "           l2=0,\n",
    "           max_iter=20,\n",
    "           tol=1e-8,\n",
    "           seed=13,\n",
    "           show_iter=False,\n",
    "           it_over=True):\n",
    "    \"\"\"\n",
    "        Factorize initial sparse tensor by generalized CP decomposition.\n",
    "    \"\"\"\n",
    "    \n",
    "    random_state = np.random.seed(seed)\n",
    "    a = np.random.normal(0.0, 0.1, size=(shape[0], rank))\n",
    "    b = np.random.normal(0.0, 0.1, size=(shape[1], rank))\n",
    "    c = np.random.normal(0.0, 0.1, size=(shape[2], rank))\n",
    "    \n",
    "    err_arr = np.empty((max_iter, 1))\n",
    "    it = 0\n",
    "    err1 = 1.0\n",
    "    err2 = 0.0\n",
    "    while np.abs(err1 - err2) > tol:\n",
    "        \n",
    "        # Get loss and gradients\n",
    "        error, g_a, g_b, g_c = gcp_fg(\n",
    "            coo_tensor, vals, shape, a, b, c,\n",
    "            l2, loss_function, loss_function_grad,\n",
    "        )\n",
    "        \n",
    "        # Update factor matrices\n",
    "        a = a - (lr * g_a)\n",
    "        b = b - (lr * g_b)\n",
    "        c = c - (lr * g_c)\n",
    "        \n",
    "        it += 1\n",
    "        err_arr[it - 1] = error\n",
    "        err2 = err1\n",
    "        err1 = error\n",
    "        if show_iter:\n",
    "            print(\"Iter: \", it, \"; Error: \", error)\n",
    "            \n",
    "        if it == max_iter:\n",
    "            if it_over:\n",
    "                print(\"iterations over\")\n",
    "            break\n",
    "    \n",
    "    return a, b, c, err_arr, it"
   ]
  },
  {
   "cell_type": "code",
   "execution_count": 23,
   "metadata": {},
   "outputs": [],
   "source": [
    "import matplotlib.pyplot as plt\n",
    "\n",
    "from general_functions import sqrt_err_relative, check_coo_tensor, gen_coo_tensor\n",
    "from general_functions import create_filter, hr"
   ]
  },
  {
   "cell_type": "code",
   "execution_count": 120,
   "metadata": {},
   "outputs": [
    {
     "name": "stdout",
     "output_type": "stream",
     "text": [
      "CPU times: user 81 µs, sys: 2 µs, total: 83 µs\n",
      "Wall time: 86.3 µs\n"
     ]
    }
   ],
   "source": [
    "%%time\n",
    "shape = (100, 100, 100)\n",
    "coo, vals = gen_coo_tensor(init_shape, density=0.02)\n",
    "assert check_coo_tensor(coo)!= \"Bad\""
   ]
  },
  {
   "cell_type": "code",
   "execution_count": 121,
   "metadata": {},
   "outputs": [],
   "source": [
    "max_iter = 20\n",
    "rank = 3"
   ]
  },
  {
   "cell_type": "code",
   "execution_count": 129,
   "metadata": {},
   "outputs": [
    {
     "name": "stdout",
     "output_type": "stream",
     "text": [
      "iterations over\n",
      "CPU times: user 1.74 ms, sys: 0 ns, total: 1.74 ms\n",
      "Wall time: 1.55 ms\n"
     ]
    }
   ],
   "source": [
    "%%time\n",
    "\n",
    "a, b, c, err, it = gcp_gd(\n",
    "    coo, vals, shape,\n",
    "    bernoulli_logit_loss,\n",
    "    bernoulli_logit_loss_grad,\n",
    "    rank=rank,\n",
    "    lr=0.1,\n",
    "    l2=0,\n",
    "    max_iter=max_iter,\n",
    "    tol=1e-8,\n",
    "    seed=13,\n",
    "    show_iter=False,\n",
    "    it_over=True,\n",
    ")"
   ]
  },
  {
   "cell_type": "code",
   "execution_count": 130,
   "metadata": {},
   "outputs": [
    {
     "data": {
      "text/plain": [
       "[<matplotlib.lines.Line2D at 0x7f2403b6a790>]"
      ]
     },
     "execution_count": 130,
     "metadata": {},
     "output_type": "execute_result"
    },
    {
     "data": {
      "image/png": "[encoded data removed]",
      "text/plain": [
       "<Figure size 432x288 with 1 Axes>"
      ]
     },
     "metadata": {
      "needs_background": "light"
     },
     "output_type": "display_data"
    }
   ],
   "source": [
    "plt.xlabel(\"Iteration\")\n",
    "plt.ylabel(\"Relative error\")\n",
    "plt.title(f\"Random tensor / CP-ALS3(R={rank})\")\n",
    "#plt.xticks(np.arange(max_iter))\n",
    "plt.yscale(\"log\")\n",
    "plt.plot(np.arange(max_iter), err[:max_iter], 'g-*')"
   ]
  },
  {
   "cell_type": "code",
   "execution_count": 101,
   "metadata": {},
   "outputs": [],
   "source": [
    "import CP_ALS3.CP_ALS3 as cp"
   ]
  },
  {
   "cell_type": "code",
   "execution_count": 114,
   "metadata": {},
   "outputs": [
    {
     "name": "stdout",
     "output_type": "stream",
     "text": [
      "iterations over\n",
      "CPU times: user 4.07 ms, sys: 1 µs, total: 4.07 ms\n",
      "Wall time: 4.08 ms\n"
     ]
    }
   ],
   "source": [
    "%%time\n",
    "max_iter = 20\n",
    "rank = 3\n",
    "a, b, c, err, it = cp.cp_als3(coo, vals, shape, rank=rank, max_iter=max_iter)"
   ]
  },
  {
   "cell_type": "code",
   "execution_count": 115,
   "metadata": {},
   "outputs": [
    {
     "data": {
      "text/plain": [
       "[<matplotlib.lines.Line2D at 0x7f2402f01d10>]"
      ]
     },
     "execution_count": 115,
     "metadata": {},
     "output_type": "execute_result"
    },
    {
     "data": {
      "image/png": "[encoded data removed]",
      "text/plain": [
       "<Figure size 432x288 with 1 Axes>"
      ]
     },
     "metadata": {
      "needs_background": "light"
     },
     "output_type": "display_data"
    }
   ],
   "source": [
    "plt.xlabel(\"Iteration\")\n",
    "plt.ylabel(\"Relative error\")\n",
    "plt.title(f\"Random tensor / CP-ALS3(R={rank})\")\n",
    "#plt.xticks(np.arange(max_iter))\n",
    "plt.yscale(\"log\")\n",
    "plt.plot(np.arange(max_iter), err[:max_iter], 'g-*')"
   ]
  },
  {
   "cell_type": "code",
   "execution_count": null,
   "metadata": {},
   "outputs": [],
   "source": []
  }
 ],
 "metadata": {
  "kernelspec": {
   "display_name": "Python 3",
   "language": "python",
   "name": "python3"
  },
  "language_info": {
   "codemirror_mode": {
    "name": "ipython",
    "version": 3
   },
   "file_extension": ".py",
   "mimetype": "text/x-python",
   "name": "python",
   "nbconvert_exporter": "python",
   "pygments_lexer": "ipython3",
   "version": "3.7.4"
  }
 },
 "nbformat": 4,
 "nbformat_minor": 4
}
