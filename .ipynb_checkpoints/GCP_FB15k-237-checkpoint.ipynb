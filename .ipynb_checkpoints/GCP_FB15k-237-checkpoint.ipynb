{
 "cells": [
  {
   "cell_type": "code",
   "execution_count": 1,
   "metadata": {},
   "outputs": [],
   "source": [
    "import numpy as np\n",
    "import pandas as pd\n",
    "import matplotlib.pyplot as plt\n",
    "\n",
    "import pickle\n",
    "import time\n",
    "from ipypb import track\n",
    "import time\n",
    "\n",
    "import GCP_GD3 as gcp\n",
    "from general_functions import sqrt_err_relative, check_coo_tensor, gen_coo_tensor\n",
    "from general_functions import create_filter, hr"
   ]
  },
  {
   "cell_type": "markdown",
   "metadata": {},
   "source": [
    "### Zero launch of a function(for NUMBA):"
   ]
  },
  {
   "cell_type": "code",
   "execution_count": 2,
   "metadata": {},
   "outputs": [],
   "source": [
    "init_shape = (100, 100, 10)\n",
    "coo, vals = gen_coo_tensor(init_shape, density=0.002)\n",
    "assert check_coo_tensor(coo)!= \"Bad\""
   ]
  },
  {
   "cell_type": "code",
   "execution_count": 3,
   "metadata": {},
   "outputs": [
    {
     "name": "stdout",
     "output_type": "stream",
     "text": [
      "0.9990672728764375 [0.693007]\n",
      "CPU times: user 10.3 s, sys: 19.3 ms, total: 10.3 s\n",
      "Wall time: 10.3 s\n"
     ]
    }
   ],
   "source": [
    "%%time\n",
    "\n",
    "max_iter = 12\n",
    "rank = 5\n",
    "seed = 13\n",
    "\n",
    "a, b, c, err, it = gcp.gcp_gd(\n",
    "    coo, vals, init_shape,\n",
    "    gcp.bernoulli_logit_loss,\n",
    "    gcp.bernoulli_logit_loss_grad,\n",
    "    rank=rank,\n",
    "    lr=0.1,\n",
    "    l2=0,\n",
    "    max_iter=max_iter,\n",
    "    tol=1e-8,\n",
    "    seed=seed,\n",
    "    show_iter=False,\n",
    "    it_over=False,\n",
    ")\n",
    "\n",
    "rerr = sqrt_err_relative(\n",
    "    coo, vals, init_shape, a, b, c,\n",
    ")\n",
    "print(rerr, err[-1])"
   ]
  },
  {
   "cell_type": "markdown",
   "metadata": {},
   "source": [
    "### Load the data:"
   ]
  },
  {
   "cell_type": "code",
   "execution_count": 4,
   "metadata": {},
   "outputs": [],
   "source": [
    "path_data = \"Link_Prediction_Data/FB15K237/\"\n",
    "entity_list = pickle.load(open(path_data + 'entity_list', 'rb'))\n",
    "relation_list = pickle.load(open(path_data + 'relation_list', 'rb'))\n",
    "\n",
    "train_triples = pickle.load(open(path_data + 'train_triples', 'rb'))\n",
    "valid_triples = pickle.load(open(path_data + 'valid_triples', 'rb'))\n",
    "test_triples = pickle.load(open(path_data + 'test_triples', 'rb'))\n",
    "train_valid_triples = pickle.load(open(path_data + 'train_valid_triples', 'rb'))\n",
    "\n",
    "entity_map = pickle.load(open(path_data + 'entity_map', 'rb'))\n",
    "relation_map = pickle.load(open(path_data + 'relation_map', 'rb'))\n",
    "\n",
    "all_triples = train_valid_triples + test_triples"
   ]
  },
  {
   "cell_type": "code",
   "execution_count": 5,
   "metadata": {},
   "outputs": [],
   "source": [
    "test_filter = create_filter(test_triples, all_triples)  \n",
    "valid_filter = create_filter(valid_triples, all_triples)  "
   ]
  },
  {
   "cell_type": "markdown",
   "metadata": {},
   "source": [
    "### Create Sparse COO Train Tensor:"
   ]
  },
  {
   "cell_type": "code",
   "execution_count": 6,
   "metadata": {},
   "outputs": [
    {
     "data": {
      "text/plain": [
       "(14541, 237, 14541)"
      ]
     },
     "execution_count": 6,
     "metadata": {},
     "output_type": "execute_result"
    }
   ],
   "source": [
    "values = [1] * len(train_triples)\n",
    "values = np.array(values, dtype=np.float64)\n",
    "\n",
    "coords = np.array(train_triples, dtype=np.int32)\n",
    "nnz = len(train_triples)\n",
    "data_shape = (len(entity_list), len(relation_list), len(entity_list))\n",
    "data_shape"
   ]
  },
  {
   "cell_type": "markdown",
   "metadata": {},
   "source": [
    "## GCP-GD3:"
   ]
  },
  {
   "cell_type": "code",
   "execution_count": 18,
   "metadata": {},
   "outputs": [],
   "source": [
    "max_iter = 200 \n",
    "rank = 25 \n",
    "l2 =  1e-2\n",
    "lr = 4e-3 \n",
    "seed = 27 "
   ]
  },
  {
   "cell_type": "code",
   "execution_count": 19,
   "metadata": {},
   "outputs": [
    {
     "name": "stdout",
     "output_type": "stream",
     "text": [
      "iterations over\n",
      "CPU times: user 1min 17s, sys: 416 ms, total: 1min 18s\n",
      "Wall time: 1min 17s\n"
     ]
    }
   ],
   "source": [
    "%%time\n",
    "\n",
    "a, b, c, err_arr, it = gcp.gcp_gd(\n",
    "    coords, values, data_shape,\n",
    "    gcp.bernoulli_logit_loss, #gaussian_loss\n",
    "    gcp.bernoulli_logit_loss_grad, #bernoulli_logit_loss\n",
    "    rank=rank,\n",
    "    lr=lr,\n",
    "    l2=l2,\n",
    "    max_iter=max_iter,\n",
    "    tol=1e-8,\n",
    "    seed=seed,\n",
    "    show_iter=False,\n",
    "    it_over=True,\n",
    ")"
   ]
  },
  {
   "cell_type": "code",
   "execution_count": 20,
   "metadata": {},
   "outputs": [
    {
     "name": "stdout",
     "output_type": "stream",
     "text": [
      "Relative error = 14.61660921757642, 0, 0, 0\n"
     ]
    }
   ],
   "source": [
    "rerr = sqrt_err_relative(\n",
    "    coords, values, data_shape, a, b, c,\n",
    ")\n",
    "print(f\"Relative error = {rerr}, {(np.isnan(a)).sum()}, {(np.isnan(b)).sum()}, {(np.isnan(c)).sum()}\")"
   ]
  },
  {
   "cell_type": "code",
   "execution_count": 21,
   "metadata": {},
   "outputs": [
    {
     "data": {
      "text/plain": [
       "[<matplotlib.lines.Line2D at 0x7fe84874e750>]"
      ]
     },
     "execution_count": 21,
     "metadata": {},
     "output_type": "execute_result"
    },
    {
     "data": {
      "image/png": "[encoded data removed]",
      "text/plain": [
       "<Figure size 432x288 with 1 Axes>"
      ]
     },
     "metadata": {
      "needs_background": "light"
     },
     "output_type": "display_data"
    }
   ],
   "source": [
    "plt.xlabel(\"Iteration\")\n",
    "plt.ylabel(\"Relative error\")\n",
    "plt.title(f\"FB15k-237 / GCP-GD3(R={rank})\")\n",
    "#plt.xticks(np.arange(it))\n",
    "plt.yscale(\"log\")\n",
    "plt.plot(np.arange(1, it+1), err_arr[:it], '-*', c=\"#8b0a50\")"
   ]
  },
  {
   "cell_type": "code",
   "execution_count": 22,
   "metadata": {},
   "outputs": [
    {
     "name": "stdout",
     "output_type": "stream",
     "text": [
      "CPU times: user 4.53 s, sys: 3.98 ms, total: 4.54 s\n",
      "Wall time: 4.54 s\n"
     ]
    },
    {
     "data": {
      "text/plain": [
       "(0.05, 0.129, 0.227, 0.11183544481439901)"
      ]
     },
     "execution_count": 22,
     "metadata": {},
     "output_type": "execute_result"
    }
   ],
   "source": [
    "%%time\n",
    "hr(valid_filter[:1000], valid_triples[:1000], a, b, c, [1, 3, 10])  #[:1000]"
   ]
  },
  {
   "cell_type": "markdown",
   "metadata": {},
   "source": [
    "%%time\n",
    "hr(test_filter, test_triples, a, b, c, [1, 3, 10])"
   ]
  },
  {
   "cell_type": "code",
   "execution_count": null,
   "metadata": {},
   "outputs": [
    {
     "name": "stdout",
     "output_type": "stream",
     "text": [
      "iter:  100 ; lr:  0.0001 ; rank:  25 ; hr:  0.002 ; time:  42.7912232875824\n",
      "iter:  100 ; lr:  0.0001 ; rank:  50 ; hr:  0.0 ; time:  46.45319104194641\n",
      "iter:  100 ; lr:  0.0001 ; rank:  100 ; hr:  0.0 ; time:  67.91325402259827\n",
      "iter:  100 ; lr:  0.0001 ; rank:  200 ; hr:  0.001 ; time:  111.86956691741943\n",
      "iter:  100 ; lr:  0.0001 ; rank:  300 ; hr:  0.002 ; time:  144.09136319160461\n",
      "iter:  100 ; lr:  0.0001 ; rank:  400 ; hr:  0.0 ; time:  179.02000164985657\n",
      "iter:  100 ; lr:  0.0004 ; rank:  25 ; hr:  0.002 ; time:  38.87413954734802\n",
      "iter:  100 ; lr:  0.0004 ; rank:  50 ; hr:  0.0 ; time:  48.3445463180542\n",
      "iter:  100 ; lr:  0.0004 ; rank:  100 ; hr:  0.0 ; time:  68.09948015213013\n",
      "iter:  100 ; lr:  0.0004 ; rank:  200 ; hr:  0.0 ; time:  108.69827270507812\n",
      "iter:  100 ; lr:  0.0004 ; rank:  300 ; hr:  0.002 ; time:  136.63263487815857\n",
      "iter:  100 ; lr:  0.0004 ; rank:  400 ; hr:  0.001 ; time:  172.11133909225464\n",
      "iter:  100 ; lr:  0.001 ; rank:  25 ; hr:  0.003 ; time:  36.67745399475098\n",
      "iter:  100 ; lr:  0.001 ; rank:  50 ; hr:  0.011 ; time:  46.17271161079407\n",
      "iter:  100 ; lr:  0.001 ; rank:  100 ; hr:  0.005 ; time:  69.5332703590393\n",
      "iter:  100 ; lr:  0.001 ; rank:  200 ; hr:  0.002 ; time:  111.5825788974762\n",
      "iter:  100 ; lr:  0.001 ; rank:  300 ; hr:  0.005 ; time:  137.90781140327454\n",
      "iter:  100 ; lr:  0.001 ; rank:  400 ; hr:  0.007 ; time:  181.96934270858765\n",
      "iter:  100 ; lr:  0.004 ; rank:  25 ; hr:  0.243 ; time:  38.32844281196594\n",
      "iter:  100 ; lr:  0.004 ; rank:  50 ; hr:  0.217 ; time:  46.08785128593445\n",
      "iter:  100 ; lr:  0.004 ; rank:  100 ; hr:  0.214 ; time:  67.6069905757904\n",
      "iter:  100 ; lr:  0.004 ; rank:  200 ; hr:  0.285 ; time:  110.91653180122375\n",
      "iter:  100 ; lr:  0.004 ; rank:  300 ; hr:  0.27 ; time:  137.61394548416138\n",
      "iter:  100 ; lr:  0.004 ; rank:  400 ; hr:  0.219 ; time:  184.81752729415894\n",
      "iter:  100 ; lr:  0.01 ; rank:  25 ; hr:  0.248 ; time:  40.07096242904663\n",
      "iter:  100 ; lr:  0.01 ; rank:  50 ; hr:  0.224 ; time:  47.58361291885376\n",
      "iter:  100 ; lr:  0.01 ; rank:  100 ; hr:  0.231 ; time:  71.2466881275177\n",
      "iter:  100 ; lr:  0.01 ; rank:  200 ; hr:  0.286 ; time:  119.68791508674622\n",
      "iter:  100 ; lr:  0.01 ; rank:  300 ; hr:  0.309 ; time:  144.7152967453003\n",
      "iter:  100 ; lr:  0.01 ; rank:  400 ; hr:  0.254 ; time:  186.79084515571594\n",
      "iter:  100 ; lr:  0.04 ; rank:  25 ; hr:  0.0 ; time:  4.130057096481323\n",
      "iter:  100 ; lr:  0.04 ; rank:  50 ; hr:  0.0 ; time:  5.376113176345825\n",
      "iter:  100 ; lr:  0.04 ; rank:  100 ; hr:  0.001 ; time:  13.41108775138855\n",
      "iter:  100 ; lr:  0.04 ; rank:  200 ; hr:  0.0 ; time:  11.963313817977905\n",
      "iter:  100 ; lr:  0.04 ; rank:  300 ; hr:  0.37 ; time:  143.36886286735535\n",
      "iter:  100 ; lr:  0.04 ; rank:  400 ; hr:  0.001 ; time:  38.09200882911682\n",
      "iter:  200 ; lr:  0.0001 ; rank:  25 ; hr:  0.002 ; time:  77.41947889328003\n",
      "iter:  200 ; lr:  0.0001 ; rank:  50 ; hr:  0.0 ; time:  99.97038531303406\n",
      "iter:  200 ; lr:  0.0001 ; rank:  100 ; hr:  0.0 ; time:  140.54946064949036\n",
      "iter:  200 ; lr:  0.0001 ; rank:  200 ; hr:  0.001 ; time:  221.7032618522644\n",
      "iter:  200 ; lr:  0.0001 ; rank:  300 ; hr:  0.002 ; time:  281.86325907707214\n",
      "iter:  200 ; lr:  0.0001 ; rank:  400 ; hr:  0.001 ; time:  393.81960344314575\n",
      "iter:  200 ; lr:  0.0004 ; rank:  25 ; hr:  0.003 ; time:  95.58742022514343\n",
      "iter:  200 ; lr:  0.0004 ; rank:  50 ; hr:  0.003 ; time:  125.97717761993408\n",
      "iter:  200 ; lr:  0.0004 ; rank:  100 ; hr:  0.001 ; time:  187.57155418395996\n",
      "iter:  200 ; lr:  0.0004 ; rank:  200 ; hr:  0.0 ; time:  224.36026620864868\n",
      "iter:  200 ; lr:  0.0004 ; rank:  300 ; hr:  0.003 ; time:  290.911518573761\n",
      "iter:  200 ; lr:  0.0004 ; rank:  400 ; hr:  0.003 ; time:  354.0280408859253\n",
      "iter:  200 ; lr:  0.001 ; rank:  25 ; hr:  0.16 ; time:  79.15303444862366\n",
      "iter:  200 ; lr:  0.001 ; rank:  50 ; hr:  0.193 ; time:  109.87804293632507\n",
      "iter:  200 ; lr:  0.001 ; rank:  100 ; hr:  0.254 ; time:  162.51801252365112\n"
     ]
    }
   ],
   "source": [
    "maax = 0.0\n",
    "for max_iter in (100, 200, 400):\n",
    "    for lr in (1e-4, 4e-4, 1e-3, 4e-3, 1e-2, 4e-2):\n",
    "        for rank in (25, 50, 100, 200, 300, 400):\n",
    "            start_train = time.time()\n",
    "            a, b, c, err_arr, it = gcp.gcp_gd(\n",
    "                coords, values, data_shape,\n",
    "                gcp.bernoulli_logit_loss, #gaussian_loss\n",
    "                gcp.bernoulli_logit_loss_grad, #bernoulli_logit_loss\n",
    "                rank=rank,\n",
    "                lr=lr,\n",
    "                l2=0,\n",
    "                max_iter=max_iter,\n",
    "                tol=1e-8,\n",
    "                seed=13,\n",
    "                show_iter=False,\n",
    "                it_over=False,\n",
    "            )\n",
    "            train_time = time.time() - start_train\n",
    "            start_train = time.time()\n",
    "            _, _, hrr, _ = hr(valid_filter[:1000], valid_triples[:1000], a, b, c, [1, 3, 10])\n",
    "            hr_time = time.time() - start_train\n",
    "            #if np.isnan(hrr):\n",
    "                #continue\n",
    "            #if maax <= hrr:\n",
    "            print(\"iter: \", max_iter,\"; lr: \", lr,\"; rank: \", rank, \"; hr: \", hrr, \"; time: \", train_time)\n",
    "            maax = hrr\n",
    "        "
   ]
  },
  {
   "cell_type": "code",
   "execution_count": null,
   "metadata": {},
   "outputs": [],
   "source": []
  }
 ],
 "metadata": {
  "kernelspec": {
   "display_name": "Python 3",
   "language": "python",
   "name": "python3"
  },
  "language_info": {
   "codemirror_mode": {
    "name": "ipython",
    "version": 3
   },
   "file_extension": ".py",
   "mimetype": "text/x-python",
   "name": "python",
   "nbconvert_exporter": "python",
   "pygments_lexer": "ipython3",
   "version": "3.7.4"
  }
 },
 "nbformat": 4,
 "nbformat_minor": 4
}
