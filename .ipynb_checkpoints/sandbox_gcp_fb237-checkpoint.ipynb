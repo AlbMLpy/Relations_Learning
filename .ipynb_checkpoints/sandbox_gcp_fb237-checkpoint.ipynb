{
 "cells": [
  {
   "cell_type": "code",
   "execution_count": 1,
   "metadata": {},
   "outputs": [],
   "source": [
    "import numpy as np\n",
    "import pandas as pd\n",
    "import matplotlib.pyplot as plt\n",
    "\n",
    "import pickle\n",
    "import time\n",
    "from ipypb import track\n",
    "import time\n",
    "\n",
    "import GCP_sandbox as gcp \n",
    "from general_functions import sqrt_err_relative, check_coo_tensor, gen_coo_tensor\n",
    "from general_functions import create_filter, hr"
   ]
  },
  {
   "cell_type": "code",
   "execution_count": null,
   "metadata": {},
   "outputs": [],
   "source": [
    "path_data = \"Link_Prediction_Data/FB15K237/\"\n",
    "entity_list = pickle.load(open(path_data + 'entity_list', 'rb'))\n",
    "relation_list = pickle.load(open(path_data + 'relation_list', 'rb'))\n",
    "\n",
    "train_triples = pickle.load(open(path_data + 'train_triples', 'rb'))\n",
    "valid_triples = pickle.load(open(path_data + 'valid_triples', 'rb'))\n",
    "test_triples = pickle.load(open(path_data + 'test_triples', 'rb'))\n",
    "train_valid_triples = pickle.load(open(path_data + 'train_valid_triples', 'rb'))\n",
    "\n",
    "entity_map = pickle.load(open(path_data + 'entity_map', 'rb'))\n",
    "relation_map = pickle.load(open(path_data + 'relation_map', 'rb'))\n",
    "\n",
    "all_triples = train_valid_triples + test_triples"
   ]
  },
  {
   "cell_type": "code",
   "execution_count": null,
   "metadata": {},
   "outputs": [],
   "source": [
    "test_filter = create_filter(test_triples, all_triples)  \n",
    "valid_filter = create_filter(valid_triples, all_triples)  "
   ]
  },
  {
   "cell_type": "code",
   "execution_count": null,
   "metadata": {},
   "outputs": [],
   "source": [
    "values = [1] * len(train_triples)\n",
    "values = np.array(values, dtype=np.float64)\n",
    "\n",
    "coords = np.array(train_triples, dtype=np.int32)\n",
    "nnz = len(train_triples)\n",
    "data_shape = (len(entity_list), len(relation_list), len(entity_list))\n",
    "data_shape"
   ]
  },
  {
   "cell_type": "markdown",
   "metadata": {},
   "source": [
    "max_iter = 100 #1000/20/20/20/20/20/22/25/28/30          #bernoulli_logit_loss/with division on vals.size\n",
    "rank = 200 #100/200/200/200/200/200/200/200/200/250\n",
    "l2 =  0#0/0/0/0/0/0/0/0/0/0\n",
    "lr = 9e-4 #100/4000/5000/6000/7000/7000/7000/7000/7000/6300\n",
    "seed = 13 #2/2/2/2/2/13/13/13/13/13  -> 0.256/0.269/0.29/0.317/0.323/0.334/0.343/0.348/0.353/0.324\n",
    "hm = 1000"
   ]
  },
  {
   "cell_type": "code",
   "execution_count": null,
   "metadata": {},
   "outputs": [],
   "source": [
    "max_iter = 200 #1000/20/20/20/20/20/22/25/28/30          #bernoulli_logit_loss/with division on vals.size\n",
    "rank = 25 #100/200/200/200/200/200/200/200/200/250\n",
    "l2 =  1e-2#0/0/0/0/0/0/0/0/0/0\n",
    "lr = 7e-4 #100/4000/5000/6000/7000/7000/7000/7000/7000/6300\n",
    "seed = 13 #2/2/2/2/2/13/13/13/13/13  -> 0.256/0.269/0.29/0.317/0.323/0.334/0.343/0.348/0.353/0.324\n",
    "hm = 1000"
   ]
  },
  {
   "cell_type": "code",
   "execution_count": null,
   "metadata": {},
   "outputs": [],
   "source": [
    "%%time\n",
    "\n",
    "a, b, c, err_arr, it, hr_arr = gcp.gcp_gd(\n",
    "    coords, values, data_shape,\n",
    "    gcp.bernoulli_logit_loss, #gaussian_loss\n",
    "    gcp.bernoulli_logit_loss_grad, #bernoulli_logit_loss\n",
    "    valid_filter[: hm],\n",
    "    valid_triples[: hm],\n",
    "    rank=rank,\n",
    "    lr=lr,\n",
    "    l2=l2,\n",
    "    max_iter=max_iter,\n",
    "    tol=1e-8,\n",
    "    seed=seed,\n",
    "    show_iter=False,\n",
    "    it_over=True,\n",
    ")"
   ]
  },
  {
   "cell_type": "code",
   "execution_count": null,
   "metadata": {},
   "outputs": [],
   "source": [
    "rerr = sqrt_err_relative(\n",
    "    coords, values, data_shape, a, b, c,\n",
    ")\n",
    "print(f\"Relative error = {rerr}, {(np.isnan(a)).sum()}, {(np.isnan(b)).sum()}, {(np.isnan(c)).sum()}\")"
   ]
  },
  {
   "cell_type": "code",
   "execution_count": null,
   "metadata": {},
   "outputs": [],
   "source": [
    "plt.xlabel(\"Iteration\")\n",
    "plt.ylabel(\"Relative error\")\n",
    "plt.title(f\"FB15k-237 / GCP-GD3(R={rank})\")\n",
    "#plt.xticks(np.arange(it))\n",
    "plt.yscale(\"log\")\n",
    "plt.plot(np.arange(1, it+1), err_arr[:it], '-*', c=\"#8b0a50\")"
   ]
  },
  {
   "cell_type": "code",
   "execution_count": null,
   "metadata": {},
   "outputs": [],
   "source": [
    "plt.xlabel(\"Iteration\")\n",
    "plt.ylabel(\"HR@10\")\n",
    "plt.title(f\"FB15k-237 / GCP-GD3(R={rank})\")\n",
    "#plt.xticks(np.arange(it))\n",
    "#plt.yscale(\"log\")\n",
    "plt.plot(np.arange(1, it+1), hr_arr[:it, 2], '-*', c=\"#8b0a50\")"
   ]
  },
  {
   "cell_type": "code",
   "execution_count": null,
   "metadata": {},
   "outputs": [],
   "source": [
    "hr_arr[:, 2].max()"
   ]
  },
  {
   "cell_type": "code",
   "execution_count": null,
   "metadata": {},
   "outputs": [],
   "source": [
    "plt.plot(np.arange(1, it+1 - 50), hr_arr[50:it, 2], '-*', c=\"#8b0a50\")"
   ]
  },
  {
   "cell_type": "code",
   "execution_count": null,
   "metadata": {},
   "outputs": [],
   "source": [
    "%%time\n",
    "hr(valid_filter[:1000], valid_triples[:1000], a, b, c, [1, 3, 10])  #[:1000]"
   ]
  },
  {
   "cell_type": "code",
   "execution_count": null,
   "metadata": {},
   "outputs": [],
   "source": [
    "%%time\n",
    "hr(test_filter, test_triples, a, b, c, [1, 3, 10])"
   ]
  },
  {
   "cell_type": "code",
   "execution_count": null,
   "metadata": {},
   "outputs": [],
   "source": [
    "maax = 0.0\n",
    "hm = 1000\n",
    "for max_iter in (50, 220):\n",
    "    for lr in (1e-4, 7e-4, 1e-3, 5e-3, 1e-2):\n",
    "        for rank in (100, 200, 300):\n",
    "            for seed in (13, 2):\n",
    "                start_train = time.time()\n",
    "                a, b, c, err_arr, it, hr_arr = gcp.gcp_gd(\n",
    "                    coords, values, data_shape,\n",
    "                    gcp.bernoulli_logit_loss, #gaussian_loss\n",
    "                    gcp.bernoulli_logit_loss_grad, #bernoulli_logit_loss\n",
    "                    valid_filter[: hm],\n",
    "                    valid_triples[: hm],\n",
    "                    rank=rank,\n",
    "                    lr=lr,\n",
    "                    l2=0,\n",
    "                    max_iter=max_iter,\n",
    "                    tol=1e-8,\n",
    "                    seed=seed,\n",
    "                    show_iter=False,\n",
    "                    it_over=False,\n",
    "                )\n",
    "                train_time = time.time() - start_train\n",
    "                hrr = hr_arr[:, 2].max()\n",
    "                #start_train = time.time()\n",
    "                #_, _, hrr, _ = hr(valid_filter[:1000], valid_triples[:1000], a, b, c, [1, 3, 10])\n",
    "                #hr_time = time.time() - start_train\n",
    "                if np.isnan(hrr):\n",
    "                    continue\n",
    "                if maax <= hrr:\n",
    "                    print(\"iter: \", max_iter,\"; lr: \", lr,\"; rank: \", rank, \"; seed: \", seed, \"; hr: \", hrr, \"; time: \", train_time)\n",
    "                    maax = hrr\n",
    "        "
   ]
  }
 ],
 "metadata": {
  "kernelspec": {
   "display_name": "Python 3",
   "language": "python",
   "name": "python3"
  },
  "language_info": {
   "codemirror_mode": {
    "name": "ipython",
    "version": 3
   },
   "file_extension": ".py",
   "mimetype": "text/x-python",
   "name": "python",
   "nbconvert_exporter": "python",
   "pygments_lexer": "ipython3",
   "version": "3.7.4"
  }
 },
 "nbformat": 4,
 "nbformat_minor": 4
}
