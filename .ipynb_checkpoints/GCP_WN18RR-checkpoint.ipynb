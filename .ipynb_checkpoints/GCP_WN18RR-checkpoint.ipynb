{
 "cells": [
  {
   "cell_type": "code",
   "execution_count": 1,
   "metadata": {},
   "outputs": [],
   "source": [
    "import numpy as np\n",
    "import pandas as pd\n",
    "import matplotlib.pyplot as plt\n",
    "\n",
    "import pickle\n",
    "import time\n",
    "from ipypb import track\n",
    "\n",
    "import GCP_GD3 as gcp\n",
    "from general_functions import sqrt_err_relative, check_coo_tensor, gen_coo_tensor\n",
    "from general_functions import create_filter, hr"
   ]
  },
  {
   "cell_type": "markdown",
   "metadata": {},
   "source": [
    "### Zero launch of a function(for NUMBA):"
   ]
  },
  {
   "cell_type": "code",
   "execution_count": 2,
   "metadata": {},
   "outputs": [],
   "source": [
    "init_shape = (100, 100, 10)\n",
    "coo, vals = gen_coo_tensor(init_shape, density=0.002)\n",
    "assert check_coo_tensor(coo)!= \"Bad\""
   ]
  },
  {
   "cell_type": "code",
   "execution_count": 3,
   "metadata": {},
   "outputs": [
    {
     "name": "stdout",
     "output_type": "stream",
     "text": [
      "0.9995193542189393 [0.69291927]\n",
      "CPU times: user 10.4 s, sys: 33 ms, total: 10.5 s\n",
      "Wall time: 10.5 s\n"
     ]
    }
   ],
   "source": [
    "%%time\n",
    "\n",
    "max_iter = 12\n",
    "rank = 5\n",
    "seed = 13\n",
    "\n",
    "a, b, c, err, it = gcp.gcp_gd(\n",
    "    coo, vals, init_shape,\n",
    "    gcp.bernoulli_logit_loss,\n",
    "    gcp.bernoulli_logit_loss_grad,\n",
    "    rank=rank,\n",
    "    lr=0.1,\n",
    "    l2=0,\n",
    "    max_iter=max_iter,\n",
    "    tol=1e-8,\n",
    "    seed=seed,\n",
    "    show_iter=False,\n",
    "    it_over=False,\n",
    ")\n",
    "\n",
    "rerr = sqrt_err_relative(\n",
    "    coo, vals, init_shape, a, b, c,\n",
    ")\n",
    "print(rerr, err[-1])"
   ]
  },
  {
   "cell_type": "markdown",
   "metadata": {},
   "source": [
    "### Load the data:"
   ]
  },
  {
   "cell_type": "code",
   "execution_count": 4,
   "metadata": {},
   "outputs": [],
   "source": [
    "path_data = \"Link_Prediction_Data/WN18RR/\"\n",
    "entity_list = pickle.load(open(path_data + 'entity_list', 'rb'))\n",
    "relation_list = pickle.load(open(path_data + 'relation_list', 'rb'))\n",
    "\n",
    "train_triples = pickle.load(open(path_data + 'train_triples', 'rb'))\n",
    "valid_triples = pickle.load(open(path_data + 'valid_triples', 'rb'))\n",
    "test_triples = pickle.load(open(path_data + 'test_triples', 'rb'))\n",
    "train_valid_triples = pickle.load(open(path_data + 'train_valid_triples', 'rb'))\n",
    "\n",
    "entity_map = pickle.load(open(path_data + 'entity_map', 'rb'))\n",
    "relation_map = pickle.load(open(path_data + 'relation_map', 'rb'))\n",
    "\n",
    "all_triples = train_valid_triples + test_triples"
   ]
  },
  {
   "cell_type": "code",
   "execution_count": 5,
   "metadata": {},
   "outputs": [],
   "source": [
    "test_filter = create_filter(test_triples, all_triples)  \n",
    "valid_filter = create_filter(valid_triples, all_triples)  "
   ]
  },
  {
   "cell_type": "markdown",
   "metadata": {},
   "source": [
    "### Create Sparse COO Train Tensor:"
   ]
  },
  {
   "cell_type": "code",
   "execution_count": 6,
   "metadata": {},
   "outputs": [
    {
     "data": {
      "text/plain": [
       "(40943, 11, 40943)"
      ]
     },
     "execution_count": 6,
     "metadata": {},
     "output_type": "execute_result"
    }
   ],
   "source": [
    "values = [1] * len(train_triples)\n",
    "values = np.array(values, dtype=np.float64)\n",
    "\n",
    "coords = np.array(train_triples, dtype=np.int32)\n",
    "nnz = len(train_triples)\n",
    "data_shape = (len(entity_list), len(relation_list), len(entity_list))\n",
    "data_shape"
   ]
  },
  {
   "cell_type": "markdown",
   "metadata": {},
   "source": [
    "## GCP-GD3:"
   ]
  },
  {
   "cell_type": "code",
   "execution_count": 124,
   "metadata": {},
   "outputs": [],
   "source": [
    "max_iter = 1000\n",
    "rank = 400\n",
    "l2 = 0.01 \n",
    "lr = 0.01 \n",
    "seed = 13 "
   ]
  },
  {
   "cell_type": "code",
   "execution_count": 125,
   "metadata": {},
   "outputs": [
    {
     "name": "stdout",
     "output_type": "stream",
     "text": [
      "iterations over\n",
      "CPU times: user 13min 5s, sys: 4min 7s, total: 17min 12s\n",
      "Wall time: 17min 4s\n"
     ]
    }
   ],
   "source": [
    "%%time\n",
    "\n",
    "a, b, c, err_arr, it = gcp.gcp_gd(\n",
    "    coords, values, data_shape,\n",
    "    gcp.bernoulli_logit_loss, #gaussian_loss\n",
    "    gcp.bernoulli_logit_loss_grad, #bernoulli_logit_loss\n",
    "    rank=rank,\n",
    "    lr=lr,\n",
    "    l2=l2,\n",
    "    max_iter=max_iter,\n",
    "    tol=1e-8,\n",
    "    seed=seed,\n",
    "    show_iter=False,\n",
    "    it_over=True,\n",
    ")"
   ]
  },
  {
   "cell_type": "code",
   "execution_count": 126,
   "metadata": {},
   "outputs": [
    {
     "name": "stdout",
     "output_type": "stream",
     "text": [
      "Relative error = 7.011937093024086, 0, 0, 0\n"
     ]
    }
   ],
   "source": [
    "rerr = sqrt_err_relative(\n",
    "    coords, values, data_shape, a, b, c,\n",
    ")\n",
    "print(f\"Relative error = {rerr}, {(np.isnan(a)).sum()}, {(np.isnan(b)).sum()}, {(np.isnan(c)).sum()}\")"
   ]
  },
  {
   "cell_type": "code",
   "execution_count": 127,
   "metadata": {},
   "outputs": [
    {
     "data": {
      "text/plain": [
       "[<matplotlib.lines.Line2D at 0x7fa138ca5050>]"
      ]
     },
     "execution_count": 127,
     "metadata": {},
     "output_type": "execute_result"
    },
    {
     "data": {
      "image/png": "[encoded data removed]",
      "text/plain": [
       "<Figure size 432x288 with 1 Axes>"
      ]
     },
     "metadata": {
      "needs_background": "light"
     },
     "output_type": "display_data"
    }
   ],
   "source": [
    "plt.xlabel(\"Iteration\")\n",
    "plt.ylabel(\"Relative error\")\n",
    "plt.title(f\"WN18RR / GCP-GD3(R={rank})\")\n",
    "#plt.xticks(np.arange(it))\n",
    "plt.yscale(\"log\")\n",
    "plt.plot(np.arange(1, it+1), err_arr[:it], '-*', c=\"#8b0a50\")"
   ]
  },
  {
   "cell_type": "code",
   "execution_count": 129,
   "metadata": {},
   "outputs": [
    {
     "name": "stdout",
     "output_type": "stream",
     "text": [
      "CPU times: user 2min 14s, sys: 36.2 s, total: 2min 50s\n",
      "Wall time: 2min 50s\n"
     ]
    },
    {
     "data": {
      "text/plain": [
       "(0.008899143045484509,\n",
       " 0.016479894528675015,\n",
       " 0.027686222808174028,\n",
       " 0.015478947330558301)"
      ]
     },
     "execution_count": 129,
     "metadata": {},
     "output_type": "execute_result"
    }
   ],
   "source": [
    "%%time\n",
    "hr(valid_filter, valid_triples, a, b, c, [1, 3, 10])"
   ]
  },
  {
   "cell_type": "code",
   "execution_count": null,
   "metadata": {},
   "outputs": [],
   "source": []
  }
 ],
 "metadata": {
  "kernelspec": {
   "display_name": "Python 3",
   "language": "python",
   "name": "python3"
  },
  "language_info": {
   "codemirror_mode": {
    "name": "ipython",
    "version": 3
   },
   "file_extension": ".py",
   "mimetype": "text/x-python",
   "name": "python",
   "nbconvert_exporter": "python",
   "pygments_lexer": "ipython3",
   "version": "3.7.4"
  }
 },
 "nbformat": 4,
 "nbformat_minor": 4
}
