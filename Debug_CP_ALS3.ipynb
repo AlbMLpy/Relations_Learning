{
 "cells": [
  {
   "cell_type": "code",
   "execution_count": 2,
   "metadata": {},
   "outputs": [],
   "source": [
    "import numpy as np\n",
    "import matplotlib.pyplot as plt\n",
    "import CP_ALS3 as cp"
   ]
  },
  {
   "cell_type": "markdown",
   "metadata": {},
   "source": [
    "## Sparse Random Tensor"
   ]
  },
  {
   "cell_type": "code",
   "execution_count": 3,
   "metadata": {},
   "outputs": [
    {
     "name": "stdout",
     "output_type": "stream",
     "text": [
      "CPU times: user 1.55 s, sys: 165 ms, total: 1.72 s\n",
      "Wall time: 1.53 s\n"
     ]
    }
   ],
   "source": [
    "%%time\n",
    "init_shape = (10, 10, 10)\n",
    "coo, vals = cp.gen_coo_tensor(init_shape, density=0.02)\n",
    "assert cp.check_coo_tensor(coo)!= \"Bad\""
   ]
  },
  {
   "cell_type": "code",
   "execution_count": 4,
   "metadata": {},
   "outputs": [
    {
     "data": {
      "text/plain": [
       "20"
      ]
     },
     "execution_count": 4,
     "metadata": {},
     "output_type": "execute_result"
    }
   ],
   "source": [
    "coo.shape[0]"
   ]
  },
  {
   "cell_type": "code",
   "execution_count": 5,
   "metadata": {},
   "outputs": [
    {
     "data": {
      "text/plain": [
       "array([[0, 7, 0],\n",
       "       [0, 4, 3]])"
      ]
     },
     "execution_count": 5,
     "metadata": {},
     "output_type": "execute_result"
    }
   ],
   "source": [
    "coo[coo[:, 0] == 0]"
   ]
  },
  {
   "cell_type": "code",
   "execution_count": 7,
   "metadata": {},
   "outputs": [
    {
     "name": "stdout",
     "output_type": "stream",
     "text": [
      "iterations over\n",
      "CPU times: user 68 ms, sys: 142 µs, total: 68.1 ms\n",
      "Wall time: 34.8 ms\n"
     ]
    }
   ],
   "source": [
    "%%time\n",
    "max_iter = 10\n",
    "rank = 50\n",
    "a, b, c, err = cp.cp_als3(coo, vals, init_shape, rank=rank, max_iter=max_iter)"
   ]
  },
  {
   "cell_type": "code",
   "execution_count": 8,
   "metadata": {},
   "outputs": [
    {
     "name": "stdout",
     "output_type": "stream",
     "text": [
      "Abs err = 0.01560987105146227;\n",
      "Rel err = 0.0065608197487684134;\n"
     ]
    }
   ],
   "source": [
    "error = cp.sqrt_err(coo, vals, init_shape, a, b, c)\n",
    "rerror = cp.sqrt_err_relative(coo, vals, init_shape, a, b, c)\n",
    "print(f\"Abs err = {error};\\nRel err = {rerror};\")"
   ]
  },
  {
   "cell_type": "code",
   "execution_count": 9,
   "metadata": {},
   "outputs": [
    {
     "data": {
      "text/plain": [
       "[<matplotlib.lines.Line2D at 0x7f3160b67f90>]"
      ]
     },
     "execution_count": 9,
     "metadata": {},
     "output_type": "execute_result"
    },
    {
     "data": {
      "image/png": "[encoded data removed]",
      "text/plain": [
       "<Figure size 432x288 with 1 Axes>"
      ]
     },
     "metadata": {
      "needs_background": "light"
     },
     "output_type": "display_data"
    }
   ],
   "source": [
    "plt.xlabel(\"Iteration\")\n",
    "plt.ylabel(\"Relative error\")\n",
    "plt.title(f\"Random tensor / CP-ALS3(R={rank})\")\n",
    "plt.xticks(np.arange(max_iter))\n",
    "plt.yscale(\"log\")\n",
    "plt.plot(np.arange(max_iter), err[:max_iter], 'g-*')"
   ]
  },
  {
   "cell_type": "markdown",
   "metadata": {},
   "source": [
    "## Hilbert Tensor"
   ]
  },
  {
   "cell_type": "code",
   "execution_count": 10,
   "metadata": {},
   "outputs": [],
   "source": [
    "hilbert_shape = (100, 100, 100)\n",
    "coo, vals = cp.gen_hilbert_tensor(hilbert_shape)"
   ]
  },
  {
   "cell_type": "code",
   "execution_count": 11,
   "metadata": {},
   "outputs": [
    {
     "data": {
      "text/plain": [
       "(1000000, 3)"
      ]
     },
     "execution_count": 11,
     "metadata": {},
     "output_type": "execute_result"
    }
   ],
   "source": [
    "coo.shape"
   ]
  },
  {
   "cell_type": "code",
   "execution_count": 13,
   "metadata": {},
   "outputs": [
    {
     "name": "stdout",
     "output_type": "stream",
     "text": [
      "iterations over\n",
      "CPU times: user 21.8 s, sys: 1.02 s, total: 22.8 s\n",
      "Wall time: 15 s\n"
     ]
    }
   ],
   "source": [
    "%%time\n",
    "max_iter = 10\n",
    "rank = 81\n",
    "a, b, c, err = cp.cp_als3(coo, vals, hilbert_shape, rank=rank, max_iter=max_iter)"
   ]
  },
  {
   "cell_type": "code",
   "execution_count": 14,
   "metadata": {},
   "outputs": [
    {
     "name": "stdout",
     "output_type": "stream",
     "text": [
      "Rel err = 0.009145094250276048;\n"
     ]
    }
   ],
   "source": [
    "rerror = cp.sqrt_err_relative(coo, vals, hilbert_shape, a, b, c)\n",
    "print(f\"Rel err = {rerror};\")"
   ]
  },
  {
   "cell_type": "code",
   "execution_count": 15,
   "metadata": {},
   "outputs": [
    {
     "data": {
      "text/plain": [
       "[<matplotlib.lines.Line2D at 0x7f3161030190>]"
      ]
     },
     "execution_count": 15,
     "metadata": {},
     "output_type": "execute_result"
    },
    {
     "data": {
      "image/png": "[encoded data removed]",
      "text/plain": [
       "<Figure size 432x288 with 1 Axes>"
      ]
     },
     "metadata": {
      "needs_background": "light"
     },
     "output_type": "display_data"
    }
   ],
   "source": [
    "plt.xlabel(\"Iteration\")\n",
    "plt.ylabel(\"Relative error\")\n",
    "plt.title(f\"Random tensor / CP-ALS3(R={rank})\")\n",
    "plt.xticks(np.arange(max_iter))\n",
    "plt.yscale(\"log\")\n",
    "plt.plot(np.arange(max_iter), err[:max_iter], 'g-*')"
   ]
  },
  {
   "cell_type": "code",
   "execution_count": null,
   "metadata": {},
   "outputs": [],
   "source": []
  },
  {
   "cell_type": "code",
   "execution_count": 185,
   "metadata": {},
   "outputs": [
    {
     "name": "stdout",
     "output_type": "stream",
     "text": [
      "Rel err = 8.883885805668126e-05; [0, 1, 2, 3, 4, 5]\n"
     ]
    }
   ],
   "source": [
    "minima = 200\n",
    "for i in range(rank):\n",
    "    for j in range(rank):\n",
    "        for k in range(rank):\n",
    "            for m in range(rank):\n",
    "                for n in range(rank):\n",
    "                    for z in range(rank):\n",
    "                            slicer = [i, j, k, m, n, z]\n",
    "                            rerror = cp.sqrt_err_relative(\n",
    "                                coo,\n",
    "                                vals,\n",
    "                                27,\n",
    "                                (3, 3, 3),\n",
    "                                a[:, slicer],\n",
    "                                b[:, slicer],\n",
    "                                c[:, slicer],\n",
    "                            )\n",
    "                            if rerror <= minima:\n",
    "                                minima = rerror\n",
    "                                params = [i, j, k, m, n, z]\n",
    "                                params.sort()\n",
    "\n",
    "print(f\"Rel err = {minima}; {params}\")"
   ]
  },
  {
   "cell_type": "code",
   "execution_count": 16,
   "metadata": {},
   "outputs": [
    {
     "data": {
      "text/plain": [
       "1320"
      ]
     },
     "execution_count": 16,
     "metadata": {},
     "output_type": "execute_result"
    }
   ],
   "source": [
    "shape = (10, 11, 12)\n",
    "rank = 3\n",
    "p = np.zeros(shape=(shape[0], rank))\n",
    "q = np.zeros(shape=(shape[1], rank))\n",
    "r = np.zeros(shape=(shape[2], rank))\n",
    "all_elem = np.prod(shape)\n",
    "all_elem"
   ]
  },
  {
   "cell_type": "code",
   "execution_count": 17,
   "metadata": {},
   "outputs": [],
   "source": [
    "p[0] = [1, 0, 0]\n",
    "p[1] = [0, 1, 0]\n",
    "p[2] = [0, 0, 1]\n",
    "\n",
    "q[0] = [1, 0, 0]\n",
    "q[1] = [0, 1, 0]\n",
    "q[2] = [0, 0, 1]\n",
    "\n",
    "r[0] = [1, 0, 0]\n",
    "r[1] = [0, 1, 0]\n",
    "r[2] = [0, 0, 1]\n",
    "\n",
    "p[3] = [1, 0, 1]\n",
    "q[4] = [1, 0, 1]\n",
    "r[5] = [1, 0, 1]"
   ]
  },
  {
   "cell_type": "code",
   "execution_count": 18,
   "metadata": {},
   "outputs": [],
   "source": [
    "coo = list()\n",
    "vals = list()\n",
    "nnz = 0\n",
    "for i in range(shape[0]):\n",
    "    for j in range(shape[1]):\n",
    "        for k in range(shape[2]):\n",
    "            temp = np.sum(p[i, :] * q[j, :] * r[k, :])\n",
    "            if temp != 0:\n",
    "                vals.append(temp)\n",
    "                coo.append((i, j, k))\n",
    "                nnz += 1\n",
    "coo = np.array(coo)\n",
    "vals = np.array(vals)"
   ]
  },
  {
   "cell_type": "code",
   "execution_count": 56,
   "metadata": {},
   "outputs": [
    {
     "name": "stdout",
     "output_type": "stream",
     "text": [
      "iterations over\n",
      "CPU times: user 1.3 ms, sys: 43 µs, total: 1.34 ms\n",
      "Wall time: 1.32 ms\n"
     ]
    }
   ],
   "source": [
    "%%time\n",
    "max_iter = 10\n",
    "rank = 7\n",
    "a, b, c, err = cp.cp_als3(coo, vals, shape, rank=rank, max_iter=max_iter)"
   ]
  },
  {
   "cell_type": "code",
   "execution_count": 57,
   "metadata": {},
   "outputs": [
    {
     "name": "stdout",
     "output_type": "stream",
     "text": [
      "Rel err = 2.329544048628348e-06;\n"
     ]
    }
   ],
   "source": [
    "rerror = cp.sqrt_err_relative(coo, vals, hilbert_shape, a, b, c)\n",
    "print(f\"Rel err = {rerror};\")"
   ]
  },
  {
   "cell_type": "code",
   "execution_count": 58,
   "metadata": {},
   "outputs": [
    {
     "data": {
      "text/plain": [
       "[<matplotlib.lines.Line2D at 0x7f3161278fd0>]"
      ]
     },
     "execution_count": 58,
     "metadata": {},
     "output_type": "execute_result"
    },
    {
     "data": {
      "image/png": "[encoded data removed]",
      "text/plain": [
       "<Figure size 432x288 with 1 Axes>"
      ]
     },
     "metadata": {
      "needs_background": "light"
     },
     "output_type": "display_data"
    }
   ],
   "source": [
    "plt.xlabel(\"Iteration\")\n",
    "plt.ylabel(\"Relative error\")\n",
    "plt.title(f\"Random tensor{init_shape} / WRCP-ALS3(R={rank})\")\n",
    "plt.xticks(np.arange(max_iter))\n",
    "plt.yscale(\"log\")\n",
    "plt.plot(np.arange(max_iter), err[:max_iter], 'r-*')"
   ]
  },
  {
   "cell_type": "code",
   "execution_count": 59,
   "metadata": {},
   "outputs": [
    {
     "data": {
      "text/plain": [
       "array([[ 0.0274524 , -0.00385721, -0.08694458,  0.07628129, -0.09412695,\n",
       "        -0.14838205,  0.19935526],\n",
       "       [ 0.16391335, -0.07978344, -0.03985433,  0.05448693,  0.109021  ,\n",
       "         0.02603068, -0.00142755],\n",
       "       [-0.01468658,  0.17316715, -0.07669103,  0.17306424,  0.04818314,\n",
       "        -0.14167916,  0.083285  ],\n",
       "       [ 0.01276582,  0.16930994, -0.1636356 ,  0.24934552, -0.0459438 ,\n",
       "        -0.29006121,  0.28264025],\n",
       "       [ 0.        ,  0.        ,  0.        ,  0.        ,  0.        ,\n",
       "         0.        ,  0.        ],\n",
       "       [ 0.        ,  0.        ,  0.        ,  0.        ,  0.        ,\n",
       "         0.        ,  0.        ],\n",
       "       [ 0.        ,  0.        ,  0.        ,  0.        ,  0.        ,\n",
       "         0.        ,  0.        ],\n",
       "       [ 0.        ,  0.        ,  0.        ,  0.        ,  0.        ,\n",
       "         0.        ,  0.        ],\n",
       "       [ 0.        ,  0.        ,  0.        ,  0.        ,  0.        ,\n",
       "         0.        ,  0.        ],\n",
       "       [ 0.        ,  0.        ,  0.        ,  0.        ,  0.        ,\n",
       "         0.        ,  0.        ]])"
      ]
     },
     "execution_count": 59,
     "metadata": {},
     "output_type": "execute_result"
    }
   ],
   "source": [
    "a"
   ]
  },
  {
   "cell_type": "code",
   "execution_count": 60,
   "metadata": {},
   "outputs": [
    {
     "data": {
      "text/plain": [
       "array([[ 1.90242764,  0.14484627,  4.09578054,  1.67958641, -6.30420571,\n",
       "         2.02968262,  1.71219219],\n",
       "       [ 1.25324389,  0.29168696, -0.47207119, -0.25377065, -1.74459172,\n",
       "         0.05094274, -0.33244594],\n",
       "       [ 0.88650064,  1.68757721,  2.0405073 ,  2.0406857 ,  2.43205742,\n",
       "         0.76547605,  0.4314911 ],\n",
       "       [ 0.        ,  0.        ,  0.        ,  0.        ,  0.        ,\n",
       "         0.        ,  0.        ],\n",
       "       [ 2.78892828,  1.83242347,  6.13628784,  3.72027211, -3.87214828,\n",
       "         2.79515866,  2.14368329],\n",
       "       [ 0.        ,  0.        ,  0.        ,  0.        ,  0.        ,\n",
       "         0.        ,  0.        ],\n",
       "       [ 0.        ,  0.        ,  0.        ,  0.        ,  0.        ,\n",
       "         0.        ,  0.        ],\n",
       "       [ 0.        ,  0.        ,  0.        ,  0.        ,  0.        ,\n",
       "         0.        ,  0.        ],\n",
       "       [ 0.        ,  0.        ,  0.        ,  0.        ,  0.        ,\n",
       "         0.        ,  0.        ],\n",
       "       [ 0.        ,  0.        ,  0.        ,  0.        ,  0.        ,\n",
       "         0.        ,  0.        ],\n",
       "       [ 0.        ,  0.        ,  0.        ,  0.        ,  0.        ,\n",
       "         0.        ,  0.        ]])"
      ]
     },
     "execution_count": 60,
     "metadata": {},
     "output_type": "execute_result"
    }
   ],
   "source": [
    "b"
   ]
  },
  {
   "cell_type": "code",
   "execution_count": 61,
   "metadata": {},
   "outputs": [
    {
     "data": {
      "text/plain": [
       "array([[ 0.60313962,  1.12684438, -1.98647585, -1.99687676,  0.46482266,\n",
       "         0.09115133,  0.78868047],\n",
       "       [ 3.55597375, -0.94990607, 10.02996002,  3.70656096, -0.5913945 ,\n",
       "        -4.04382749,  5.98724037],\n",
       "       [ 0.45672212,  1.9615983 ,  1.07387793,  1.83637659,  0.23470034,\n",
       "         0.9608029 ,  0.80411415],\n",
       "       [ 0.        ,  0.        ,  0.        ,  0.        ,  0.        ,\n",
       "         0.        ,  0.        ],\n",
       "       [ 0.        ,  0.        ,  0.        ,  0.        ,  0.        ,\n",
       "         0.        ,  0.        ],\n",
       "       [ 1.05986174,  3.08844268, -0.91259792, -0.16050017,  0.699523  ,\n",
       "         1.05195422,  1.59279462],\n",
       "       [ 0.        ,  0.        ,  0.        ,  0.        ,  0.        ,\n",
       "         0.        ,  0.        ],\n",
       "       [ 0.        ,  0.        ,  0.        ,  0.        ,  0.        ,\n",
       "         0.        ,  0.        ],\n",
       "       [ 0.        ,  0.        ,  0.        ,  0.        ,  0.        ,\n",
       "         0.        ,  0.        ],\n",
       "       [ 0.        ,  0.        ,  0.        ,  0.        ,  0.        ,\n",
       "         0.        ,  0.        ],\n",
       "       [ 0.        ,  0.        ,  0.        ,  0.        ,  0.        ,\n",
       "         0.        ,  0.        ],\n",
       "       [ 0.        ,  0.        ,  0.        ,  0.        ,  0.        ,\n",
       "         0.        ,  0.        ]])"
      ]
     },
     "execution_count": 61,
     "metadata": {},
     "output_type": "execute_result"
    }
   ],
   "source": [
    "c"
   ]
  },
  {
   "cell_type": "code",
   "execution_count": null,
   "metadata": {},
   "outputs": [],
   "source": []
  }
 ],
 "metadata": {
  "kernelspec": {
   "display_name": "Python 3",
   "language": "python",
   "name": "python3"
  },
  "language_info": {
   "codemirror_mode": {
    "name": "ipython",
    "version": 3
   },
   "file_extension": ".py",
   "mimetype": "text/x-python",
   "name": "python",
   "nbconvert_exporter": "python",
   "pygments_lexer": "ipython3",
   "version": "3.7.4"
  }
 },
 "nbformat": 4,
 "nbformat_minor": 4
}
