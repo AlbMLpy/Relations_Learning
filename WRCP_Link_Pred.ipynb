{
 "cells": [
  {
   "cell_type": "code",
   "execution_count": 1,
   "metadata": {},
   "outputs": [],
   "source": [
    "import pickle\n",
    "import numpy as np\n",
    "import matplotlib.pyplot as plt\n",
    "\n",
    "import WRCP_ALS3 as wrcp\n",
    "from general_functions import sqrt_err_relative, check_coo_tensor, gen_coo_tensor"
   ]
  },
  {
   "cell_type": "code",
   "execution_count": 4,
   "metadata": {},
   "outputs": [
    {
     "name": "stdout",
     "output_type": "stream",
     "text": [
      "iterations over\n",
      "2.3527001644242005\n",
      "CPU times: user 13.4 ms, sys: 62 µs, total: 13.4 ms\n",
      "Wall time: 13 ms\n"
     ]
    }
   ],
   "source": [
    "%%time\n",
    "init_shape = (10, 10, 10)\n",
    "coo, vals = gen_coo_tensor(init_shape, density=0.02)\n",
    "assert check_coo_tensor(coo)!= \"Bad\"\n",
    "\n",
    "max_iter = 12\n",
    "rank = 20\n",
    "\n",
    "a, b, c, _ = wrcp.wrcp_als3(\n",
    "    coo,\n",
    "    vals,\n",
    "    init_shape,\n",
    "    rank=rank,\n",
    "    l2=0.25,\n",
    "    max_iter=max_iter\n",
    ")\n",
    "rerr = sqrt_err_relative(coo, vals, init_shape, a, b, c)\n",
    "print(rerr)"
   ]
  },
  {
   "cell_type": "code",
   "execution_count": 5,
   "metadata": {},
   "outputs": [],
   "source": [
    "inds_list = pickle.load(open('../wikidata_tensors/fb_list.pcl', 'rb'))\n",
    "ind_to_entity = pickle.load(open('../wikidata_tensors/fb_idx2ent.pcl', 'rb'))\n",
    "ind_to_rel = pickle.load(open('../wikidata_tensors/fb_idx2rel.pcl', 'rb'))"
   ]
  },
  {
   "cell_type": "code",
   "execution_count": 6,
   "metadata": {},
   "outputs": [],
   "source": [
    "values = [1] * len(inds_list)\n",
    "values = np.array(values, dtype=np.float64)\n",
    "\n",
    "coords = np.array(inds_list, dtype=np.int32)\n",
    "nnz = len(inds_list)\n",
    "data_shape = (14242, 1182, 14242)"
   ]
  },
  {
   "cell_type": "code",
   "execution_count": 7,
   "metadata": {},
   "outputs": [],
   "source": [
    "max_iter = 10\n",
    "rank = 50\n",
    "l2 = 0.5 "
   ]
  },
  {
   "cell_type": "code",
   "execution_count": 8,
   "metadata": {},
   "outputs": [
    {
     "name": "stdout",
     "output_type": "stream",
     "text": [
      "iterations over\n",
      "CPU times: user 12min 2s, sys: 1.54 s, total: 12min 4s\n",
      "Wall time: 12min 1s\n"
     ]
    }
   ],
   "source": [
    "%%time\n",
    "a, b, c, err_arr = wrcp.wrcp_als3(\n",
    "    coords,\n",
    "    values,\n",
    "    data_shape,\n",
    "    rank=rank,\n",
    "    l2=l2,\n",
    "    max_iter=max_iter\n",
    ")"
   ]
  },
  {
   "cell_type": "code",
   "execution_count": 9,
   "metadata": {},
   "outputs": [
    {
     "name": "stdout",
     "output_type": "stream",
     "text": [
      "Relative error = 20.972680669083612\n"
     ]
    }
   ],
   "source": [
    "rerr = sqrt_err_relative(\n",
    "    coords,\n",
    "    values,\n",
    "    data_shape,\n",
    "    a,\n",
    "    b,\n",
    "    c,\n",
    ")\n",
    "print(f\"Relative error = {rerr}\")"
   ]
  },
  {
   "cell_type": "code",
   "execution_count": 10,
   "metadata": {},
   "outputs": [
    {
     "data": {
      "text/plain": [
       "[<matplotlib.lines.Line2D at 0x7f5598d71210>]"
      ]
     },
     "execution_count": 10,
     "metadata": {},
     "output_type": "execute_result"
    },
    {
     "data": {
      "image/png": "[encoded data removed]",
      "text/plain": [
       "<Figure size 432x288 with 1 Axes>"
      ]
     },
     "metadata": {
      "needs_background": "light"
     },
     "output_type": "display_data"
    }
   ],
   "source": [
    "plt.xlabel(\"Iteration\")\n",
    "plt.ylabel(\"Relative error\")\n",
    "plt.title(\"FB15k23 / WRCP-ALS3(R={rank})\")\n",
    "plt.xticks(np.arange(max_iter))\n",
    "plt.plot(np.arange(max_iter), err_arr[:max_iter], 'r-*')"
   ]
  },
  {
   "cell_type": "code",
   "execution_count": null,
   "metadata": {},
   "outputs": [],
   "source": []
  }
 ],
 "metadata": {
  "kernelspec": {
   "display_name": "Python 3",
   "language": "python",
   "name": "python3"
  },
  "language_info": {
   "codemirror_mode": {
    "name": "ipython",
    "version": 3
   },
   "file_extension": ".py",
   "mimetype": "text/x-python",
   "name": "python",
   "nbconvert_exporter": "python",
   "pygments_lexer": "ipython3",
   "version": "3.7.4"
  }
 },
 "nbformat": 4,
 "nbformat_minor": 4
}
