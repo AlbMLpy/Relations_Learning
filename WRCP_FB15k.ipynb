{
 "cells": [
  {
   "cell_type": "code",
   "execution_count": 1,
   "metadata": {},
   "outputs": [],
   "source": [
    "import numpy as np\n",
    "import pandas as pd\n",
    "import matplotlib.pyplot as plt\n",
    "\n",
    "import pickle\n",
    "import time\n",
    "from ipypb import track\n",
    "\n",
    "import WRCP_ALS3 as wrcp\n",
    "from general_functions import sqrt_err_relative, check_coo_tensor, gen_coo_tensor\n",
    "from general_functions import create_filter, hr"
   ]
  },
  {
   "cell_type": "markdown",
   "metadata": {},
   "source": [
    "### Zero launch of a function(for NUMBA):"
   ]
  },
  {
   "cell_type": "code",
   "execution_count": 2,
   "metadata": {},
   "outputs": [],
   "source": [
    "init_shape = (100, 100, 10)\n",
    "coo, vals = gen_coo_tensor(init_shape, density=0.002)\n",
    "assert check_coo_tensor(coo)!= \"Bad\""
   ]
  },
  {
   "cell_type": "code",
   "execution_count": 4,
   "metadata": {},
   "outputs": [
    {
     "name": "stdout",
     "output_type": "stream",
     "text": [
      "0.35871300626605906\n",
      "CPU times: user 9.93 ms, sys: 89 µs, total: 10 ms\n",
      "Wall time: 10.1 ms\n"
     ]
    }
   ],
   "source": [
    "%%time\n",
    "\n",
    "max_iter = 12\n",
    "rank = 5\n",
    "seed = 13\n",
    "\n",
    "a, b, c, _, _ = wrcp.wrcp_als3(\n",
    "    coo, vals, init_shape,\n",
    "    rank=rank,\n",
    "    l2=0.25,\n",
    "    max_iter=max_iter,\n",
    "    seed=seed,\n",
    "    show_iter=False,\n",
    "    it_over=False,\n",
    ")\n",
    "rerr = sqrt_err_relative(\n",
    "    coo, vals, init_shape, a, b, c,\n",
    ")\n",
    "print(rerr)"
   ]
  },
  {
   "cell_type": "markdown",
   "metadata": {},
   "source": [
    "### Load the data:"
   ]
  },
  {
   "cell_type": "code",
   "execution_count": 5,
   "metadata": {},
   "outputs": [],
   "source": [
    "path_data = \"Link_Prediction_Data/FB15K/\"\n",
    "entity_list = pickle.load(open(path_data + 'entity_list', 'rb'))\n",
    "relation_list = pickle.load(open(path_data + 'relation_list', 'rb'))\n",
    "\n",
    "train_triples = pickle.load(open(path_data + 'train_triples', 'rb'))\n",
    "valid_triples = pickle.load(open(path_data + 'valid_triples', 'rb'))\n",
    "test_triples = pickle.load(open(path_data + 'test_triples', 'rb'))\n",
    "train_valid_triples = pickle.load(open(path_data + 'train_valid_triples', 'rb'))\n",
    "\n",
    "entity_map = pickle.load(open(path_data + 'entity_map', 'rb'))\n",
    "relation_map = pickle.load(open(path_data + 'relation_map', 'rb'))\n",
    "\n",
    "all_triples = train_valid_triples + test_triples"
   ]
  },
  {
   "cell_type": "code",
   "execution_count": 6,
   "metadata": {},
   "outputs": [
    {
     "name": "stdout",
     "output_type": "stream",
     "text": [
      "['/m/010016', '/m/0100mt', '/m/0102t4'] \n",
      " 14951\n"
     ]
    }
   ],
   "source": [
    "print(entity_list[:3], \"\\n\", len(entity_list))"
   ]
  },
  {
   "cell_type": "code",
   "execution_count": 7,
   "metadata": {},
   "outputs": [
    {
     "name": "stdout",
     "output_type": "stream",
     "text": [
      "['/american_football/football_coach/coaching_history./american_football/football_historical_coach_position/position', '/american_football/football_coach/coaching_history./american_football/football_historical_coach_position/team', '/american_football/football_coach_position/coaches_holding_this_position./american_football/football_historical_coach_position/coach'] \n",
      " 1345\n"
     ]
    }
   ],
   "source": [
    "print(relation_list[:3], \"\\n\", len(relation_list))"
   ]
  },
  {
   "cell_type": "code",
   "execution_count": 8,
   "metadata": {},
   "outputs": [
    {
     "data": {
      "text/plain": [
       "483142"
      ]
     },
     "execution_count": 8,
     "metadata": {},
     "output_type": "execute_result"
    }
   ],
   "source": [
    "len(train_triples)"
   ]
  },
  {
   "cell_type": "code",
   "execution_count": 9,
   "metadata": {},
   "outputs": [
    {
     "data": {
      "text/plain": [
       "50000"
      ]
     },
     "execution_count": 9,
     "metadata": {},
     "output_type": "execute_result"
    }
   ],
   "source": [
    "len(valid_triples)"
   ]
  },
  {
   "cell_type": "code",
   "execution_count": 10,
   "metadata": {},
   "outputs": [
    {
     "data": {
      "text/plain": [
       "59071"
      ]
     },
     "execution_count": 10,
     "metadata": {},
     "output_type": "execute_result"
    }
   ],
   "source": [
    "len(test_triples)"
   ]
  },
  {
   "cell_type": "code",
   "execution_count": 13,
   "metadata": {},
   "outputs": [
    {
     "data": {
      "text/plain": [
       "533142"
      ]
     },
     "execution_count": 13,
     "metadata": {},
     "output_type": "execute_result"
    }
   ],
   "source": [
    "len(train_valid_triples)"
   ]
  },
  {
   "cell_type": "code",
   "execution_count": 11,
   "metadata": {},
   "outputs": [
    {
     "data": {
      "text/plain": [
       "[('/m/010016', 0), ('/m/0100mt', 1)]"
      ]
     },
     "execution_count": 11,
     "metadata": {},
     "output_type": "execute_result"
    }
   ],
   "source": [
    "list(entity_map.items())[:2]"
   ]
  },
  {
   "cell_type": "code",
   "execution_count": 14,
   "metadata": {},
   "outputs": [
    {
     "data": {
      "text/plain": [
       "[('/american_football/football_coach/coaching_history./american_football/football_historical_coach_position/position',\n",
       "  0),\n",
       " ('/american_football/football_coach/coaching_history./american_football/football_historical_coach_position/team',\n",
       "  1)]"
      ]
     },
     "execution_count": 14,
     "metadata": {},
     "output_type": "execute_result"
    }
   ],
   "source": [
    "list(relation_map.items())[:2]"
   ]
  },
  {
   "cell_type": "code",
   "execution_count": 15,
   "metadata": {},
   "outputs": [],
   "source": [
    "test_filter = create_filter(test_triples, all_triples)  \n",
    "valid_filter = create_filter(valid_triples, all_triples)  "
   ]
  },
  {
   "cell_type": "markdown",
   "metadata": {},
   "source": [
    "### Create Sparse COO Train Tensor:"
   ]
  },
  {
   "cell_type": "code",
   "execution_count": 16,
   "metadata": {},
   "outputs": [
    {
     "data": {
      "text/plain": [
       "(14951, 1345, 14951)"
      ]
     },
     "execution_count": 16,
     "metadata": {},
     "output_type": "execute_result"
    }
   ],
   "source": [
    "values = [1] * len(train_triples)\n",
    "values = np.array(values, dtype=np.float64)\n",
    "\n",
    "coords = np.array(train_triples, dtype=np.int32)\n",
    "nnz = len(train_triples)\n",
    "data_shape = (len(entity_list), len(relation_list), len(entity_list))\n",
    "data_shape"
   ]
  },
  {
   "cell_type": "markdown",
   "metadata": {},
   "source": [
    "## WRCP-ALS3:"
   ]
  },
  {
   "cell_type": "code",
   "execution_count": 38,
   "metadata": {},
   "outputs": [],
   "source": [
    "max_iter = 4\n",
    "rank = 25\n",
    "l2 = 4e0\n",
    "seed = 13"
   ]
  },
  {
   "cell_type": "code",
   "execution_count": 39,
   "metadata": {},
   "outputs": [
    {
     "name": "stdout",
     "output_type": "stream",
     "text": [
      "CPU times: user 3min 33s, sys: 949 ms, total: 3min 34s\n",
      "Wall time: 3min 32s\n"
     ]
    }
   ],
   "source": [
    "%%time\n",
    "a, b, c, err_arr, it = wrcp.wrcp_als3(\n",
    "    coords, values, data_shape,\n",
    "    rank=rank,\n",
    "    l2=l2,\n",
    "    max_iter=max_iter,\n",
    "    seed=seed,\n",
    "    show_iter=False,\n",
    "    it_over=False,\n",
    ")"
   ]
  },
  {
   "cell_type": "code",
   "execution_count": 40,
   "metadata": {},
   "outputs": [
    {
     "name": "stdout",
     "output_type": "stream",
     "text": [
      "Relative error = 0.23563591228896597\n"
     ]
    }
   ],
   "source": [
    "rerr = sqrt_err_relative(\n",
    "    coords, values, data_shape, a, b, c,\n",
    ")\n",
    "print(f\"Relative error = {rerr}\")"
   ]
  },
  {
   "cell_type": "code",
   "execution_count": 41,
   "metadata": {},
   "outputs": [
    {
     "data": {
      "text/plain": [
       "[<matplotlib.lines.Line2D at 0x7fc884ca5410>]"
      ]
     },
     "execution_count": 41,
     "metadata": {},
     "output_type": "execute_result"
    },
    {
     "data": {
      "image/png": "[encoded data removed]",
      "text/plain": [
       "<Figure size 432x288 with 1 Axes>"
      ]
     },
     "metadata": {
      "needs_background": "light"
     },
     "output_type": "display_data"
    }
   ],
   "source": [
    "plt.xlabel(\"Iteration\")\n",
    "plt.ylabel(\"Relative error\")\n",
    "plt.title(f\"FB15k / WRCP-ALS3(R={rank})\")\n",
    "#plt.xticks(np.arange(it))\n",
    "plt.yscale(\"log\")\n",
    "plt.plot(np.arange(1, it+1), err_arr[:it], '-*', c=\"#8b0a50\")"
   ]
  },
  {
   "cell_type": "markdown",
   "metadata": {},
   "source": [
    "%%time\n",
    "hr(valid_filter, valid_triples, a, b, c, [1, 3, 10])"
   ]
  },
  {
   "cell_type": "code",
   "execution_count": 42,
   "metadata": {},
   "outputs": [
    {
     "name": "stdout",
     "output_type": "stream",
     "text": [
      "CPU times: user 11min 50s, sys: 15.9 ms, total: 11min 50s\n",
      "Wall time: 11min 50s\n"
     ]
    },
    {
     "data": {
      "text/plain": [
       "(0.06876470687816356,\n",
       " 0.13070711516649455,\n",
       " 0.2119652621421679,\n",
       " 0.11707230319900726)"
      ]
     },
     "execution_count": 42,
     "metadata": {},
     "output_type": "execute_result"
    }
   ],
   "source": [
    "%%time\n",
    "hr(test_filter, test_triples, a, b, c, [1, 3, 10])"
   ]
  },
  {
   "cell_type": "markdown",
   "metadata": {},
   "source": [
    "## Find best parameters:"
   ]
  },
  {
   "cell_type": "code",
   "execution_count": 43,
   "metadata": {},
   "outputs": [],
   "source": [
    "ranks = (25, 50, 100, 200, 300, 400)\n",
    "l2 = 3e0\n",
    "n_iter = 2\n",
    "seed = 13"
   ]
  },
  {
   "cell_type": "code",
   "execution_count": 44,
   "metadata": {},
   "outputs": [
    {
     "data": {
      "text/html": [
       "<div>\n",
       "<style scoped>\n",
       "    .dataframe tbody tr th:only-of-type {\n",
       "        vertical-align: middle;\n",
       "    }\n",
       "\n",
       "    .dataframe tbody tr th {\n",
       "        vertical-align: top;\n",
       "    }\n",
       "\n",
       "    .dataframe thead th {\n",
       "        text-align: right;\n",
       "    }\n",
       "</style>\n",
       "<table border=\"1\" class=\"dataframe\">\n",
       "  <thead>\n",
       "    <tr style=\"text-align: right;\">\n",
       "      <th></th>\n",
       "      <th>iter</th>\n",
       "      <th>rank</th>\n",
       "      <th>l2</th>\n",
       "      <th>time_train</th>\n",
       "      <th>time_hr</th>\n",
       "      <th>error</th>\n",
       "      <th>hr1_valid</th>\n",
       "      <th>hr1_test</th>\n",
       "      <th>hr3_valid</th>\n",
       "      <th>hr3_test</th>\n",
       "      <th>hr10_valid</th>\n",
       "      <th>hr10_test</th>\n",
       "      <th>mrr_valid</th>\n",
       "      <th>mrr_test</th>\n",
       "    </tr>\n",
       "  </thead>\n",
       "  <tbody>\n",
       "    <tr>\n",
       "      <td>1</td>\n",
       "      <td>0.0</td>\n",
       "      <td>0.0</td>\n",
       "      <td>0.0</td>\n",
       "      <td>0.0</td>\n",
       "      <td>0.0</td>\n",
       "      <td>0.0</td>\n",
       "      <td>0.0</td>\n",
       "      <td>0.0</td>\n",
       "      <td>0.0</td>\n",
       "      <td>0.0</td>\n",
       "      <td>0.0</td>\n",
       "      <td>0.0</td>\n",
       "      <td>0.0</td>\n",
       "      <td>0.0</td>\n",
       "    </tr>\n",
       "    <tr>\n",
       "      <td>2</td>\n",
       "      <td>0.0</td>\n",
       "      <td>0.0</td>\n",
       "      <td>0.0</td>\n",
       "      <td>0.0</td>\n",
       "      <td>0.0</td>\n",
       "      <td>0.0</td>\n",
       "      <td>0.0</td>\n",
       "      <td>0.0</td>\n",
       "      <td>0.0</td>\n",
       "      <td>0.0</td>\n",
       "      <td>0.0</td>\n",
       "      <td>0.0</td>\n",
       "      <td>0.0</td>\n",
       "      <td>0.0</td>\n",
       "    </tr>\n",
       "    <tr>\n",
       "      <td>3</td>\n",
       "      <td>0.0</td>\n",
       "      <td>0.0</td>\n",
       "      <td>0.0</td>\n",
       "      <td>0.0</td>\n",
       "      <td>0.0</td>\n",
       "      <td>0.0</td>\n",
       "      <td>0.0</td>\n",
       "      <td>0.0</td>\n",
       "      <td>0.0</td>\n",
       "      <td>0.0</td>\n",
       "      <td>0.0</td>\n",
       "      <td>0.0</td>\n",
       "      <td>0.0</td>\n",
       "      <td>0.0</td>\n",
       "    </tr>\n",
       "    <tr>\n",
       "      <td>4</td>\n",
       "      <td>0.0</td>\n",
       "      <td>0.0</td>\n",
       "      <td>0.0</td>\n",
       "      <td>0.0</td>\n",
       "      <td>0.0</td>\n",
       "      <td>0.0</td>\n",
       "      <td>0.0</td>\n",
       "      <td>0.0</td>\n",
       "      <td>0.0</td>\n",
       "      <td>0.0</td>\n",
       "      <td>0.0</td>\n",
       "      <td>0.0</td>\n",
       "      <td>0.0</td>\n",
       "      <td>0.0</td>\n",
       "    </tr>\n",
       "    <tr>\n",
       "      <td>5</td>\n",
       "      <td>0.0</td>\n",
       "      <td>0.0</td>\n",
       "      <td>0.0</td>\n",
       "      <td>0.0</td>\n",
       "      <td>0.0</td>\n",
       "      <td>0.0</td>\n",
       "      <td>0.0</td>\n",
       "      <td>0.0</td>\n",
       "      <td>0.0</td>\n",
       "      <td>0.0</td>\n",
       "      <td>0.0</td>\n",
       "      <td>0.0</td>\n",
       "      <td>0.0</td>\n",
       "      <td>0.0</td>\n",
       "    </tr>\n",
       "    <tr>\n",
       "      <td>6</td>\n",
       "      <td>0.0</td>\n",
       "      <td>0.0</td>\n",
       "      <td>0.0</td>\n",
       "      <td>0.0</td>\n",
       "      <td>0.0</td>\n",
       "      <td>0.0</td>\n",
       "      <td>0.0</td>\n",
       "      <td>0.0</td>\n",
       "      <td>0.0</td>\n",
       "      <td>0.0</td>\n",
       "      <td>0.0</td>\n",
       "      <td>0.0</td>\n",
       "      <td>0.0</td>\n",
       "      <td>0.0</td>\n",
       "    </tr>\n",
       "  </tbody>\n",
       "</table>\n",
       "</div>"
      ],
      "text/plain": [
       "   iter  rank   l2  time_train  time_hr  error  hr1_valid  hr1_test  \\\n",
       "1   0.0   0.0  0.0         0.0      0.0    0.0        0.0       0.0   \n",
       "2   0.0   0.0  0.0         0.0      0.0    0.0        0.0       0.0   \n",
       "3   0.0   0.0  0.0         0.0      0.0    0.0        0.0       0.0   \n",
       "4   0.0   0.0  0.0         0.0      0.0    0.0        0.0       0.0   \n",
       "5   0.0   0.0  0.0         0.0      0.0    0.0        0.0       0.0   \n",
       "6   0.0   0.0  0.0         0.0      0.0    0.0        0.0       0.0   \n",
       "\n",
       "   hr3_valid  hr3_test  hr10_valid  hr10_test  mrr_valid  mrr_test  \n",
       "1        0.0       0.0         0.0        0.0        0.0       0.0  \n",
       "2        0.0       0.0         0.0        0.0        0.0       0.0  \n",
       "3        0.0       0.0         0.0        0.0        0.0       0.0  \n",
       "4        0.0       0.0         0.0        0.0        0.0       0.0  \n",
       "5        0.0       0.0         0.0        0.0        0.0       0.0  \n",
       "6        0.0       0.0         0.0        0.0        0.0       0.0  "
      ]
     },
     "execution_count": 44,
     "metadata": {},
     "output_type": "execute_result"
    }
   ],
   "source": [
    "table_results = pd.DataFrame(\n",
    "    np.zeros((len(ranks), 14)),\n",
    "    index=[i for i in range(1, len(ranks) + 1)],\n",
    "    columns=(\"iter\", \"rank\", \"l2\", \"time_train\",\n",
    "             \"time_hr\", \"error\", \"hr1_valid\", \"hr1_test\",\n",
    "             \"hr3_valid\", \"hr3_test\", \"hr10_valid\", \"hr10_test\", \n",
    "             \"mrr_valid\", \"mrr_test\"),\n",
    ")\n",
    "table_results"
   ]
  },
  {
   "cell_type": "code",
   "execution_count": 45,
   "metadata": {},
   "outputs": [
    {
     "data": {
      "text/html": [
       "<div><span class=\"Text-label\" style=\"display:inline-block; overflow:hidden; white-space:nowrap; text-overflow:ellipsis; min-width:0; max-width:15ex; vertical-align:middle; text-align:right\"></span>\n",
       "<progress style=\"width:60ex\" max=\"6\" value=\"6\" class=\"Progress-main\"/></progress>\n",
       "<span class=\"Progress-label\"><strong>100%</strong></span>\n",
       "<span class=\"Iteration-label\">6/6</span>\n",
       "<span class=\"Time-label\">[04:46:06<01:55:31, 2860.93s/it]</span></div>"
      ],
      "text/plain": [
       "\u001b[A\u001b[2K\r",
       " [████████████████████████████████████████████████████████████] 6/6 [04:46:06<01:55:31, 2860.93s/it]"
      ]
     },
     "metadata": {},
     "output_type": "display_data"
    }
   ],
   "source": [
    "idx = 0\n",
    "for rank in track(ranks):\n",
    "    idx += 1\n",
    "    # Train model\n",
    "    start_tr = time.time()\n",
    "    a, b, c, err_arr, it = wrcp.wrcp_als3(\n",
    "        coords, values, data_shape,\n",
    "        rank=rank,\n",
    "        l2=l2,\n",
    "        max_iter=n_iter,\n",
    "        seed=seed,\n",
    "        show_iter=False,\n",
    "        it_over=False,\n",
    "    )\n",
    "    end_tr = time.time()\n",
    "            \n",
    "    # Find relative error\n",
    "    rerr = sqrt_err_relative(\n",
    "        coords, values, data_shape, a, b, c,\n",
    "    )\n",
    "    \n",
    "    # Find Hit Rate on a validation set\n",
    "    start_hr = time.time()\n",
    "    hr1_valid, hr3_valid, hr10_valid, mrr_valid = hr(\n",
    "        valid_filter, valid_triples, a, b, c, [1, 3, 10]\n",
    "    )\n",
    "    \n",
    "    # Find Hit Rate on a test set\n",
    "    hr1_test, hr3_test, hr10_test, mrr_test = hr(\n",
    "        test_filter, test_triples, a, b, c, [1, 3, 10]\n",
    "    )\n",
    "    end_hr = time.time()\n",
    "            \n",
    "    table_results.loc[idx][\"iter\"] = n_iter\n",
    "    table_results.loc[idx][\"rank\"] = rank\n",
    "    table_results.loc[idx][\"l2\"] = l2\n",
    "    table_results.loc[idx][\"time_train\"] = end_tr - start_tr\n",
    "    table_results.loc[idx][\"time_hr\"] = end_hr - start_hr\n",
    "    table_results.loc[idx][\"error\"] = rerr\n",
    "    \n",
    "    table_results.loc[idx][\"hr1_valid\"] = hr1_valid\n",
    "    table_results.loc[idx][\"hr1_test\"] = hr1_test\n",
    "    \n",
    "    table_results.loc[idx][\"hr3_valid\"] = hr3_valid\n",
    "    table_results.loc[idx][\"hr3_test\"] = hr3_test\n",
    "    \n",
    "    table_results.loc[idx][\"hr10_valid\"] = hr10_valid\n",
    "    table_results.loc[idx][\"hr10_test\"] = hr10_test\n",
    "    \n",
    "    table_results.loc[idx][\"mrr_valid\"] = mrr_valid\n",
    "    table_results.loc[idx][\"mrr_test\"] = mrr_test "
   ]
  },
  {
   "cell_type": "code",
   "execution_count": 46,
   "metadata": {},
   "outputs": [
    {
     "data": {
      "text/html": [
       "<div>\n",
       "<style scoped>\n",
       "    .dataframe tbody tr th:only-of-type {\n",
       "        vertical-align: middle;\n",
       "    }\n",
       "\n",
       "    .dataframe tbody tr th {\n",
       "        vertical-align: top;\n",
       "    }\n",
       "\n",
       "    .dataframe thead th {\n",
       "        text-align: right;\n",
       "    }\n",
       "</style>\n",
       "<table border=\"1\" class=\"dataframe\">\n",
       "  <thead>\n",
       "    <tr style=\"text-align: right;\">\n",
       "      <th></th>\n",
       "      <th>iter</th>\n",
       "      <th>rank</th>\n",
       "      <th>l2</th>\n",
       "      <th>time_train</th>\n",
       "      <th>time_hr</th>\n",
       "      <th>error</th>\n",
       "      <th>hr1_valid</th>\n",
       "      <th>hr1_test</th>\n",
       "      <th>hr3_valid</th>\n",
       "      <th>hr3_test</th>\n",
       "      <th>hr10_valid</th>\n",
       "      <th>hr10_test</th>\n",
       "      <th>mrr_valid</th>\n",
       "      <th>mrr_test</th>\n",
       "    </tr>\n",
       "  </thead>\n",
       "  <tbody>\n",
       "    <tr>\n",
       "      <td>1</td>\n",
       "      <td>2.0</td>\n",
       "      <td>25.0</td>\n",
       "      <td>3.0</td>\n",
       "      <td>107.424801</td>\n",
       "      <td>1012.864410</td>\n",
       "      <td>0.413010</td>\n",
       "      <td>0.07474</td>\n",
       "      <td>0.074216</td>\n",
       "      <td>0.11408</td>\n",
       "      <td>0.114625</td>\n",
       "      <td>0.18760</td>\n",
       "      <td>0.186267</td>\n",
       "      <td>0.113293</td>\n",
       "      <td>0.112571</td>\n",
       "    </tr>\n",
       "    <tr>\n",
       "      <td>2</td>\n",
       "      <td>2.0</td>\n",
       "      <td>50.0</td>\n",
       "      <td>3.0</td>\n",
       "      <td>143.025986</td>\n",
       "      <td>903.308759</td>\n",
       "      <td>0.400128</td>\n",
       "      <td>0.08374</td>\n",
       "      <td>0.082663</td>\n",
       "      <td>0.13188</td>\n",
       "      <td>0.131824</td>\n",
       "      <td>0.21560</td>\n",
       "      <td>0.213675</td>\n",
       "      <td>0.129899</td>\n",
       "      <td>0.128995</td>\n",
       "    </tr>\n",
       "    <tr>\n",
       "      <td>3</td>\n",
       "      <td>2.0</td>\n",
       "      <td>100.0</td>\n",
       "      <td>3.0</td>\n",
       "      <td>302.366048</td>\n",
       "      <td>1027.276570</td>\n",
       "      <td>0.384823</td>\n",
       "      <td>0.10214</td>\n",
       "      <td>0.099118</td>\n",
       "      <td>0.16572</td>\n",
       "      <td>0.163938</td>\n",
       "      <td>0.28248</td>\n",
       "      <td>0.279342</td>\n",
       "      <td>0.160986</td>\n",
       "      <td>0.158281</td>\n",
       "    </tr>\n",
       "    <tr>\n",
       "      <td>4</td>\n",
       "      <td>2.0</td>\n",
       "      <td>200.0</td>\n",
       "      <td>3.0</td>\n",
       "      <td>919.440675</td>\n",
       "      <td>1364.652246</td>\n",
       "      <td>0.389985</td>\n",
       "      <td>0.12876</td>\n",
       "      <td>0.127575</td>\n",
       "      <td>0.22236</td>\n",
       "      <td>0.217687</td>\n",
       "      <td>0.35406</td>\n",
       "      <td>0.350595</td>\n",
       "      <td>0.203397</td>\n",
       "      <td>0.200999</td>\n",
       "    </tr>\n",
       "    <tr>\n",
       "      <td>5</td>\n",
       "      <td>2.0</td>\n",
       "      <td>300.0</td>\n",
       "      <td>3.0</td>\n",
       "      <td>2396.711837</td>\n",
       "      <td>2056.467912</td>\n",
       "      <td>0.390986</td>\n",
       "      <td>0.13516</td>\n",
       "      <td>0.134567</td>\n",
       "      <td>0.24018</td>\n",
       "      <td>0.238273</td>\n",
       "      <td>0.36808</td>\n",
       "      <td>0.361988</td>\n",
       "      <td>0.214489</td>\n",
       "      <td>0.212642</td>\n",
       "    </tr>\n",
       "    <tr>\n",
       "      <td>6</td>\n",
       "      <td>2.0</td>\n",
       "      <td>400.0</td>\n",
       "      <td>3.0</td>\n",
       "      <td>4415.820152</td>\n",
       "      <td>2514.039263</td>\n",
       "      <td>0.391446</td>\n",
       "      <td>0.15384</td>\n",
       "      <td>0.149701</td>\n",
       "      <td>0.25598</td>\n",
       "      <td>0.253221</td>\n",
       "      <td>0.38426</td>\n",
       "      <td>0.380627</td>\n",
       "      <td>0.232010</td>\n",
       "      <td>0.228227</td>\n",
       "    </tr>\n",
       "  </tbody>\n",
       "</table>\n",
       "</div>"
      ],
      "text/plain": [
       "   iter   rank   l2   time_train      time_hr     error  hr1_valid  hr1_test  \\\n",
       "1   2.0   25.0  3.0   107.424801  1012.864410  0.413010    0.07474  0.074216   \n",
       "2   2.0   50.0  3.0   143.025986   903.308759  0.400128    0.08374  0.082663   \n",
       "3   2.0  100.0  3.0   302.366048  1027.276570  0.384823    0.10214  0.099118   \n",
       "4   2.0  200.0  3.0   919.440675  1364.652246  0.389985    0.12876  0.127575   \n",
       "5   2.0  300.0  3.0  2396.711837  2056.467912  0.390986    0.13516  0.134567   \n",
       "6   2.0  400.0  3.0  4415.820152  2514.039263  0.391446    0.15384  0.149701   \n",
       "\n",
       "   hr3_valid  hr3_test  hr10_valid  hr10_test  mrr_valid  mrr_test  \n",
       "1    0.11408  0.114625     0.18760   0.186267   0.113293  0.112571  \n",
       "2    0.13188  0.131824     0.21560   0.213675   0.129899  0.128995  \n",
       "3    0.16572  0.163938     0.28248   0.279342   0.160986  0.158281  \n",
       "4    0.22236  0.217687     0.35406   0.350595   0.203397  0.200999  \n",
       "5    0.24018  0.238273     0.36808   0.361988   0.214489  0.212642  \n",
       "6    0.25598  0.253221     0.38426   0.380627   0.232010  0.228227  "
      ]
     },
     "execution_count": 46,
     "metadata": {},
     "output_type": "execute_result"
    }
   ],
   "source": [
    "table_results"
   ]
  },
  {
   "cell_type": "code",
   "execution_count": 49,
   "metadata": {},
   "outputs": [],
   "source": [
    "table_results.to_csv(\"Link_Prediction_Factors/FB15K/results.csv\")"
   ]
  },
  {
   "cell_type": "code",
   "execution_count": 50,
   "metadata": {},
   "outputs": [
    {
     "data": {
      "text/plain": [
       "[<matplotlib.lines.Line2D at 0x7fc8ae55ea10>]"
      ]
     },
     "execution_count": 50,
     "metadata": {},
     "output_type": "execute_result"
    },
    {
     "data": {
      "image/png": "[encoded data removed]",
      "text/plain": [
       "<Figure size 432x288 with 1 Axes>"
      ]
     },
     "metadata": {
      "needs_background": "light"
     },
     "output_type": "display_data"
    }
   ],
   "source": [
    "plt.xlabel(\"Rank\")\n",
    "plt.ylabel(\"HR@10\")\n",
    "plt.title(f\"FB15k / WRCP-ALS3\")\n",
    "plt.xticks(table_results['rank'])\n",
    "#plt.yscale(\"log\")\n",
    "plt.plot(table_results['rank'], table_results['hr10_test'], '-*', c=\"#8b0a50\")"
   ]
  },
  {
   "cell_type": "markdown",
   "metadata": {},
   "source": [
    "## Merge train and valid sets:"
   ]
  },
  {
   "cell_type": "code",
   "execution_count": null,
   "metadata": {},
   "outputs": [],
   "source": [
    "tv_values = [1] * len(train_valid_triples)\n",
    "tv_values = np.array(tv_values, dtype=np.float64)\n",
    "\n",
    "tv_coords = np.array(train_valid_triples, dtype=np.int32)\n",
    "nnz = len(train_valid_triples)\n",
    "data_shape = (len(entity_list), len(relation_list), len(entity_list))\n",
    "data_shape"
   ]
  },
  {
   "cell_type": "code",
   "execution_count": null,
   "metadata": {},
   "outputs": [],
   "source": [
    "max_iter = 2\n",
    "rank = 300\n",
    "l2 = 3e0\n",
    "seed = 13"
   ]
  },
  {
   "cell_type": "code",
   "execution_count": null,
   "metadata": {},
   "outputs": [],
   "source": [
    "%%time\n",
    "a, b, c, err_arr, it = wrcp.wrcp_als3(\n",
    "    coords, values, data_shape,\n",
    "    rank=rank,\n",
    "    l2=l2,\n",
    "    max_iter=max_iter,\n",
    "    seed=seed,\n",
    "    show_iter=False,\n",
    "    it_over=False,\n",
    ")"
   ]
  },
  {
   "cell_type": "code",
   "execution_count": null,
   "metadata": {},
   "outputs": [],
   "source": [
    "%%time\n",
    "hr(test_filter, test_triples, a, b, c, [1, 3, 10])"
   ]
  },
  {
   "cell_type": "markdown",
   "metadata": {},
   "source": [
    "### Save Factors:"
   ]
  },
  {
   "cell_type": "code",
   "execution_count": null,
   "metadata": {},
   "outputs": [],
   "source": [
    "path_factors = \"Link_Prediction_Factors/FB15K/\"\n",
    "\n",
    "pickle.dump(a, open(path_factors + 'A_factor', 'wb'))\n",
    "pickle.dump(b, open(path_factors + 'B_factor', 'wb'))\n",
    "pickle.dump(c, open(path_factors + 'C_factor', 'wb'))\n",
    "pickle.dump(err_arr, open(path_factors + 'Errors', 'wb'))"
   ]
  },
  {
   "cell_type": "markdown",
   "metadata": {},
   "source": [
    "## We can load calculated factors:"
   ]
  },
  {
   "cell_type": "code",
   "execution_count": 3,
   "metadata": {},
   "outputs": [],
   "source": [
    "path_factors = \"Link_Prediction_Factors/FB15K/\"\n",
    "\n",
    "a = pickle.load(open(path_factors + 'A_factor', 'rb'))\n",
    "b = pickle.load(open(path_factors + 'B_factor', 'rb'))\n",
    "c = pickle.load(open(path_factors + 'C_factor', 'rb'))"
   ]
  },
  {
   "cell_type": "code",
   "execution_count": null,
   "metadata": {},
   "outputs": [],
   "source": [
    "%%time\n",
    "hr(valid_filter, valid_triples, a, b, c, [1, 3, 10])"
   ]
  },
  {
   "cell_type": "code",
   "execution_count": null,
   "metadata": {},
   "outputs": [],
   "source": [
    "%%time\n",
    "hr(test_filter, test_triples, a, b, c, [1, 3, 10])"
   ]
  },
  {
   "cell_type": "markdown",
   "metadata": {},
   "source": [
    "## Let's look at Tucker TD:"
   ]
  },
  {
   "cell_type": "code",
   "execution_count": 4,
   "metadata": {},
   "outputs": [],
   "source": [
    "import polara.lib.hosvd as hosvd"
   ]
  },
  {
   "cell_type": "code",
   "execution_count": 10,
   "metadata": {},
   "outputs": [
    {
     "name": "stdout",
     "output_type": "stream",
     "text": [
      "Step 1 of 100\n",
      "growth of the core: 1.000000\n",
      "Step 2 of 100\n",
      "growth of the core: 0.111823\n",
      "Step 3 of 100\n",
      "growth of the core: 0.008425\n",
      "Core is no longer growing. Norm of the core: 298.005022\n",
      "Done\n",
      "CPU times: user 1min 5s, sys: 1.46 s, total: 1min 7s\n",
      "Wall time: 39.1 s\n"
     ]
    }
   ],
   "source": [
    "%%time\n",
    "core_shape = (50, 50, 50)\n",
    "p, q, r, g = hosvd.tucker_als(\n",
    "    idx=coords,\n",
    "    val=values,\n",
    "    shape=data_shape,\n",
    "    core_shape=core_shape,\n",
    "    iters=100,\n",
    "    growth_tol=0.01,\n",
    "    batch_run=False,\n",
    "    seed=None,\n",
    ")"
   ]
  },
  {
   "cell_type": "markdown",
   "metadata": {},
   "source": [
    "### Write function to calculate the error:"
   ]
  },
  {
   "cell_type": "code",
   "execution_count": 6,
   "metadata": {},
   "outputs": [],
   "source": [
    "from numba import jit"
   ]
  },
  {
   "cell_type": "code",
   "execution_count": 7,
   "metadata": {},
   "outputs": [],
   "source": [
    "@jit(nopython=True) \n",
    "def sqrt_err_tucker(coo_tensor, vals, shape, a, b, c, g):\n",
    "    result = 0.0\n",
    "    for item in range(coo_tensor.shape[0]):\n",
    "        coord = coo_tensor[item]\n",
    "        elem = 0.0\n",
    "        for p in range(a.shape[1]):\n",
    "            for q in range(b.shape[1]):\n",
    "                for r in range(c.shape[1]):\n",
    "                    elem += g[p, q, r] * a[coord[0], p] * b[coord[1], q] * c[coord[2], r]\n",
    "        \n",
    "        result += (vals[item] - elem)**2  \n",
    "    return np.sqrt(result)"
   ]
  },
  {
   "cell_type": "code",
   "execution_count": 8,
   "metadata": {},
   "outputs": [],
   "source": [
    "@jit(nopython=True) \n",
    "def sqrt_err_relative_tucker(coo_tensor, vals, shape, a, b, c, g):\n",
    "    result = sqrt_err_tucker(coo_tensor, vals, shape, a, b, c, g)        \n",
    "    return result / np.sqrt((vals**2).sum())"
   ]
  },
  {
   "cell_type": "code",
   "execution_count": 11,
   "metadata": {},
   "outputs": [
    {
     "name": "stdout",
     "output_type": "stream",
     "text": [
      "Relative error = 0.8692521793191307\n"
     ]
    }
   ],
   "source": [
    "rerr = sqrt_err_relative_tucker(\n",
    "    coords,\n",
    "    values,\n",
    "    data_shape,\n",
    "    p,\n",
    "    q,\n",
    "    r,\n",
    "    g,\n",
    ")\n",
    "print(f\"Relative error = {rerr}\")"
   ]
  },
  {
   "cell_type": "code",
   "execution_count": null,
   "metadata": {},
   "outputs": [],
   "source": []
  }
 ],
 "metadata": {
  "kernelspec": {
   "display_name": "Python 3",
   "language": "python",
   "name": "python3"
  },
  "language_info": {
   "codemirror_mode": {
    "name": "ipython",
    "version": 3
   },
   "file_extension": ".py",
   "mimetype": "text/x-python",
   "name": "python",
   "nbconvert_exporter": "python",
   "pygments_lexer": "ipython3",
   "version": "3.7.4"
  }
 },
 "nbformat": 4,
 "nbformat_minor": 4
}
