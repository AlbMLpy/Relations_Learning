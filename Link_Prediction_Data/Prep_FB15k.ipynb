{
 "cells": [
  {
   "cell_type": "code",
   "execution_count": 1,
   "metadata": {},
   "outputs": [],
   "source": [
    "import pickle\n",
    "import Data as d"
   ]
  },
  {
   "cell_type": "code",
   "execution_count": 2,
   "metadata": {},
   "outputs": [],
   "source": [
    "path = \"Datasets/FB15k/\"\n",
    "data = d.Data(path)"
   ]
  },
  {
   "cell_type": "code",
   "execution_count": 4,
   "metadata": {},
   "outputs": [
    {
     "name": "stdout",
     "output_type": "stream",
     "text": [
      "['/m/027rn', '/location/country/form_of_government', '/m/06cx9'] \n",
      " 483142\n"
     ]
    }
   ],
   "source": [
    "print(data.train_data[0], \"\\n\", len(data.train_data))"
   ]
  },
  {
   "cell_type": "code",
   "execution_count": 5,
   "metadata": {},
   "outputs": [
    {
     "name": "stdout",
     "output_type": "stream",
     "text": [
      "['/m/07pd_j', '/film/film/genre', '/m/02l7c8'] \n",
      " 50000\n"
     ]
    }
   ],
   "source": [
    "print(data.valid_data[0], \"\\n\", len(data.valid_data))"
   ]
  },
  {
   "cell_type": "code",
   "execution_count": 6,
   "metadata": {},
   "outputs": [
    {
     "name": "stdout",
     "output_type": "stream",
     "text": [
      "['/m/01qscs', '/award/award_nominee/award_nominations./award/award_nomination/award', '/m/02x8n1n'] \n",
      " 59071\n"
     ]
    }
   ],
   "source": [
    "print(data.test_data[0], \"\\n\", len(data.test_data))"
   ]
  },
  {
   "cell_type": "code",
   "execution_count": 7,
   "metadata": {},
   "outputs": [
    {
     "name": "stdout",
     "output_type": "stream",
     "text": [
      "['/m/027rn', '/location/country/form_of_government', '/m/06cx9'] \n",
      " 592213\n"
     ]
    }
   ],
   "source": [
    "print(data.data[0], \"\\n\", len(data.data))"
   ]
  },
  {
   "cell_type": "code",
   "execution_count": 8,
   "metadata": {},
   "outputs": [
    {
     "name": "stdout",
     "output_type": "stream",
     "text": [
      "/american_football/football_coach/coaching_history./american_football/football_historical_coach_position/position \n",
      " 1345\n"
     ]
    }
   ],
   "source": [
    "print(data.train_relations[0], \"\\n\", len(data.train_relations))"
   ]
  },
  {
   "cell_type": "code",
   "execution_count": 9,
   "metadata": {},
   "outputs": [
    {
     "name": "stdout",
     "output_type": "stream",
     "text": [
      "/american_football/football_player/former_teams./american_football/football_historical_roster_position/position_s \n",
      " 916\n"
     ]
    }
   ],
   "source": [
    "print(data.valid_relations[0], \"\\n\", len(data.valid_relations))"
   ]
  },
  {
   "cell_type": "code",
   "execution_count": 10,
   "metadata": {},
   "outputs": [
    {
     "name": "stdout",
     "output_type": "stream",
     "text": [
      "/american_football/football_coach_position/coaches_holding_this_position./american_football/football_historical_coach_position/team \n",
      " 961\n"
     ]
    }
   ],
   "source": [
    "print(data.test_relations[0], \"\\n\", len(data.test_relations))"
   ]
  },
  {
   "cell_type": "code",
   "execution_count": 11,
   "metadata": {},
   "outputs": [
    {
     "name": "stdout",
     "output_type": "stream",
     "text": [
      "/american_football/football_coach/coaching_history./american_football/football_historical_coach_position/position \n",
      " 1345\n"
     ]
    }
   ],
   "source": [
    "print(data.relations[0], \"\\n\", len(data.relations))"
   ]
  },
  {
   "cell_type": "code",
   "execution_count": 12,
   "metadata": {},
   "outputs": [
    {
     "name": "stdout",
     "output_type": "stream",
     "text": [
      "/m/010016 \n",
      " 14951\n"
     ]
    }
   ],
   "source": [
    "print(data.entities[0], \"\\n\", len(data.entities))"
   ]
  },
  {
   "cell_type": "markdown",
   "metadata": {},
   "source": [
    "### Make triples:"
   ]
  },
  {
   "cell_type": "code",
   "execution_count": 13,
   "metadata": {},
   "outputs": [
    {
     "name": "stdout",
     "output_type": "stream",
     "text": [
      "14951 \n",
      " 1345\n"
     ]
    }
   ],
   "source": [
    "entity_idxs = {data.entities[i]:i for i in range(len(data.entities))}\n",
    "relation_idxs = {data.relations[i]:i for i in range(len(data.relations))}\n",
    "\n",
    "print(len(entity_idxs), \"\\n\", len(relation_idxs))"
   ]
  },
  {
   "cell_type": "code",
   "execution_count": 14,
   "metadata": {},
   "outputs": [],
   "source": [
    "def get_data_idxs(data, entity_idxs, relation_idxs):\n",
    "    data_idxs = [\n",
    "        (entity_idxs[data[i][0]],\n",
    "         relation_idxs[data[i][1]],\n",
    "         entity_idxs[data[i][2]]) for i in range(len(data))\n",
    "    ]\n",
    "    return data_idxs"
   ]
  },
  {
   "cell_type": "code",
   "execution_count": 15,
   "metadata": {},
   "outputs": [
    {
     "name": "stdout",
     "output_type": "stream",
     "text": [
      "483142 483142\n"
     ]
    }
   ],
   "source": [
    "train_triples = get_data_idxs(data.train_data, entity_idxs, relation_idxs)\n",
    "print(len(train_triples), len(set(train_triples)))"
   ]
  },
  {
   "cell_type": "code",
   "execution_count": 16,
   "metadata": {},
   "outputs": [
    {
     "name": "stdout",
     "output_type": "stream",
     "text": [
      "50000 50000\n"
     ]
    }
   ],
   "source": [
    "valid_triples = get_data_idxs(data.valid_data, entity_idxs, relation_idxs)\n",
    "print(len(valid_triples), len(set(valid_triples)))"
   ]
  },
  {
   "cell_type": "code",
   "execution_count": 17,
   "metadata": {},
   "outputs": [
    {
     "name": "stdout",
     "output_type": "stream",
     "text": [
      "59071 59071\n"
     ]
    }
   ],
   "source": [
    "test_triples = get_data_idxs(data.test_data, entity_idxs, relation_idxs)\n",
    "print(len(test_triples), len(set(test_triples)))"
   ]
  },
  {
   "cell_type": "code",
   "execution_count": 18,
   "metadata": {},
   "outputs": [
    {
     "data": {
      "text/plain": [
       "533142"
      ]
     },
     "execution_count": 18,
     "metadata": {},
     "output_type": "execute_result"
    }
   ],
   "source": [
    "train_valid_triples = train_triples.copy()\n",
    "train_valid_triples.extend(valid_triples)\n",
    "len(train_valid_triples)"
   ]
  },
  {
   "cell_type": "code",
   "execution_count": 19,
   "metadata": {},
   "outputs": [
    {
     "data": {
      "text/plain": [
       "set()"
      ]
     },
     "execution_count": 19,
     "metadata": {},
     "output_type": "execute_result"
    }
   ],
   "source": [
    "set(train_triples).intersection(set(valid_triples))"
   ]
  },
  {
   "cell_type": "code",
   "execution_count": 20,
   "metadata": {},
   "outputs": [
    {
     "data": {
      "text/plain": [
       "set()"
      ]
     },
     "execution_count": 20,
     "metadata": {},
     "output_type": "execute_result"
    }
   ],
   "source": [
    "set(train_triples).intersection(set(test_triples))"
   ]
  },
  {
   "cell_type": "code",
   "execution_count": 21,
   "metadata": {},
   "outputs": [],
   "source": [
    "path = \"FB15K/\"\n",
    "pickle.dump(train_triples, open(path + 'train_triples', 'wb'))\n",
    "pickle.dump(valid_triples, open(path + 'valid_triples', 'wb'))\n",
    "pickle.dump(test_triples, open(path + 'test_triples', 'wb'))\n",
    "pickle.dump(train_valid_triples, open(path + 'train_valid_triples', 'wb'))\n",
    "\n",
    "pickle.dump(data.entities, open(path + 'entity_list', 'wb'))\n",
    "pickle.dump(data.relations, open(path + 'relation_list', 'wb'))\n",
    "\n",
    "pickle.dump(entity_idxs, open(path + 'entity_map', 'wb'))\n",
    "pickle.dump(relation_idxs, open(path + 'relation_map', 'wb'))"
   ]
  }
 ],
 "metadata": {
  "kernelspec": {
   "display_name": "Python 3",
   "language": "python",
   "name": "python3"
  },
  "language_info": {
   "codemirror_mode": {
    "name": "ipython",
    "version": 3
   },
   "file_extension": ".py",
   "mimetype": "text/x-python",
   "name": "python",
   "nbconvert_exporter": "python",
   "pygments_lexer": "ipython3",
   "version": "3.7.4"
  }
 },
 "nbformat": 4,
 "nbformat_minor": 4
}
