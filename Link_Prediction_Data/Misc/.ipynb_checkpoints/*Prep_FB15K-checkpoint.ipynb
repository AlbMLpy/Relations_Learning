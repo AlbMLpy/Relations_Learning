{
 "cells": [
  {
   "cell_type": "code",
   "execution_count": 1,
   "metadata": {},
   "outputs": [],
   "source": [
    "import json\n",
    "import pickle"
   ]
  },
  {
   "cell_type": "markdown",
   "metadata": {},
   "source": [
    "## Import data map:"
   ]
  },
  {
   "cell_type": "code",
   "execution_count": 2,
   "metadata": {},
   "outputs": [],
   "source": [
    "path = \"../wikidata_tensors/datasets_knowledge_embedding/FB15K/\"\n",
    "\n",
    "with open(path + 'entity2wikidata.json') as json_file:\n",
    "    data_map = json.load(json_file)"
   ]
  },
  {
   "cell_type": "code",
   "execution_count": 3,
   "metadata": {},
   "outputs": [
    {
     "data": {
      "text/plain": [
       "{'alternatives': ['Denton, Texas'],\n",
       " 'description': 'city in Texas, United States',\n",
       " 'label': 'Denton',\n",
       " 'wikidata_id': 'Q128306',\n",
       " 'wikipedia': 'https://en.wikipedia.org/wiki/Denton,_Texas'}"
      ]
     },
     "execution_count": 3,
     "metadata": {},
     "output_type": "execute_result"
    }
   ],
   "source": [
    "data_map['/m/010016']"
   ]
  },
  {
   "cell_type": "code",
   "execution_count": 4,
   "metadata": {},
   "outputs": [
    {
     "data": {
      "text/plain": [
       "14515"
      ]
     },
     "execution_count": 4,
     "metadata": {},
     "output_type": "execute_result"
    }
   ],
   "source": [
    "len(data_map)"
   ]
  },
  {
   "cell_type": "markdown",
   "metadata": {},
   "source": [
    "## Read train, valid, test data:"
   ]
  },
  {
   "cell_type": "code",
   "execution_count": 5,
   "metadata": {},
   "outputs": [],
   "source": [
    "def file_process(fname, list_of_triples, set_of_entity, set_of_rel, json_map):\n",
    "    \"\"\" \n",
    "        Get List of triples with names, set of entity names,\n",
    "        set of relation names.\n",
    "    \"\"\"\n",
    "    \n",
    "    with open(fname) as f: \n",
    "        for i, line in enumerate(f):\n",
    "            sub, rel, obj = line.split()\n",
    "            # why try? -> some sub and obj are not in a json_map!!!! and we skip them\n",
    "            try:\n",
    "                set_of_entity.add(json_map[sub]['label'])\n",
    "                set_of_entity.add(json_map[obj]['label'])\n",
    "                set_of_rel.add(rel)\n",
    "                list_of_triples.append((json_map[sub]['label'], rel, json_map[obj]['label']))\n",
    "            except:\n",
    "            #    print (i)\n",
    "                continue\n",
    "            \n",
    "    return i + 1"
   ]
  },
  {
   "cell_type": "markdown",
   "metadata": {},
   "source": [
    "### Train:"
   ]
  },
  {
   "cell_type": "code",
   "execution_count": 6,
   "metadata": {},
   "outputs": [
    {
     "name": "stdout",
     "output_type": "stream",
     "text": [
      "460984 14240 1172\n"
     ]
    }
   ],
   "source": [
    "list_of_triples_train =[]\n",
    "set_of_entity_train = set()\n",
    "set_of_rel_train = set()\n",
    "\n",
    "file_process(\n",
    "    path + 'train.txt', list_of_triples_train,\n",
    "    set_of_entity_train, set_of_rel_train, data_map,\n",
    ")\n",
    "print (len(list_of_triples_train), len(set_of_entity_train), len(set_of_rel_train))"
   ]
  },
  {
   "cell_type": "markdown",
   "metadata": {},
   "source": [
    "### Valid:"
   ]
  },
  {
   "cell_type": "code",
   "execution_count": 7,
   "metadata": {},
   "outputs": [
    {
     "name": "stdout",
     "output_type": "stream",
     "text": [
      "47837 12831 828\n"
     ]
    }
   ],
   "source": [
    "list_of_triples_valid =[]\n",
    "set_of_entity_valid = set()\n",
    "set_of_rel_valid = set()\n",
    "\n",
    "file_process(\n",
    "    path + 'valid.txt', list_of_triples_valid,\n",
    "    set_of_entity_valid, set_of_rel_valid, data_map,\n",
    ")\n",
    "print(len(list_of_triples_valid), len(set_of_entity_valid), len(set_of_rel_valid))"
   ]
  },
  {
   "cell_type": "markdown",
   "metadata": {},
   "source": [
    "### Test:"
   ]
  },
  {
   "cell_type": "code",
   "execution_count": 8,
   "metadata": {},
   "outputs": [
    {
     "name": "stdout",
     "output_type": "stream",
     "text": [
      "56396 13090 850\n"
     ]
    }
   ],
   "source": [
    "list_of_triples_test =[]\n",
    "set_of_entity_test = set()\n",
    "set_of_rel_test = set()\n",
    "\n",
    "file_process(\n",
    "    path + 'test.txt', list_of_triples_test,\n",
    "    set_of_entity_test, set_of_rel_test, data_map,\n",
    ")\n",
    "print(len(list_of_triples_test), len(set_of_entity_test), len(set_of_rel_test))"
   ]
  },
  {
   "cell_type": "markdown",
   "metadata": {},
   "source": [
    "## Check entity and relation sets:"
   ]
  },
  {
   "cell_type": "markdown",
   "metadata": {},
   "source": [
    "### Erase repeating triples in a concrete set:"
   ]
  },
  {
   "cell_type": "markdown",
   "metadata": {},
   "source": [
    "#### Train:"
   ]
  },
  {
   "cell_type": "code",
   "execution_count": 9,
   "metadata": {},
   "outputs": [
    {
     "data": {
      "text/plain": [
       "459708"
      ]
     },
     "execution_count": 9,
     "metadata": {},
     "output_type": "execute_result"
    }
   ],
   "source": [
    "train = set()\n",
    "for triple in list_of_triples_train:\n",
    "    train.add(triple)\n",
    "\n",
    "len(train)"
   ]
  },
  {
   "cell_type": "markdown",
   "metadata": {},
   "source": [
    "#### Valid:"
   ]
  },
  {
   "cell_type": "code",
   "execution_count": 10,
   "metadata": {},
   "outputs": [
    {
     "data": {
      "text/plain": [
       "47823"
      ]
     },
     "execution_count": 10,
     "metadata": {},
     "output_type": "execute_result"
    }
   ],
   "source": [
    "valid = set()\n",
    "for triple in list_of_triples_valid:\n",
    "    valid.add(triple)\n",
    "    \n",
    "len(valid)"
   ]
  },
  {
   "cell_type": "markdown",
   "metadata": {},
   "source": [
    "#### Test:"
   ]
  },
  {
   "cell_type": "code",
   "execution_count": 11,
   "metadata": {},
   "outputs": [
    {
     "data": {
      "text/plain": [
       "56370"
      ]
     },
     "execution_count": 11,
     "metadata": {},
     "output_type": "execute_result"
    }
   ],
   "source": [
    "test = set()\n",
    "for triple in list_of_triples_test:\n",
    "    test.add(triple)\n",
    "    \n",
    "len(test)"
   ]
  },
  {
   "cell_type": "markdown",
   "metadata": {},
   "source": [
    "### Erase repeated triples in train/test/valid:"
   ]
  },
  {
   "cell_type": "markdown",
   "metadata": {},
   "source": [
    "#### Train/Valid:"
   ]
  },
  {
   "cell_type": "code",
   "execution_count": 12,
   "metadata": {},
   "outputs": [
    {
     "data": {
      "text/plain": [
       "245"
      ]
     },
     "execution_count": 12,
     "metadata": {},
     "output_type": "execute_result"
    }
   ],
   "source": [
    "len(train.intersection(valid))"
   ]
  },
  {
   "cell_type": "code",
   "execution_count": 13,
   "metadata": {},
   "outputs": [
    {
     "data": {
      "text/plain": [
       "459463"
      ]
     },
     "execution_count": 13,
     "metadata": {},
     "output_type": "execute_result"
    }
   ],
   "source": [
    "train = train.difference(valid)\n",
    "len(train)"
   ]
  },
  {
   "cell_type": "code",
   "execution_count": 14,
   "metadata": {},
   "outputs": [
    {
     "data": {
      "text/plain": [
       "0"
      ]
     },
     "execution_count": 14,
     "metadata": {},
     "output_type": "execute_result"
    }
   ],
   "source": [
    "len(train.intersection(valid))"
   ]
  },
  {
   "cell_type": "markdown",
   "metadata": {},
   "source": [
    "#### Train/Test:"
   ]
  },
  {
   "cell_type": "code",
   "execution_count": 15,
   "metadata": {},
   "outputs": [
    {
     "data": {
      "text/plain": [
       "254"
      ]
     },
     "execution_count": 15,
     "metadata": {},
     "output_type": "execute_result"
    }
   ],
   "source": [
    "len(train.intersection(test))"
   ]
  },
  {
   "cell_type": "code",
   "execution_count": 16,
   "metadata": {},
   "outputs": [
    {
     "data": {
      "text/plain": [
       "459209"
      ]
     },
     "execution_count": 16,
     "metadata": {},
     "output_type": "execute_result"
    }
   ],
   "source": [
    "train = train.difference(test)\n",
    "len(train)"
   ]
  },
  {
   "cell_type": "code",
   "execution_count": 17,
   "metadata": {},
   "outputs": [
    {
     "data": {
      "text/plain": [
       "0"
      ]
     },
     "execution_count": 17,
     "metadata": {},
     "output_type": "execute_result"
    }
   ],
   "source": [
    "len(train.intersection(test))"
   ]
  },
  {
   "cell_type": "markdown",
   "metadata": {},
   "source": [
    "#### Valid/Test:"
   ]
  },
  {
   "cell_type": "code",
   "execution_count": 18,
   "metadata": {},
   "outputs": [
    {
     "data": {
      "text/plain": [
       "32"
      ]
     },
     "execution_count": 18,
     "metadata": {},
     "output_type": "execute_result"
    }
   ],
   "source": [
    "len(valid.intersection(test))"
   ]
  },
  {
   "cell_type": "code",
   "execution_count": 19,
   "metadata": {},
   "outputs": [
    {
     "data": {
      "text/plain": [
       "47791"
      ]
     },
     "execution_count": 19,
     "metadata": {},
     "output_type": "execute_result"
    }
   ],
   "source": [
    "valid = valid.difference(test)\n",
    "len(valid)"
   ]
  },
  {
   "cell_type": "code",
   "execution_count": 20,
   "metadata": {},
   "outputs": [
    {
     "data": {
      "text/plain": [
       "0"
      ]
     },
     "execution_count": 20,
     "metadata": {},
     "output_type": "execute_result"
    }
   ],
   "source": [
    "len(valid.intersection(test))"
   ]
  },
  {
   "cell_type": "markdown",
   "metadata": {},
   "source": [
    "#### All intersection?"
   ]
  },
  {
   "cell_type": "code",
   "execution_count": 21,
   "metadata": {},
   "outputs": [
    {
     "data": {
      "text/plain": [
       "0"
      ]
     },
     "execution_count": 21,
     "metadata": {},
     "output_type": "execute_result"
    }
   ],
   "source": [
    "len(train.intersection(valid).intersection(test))"
   ]
  },
  {
   "cell_type": "markdown",
   "metadata": {},
   "source": [
    "#### Make lists of train/valid/test:"
   ]
  },
  {
   "cell_type": "code",
   "execution_count": 22,
   "metadata": {},
   "outputs": [
    {
     "data": {
      "text/plain": [
       "459209"
      ]
     },
     "execution_count": 22,
     "metadata": {},
     "output_type": "execute_result"
    }
   ],
   "source": [
    "list_of_triples_train = list(train)\n",
    "len(list_of_triples_train)"
   ]
  },
  {
   "cell_type": "code",
   "execution_count": 23,
   "metadata": {},
   "outputs": [
    {
     "data": {
      "text/plain": [
       "47791"
      ]
     },
     "execution_count": 23,
     "metadata": {},
     "output_type": "execute_result"
    }
   ],
   "source": [
    "list_of_triples_valid = list(valid)\n",
    "len(list_of_triples_valid)"
   ]
  },
  {
   "cell_type": "code",
   "execution_count": 24,
   "metadata": {},
   "outputs": [
    {
     "data": {
      "text/plain": [
       "56370"
      ]
     },
     "execution_count": 24,
     "metadata": {},
     "output_type": "execute_result"
    }
   ],
   "source": [
    "list_of_triples_test = list(test)\n",
    "len(list_of_triples_test)"
   ]
  },
  {
   "cell_type": "markdown",
   "metadata": {},
   "source": [
    "### Erase \"cold\" triples based on entities and relations:"
   ]
  },
  {
   "cell_type": "markdown",
   "metadata": {},
   "source": [
    "#### train/test:"
   ]
  },
  {
   "cell_type": "code",
   "execution_count": 25,
   "metadata": {},
   "outputs": [
    {
     "data": {
      "text/plain": [
       "{'Lasker-DeBakey Clinical Medical Research Award'}"
      ]
     },
     "execution_count": 25,
     "metadata": {},
     "output_type": "execute_result"
    }
   ],
   "source": [
    "diff_ent_test_train = set_of_entity_test.difference(set_of_entity_train)\n",
    "diff_ent_test_train"
   ]
  },
  {
   "cell_type": "code",
   "execution_count": 26,
   "metadata": {},
   "outputs": [
    {
     "data": {
      "text/plain": [
       "{'/architecture/type_of_museum/museums',\n",
       " '/base/patronage/patron/related_client./base/patronage/patron_client_relationship/client',\n",
       " '/base/thoroughbredracing/thoroughbred_racehorse/color',\n",
       " '/biology/organism/organism_type',\n",
       " '/biology/organism_classification/organisms_of_this_type',\n",
       " '/comic_books/comic_book_character/regular_featured_appearances',\n",
       " '/film/film_character/portrayed_in_films./film/performance/special_performance_type',\n",
       " '/film/film_character/portrayed_in_films_dubbed./film/dubbing_performance/film',\n",
       " '/royalty/royal_line/monarchs_from_this_line'}"
      ]
     },
     "execution_count": 26,
     "metadata": {},
     "output_type": "execute_result"
    }
   ],
   "source": [
    "diff_rel_test_train = set_of_rel_test.difference(set_of_rel_train)\n",
    "diff_rel_test_train"
   ]
  },
  {
   "cell_type": "code",
   "execution_count": 27,
   "metadata": {},
   "outputs": [
    {
     "data": {
      "text/plain": [
       "56361"
      ]
     },
     "execution_count": 27,
     "metadata": {},
     "output_type": "execute_result"
    }
   ],
   "source": [
    "one = [triple for triple in list_of_triples_test if triple[0] not in diff_ent_test_train]\n",
    "two = [triple for triple in one if triple[1] not in diff_rel_test_train]\n",
    "list_of_triples_test_updated = [triple for triple in two if triple[2] not in diff_ent_test_train]\n",
    "len(list_of_triples_test_updated)"
   ]
  },
  {
   "cell_type": "markdown",
   "metadata": {},
   "source": [
    "#### train/valid:"
   ]
  },
  {
   "cell_type": "code",
   "execution_count": 28,
   "metadata": {},
   "outputs": [
    {
     "data": {
      "text/plain": [
       "set()"
      ]
     },
     "execution_count": 28,
     "metadata": {},
     "output_type": "execute_result"
    }
   ],
   "source": [
    "diff_ent_valid_train = set_of_entity_valid.difference(set_of_entity_train)\n",
    "diff_ent_valid_train"
   ]
  },
  {
   "cell_type": "code",
   "execution_count": 29,
   "metadata": {},
   "outputs": [
    {
     "data": {
      "text/plain": [
       "{'/fictional_universe/fictional_job_title/fictional_characters_with_this_job./fictional_universe/fictional_employment_tenure/employee',\n",
       " '/royalty/royal_line/monarchs_from_this_line'}"
      ]
     },
     "execution_count": 29,
     "metadata": {},
     "output_type": "execute_result"
    }
   ],
   "source": [
    "diff_rel_valid_train = set_of_rel_valid.difference(set_of_rel_train)\n",
    "diff_rel_valid_train"
   ]
  },
  {
   "cell_type": "code",
   "execution_count": 30,
   "metadata": {},
   "outputs": [
    {
     "data": {
      "text/plain": [
       "47788"
      ]
     },
     "execution_count": 30,
     "metadata": {},
     "output_type": "execute_result"
    }
   ],
   "source": [
    "one = [triple for triple in list_of_triples_valid if triple[0] not in diff_ent_valid_train]\n",
    "two = [triple for triple in one if triple[1] not in diff_rel_valid_train]\n",
    "list_of_triples_valid_updated = [triple for triple in two if triple[2] not in diff_ent_valid_train]\n",
    "len(list_of_triples_valid_updated)"
   ]
  },
  {
   "cell_type": "markdown",
   "metadata": {},
   "source": [
    "## Let's look at the data:"
   ]
  },
  {
   "cell_type": "code",
   "execution_count": 31,
   "metadata": {},
   "outputs": [
    {
     "data": {
      "text/plain": [
       "[('marriage',\n",
       "  '/people/marriage_union_type/unions_of_this_type./people/marriage/spouse',\n",
       "  'James Spader'),\n",
       " ('National Heads-Up Poker Championship', '/tv/tv_program/genre', 'sport')]"
      ]
     },
     "execution_count": 31,
     "metadata": {},
     "output_type": "execute_result"
    }
   ],
   "source": [
    "list_of_triples_train[:2]"
   ]
  },
  {
   "cell_type": "code",
   "execution_count": 32,
   "metadata": {},
   "outputs": [
    {
     "data": {
      "text/plain": [
       "[('keyboard instrument',\n",
       "  '/music/performance_role/regular_performances./music/group_membership/group',\n",
       "  'Grateful Dead'),\n",
       " ('David Gilmour', '/music/group_member/instruments_played', 'bass guitar')]"
      ]
     },
     "execution_count": 32,
     "metadata": {},
     "output_type": "execute_result"
    }
   ],
   "source": [
    "list_of_triples_valid_updated[:2]"
   ]
  },
  {
   "cell_type": "code",
   "execution_count": 33,
   "metadata": {},
   "outputs": [
    {
     "data": {
      "text/plain": [
       "[('Chazz Palminteri',\n",
       "  '/award/award_winner/awards_won./award/award_honor/award_winner',\n",
       "  'Channing Tatum'),\n",
       " ('Ursula K. Le Guin',\n",
       "  '/people/person/places_lived./people/place_lived/location',\n",
       "  'Berkeley')]"
      ]
     },
     "execution_count": 33,
     "metadata": {},
     "output_type": "execute_result"
    }
   ],
   "source": [
    "list_of_triples_test_updated[:2]"
   ]
  },
  {
   "cell_type": "code",
   "execution_count": 34,
   "metadata": {},
   "outputs": [
    {
     "data": {
      "text/plain": [
       "['Northridge', 'Croatian American', 'Bob Clampett']"
      ]
     },
     "execution_count": 34,
     "metadata": {},
     "output_type": "execute_result"
    }
   ],
   "source": [
    "list(set_of_entity_train)[:3]"
   ]
  },
  {
   "cell_type": "code",
   "execution_count": 35,
   "metadata": {},
   "outputs": [
    {
     "data": {
      "text/plain": [
       "['/people/person/children',\n",
       " '/location/statistical_region/rent50_1./measurement_unit/dated_money_value/currency',\n",
       " '/base/locations/countries/continent']"
      ]
     },
     "execution_count": 35,
     "metadata": {},
     "output_type": "execute_result"
    }
   ],
   "source": [
    "list(set_of_rel_train)[:3]"
   ]
  },
  {
   "cell_type": "code",
   "execution_count": 36,
   "metadata": {},
   "outputs": [
    {
     "data": {
      "text/plain": [
       "14240"
      ]
     },
     "execution_count": 36,
     "metadata": {},
     "output_type": "execute_result"
    }
   ],
   "source": [
    "len(set_of_entity_train)"
   ]
  },
  {
   "cell_type": "code",
   "execution_count": 37,
   "metadata": {},
   "outputs": [
    {
     "data": {
      "text/plain": [
       "1172"
      ]
     },
     "execution_count": 37,
     "metadata": {},
     "output_type": "execute_result"
    }
   ],
   "source": [
    "len(set_of_rel_train)"
   ]
  },
  {
   "cell_type": "markdown",
   "metadata": {},
   "source": [
    "## Create mapping from names to numerical identifiers:"
   ]
  },
  {
   "cell_type": "code",
   "execution_count": 38,
   "metadata": {},
   "outputs": [],
   "source": [
    "# Attach all the entities with their numerical identifiers:\n",
    "entity_to_ind = {elem: ind for ind, elem in enumerate(list(set_of_entity_train))}\n",
    "\n",
    "# Make a list of entities from a set:\n",
    "ind_to_entity = list(set_of_entity_train)"
   ]
  },
  {
   "cell_type": "code",
   "execution_count": 39,
   "metadata": {},
   "outputs": [],
   "source": [
    "# Attach all the relations with their numerical identifiers:\n",
    "rel_to_ind = { elem : ind for ind, elem in enumerate(list(set_of_rel_train))}\n",
    "\n",
    "# Make a list of relations from a set:\n",
    "ind_to_relation = list(set_of_rel_train)"
   ]
  },
  {
   "cell_type": "code",
   "execution_count": 40,
   "metadata": {},
   "outputs": [],
   "source": [
    "def create_list_of_inds(list_of_triples, rel_to_ind, entity_to_ind):\n",
    "    answer_list = [(entity_to_ind[elem[0]], rel_to_ind[elem[1]], entity_to_ind[elem[2]]) for elem in list_of_triples]\n",
    "    return answer_list"
   ]
  },
  {
   "cell_type": "markdown",
   "metadata": {},
   "source": [
    "### Train triples:"
   ]
  },
  {
   "cell_type": "code",
   "execution_count": 41,
   "metadata": {},
   "outputs": [
    {
     "data": {
      "text/plain": [
       "459209"
      ]
     },
     "execution_count": 41,
     "metadata": {},
     "output_type": "execute_result"
    }
   ],
   "source": [
    "inds_list_train = create_list_of_inds(list_of_triples_train, rel_to_ind, entity_to_ind)\n",
    "len(inds_list_train)"
   ]
  },
  {
   "cell_type": "markdown",
   "metadata": {},
   "source": [
    "### Valid triples:"
   ]
  },
  {
   "cell_type": "code",
   "execution_count": 42,
   "metadata": {},
   "outputs": [
    {
     "data": {
      "text/plain": [
       "47788"
      ]
     },
     "execution_count": 42,
     "metadata": {},
     "output_type": "execute_result"
    }
   ],
   "source": [
    "inds_list_valid = create_list_of_inds(list_of_triples_valid_updated, rel_to_ind, entity_to_ind)\n",
    "len(inds_list_valid)"
   ]
  },
  {
   "cell_type": "markdown",
   "metadata": {},
   "source": [
    "### Test triples:"
   ]
  },
  {
   "cell_type": "code",
   "execution_count": 43,
   "metadata": {},
   "outputs": [
    {
     "data": {
      "text/plain": [
       "56361"
      ]
     },
     "execution_count": 43,
     "metadata": {},
     "output_type": "execute_result"
    }
   ],
   "source": [
    "inds_list_test = create_list_of_inds(list_of_triples_test_updated, rel_to_ind, entity_to_ind)\n",
    "len(inds_list_test) "
   ]
  },
  {
   "cell_type": "markdown",
   "metadata": {},
   "source": [
    "### Save data triples:"
   ]
  },
  {
   "cell_type": "code",
   "execution_count": 44,
   "metadata": {},
   "outputs": [],
   "source": [
    "path = \"Link_Prediction_Data/FB15K/\"\n",
    "pickle.dump(inds_list_train, open(path + 'train_triples', 'wb'))\n",
    "pickle.dump(inds_list_valid, open(path + 'valid_triples', 'wb'))\n",
    "pickle.dump(inds_list_test, open(path + 'test_triples', 'wb'))\n",
    "\n",
    "pickle.dump(ind_to_entity, open(path + 'entity_list', 'wb'))\n",
    "pickle.dump(ind_to_relation, open(path + 'relation_list', 'wb'))\n",
    "\n",
    "pickle.dump(entity_to_ind, open(path + 'entity_map', 'wb'))\n",
    "pickle.dump(rel_to_ind, open(path + 'relation_map', 'wb'))"
   ]
  }
 ],
 "metadata": {
  "kernelspec": {
   "display_name": "Python 3",
   "language": "python",
   "name": "python3"
  },
  "language_info": {
   "codemirror_mode": {
    "name": "ipython",
    "version": 3
   },
   "file_extension": ".py",
   "mimetype": "text/x-python",
   "name": "python",
   "nbconvert_exporter": "python",
   "pygments_lexer": "ipython3",
   "version": "3.7.4"
  }
 },
 "nbformat": 4,
 "nbformat_minor": 4
}
