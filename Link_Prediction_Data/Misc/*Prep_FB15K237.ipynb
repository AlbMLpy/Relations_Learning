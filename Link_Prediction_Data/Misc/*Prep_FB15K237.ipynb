{
 "cells": [
  {
   "cell_type": "code",
   "execution_count": 40,
   "metadata": {},
   "outputs": [],
   "source": [
    "import json\n",
    "import pickle"
   ]
  },
  {
   "cell_type": "markdown",
   "metadata": {},
   "source": [
    "## Import data map:"
   ]
  },
  {
   "cell_type": "code",
   "execution_count": 41,
   "metadata": {},
   "outputs": [],
   "source": [
    "path = \"../wikidata_tensors/datasets_knowledge_embedding/FB15k-237/\"\n",
    "\n",
    "with open(path + 'entity2wikidata.json') as json_file:\n",
    "    data_map = json.load(json_file)"
   ]
  },
  {
   "cell_type": "code",
   "execution_count": 42,
   "metadata": {},
   "outputs": [
    {
     "data": {
      "text/plain": [
       "{'alternatives': ['Denton, Texas'],\n",
       " 'description': 'city in Texas, United States',\n",
       " 'label': 'Denton',\n",
       " 'wikidata_id': 'Q128306',\n",
       " 'wikipedia': 'https://en.wikipedia.org/wiki/Denton,_Texas'}"
      ]
     },
     "execution_count": 42,
     "metadata": {},
     "output_type": "execute_result"
    }
   ],
   "source": [
    "data_map['/m/010016']"
   ]
  },
  {
   "cell_type": "code",
   "execution_count": 43,
   "metadata": {},
   "outputs": [
    {
     "data": {
      "text/plain": [
       "14515"
      ]
     },
     "execution_count": 43,
     "metadata": {},
     "output_type": "execute_result"
    }
   ],
   "source": [
    "len(data_map)"
   ]
  },
  {
   "cell_type": "markdown",
   "metadata": {},
   "source": [
    "## Read train, valid, test data:"
   ]
  },
  {
   "cell_type": "code",
   "execution_count": 44,
   "metadata": {},
   "outputs": [],
   "source": [
    "def file_process(fname, list_of_triples, set_of_entity, set_of_rel, json_map):\n",
    "    \"\"\" \n",
    "        Get List of triples with names, set of entity names,\n",
    "        set of relation names.\n",
    "    \"\"\"\n",
    "    \n",
    "    with open(fname) as f: \n",
    "        for i, line in enumerate(f):\n",
    "            sub, rel, obj = line.split()\n",
    "            # why try? -> some sub and obj are not in a json_map!!!! and we skip them\n",
    "            try:\n",
    "                set_of_entity.add(json_map[sub]['label'])\n",
    "                set_of_entity.add(json_map[obj]['label'])\n",
    "                set_of_rel.add(rel)\n",
    "                list_of_triples.append((json_map[sub]['label'], rel, json_map[obj]['label']))\n",
    "            except:\n",
    "            #    print (i)\n",
    "                continue\n",
    "            \n",
    "    return i + 1"
   ]
  },
  {
   "cell_type": "markdown",
   "metadata": {},
   "source": [
    "### Train:"
   ]
  },
  {
   "cell_type": "code",
   "execution_count": 45,
   "metadata": {},
   "outputs": [
    {
     "name": "stdout",
     "output_type": "stream",
     "text": [
      "267189 14206 235\n"
     ]
    }
   ],
   "source": [
    "list_of_triples_train =[]\n",
    "set_of_entity_train = set()\n",
    "set_of_rel_train = set()\n",
    "\n",
    "file_process(\n",
    "    path + 'train.txt', list_of_triples_train,\n",
    "    set_of_entity_train, set_of_rel_train, data_map,\n",
    ")\n",
    "print (len(list_of_triples_train), len(set_of_entity_train), len(set_of_rel_train))"
   ]
  },
  {
   "cell_type": "markdown",
   "metadata": {},
   "source": [
    "### Valid:"
   ]
  },
  {
   "cell_type": "code",
   "execution_count": 46,
   "metadata": {},
   "outputs": [
    {
     "name": "stdout",
     "output_type": "stream",
     "text": [
      "17087 9689 221\n"
     ]
    }
   ],
   "source": [
    "list_of_triples_valid =[]\n",
    "set_of_entity_valid = set()\n",
    "set_of_rel_valid = set()\n",
    "\n",
    "file_process(\n",
    "    path + 'valid.txt', list_of_triples_valid,\n",
    "    set_of_entity_valid, set_of_rel_valid, data_map,\n",
    ")\n",
    "print(len(list_of_triples_valid), len(set_of_entity_valid), len(set_of_rel_valid))"
   ]
  },
  {
   "cell_type": "markdown",
   "metadata": {},
   "source": [
    "### Test:"
   ]
  },
  {
   "cell_type": "code",
   "execution_count": 47,
   "metadata": {},
   "outputs": [
    {
     "name": "stdout",
     "output_type": "stream",
     "text": [
      "19929 10215 222\n"
     ]
    }
   ],
   "source": [
    "list_of_triples_test =[]\n",
    "set_of_entity_test = set()\n",
    "set_of_rel_test = set()\n",
    "\n",
    "file_process(\n",
    "    path + 'test.txt', list_of_triples_test,\n",
    "    set_of_entity_test, set_of_rel_test, data_map,\n",
    ")\n",
    "print(len(list_of_triples_test), len(set_of_entity_test), len(set_of_rel_test))"
   ]
  },
  {
   "cell_type": "markdown",
   "metadata": {},
   "source": [
    "## Check entity and relation sets:"
   ]
  },
  {
   "cell_type": "markdown",
   "metadata": {},
   "source": [
    "### Erase repeating triples in a concrete set:"
   ]
  },
  {
   "cell_type": "markdown",
   "metadata": {},
   "source": [
    "#### Train:"
   ]
  },
  {
   "cell_type": "code",
   "execution_count": 48,
   "metadata": {},
   "outputs": [
    {
     "data": {
      "text/plain": [
       "266655"
      ]
     },
     "execution_count": 48,
     "metadata": {},
     "output_type": "execute_result"
    }
   ],
   "source": [
    "train = set()\n",
    "for triple in list_of_triples_train:\n",
    "    train.add(triple)\n",
    "\n",
    "len(train)"
   ]
  },
  {
   "cell_type": "markdown",
   "metadata": {},
   "source": [
    "#### Valid:"
   ]
  },
  {
   "cell_type": "code",
   "execution_count": 49,
   "metadata": {},
   "outputs": [
    {
     "data": {
      "text/plain": [
       "17080"
      ]
     },
     "execution_count": 49,
     "metadata": {},
     "output_type": "execute_result"
    }
   ],
   "source": [
    "valid = set()\n",
    "for triple in list_of_triples_valid:\n",
    "    valid.add(triple)\n",
    "    \n",
    "len(valid)"
   ]
  },
  {
   "cell_type": "markdown",
   "metadata": {},
   "source": [
    "#### Test:"
   ]
  },
  {
   "cell_type": "code",
   "execution_count": 50,
   "metadata": {},
   "outputs": [
    {
     "data": {
      "text/plain": [
       "19922"
      ]
     },
     "execution_count": 50,
     "metadata": {},
     "output_type": "execute_result"
    }
   ],
   "source": [
    "test = set()\n",
    "for triple in list_of_triples_test:\n",
    "    test.add(triple)\n",
    "    \n",
    "len(test)"
   ]
  },
  {
   "cell_type": "markdown",
   "metadata": {},
   "source": [
    "### Erase repeated triples in train/test/valid:"
   ]
  },
  {
   "cell_type": "markdown",
   "metadata": {},
   "source": [
    "#### Train/Valid:"
   ]
  },
  {
   "cell_type": "code",
   "execution_count": 51,
   "metadata": {},
   "outputs": [
    {
     "data": {
      "text/plain": [
       "83"
      ]
     },
     "execution_count": 51,
     "metadata": {},
     "output_type": "execute_result"
    }
   ],
   "source": [
    "len(train.intersection(valid))"
   ]
  },
  {
   "cell_type": "code",
   "execution_count": 52,
   "metadata": {},
   "outputs": [
    {
     "data": {
      "text/plain": [
       "266572"
      ]
     },
     "execution_count": 52,
     "metadata": {},
     "output_type": "execute_result"
    }
   ],
   "source": [
    "train = train.difference(valid)\n",
    "len(train)"
   ]
  },
  {
   "cell_type": "code",
   "execution_count": 53,
   "metadata": {},
   "outputs": [
    {
     "data": {
      "text/plain": [
       "0"
      ]
     },
     "execution_count": 53,
     "metadata": {},
     "output_type": "execute_result"
    }
   ],
   "source": [
    "len(train.intersection(valid))"
   ]
  },
  {
   "cell_type": "markdown",
   "metadata": {},
   "source": [
    "#### Train/Test:"
   ]
  },
  {
   "cell_type": "code",
   "execution_count": 54,
   "metadata": {},
   "outputs": [
    {
     "data": {
      "text/plain": [
       "87"
      ]
     },
     "execution_count": 54,
     "metadata": {},
     "output_type": "execute_result"
    }
   ],
   "source": [
    "len(train.intersection(test))"
   ]
  },
  {
   "cell_type": "code",
   "execution_count": 55,
   "metadata": {},
   "outputs": [
    {
     "data": {
      "text/plain": [
       "266485"
      ]
     },
     "execution_count": 55,
     "metadata": {},
     "output_type": "execute_result"
    }
   ],
   "source": [
    "train = train.difference(test)\n",
    "len(train)"
   ]
  },
  {
   "cell_type": "code",
   "execution_count": 56,
   "metadata": {},
   "outputs": [
    {
     "data": {
      "text/plain": [
       "0"
      ]
     },
     "execution_count": 56,
     "metadata": {},
     "output_type": "execute_result"
    }
   ],
   "source": [
    "len(train.intersection(test))"
   ]
  },
  {
   "cell_type": "markdown",
   "metadata": {},
   "source": [
    "#### Valid/Test:"
   ]
  },
  {
   "cell_type": "code",
   "execution_count": 57,
   "metadata": {},
   "outputs": [
    {
     "data": {
      "text/plain": [
       "9"
      ]
     },
     "execution_count": 57,
     "metadata": {},
     "output_type": "execute_result"
    }
   ],
   "source": [
    "len(valid.intersection(test))"
   ]
  },
  {
   "cell_type": "code",
   "execution_count": 58,
   "metadata": {},
   "outputs": [
    {
     "data": {
      "text/plain": [
       "17071"
      ]
     },
     "execution_count": 58,
     "metadata": {},
     "output_type": "execute_result"
    }
   ],
   "source": [
    "valid = valid.difference(test)\n",
    "len(valid)"
   ]
  },
  {
   "cell_type": "code",
   "execution_count": 59,
   "metadata": {},
   "outputs": [
    {
     "data": {
      "text/plain": [
       "0"
      ]
     },
     "execution_count": 59,
     "metadata": {},
     "output_type": "execute_result"
    }
   ],
   "source": [
    "len(valid.intersection(test))"
   ]
  },
  {
   "cell_type": "markdown",
   "metadata": {},
   "source": [
    "#### All intersection?"
   ]
  },
  {
   "cell_type": "code",
   "execution_count": 60,
   "metadata": {},
   "outputs": [
    {
     "data": {
      "text/plain": [
       "0"
      ]
     },
     "execution_count": 60,
     "metadata": {},
     "output_type": "execute_result"
    }
   ],
   "source": [
    "len(train.intersection(valid).intersection(test))"
   ]
  },
  {
   "cell_type": "markdown",
   "metadata": {},
   "source": [
    "#### Make lists of train/valid/test:"
   ]
  },
  {
   "cell_type": "code",
   "execution_count": 61,
   "metadata": {},
   "outputs": [
    {
     "data": {
      "text/plain": [
       "266485"
      ]
     },
     "execution_count": 61,
     "metadata": {},
     "output_type": "execute_result"
    }
   ],
   "source": [
    "list_of_triples_train = list(train)\n",
    "len(list_of_triples_train)"
   ]
  },
  {
   "cell_type": "code",
   "execution_count": 62,
   "metadata": {},
   "outputs": [
    {
     "data": {
      "text/plain": [
       "17071"
      ]
     },
     "execution_count": 62,
     "metadata": {},
     "output_type": "execute_result"
    }
   ],
   "source": [
    "list_of_triples_valid = list(valid)\n",
    "len(list_of_triples_valid)"
   ]
  },
  {
   "cell_type": "code",
   "execution_count": 63,
   "metadata": {},
   "outputs": [
    {
     "data": {
      "text/plain": [
       "19922"
      ]
     },
     "execution_count": 63,
     "metadata": {},
     "output_type": "execute_result"
    }
   ],
   "source": [
    "list_of_triples_test = list(test)\n",
    "len(list_of_triples_test)"
   ]
  },
  {
   "cell_type": "markdown",
   "metadata": {},
   "source": [
    "### Erase \"cold\" triples based on entities and relations:"
   ]
  },
  {
   "cell_type": "markdown",
   "metadata": {},
   "source": [
    "#### train/test:"
   ]
  },
  {
   "cell_type": "code",
   "execution_count": 64,
   "metadata": {},
   "outputs": [
    {
     "data": {
      "text/plain": [
       "{'2008 Tour de France',\n",
       " '2009 Tour de France',\n",
       " 'Australian Greens',\n",
       " 'Australian Labor Party',\n",
       " 'James E. Sullivan Award',\n",
       " 'Kosi Zone',\n",
       " 'Lasker-DeBakey Clinical Medical Research Award',\n",
       " 'Nazism',\n",
       " 'Northern Dancer',\n",
       " 'Ocean Software',\n",
       " 'Ontario New Democratic Party',\n",
       " 'Padma Vibhushan',\n",
       " 'Pakistan Peoples Party',\n",
       " 'Pulitzer Prize for Music',\n",
       " 'South Island',\n",
       " 'Spinefarm Records',\n",
       " 'Tour de France',\n",
       " 'United National Party',\n",
       " 'Vice President of the United States',\n",
       " 'association football manager',\n",
       " 'asteroid',\n",
       " 'commissioner',\n",
       " 'curator',\n",
       " 'geometry',\n",
       " 'infectious disease',\n",
       " 'natural history',\n",
       " 'organization',\n",
       " 'productivity'}"
      ]
     },
     "execution_count": 64,
     "metadata": {},
     "output_type": "execute_result"
    }
   ],
   "source": [
    "diff_ent_test_train = set_of_entity_test.difference(set_of_entity_train)\n",
    "diff_ent_test_train"
   ]
  },
  {
   "cell_type": "code",
   "execution_count": 65,
   "metadata": {},
   "outputs": [
    {
     "data": {
      "text/plain": [
       "set()"
      ]
     },
     "execution_count": 65,
     "metadata": {},
     "output_type": "execute_result"
    }
   ],
   "source": [
    "diff_rel_test_train = set_of_rel_test.difference(set_of_rel_train)\n",
    "diff_rel_test_train"
   ]
  },
  {
   "cell_type": "code",
   "execution_count": 66,
   "metadata": {},
   "outputs": [
    {
     "data": {
      "text/plain": [
       "19902"
      ]
     },
     "execution_count": 66,
     "metadata": {},
     "output_type": "execute_result"
    }
   ],
   "source": [
    "one = [triple for triple in list_of_triples_test if triple[0] not in diff_ent_test_train]\n",
    "two = [triple for triple in one if triple[1] not in diff_rel_test_train]\n",
    "list_of_triples_test_updated = [triple for triple in two if triple[2] not in diff_ent_test_train]\n",
    "len(list_of_triples_test_updated)"
   ]
  },
  {
   "cell_type": "markdown",
   "metadata": {},
   "source": [
    "#### train/valid:"
   ]
  },
  {
   "cell_type": "code",
   "execution_count": 67,
   "metadata": {},
   "outputs": [
    {
     "data": {
      "text/plain": [
       "{'Daffy Duck',\n",
       " 'Governor of Massachusetts',\n",
       " 'New York State Senate',\n",
       " 'SkyTeam',\n",
       " 'South Island',\n",
       " 'mercenary',\n",
       " 'museum',\n",
       " 'planet'}"
      ]
     },
     "execution_count": 67,
     "metadata": {},
     "output_type": "execute_result"
    }
   ],
   "source": [
    "diff_ent_valid_train = set_of_entity_valid.difference(set_of_entity_train)\n",
    "diff_ent_valid_train"
   ]
  },
  {
   "cell_type": "code",
   "execution_count": 68,
   "metadata": {},
   "outputs": [
    {
     "data": {
      "text/plain": [
       "set()"
      ]
     },
     "execution_count": 68,
     "metadata": {},
     "output_type": "execute_result"
    }
   ],
   "source": [
    "diff_rel_valid_train = set_of_rel_valid.difference(set_of_rel_train)\n",
    "diff_rel_valid_train"
   ]
  },
  {
   "cell_type": "code",
   "execution_count": 69,
   "metadata": {},
   "outputs": [
    {
     "data": {
      "text/plain": [
       "17065"
      ]
     },
     "execution_count": 69,
     "metadata": {},
     "output_type": "execute_result"
    }
   ],
   "source": [
    "one = [triple for triple in list_of_triples_valid if triple[0] not in diff_ent_valid_train]\n",
    "two = [triple for triple in one if triple[1] not in diff_rel_valid_train]\n",
    "list_of_triples_valid_updated = [triple for triple in two if triple[2] not in diff_ent_valid_train]\n",
    "len(list_of_triples_valid_updated)"
   ]
  },
  {
   "cell_type": "markdown",
   "metadata": {},
   "source": [
    "## Let's look at the data:"
   ]
  },
  {
   "cell_type": "code",
   "execution_count": 70,
   "metadata": {},
   "outputs": [
    {
     "data": {
      "text/plain": [
       "14206"
      ]
     },
     "execution_count": 70,
     "metadata": {},
     "output_type": "execute_result"
    }
   ],
   "source": [
    "len(set_of_entity_train)"
   ]
  },
  {
   "cell_type": "code",
   "execution_count": 71,
   "metadata": {},
   "outputs": [
    {
     "data": {
      "text/plain": [
       "235"
      ]
     },
     "execution_count": 71,
     "metadata": {},
     "output_type": "execute_result"
    }
   ],
   "source": [
    "len(set_of_rel_train)"
   ]
  },
  {
   "cell_type": "markdown",
   "metadata": {},
   "source": [
    "## Create mapping from names to numerical identifiers:"
   ]
  },
  {
   "cell_type": "code",
   "execution_count": 72,
   "metadata": {},
   "outputs": [],
   "source": [
    "# Attach all the entities with their numerical identifiers:\n",
    "entity_to_ind = {elem: ind for ind, elem in enumerate(list(set_of_entity_train))}\n",
    "\n",
    "# Make a list of entities from a set:\n",
    "ind_to_entity = list(set_of_entity_train)"
   ]
  },
  {
   "cell_type": "code",
   "execution_count": 73,
   "metadata": {},
   "outputs": [],
   "source": [
    "# Attach all the relations with their numerical identifiers:\n",
    "rel_to_ind = { elem : ind for ind, elem in enumerate(list(set_of_rel_train))}\n",
    "\n",
    "# Make a list of relations from a set:\n",
    "ind_to_relation = list(set_of_rel_train)"
   ]
  },
  {
   "cell_type": "code",
   "execution_count": 74,
   "metadata": {},
   "outputs": [],
   "source": [
    "def create_list_of_inds(list_of_triples, rel_to_ind, entity_to_ind):\n",
    "    answer_list = [(entity_to_ind[elem[0]], rel_to_ind[elem[1]], entity_to_ind[elem[2]]) for elem in list_of_triples]\n",
    "    return answer_list"
   ]
  },
  {
   "cell_type": "markdown",
   "metadata": {},
   "source": [
    "### Train triples:"
   ]
  },
  {
   "cell_type": "code",
   "execution_count": 75,
   "metadata": {},
   "outputs": [
    {
     "data": {
      "text/plain": [
       "266485"
      ]
     },
     "execution_count": 75,
     "metadata": {},
     "output_type": "execute_result"
    }
   ],
   "source": [
    "inds_list_train = create_list_of_inds(list_of_triples_train, rel_to_ind, entity_to_ind)\n",
    "len(inds_list_train)"
   ]
  },
  {
   "cell_type": "markdown",
   "metadata": {},
   "source": [
    "### Valid triples:"
   ]
  },
  {
   "cell_type": "code",
   "execution_count": 76,
   "metadata": {},
   "outputs": [
    {
     "data": {
      "text/plain": [
       "17065"
      ]
     },
     "execution_count": 76,
     "metadata": {},
     "output_type": "execute_result"
    }
   ],
   "source": [
    "inds_list_valid = create_list_of_inds(list_of_triples_valid_updated, rel_to_ind, entity_to_ind)\n",
    "len(inds_list_valid)"
   ]
  },
  {
   "cell_type": "markdown",
   "metadata": {},
   "source": [
    "### Test triples:"
   ]
  },
  {
   "cell_type": "code",
   "execution_count": 77,
   "metadata": {},
   "outputs": [
    {
     "data": {
      "text/plain": [
       "19902"
      ]
     },
     "execution_count": 77,
     "metadata": {},
     "output_type": "execute_result"
    }
   ],
   "source": [
    "inds_list_test = create_list_of_inds(list_of_triples_test_updated, rel_to_ind, entity_to_ind)\n",
    "len(inds_list_test) "
   ]
  },
  {
   "cell_type": "markdown",
   "metadata": {},
   "source": [
    "### Save data triples:"
   ]
  },
  {
   "cell_type": "code",
   "execution_count": 78,
   "metadata": {},
   "outputs": [],
   "source": [
    "path = \"Link_Prediction_Data/FB15K237/\"\n",
    "pickle.dump(inds_list_train, open(path + 'train_triples', 'wb'))\n",
    "pickle.dump(inds_list_valid, open(path + 'valid_triples', 'wb'))\n",
    "pickle.dump(inds_list_test, open(path + 'test_triples', 'wb'))\n",
    "\n",
    "pickle.dump(ind_to_entity, open(path + 'entity_list', 'wb'))\n",
    "pickle.dump(ind_to_relation, open(path + 'relation_list', 'wb'))\n",
    "\n",
    "pickle.dump(entity_to_ind, open(path + 'entity_map', 'wb'))\n",
    "pickle.dump(rel_to_ind, open(path + 'relation_map', 'wb'))"
   ]
  }
 ],
 "metadata": {
  "kernelspec": {
   "display_name": "Python 3",
   "language": "python",
   "name": "python3"
  },
  "language_info": {
   "codemirror_mode": {
    "name": "ipython",
    "version": 3
   },
   "file_extension": ".py",
   "mimetype": "text/x-python",
   "name": "python",
   "nbconvert_exporter": "python",
   "pygments_lexer": "ipython3",
   "version": "3.7.4"
  }
 },
 "nbformat": 4,
 "nbformat_minor": 4
}
