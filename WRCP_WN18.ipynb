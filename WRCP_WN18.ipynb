{
 "cells": [
  {
   "cell_type": "code",
   "execution_count": 1,
   "metadata": {},
   "outputs": [],
   "source": [
    "import numpy as np\n",
    "import pandas as pd\n",
    "import matplotlib.pyplot as plt\n",
    "\n",
    "import pickle\n",
    "import time\n",
    "from ipypb import track\n",
    "\n",
    "import WRCP_ALS3 as wrcp\n",
    "from general_functions import sqrt_err_relative, check_coo_tensor, gen_coo_tensor\n",
    "from general_functions import create_filter, hr"
   ]
  },
  {
   "cell_type": "markdown",
   "metadata": {},
   "source": [
    "### Zero launch of a function(for NUMBA):"
   ]
  },
  {
   "cell_type": "code",
   "execution_count": 2,
   "metadata": {},
   "outputs": [],
   "source": [
    "init_shape = (100, 100, 10)\n",
    "coo, vals = gen_coo_tensor(init_shape, density=0.002)\n",
    "assert check_coo_tensor(coo)!= \"Bad\""
   ]
  },
  {
   "cell_type": "code",
   "execution_count": 4,
   "metadata": {},
   "outputs": [
    {
     "name": "stdout",
     "output_type": "stream",
     "text": [
      "0.215040576615822\n",
      "CPU times: user 9.02 ms, sys: 45 µs, total: 9.07 ms\n",
      "Wall time: 10.1 ms\n"
     ]
    }
   ],
   "source": [
    "%%time\n",
    "\n",
    "max_iter = 12\n",
    "rank = 5\n",
    "seed = 13\n",
    "\n",
    "a, b, c, _, _ = wrcp.wrcp_als3(\n",
    "    coo, vals, init_shape,\n",
    "    rank=rank,\n",
    "    l2=0.25,\n",
    "    max_iter=max_iter,\n",
    "    seed=seed,\n",
    "    show_iter=False,\n",
    "    it_over=False,\n",
    ")\n",
    "rerr = sqrt_err_relative(\n",
    "    coo, vals, init_shape, a, b, c,\n",
    ")\n",
    "print(rerr)"
   ]
  },
  {
   "cell_type": "markdown",
   "metadata": {},
   "source": [
    "### Load the data:"
   ]
  },
  {
   "cell_type": "code",
   "execution_count": 5,
   "metadata": {},
   "outputs": [],
   "source": [
    "path_data = \"Link_Prediction_Data/WN18/\"\n",
    "entity_list = pickle.load(open(path_data + 'entity_list', 'rb'))\n",
    "relation_list = pickle.load(open(path_data + 'relation_list', 'rb'))\n",
    "\n",
    "train_triples = pickle.load(open(path_data + 'train_triples', 'rb'))\n",
    "valid_triples = pickle.load(open(path_data + 'valid_triples', 'rb'))\n",
    "test_triples = pickle.load(open(path_data + 'test_triples', 'rb'))\n",
    "train_valid_triples = pickle.load(open(path_data + 'train_valid_triples', 'rb'))\n",
    "\n",
    "entity_map = pickle.load(open(path_data + 'entity_map', 'rb'))\n",
    "relation_map = pickle.load(open(path_data + 'relation_map', 'rb'))\n",
    "\n",
    "all_triples = train_valid_triples + test_triples"
   ]
  },
  {
   "cell_type": "code",
   "execution_count": 6,
   "metadata": {},
   "outputs": [
    {
     "name": "stdout",
     "output_type": "stream",
     "text": [
      "['00001740', '00001930', '00002137'] \n",
      " 40943\n"
     ]
    }
   ],
   "source": [
    "print(entity_list[:3], \"\\n\", len(entity_list))"
   ]
  },
  {
   "cell_type": "code",
   "execution_count": 7,
   "metadata": {},
   "outputs": [
    {
     "name": "stdout",
     "output_type": "stream",
     "text": [
      "['_also_see', '_derivationally_related_form', '_has_part'] \n",
      " 18\n"
     ]
    }
   ],
   "source": [
    "print(relation_list[:3], \"\\n\", len(relation_list))"
   ]
  },
  {
   "cell_type": "code",
   "execution_count": 8,
   "metadata": {},
   "outputs": [
    {
     "data": {
      "text/plain": [
       "141442"
      ]
     },
     "execution_count": 8,
     "metadata": {},
     "output_type": "execute_result"
    }
   ],
   "source": [
    "len(train_triples)"
   ]
  },
  {
   "cell_type": "code",
   "execution_count": 9,
   "metadata": {},
   "outputs": [
    {
     "data": {
      "text/plain": [
       "5000"
      ]
     },
     "execution_count": 9,
     "metadata": {},
     "output_type": "execute_result"
    }
   ],
   "source": [
    "len(valid_triples)"
   ]
  },
  {
   "cell_type": "code",
   "execution_count": 10,
   "metadata": {},
   "outputs": [
    {
     "data": {
      "text/plain": [
       "5000"
      ]
     },
     "execution_count": 10,
     "metadata": {},
     "output_type": "execute_result"
    }
   ],
   "source": [
    "len(test_triples)"
   ]
  },
  {
   "cell_type": "code",
   "execution_count": 11,
   "metadata": {},
   "outputs": [
    {
     "data": {
      "text/plain": [
       "146442"
      ]
     },
     "execution_count": 11,
     "metadata": {},
     "output_type": "execute_result"
    }
   ],
   "source": [
    "len(train_valid_triples)"
   ]
  },
  {
   "cell_type": "code",
   "execution_count": 12,
   "metadata": {},
   "outputs": [],
   "source": [
    "test_filter = create_filter(test_triples, all_triples)  \n",
    "valid_filter = create_filter(valid_triples, all_triples)  "
   ]
  },
  {
   "cell_type": "markdown",
   "metadata": {},
   "source": [
    "### Create Sparse COO Train Tensor:"
   ]
  },
  {
   "cell_type": "code",
   "execution_count": 13,
   "metadata": {},
   "outputs": [
    {
     "data": {
      "text/plain": [
       "(40943, 18, 40943)"
      ]
     },
     "execution_count": 13,
     "metadata": {},
     "output_type": "execute_result"
    }
   ],
   "source": [
    "values = [1] * len(train_triples)\n",
    "values = np.array(values, dtype=np.float64)\n",
    "\n",
    "coords = np.array(train_triples, dtype=np.int32)\n",
    "nnz = len(train_triples)\n",
    "data_shape = (len(entity_list), len(relation_list), len(entity_list))\n",
    "data_shape"
   ]
  },
  {
   "cell_type": "markdown",
   "metadata": {},
   "source": [
    "## WRCP-ALS3:"
   ]
  },
  {
   "cell_type": "code",
   "execution_count": 20,
   "metadata": {},
   "outputs": [],
   "source": [
    "max_iter = 2\n",
    "rank = 25\n",
    "l2 = 4e0\n",
    "seed = 1"
   ]
  },
  {
   "cell_type": "code",
   "execution_count": 21,
   "metadata": {},
   "outputs": [
    {
     "name": "stdout",
     "output_type": "stream",
     "text": [
      "CPU times: user 2min 25s, sys: 424 ms, total: 2min 26s\n",
      "Wall time: 2min 25s\n"
     ]
    }
   ],
   "source": [
    "%%time\n",
    "a, b, c, err_arr, it = wrcp.wrcp_als3(\n",
    "    coords, values, data_shape,\n",
    "    rank=rank,\n",
    "    l2=l2,\n",
    "    max_iter=max_iter,\n",
    "    seed=seed,\n",
    "    show_iter=False,\n",
    "    it_over=False,\n",
    ")"
   ]
  },
  {
   "cell_type": "code",
   "execution_count": 22,
   "metadata": {},
   "outputs": [
    {
     "name": "stdout",
     "output_type": "stream",
     "text": [
      "Relative error = 0.37019343151519174\n"
     ]
    }
   ],
   "source": [
    "rerr = sqrt_err_relative(\n",
    "    coords, values, data_shape, a, b, c,\n",
    ")\n",
    "print(f\"Relative error = {rerr}\")"
   ]
  },
  {
   "cell_type": "code",
   "execution_count": 23,
   "metadata": {},
   "outputs": [
    {
     "data": {
      "text/plain": [
       "[<matplotlib.lines.Line2D at 0x7fe221d3fb90>]"
      ]
     },
     "execution_count": 23,
     "metadata": {},
     "output_type": "execute_result"
    },
    {
     "data": {
      "image/png": "[encoded data removed]",
      "text/plain": [
       "<Figure size 432x288 with 1 Axes>"
      ]
     },
     "metadata": {
      "needs_background": "light"
     },
     "output_type": "display_data"
    }
   ],
   "source": [
    "plt.xlabel(\"Iteration\")\n",
    "plt.ylabel(\"Relative error\")\n",
    "plt.title(f\"WN18 / WRCP-ALS3(R={rank})\")\n",
    "#plt.xticks(np.arange(it))\n",
    "plt.yscale(\"log\")\n",
    "plt.plot(np.arange(1, it+1), err_arr[:it], '-*', c=\"#8b0a50\")"
   ]
  },
  {
   "cell_type": "code",
   "execution_count": 24,
   "metadata": {},
   "outputs": [
    {
     "name": "stdout",
     "output_type": "stream",
     "text": [
      "CPU times: user 1min 4s, sys: 59.9 ms, total: 1min 4s\n",
      "Wall time: 1min 4s\n"
     ]
    },
    {
     "data": {
      "text/plain": [
       "(0.006, 0.0076, 0.0186, 0.009544136896692298)"
      ]
     },
     "execution_count": 24,
     "metadata": {},
     "output_type": "execute_result"
    }
   ],
   "source": [
    "%%time\n",
    "hr(valid_filter, valid_triples, a, b, c, [1, 3, 10])"
   ]
  },
  {
   "cell_type": "code",
   "execution_count": 25,
   "metadata": {},
   "outputs": [
    {
     "name": "stdout",
     "output_type": "stream",
     "text": [
      "CPU times: user 1min 2s, sys: 16 ms, total: 1min 2s\n",
      "Wall time: 1min 2s\n"
     ]
    },
    {
     "data": {
      "text/plain": [
       "(0.0066, 0.01, 0.0184, 0.010646935754665765)"
      ]
     },
     "execution_count": 25,
     "metadata": {},
     "output_type": "execute_result"
    }
   ],
   "source": [
    "%%time\n",
    "hr(test_filter, test_triples, a, b, c, [1, 3, 10])"
   ]
  },
  {
   "cell_type": "code",
   "execution_count": 26,
   "metadata": {},
   "outputs": [
    {
     "name": "stdout",
     "output_type": "stream",
     "text": [
      "Iter 1; l2 0.01; seed 1; rerr 0.044586876318844275; hr10 0.0002\n",
      "Iter 1; l2 0.01; seed 2; rerr 0.046398351463148614; hr10 0.0012\n",
      "Iter 1; l2 0.01; seed 3; rerr 0.0417928811940498; hr10 0.0004\n",
      "Iter 1; l2 0.01; seed 4; rerr 0.04966587630686783; hr10 0.0006\n",
      "Iter 1; l2 0.01; seed 5; rerr 0.04370471002965868; hr10 0.0008\n",
      "Iter 1; l2 0.01; seed 13; rerr 0.047369789729526324; hr10 0.0012\n",
      "Iter 1; l2 0.01; seed 15; rerr 0.03944302433600558; hr10 0.001\n",
      "Iter 1; l2 0.01; seed 20; rerr 0.03838642111149637; hr10 0.0008\n",
      "Iter 1; l2 0.1; seed 1; rerr 0.05622159860753726; hr10 0.0002\n",
      "Iter 1; l2 0.1; seed 2; rerr 0.05850623550188731; hr10 0.0008\n",
      "Iter 1; l2 0.1; seed 3; rerr 0.053324349175273476; hr10 0.0002\n",
      "Iter 1; l2 0.1; seed 4; rerr 0.06123065079570946; hr10 0.0002\n",
      "Iter 1; l2 0.1; seed 5; rerr 0.057648419133066515; hr10 0.0002\n",
      "Iter 1; l2 0.1; seed 13; rerr 0.06076234539290392; hr10 0.0012\n",
      "Iter 1; l2 0.1; seed 15; rerr 0.051483034520534356; hr10 0.0002\n",
      "Iter 1; l2 0.1; seed 20; rerr 0.051488345885313785; hr10 0.0006\n",
      "Iter 1; l2 1.0; seed 1; rerr 0.45395164359702245; hr10 0.012\n",
      "Iter 1; l2 1.0; seed 2; rerr 0.4267306080516244; hr10 0.0156\n",
      "Iter 1; l2 1.0; seed 3; rerr 0.4430598206777499; hr10 0.0118\n",
      "Iter 1; l2 1.0; seed 4; rerr 0.4655320072087484; hr10 0.0112\n",
      "Iter 1; l2 1.0; seed 5; rerr 0.41654164785775544; hr10 0.011\n",
      "Iter 1; l2 1.0; seed 13; rerr 0.42731879211284196; hr10 0.0114\n",
      "Iter 1; l2 1.0; seed 15; rerr 0.4397091068101828; hr10 0.017\n",
      "Iter 1; l2 1.0; seed 20; rerr 0.42785523819046145; hr10 0.0144\n",
      "Iter 1; l2 2.0; seed 1; rerr 0.8838770235946289; hr10 0.0188\n",
      "Iter 1; l2 2.0; seed 2; rerr 0.8294102268222275; hr10 0.0178\n",
      "Iter 1; l2 2.0; seed 3; rerr 0.8854406881201787; hr10 0.0122\n",
      "Iter 1; l2 2.0; seed 4; rerr 0.869403259661652; hr10 0.0154\n",
      "Iter 1; l2 2.0; seed 5; rerr 0.8330085531879424; hr10 0.0112\n",
      "Iter 1; l2 2.0; seed 13; rerr 0.8271934587215971; hr10 0.013\n",
      "Iter 1; l2 2.0; seed 15; rerr 0.828533333395603; hr10 0.0114\n",
      "Iter 1; l2 2.0; seed 20; rerr 0.8424346018621734; hr10 0.012\n",
      "Iter 1; l2 3.0; seed 1; rerr 0.9793343184207246; hr10 0.0182\n",
      "Iter 1; l2 3.0; seed 2; rerr 0.9609111860638329; hr10 0.0144\n",
      "Iter 1; l2 3.0; seed 3; rerr 0.9800698130773883; hr10 0.013\n",
      "Iter 1; l2 3.0; seed 4; rerr 0.9694300087400475; hr10 0.015\n",
      "Iter 1; l2 3.0; seed 5; rerr 0.9584600990057425; hr10 0.0112\n",
      "Iter 1; l2 3.0; seed 13; rerr 0.9541165893739156; hr10 0.0126\n",
      "Iter 1; l2 3.0; seed 15; rerr 0.9547094218582641; hr10 0.0138\n",
      "Iter 1; l2 3.0; seed 20; rerr 0.9691305898490189; hr10 0.0144\n",
      "Iter 1; l2 4.0; seed 1; rerr 0.9961743143965871; hr10 0.0178\n",
      "Iter 1; l2 4.0; seed 2; rerr 0.9909976905333007; hr10 0.0152\n",
      "Iter 1; l2 4.0; seed 3; rerr 0.9964128671062857; hr10 0.0136\n",
      "Iter 1; l2 4.0; seed 4; rerr 0.9924757500843805; hr10 0.0142\n",
      "Iter 1; l2 4.0; seed 5; rerr 0.9897199640109665; hr10 0.0114\n",
      "Iter 1; l2 4.0; seed 13; rerr 0.9872956526834157; hr10 0.0128\n",
      "Iter 1; l2 4.0; seed 15; rerr 0.9884296161623387; hr10 0.0136\n",
      "Iter 1; l2 4.0; seed 20; rerr 0.993997223124743; hr10 0.0148\n",
      "Iter 1; l2 10.0; seed 1; rerr 0.9999927552042944; hr10 0.0176\n",
      "Iter 1; l2 10.0; seed 2; rerr 0.9999804033023011; hr10 0.0154\n",
      "Iter 1; l2 10.0; seed 3; rerr 0.9999934242424463; hr10 0.0138\n",
      "Iter 1; l2 10.0; seed 4; rerr 0.9999824272353488; hr10 0.0144\n",
      "Iter 1; l2 10.0; seed 5; rerr 0.9999764182763482; hr10 0.0106\n",
      "Iter 1; l2 10.0; seed 13; rerr 0.9999657799749907; hr10 0.0136\n",
      "Iter 1; l2 10.0; seed 15; rerr 0.9999734260143649; hr10 0.0134\n",
      "Iter 1; l2 10.0; seed 20; rerr 0.9999884025214976; hr10 0.0144\n",
      "Iter 2; l2 0.01; seed 1; rerr 0.004297777350305434; hr10 0.0008\n",
      "Iter 2; l2 0.01; seed 2; rerr 0.00412106191384942; hr10 0.0008\n",
      "Iter 2; l2 0.01; seed 3; rerr 0.0038035812813965717; hr10 0.0008\n",
      "Iter 2; l2 0.01; seed 4; rerr 0.0037698196641453943; hr10 0.0008\n",
      "Iter 2; l2 0.01; seed 5; rerr 0.004331580107286116; hr10 0.0012\n",
      "Iter 2; l2 0.01; seed 13; rerr 0.004829103508018455; hr10 0.0024\n",
      "Iter 2; l2 0.01; seed 15; rerr 0.003951743551746832; hr10 0.001\n",
      "Iter 2; l2 0.01; seed 20; rerr 0.004004358684583534; hr10 0.0002\n",
      "Iter 2; l2 0.1; seed 1; rerr 0.013537932180208996; hr10 0.0006\n",
      "Iter 2; l2 0.1; seed 2; rerr 0.011832894312770133; hr10 0.0016\n",
      "Iter 2; l2 0.1; seed 3; rerr 0.011983820317388533; hr10 0.0006\n",
      "Iter 2; l2 0.1; seed 4; rerr 0.011774947532926983; hr10 0.0008\n",
      "Iter 2; l2 0.1; seed 5; rerr 0.012527297710029302; hr10 0.0016\n",
      "Iter 2; l2 0.1; seed 13; rerr 0.01221457518792347; hr10 0.0018\n",
      "Iter 2; l2 0.1; seed 15; rerr 0.011578715469118492; hr10 0.002\n",
      "Iter 2; l2 0.1; seed 20; rerr 0.012852347921125877; hr10 0.0004\n",
      "Iter 2; l2 1.0; seed 1; rerr 0.1606992934246182; hr10 0.0138\n",
      "Iter 2; l2 1.0; seed 2; rerr 0.14878414443589982; hr10 0.0156\n",
      "Iter 2; l2 1.0; seed 3; rerr 0.1592613890348464; hr10 0.0162\n",
      "Iter 2; l2 1.0; seed 4; rerr 0.15529743822623293; hr10 0.0174\n",
      "Iter 2; l2 1.0; seed 5; rerr 0.15361074264113525; hr10 0.0112\n",
      "Iter 2; l2 1.0; seed 13; rerr 0.14792414999700737; hr10 0.0172\n",
      "Iter 2; l2 1.0; seed 15; rerr 0.1514709241257236; hr10 0.0184\n",
      "Iter 2; l2 1.0; seed 20; rerr 0.1517495700150606; hr10 0.0158\n",
      "Iter 2; l2 2.0; seed 1; rerr 0.25988812917525717; hr10 0.0238\n",
      "Iter 2; l2 2.0; seed 2; rerr 0.2848017769642465; hr10 0.026\n",
      "Iter 2; l2 2.0; seed 3; rerr 0.26078454452746996; hr10 0.0206\n",
      "Iter 2; l2 2.0; seed 4; rerr 0.2787512622153175; hr10 0.0262\n",
      "Iter 2; l2 2.0; seed 5; rerr 0.26691566298319064; hr10 0.0178\n",
      "Iter 2; l2 2.0; seed 13; rerr 0.28137810607924246; hr10 0.0204\n",
      "Iter 2; l2 2.0; seed 15; rerr 0.2840336406671327; hr10 0.0224\n",
      "Iter 2; l2 2.0; seed 20; rerr 0.26391658723303246; hr10 0.023\n",
      "Iter 2; l2 3.0; seed 1; rerr 0.5489343982881865; hr10 0.0186\n",
      "Iter 2; l2 3.0; seed 2; rerr 0.4942492825545847; hr10 0.0354\n",
      "Iter 2; l2 3.0; seed 3; rerr 0.5490635540603245; hr10 0.0266\n",
      "Iter 2; l2 3.0; seed 4; rerr 0.5407420648932115; hr10 0.0262\n",
      "Iter 2; l2 3.0; seed 5; rerr 0.4921862851041016; hr10 0.0204\n",
      "Iter 2; l2 3.0; seed 13; rerr 0.49258707399049745; hr10 0.0234\n",
      "Iter 2; l2 3.0; seed 15; rerr 0.5138337607368264; hr10 0.032\n",
      "Iter 2; l2 3.0; seed 20; rerr 0.5084266640659566; hr10 0.0312\n",
      "Iter 2; l2 4.0; seed 1; rerr 0.8818314448466803; hr10 0.0166\n",
      "Iter 2; l2 4.0; seed 2; rerr 0.7768721807174864; hr10 0.0226\n",
      "Iter 2; l2 4.0; seed 3; rerr 0.8880789848485199; hr10 0.0094\n",
      "Iter 2; l2 4.0; seed 4; rerr 0.8369360969869617; hr10 0.0218\n",
      "Iter 2; l2 4.0; seed 5; rerr 0.7943206179689665; hr10 0.0128\n",
      "Iter 2; l2 4.0; seed 13; rerr 0.7483809603940139; hr10 0.0196\n",
      "Iter 2; l2 4.0; seed 15; rerr 0.7959503356469767; hr10 0.017\n",
      "Iter 2; l2 4.0; seed 20; rerr 0.7976949705718596; hr10 0.019\n",
      "Iter 2; l2 10.0; seed 1; rerr 0.9999999974918221; hr10 0.0154\n",
      "Iter 2; l2 10.0; seed 2; rerr 0.9999998088696574; hr10 0.015\n",
      "Iter 2; l2 10.0; seed 3; rerr 0.999999999273495; hr10 0.0106\n",
      "Iter 2; l2 10.0; seed 4; rerr 0.9999995036196266; hr10 0.0204\n",
      "Iter 2; l2 10.0; seed 5; rerr 0.9999994980031434; hr10 0.0124\n",
      "Iter 2; l2 10.0; seed 13; rerr 0.9999919201668274; hr10 0.0154\n",
      "Iter 2; l2 10.0; seed 15; rerr 0.9999997839816783; hr10 0.0164\n",
      "Iter 2; l2 10.0; seed 20; rerr 0.9999999901580449; hr10 0.0122\n",
      "Iter 3; l2 0.01; seed 1; rerr 0.0031933592950969965; hr10 0.0008\n",
      "Iter 3; l2 0.01; seed 2; rerr 0.002887325141481784; hr10 0.0012\n",
      "Iter 3; l2 0.01; seed 3; rerr 0.002843723822930761; hr10 0.001\n",
      "Iter 3; l2 0.01; seed 4; rerr 0.0027505274091845244; hr10 0.0016\n",
      "Iter 3; l2 0.01; seed 5; rerr 0.0031649585896346252; hr10 0.0022\n",
      "Iter 3; l2 0.01; seed 13; rerr 0.0035912788366589754; hr10 0.0022\n",
      "Iter 3; l2 0.01; seed 15; rerr 0.003001413136071285; hr10 0.0014\n",
      "Iter 3; l2 0.01; seed 20; rerr 0.0030764297053689016; hr10 0.0002\n",
      "Iter 3; l2 0.1; seed 1; rerr 0.011561370608931266; hr10 0.0024\n",
      "Iter 3; l2 0.1; seed 2; rerr 0.00999304377990902; hr10 0.0018\n",
      "Iter 3; l2 0.1; seed 3; rerr 0.010285011315574986; hr10 0.0016\n",
      "Iter 3; l2 0.1; seed 4; rerr 0.010033987276063574; hr10 0.0022\n",
      "Iter 3; l2 0.1; seed 5; rerr 0.010597529876955987; hr10 0.003\n",
      "Iter 3; l2 0.1; seed 13; rerr 0.010331427265440918; hr10 0.0024\n",
      "Iter 3; l2 0.1; seed 15; rerr 0.00967748220846172; hr10 0.0018\n",
      "Iter 3; l2 0.1; seed 20; rerr 0.010917156486034004; hr10 0.0012\n",
      "Iter 3; l2 1.0; seed 1; rerr 0.12274236667990149; hr10 0.0136\n",
      "Iter 3; l2 1.0; seed 2; rerr 0.11579723607813949; hr10 0.0174\n",
      "Iter 3; l2 1.0; seed 3; rerr 0.12315956428394109; hr10 0.0178\n",
      "Iter 3; l2 1.0; seed 4; rerr 0.11821687359800746; hr10 0.0176\n",
      "Iter 3; l2 1.0; seed 5; rerr 0.11886579848493377; hr10 0.014\n",
      "Iter 3; l2 1.0; seed 13; rerr 0.11537218426999267; hr10 0.0166\n",
      "Iter 3; l2 1.0; seed 15; rerr 0.11680014536977867; hr10 0.0182\n",
      "Iter 3; l2 1.0; seed 20; rerr 0.11846213869314202; hr10 0.017\n",
      "Iter 3; l2 2.0; seed 1; rerr 0.14279079320378332; hr10 0.0182\n",
      "Iter 3; l2 2.0; seed 2; rerr 0.1534511532324977; hr10 0.0222\n",
      "Iter 3; l2 2.0; seed 3; rerr 0.1421612669914136; hr10 0.0178\n",
      "Iter 3; l2 2.0; seed 4; rerr 0.14537873812282215; hr10 0.0202\n"
     ]
    },
    {
     "ename": "KeyboardInterrupt",
     "evalue": "",
     "output_type": "error",
     "traceback": [
      "\u001b[0;31m---------------------------------------------------------------------------\u001b[0m",
      "\u001b[0;31mKeyboardInterrupt\u001b[0m                         Traceback (most recent call last)",
      "\u001b[0;32m<ipython-input-26-c6ee90e949f9>\u001b[0m in \u001b[0;36m<module>\u001b[0;34m\u001b[0m\n\u001b[1;32m     21\u001b[0m \u001b[0;34m\u001b[0m\u001b[0m\n\u001b[1;32m     22\u001b[0m             hr1_test, hr3_test, hr10_test, mrr_test = hr(\n\u001b[0;32m---> 23\u001b[0;31m                 \u001b[0mtest_filter\u001b[0m\u001b[0;34m,\u001b[0m \u001b[0mtest_triples\u001b[0m\u001b[0;34m,\u001b[0m \u001b[0ma\u001b[0m\u001b[0;34m,\u001b[0m \u001b[0mb\u001b[0m\u001b[0;34m,\u001b[0m \u001b[0mc\u001b[0m\u001b[0;34m,\u001b[0m \u001b[0;34m[\u001b[0m\u001b[0;36m1\u001b[0m\u001b[0;34m,\u001b[0m \u001b[0;36m3\u001b[0m\u001b[0;34m,\u001b[0m \u001b[0;36m10\u001b[0m\u001b[0;34m]\u001b[0m\u001b[0;34m,\u001b[0m\u001b[0;34m\u001b[0m\u001b[0;34m\u001b[0m\u001b[0m\n\u001b[0m\u001b[1;32m     24\u001b[0m             )\n\u001b[1;32m     25\u001b[0m             \u001b[0mprint\u001b[0m\u001b[0;34m(\u001b[0m\u001b[0;34mf\"Iter {iterat}; l2 {l}; seed {s}; rerr {rerr}; hr10 {hr10_test}\"\u001b[0m\u001b[0;34m)\u001b[0m\u001b[0;34m\u001b[0m\u001b[0;34m\u001b[0m\u001b[0m\n",
      "\u001b[0;32m~/Tensors/Relations_Learning/general_functions.py\u001b[0m in \u001b[0;36mhr\u001b[0;34m(test_filter, test_triples, a, b, c, how_many, iter_show, freq)\u001b[0m\n\u001b[1;32m     53\u001b[0m \u001b[0;34m\u001b[0m\u001b[0m\n\u001b[1;32m     54\u001b[0m         \u001b[0;32mfor\u001b[0m \u001b[0mobj\u001b[0m \u001b[0;32min\u001b[0m \u001b[0mfilt\u001b[0m\u001b[0;34m:\u001b[0m\u001b[0;34m\u001b[0m\u001b[0;34m\u001b[0m\u001b[0m\n\u001b[0;32m---> 55\u001b[0;31m             \u001b[0mtop\u001b[0m\u001b[0;34m.\u001b[0m\u001b[0mremove\u001b[0m\u001b[0;34m(\u001b[0m\u001b[0mobj\u001b[0m\u001b[0;34m)\u001b[0m\u001b[0;34m\u001b[0m\u001b[0;34m\u001b[0m\u001b[0m\n\u001b[0m\u001b[1;32m     56\u001b[0m \u001b[0;34m\u001b[0m\u001b[0m\n\u001b[1;32m     57\u001b[0m         \u001b[0mind\u001b[0m \u001b[0;34m=\u001b[0m \u001b[0mtop\u001b[0m\u001b[0;34m.\u001b[0m\u001b[0mindex\u001b[0m\u001b[0;34m(\u001b[0m\u001b[0mr\u001b[0m\u001b[0;34m)\u001b[0m\u001b[0;34m\u001b[0m\u001b[0;34m\u001b[0m\u001b[0m\n",
      "\u001b[0;31mKeyboardInterrupt\u001b[0m: "
     ]
    }
   ],
   "source": [
    "max_iter = [1, 2, 3, 4, 5]\n",
    "rank = 25\n",
    "l2 = [1e-2, 1e-1, 1e0, 2e0, 3e0, 4e0, 10e0]\n",
    "seed = [1, 2, 3, 4, 5, 13, 15, 20]\n",
    "for iterat in max_iter:\n",
    "    for l in l2:\n",
    "        for s in seed:\n",
    "            a, b, c, err_arr, it = wrcp.wrcp_als3(\n",
    "                coords, values, data_shape,\n",
    "                rank=rank,\n",
    "                l2=l,\n",
    "                max_iter=iterat,\n",
    "                seed=s,\n",
    "                show_iter=False,\n",
    "                it_over=False,\n",
    "            ) \n",
    "            \n",
    "            rerr = sqrt_err_relative(\n",
    "                coords, values, data_shape, a, b, c,\n",
    "            )\n",
    "            \n",
    "            hr1_test, hr3_test, hr10_test, mrr_test = hr(\n",
    "                test_filter, test_triples, a, b, c, [1, 3, 10],\n",
    "            )\n",
    "            print(f\"Iter {iterat}; l2 {l}; seed {s}; rerr {rerr}; hr10 {hr10_test}\")"
   ]
  },
  {
   "cell_type": "markdown",
   "metadata": {},
   "source": [
    "## Find best parameters:"
   ]
  },
  {
   "cell_type": "code",
   "execution_count": 27,
   "metadata": {},
   "outputs": [],
   "source": [
    "ranks = (25, 50, 100, 200, 300, 400, 600)\n",
    "l2 = 3e0\n",
    "n_iter = 2\n",
    "seed = 2"
   ]
  },
  {
   "cell_type": "code",
   "execution_count": 28,
   "metadata": {},
   "outputs": [
    {
     "data": {
      "text/html": [
       "<div>\n",
       "<style scoped>\n",
       "    .dataframe tbody tr th:only-of-type {\n",
       "        vertical-align: middle;\n",
       "    }\n",
       "\n",
       "    .dataframe tbody tr th {\n",
       "        vertical-align: top;\n",
       "    }\n",
       "\n",
       "    .dataframe thead th {\n",
       "        text-align: right;\n",
       "    }\n",
       "</style>\n",
       "<table border=\"1\" class=\"dataframe\">\n",
       "  <thead>\n",
       "    <tr style=\"text-align: right;\">\n",
       "      <th></th>\n",
       "      <th>iter</th>\n",
       "      <th>rank</th>\n",
       "      <th>l2</th>\n",
       "      <th>time_train</th>\n",
       "      <th>time_hr</th>\n",
       "      <th>error</th>\n",
       "      <th>hr1_valid</th>\n",
       "      <th>hr1_test</th>\n",
       "      <th>hr3_valid</th>\n",
       "      <th>hr3_test</th>\n",
       "      <th>hr10_valid</th>\n",
       "      <th>hr10_test</th>\n",
       "      <th>mrr_valid</th>\n",
       "      <th>mrr_test</th>\n",
       "    </tr>\n",
       "  </thead>\n",
       "  <tbody>\n",
       "    <tr>\n",
       "      <td>1</td>\n",
       "      <td>0.0</td>\n",
       "      <td>0.0</td>\n",
       "      <td>0.0</td>\n",
       "      <td>0.0</td>\n",
       "      <td>0.0</td>\n",
       "      <td>0.0</td>\n",
       "      <td>0.0</td>\n",
       "      <td>0.0</td>\n",
       "      <td>0.0</td>\n",
       "      <td>0.0</td>\n",
       "      <td>0.0</td>\n",
       "      <td>0.0</td>\n",
       "      <td>0.0</td>\n",
       "      <td>0.0</td>\n",
       "    </tr>\n",
       "    <tr>\n",
       "      <td>2</td>\n",
       "      <td>0.0</td>\n",
       "      <td>0.0</td>\n",
       "      <td>0.0</td>\n",
       "      <td>0.0</td>\n",
       "      <td>0.0</td>\n",
       "      <td>0.0</td>\n",
       "      <td>0.0</td>\n",
       "      <td>0.0</td>\n",
       "      <td>0.0</td>\n",
       "      <td>0.0</td>\n",
       "      <td>0.0</td>\n",
       "      <td>0.0</td>\n",
       "      <td>0.0</td>\n",
       "      <td>0.0</td>\n",
       "    </tr>\n",
       "    <tr>\n",
       "      <td>3</td>\n",
       "      <td>0.0</td>\n",
       "      <td>0.0</td>\n",
       "      <td>0.0</td>\n",
       "      <td>0.0</td>\n",
       "      <td>0.0</td>\n",
       "      <td>0.0</td>\n",
       "      <td>0.0</td>\n",
       "      <td>0.0</td>\n",
       "      <td>0.0</td>\n",
       "      <td>0.0</td>\n",
       "      <td>0.0</td>\n",
       "      <td>0.0</td>\n",
       "      <td>0.0</td>\n",
       "      <td>0.0</td>\n",
       "    </tr>\n",
       "    <tr>\n",
       "      <td>4</td>\n",
       "      <td>0.0</td>\n",
       "      <td>0.0</td>\n",
       "      <td>0.0</td>\n",
       "      <td>0.0</td>\n",
       "      <td>0.0</td>\n",
       "      <td>0.0</td>\n",
       "      <td>0.0</td>\n",
       "      <td>0.0</td>\n",
       "      <td>0.0</td>\n",
       "      <td>0.0</td>\n",
       "      <td>0.0</td>\n",
       "      <td>0.0</td>\n",
       "      <td>0.0</td>\n",
       "      <td>0.0</td>\n",
       "    </tr>\n",
       "    <tr>\n",
       "      <td>5</td>\n",
       "      <td>0.0</td>\n",
       "      <td>0.0</td>\n",
       "      <td>0.0</td>\n",
       "      <td>0.0</td>\n",
       "      <td>0.0</td>\n",
       "      <td>0.0</td>\n",
       "      <td>0.0</td>\n",
       "      <td>0.0</td>\n",
       "      <td>0.0</td>\n",
       "      <td>0.0</td>\n",
       "      <td>0.0</td>\n",
       "      <td>0.0</td>\n",
       "      <td>0.0</td>\n",
       "      <td>0.0</td>\n",
       "    </tr>\n",
       "    <tr>\n",
       "      <td>6</td>\n",
       "      <td>0.0</td>\n",
       "      <td>0.0</td>\n",
       "      <td>0.0</td>\n",
       "      <td>0.0</td>\n",
       "      <td>0.0</td>\n",
       "      <td>0.0</td>\n",
       "      <td>0.0</td>\n",
       "      <td>0.0</td>\n",
       "      <td>0.0</td>\n",
       "      <td>0.0</td>\n",
       "      <td>0.0</td>\n",
       "      <td>0.0</td>\n",
       "      <td>0.0</td>\n",
       "      <td>0.0</td>\n",
       "    </tr>\n",
       "    <tr>\n",
       "      <td>7</td>\n",
       "      <td>0.0</td>\n",
       "      <td>0.0</td>\n",
       "      <td>0.0</td>\n",
       "      <td>0.0</td>\n",
       "      <td>0.0</td>\n",
       "      <td>0.0</td>\n",
       "      <td>0.0</td>\n",
       "      <td>0.0</td>\n",
       "      <td>0.0</td>\n",
       "      <td>0.0</td>\n",
       "      <td>0.0</td>\n",
       "      <td>0.0</td>\n",
       "      <td>0.0</td>\n",
       "      <td>0.0</td>\n",
       "    </tr>\n",
       "  </tbody>\n",
       "</table>\n",
       "</div>"
      ],
      "text/plain": [
       "   iter  rank   l2  time_train  time_hr  error  hr1_valid  hr1_test  \\\n",
       "1   0.0   0.0  0.0         0.0      0.0    0.0        0.0       0.0   \n",
       "2   0.0   0.0  0.0         0.0      0.0    0.0        0.0       0.0   \n",
       "3   0.0   0.0  0.0         0.0      0.0    0.0        0.0       0.0   \n",
       "4   0.0   0.0  0.0         0.0      0.0    0.0        0.0       0.0   \n",
       "5   0.0   0.0  0.0         0.0      0.0    0.0        0.0       0.0   \n",
       "6   0.0   0.0  0.0         0.0      0.0    0.0        0.0       0.0   \n",
       "7   0.0   0.0  0.0         0.0      0.0    0.0        0.0       0.0   \n",
       "\n",
       "   hr3_valid  hr3_test  hr10_valid  hr10_test  mrr_valid  mrr_test  \n",
       "1        0.0       0.0         0.0        0.0        0.0       0.0  \n",
       "2        0.0       0.0         0.0        0.0        0.0       0.0  \n",
       "3        0.0       0.0         0.0        0.0        0.0       0.0  \n",
       "4        0.0       0.0         0.0        0.0        0.0       0.0  \n",
       "5        0.0       0.0         0.0        0.0        0.0       0.0  \n",
       "6        0.0       0.0         0.0        0.0        0.0       0.0  \n",
       "7        0.0       0.0         0.0        0.0        0.0       0.0  "
      ]
     },
     "execution_count": 28,
     "metadata": {},
     "output_type": "execute_result"
    }
   ],
   "source": [
    "table_results = pd.DataFrame(\n",
    "    np.zeros((len(ranks), 14)),\n",
    "    index=[i for i in range(1, len(ranks) + 1)],\n",
    "    columns=(\"iter\", \"rank\", \"l2\", \"time_train\",\n",
    "             \"time_hr\", \"error\", \"hr1_valid\", \"hr1_test\",\n",
    "             \"hr3_valid\", \"hr3_test\", \"hr10_valid\", \"hr10_test\", \n",
    "             \"mrr_valid\", \"mrr_test\"),\n",
    ")\n",
    "table_results"
   ]
  },
  {
   "cell_type": "code",
   "execution_count": 29,
   "metadata": {},
   "outputs": [
    {
     "data": {
      "text/html": [
       "<div><span class=\"Text-label\" style=\"display:inline-block; overflow:hidden; white-space:nowrap; text-overflow:ellipsis; min-width:0; max-width:15ex; vertical-align:middle; text-align:right\"></span>\n",
       "<progress style=\"width:60ex\" max=\"7\" value=\"7\" class=\"Progress-main\"/></progress>\n",
       "<span class=\"Progress-label\"><strong>100%</strong></span>\n",
       "<span class=\"Iteration-label\">7/7</span>\n",
       "<span class=\"Time-label\">[04:33:41<02:27:41, 2345.89s/it]</span></div>"
      ],
      "text/plain": [
       "\u001b[A\u001b[2K\r",
       " [████████████████████████████████████████████████████████████] 7/7 [04:33:41<02:27:41, 2345.89s/it]"
      ]
     },
     "metadata": {},
     "output_type": "display_data"
    }
   ],
   "source": [
    "idx = 0\n",
    "for rank in track(ranks):\n",
    "    idx += 1\n",
    "    # Train model\n",
    "    start_tr = time.time()\n",
    "    a, b, c, err_arr, it = wrcp.wrcp_als3(\n",
    "        coords, values, data_shape,\n",
    "        rank=rank,\n",
    "        l2=l2,\n",
    "        max_iter=n_iter,\n",
    "        seed=seed,\n",
    "        show_iter=False,\n",
    "        it_over=False,\n",
    "    )\n",
    "    end_tr = time.time()\n",
    "            \n",
    "    # Find relative error\n",
    "    rerr = sqrt_err_relative(\n",
    "        coords, values, data_shape, a, b, c,\n",
    "    )\n",
    "    \n",
    "    # Find Hit Rate on a validation set\n",
    "    start_hr = time.time()\n",
    "    hr1_valid, hr3_valid, hr10_valid, mrr_valid = hr(\n",
    "        valid_filter, valid_triples, a, b, c, [1, 3, 10]\n",
    "    )\n",
    "    \n",
    "    # Find Hit Rate on a test set\n",
    "    hr1_test, hr3_test, hr10_test, mrr_test = hr(\n",
    "        test_filter, test_triples, a, b, c, [1, 3, 10]\n",
    "    )\n",
    "    end_hr = time.time()\n",
    "            \n",
    "    table_results.loc[idx][\"iter\"] = n_iter\n",
    "    table_results.loc[idx][\"rank\"] = rank\n",
    "    table_results.loc[idx][\"l2\"] = l2\n",
    "    table_results.loc[idx][\"time_train\"] = end_tr - start_tr\n",
    "    table_results.loc[idx][\"time_hr\"] = end_hr - start_hr\n",
    "    table_results.loc[idx][\"error\"] = rerr\n",
    "    \n",
    "    table_results.loc[idx][\"hr1_valid\"] = hr1_valid\n",
    "    table_results.loc[idx][\"hr1_test\"] = hr1_test\n",
    "    \n",
    "    table_results.loc[idx][\"hr3_valid\"] = hr3_valid\n",
    "    table_results.loc[idx][\"hr3_test\"] = hr3_test\n",
    "    \n",
    "    table_results.loc[idx][\"hr10_valid\"] = hr10_valid\n",
    "    table_results.loc[idx][\"hr10_test\"] = hr10_test\n",
    "    \n",
    "    table_results.loc[idx][\"mrr_valid\"] = mrr_valid\n",
    "    table_results.loc[idx][\"mrr_test\"] = mrr_test "
   ]
  },
  {
   "cell_type": "code",
   "execution_count": 30,
   "metadata": {},
   "outputs": [
    {
     "data": {
      "text/html": [
       "<div>\n",
       "<style scoped>\n",
       "    .dataframe tbody tr th:only-of-type {\n",
       "        vertical-align: middle;\n",
       "    }\n",
       "\n",
       "    .dataframe tbody tr th {\n",
       "        vertical-align: top;\n",
       "    }\n",
       "\n",
       "    .dataframe thead th {\n",
       "        text-align: right;\n",
       "    }\n",
       "</style>\n",
       "<table border=\"1\" class=\"dataframe\">\n",
       "  <thead>\n",
       "    <tr style=\"text-align: right;\">\n",
       "      <th></th>\n",
       "      <th>iter</th>\n",
       "      <th>rank</th>\n",
       "      <th>l2</th>\n",
       "      <th>time_train</th>\n",
       "      <th>time_hr</th>\n",
       "      <th>error</th>\n",
       "      <th>hr1_valid</th>\n",
       "      <th>hr1_test</th>\n",
       "      <th>hr3_valid</th>\n",
       "      <th>hr3_test</th>\n",
       "      <th>hr10_valid</th>\n",
       "      <th>hr10_test</th>\n",
       "      <th>mrr_valid</th>\n",
       "      <th>mrr_test</th>\n",
       "    </tr>\n",
       "  </thead>\n",
       "  <tbody>\n",
       "    <tr>\n",
       "      <td>1</td>\n",
       "      <td>2.0</td>\n",
       "      <td>25.0</td>\n",
       "      <td>3.0</td>\n",
       "      <td>78.475813</td>\n",
       "      <td>113.038850</td>\n",
       "      <td>0.494249</td>\n",
       "      <td>0.0112</td>\n",
       "      <td>0.0120</td>\n",
       "      <td>0.0178</td>\n",
       "      <td>0.0204</td>\n",
       "      <td>0.0308</td>\n",
       "      <td>0.0354</td>\n",
       "      <td>0.017554</td>\n",
       "      <td>0.019617</td>\n",
       "    </tr>\n",
       "    <tr>\n",
       "      <td>2</td>\n",
       "      <td>2.0</td>\n",
       "      <td>50.0</td>\n",
       "      <td>3.0</td>\n",
       "      <td>96.907700</td>\n",
       "      <td>135.724623</td>\n",
       "      <td>0.462726</td>\n",
       "      <td>0.0150</td>\n",
       "      <td>0.0124</td>\n",
       "      <td>0.0222</td>\n",
       "      <td>0.0174</td>\n",
       "      <td>0.0318</td>\n",
       "      <td>0.0300</td>\n",
       "      <td>0.021343</td>\n",
       "      <td>0.018476</td>\n",
       "    </tr>\n",
       "    <tr>\n",
       "      <td>3</td>\n",
       "      <td>2.0</td>\n",
       "      <td>100.0</td>\n",
       "      <td>3.0</td>\n",
       "      <td>203.526416</td>\n",
       "      <td>183.145085</td>\n",
       "      <td>0.449411</td>\n",
       "      <td>0.0070</td>\n",
       "      <td>0.0050</td>\n",
       "      <td>0.0154</td>\n",
       "      <td>0.0134</td>\n",
       "      <td>0.0242</td>\n",
       "      <td>0.0228</td>\n",
       "      <td>0.013403</td>\n",
       "      <td>0.011928</td>\n",
       "    </tr>\n",
       "    <tr>\n",
       "      <td>4</td>\n",
       "      <td>2.0</td>\n",
       "      <td>200.0</td>\n",
       "      <td>3.0</td>\n",
       "      <td>685.206816</td>\n",
       "      <td>326.373781</td>\n",
       "      <td>0.455659</td>\n",
       "      <td>0.0156</td>\n",
       "      <td>0.0144</td>\n",
       "      <td>0.0230</td>\n",
       "      <td>0.0230</td>\n",
       "      <td>0.0370</td>\n",
       "      <td>0.0380</td>\n",
       "      <td>0.022815</td>\n",
       "      <td>0.022534</td>\n",
       "    </tr>\n",
       "    <tr>\n",
       "      <td>5</td>\n",
       "      <td>2.0</td>\n",
       "      <td>300.0</td>\n",
       "      <td>3.0</td>\n",
       "      <td>1605.296109</td>\n",
       "      <td>445.614811</td>\n",
       "      <td>0.458242</td>\n",
       "      <td>0.0120</td>\n",
       "      <td>0.0120</td>\n",
       "      <td>0.0224</td>\n",
       "      <td>0.0246</td>\n",
       "      <td>0.0344</td>\n",
       "      <td>0.0398</td>\n",
       "      <td>0.020688</td>\n",
       "      <td>0.022955</td>\n",
       "    </tr>\n",
       "    <tr>\n",
       "      <td>6</td>\n",
       "      <td>2.0</td>\n",
       "      <td>400.0</td>\n",
       "      <td>3.0</td>\n",
       "      <td>3134.698787</td>\n",
       "      <td>551.552045</td>\n",
       "      <td>0.470979</td>\n",
       "      <td>0.0184</td>\n",
       "      <td>0.0198</td>\n",
       "      <td>0.0276</td>\n",
       "      <td>0.0298</td>\n",
       "      <td>0.0392</td>\n",
       "      <td>0.0434</td>\n",
       "      <td>0.026413</td>\n",
       "      <td>0.028456</td>\n",
       "    </tr>\n",
       "    <tr>\n",
       "      <td>7</td>\n",
       "      <td>2.0</td>\n",
       "      <td>600.0</td>\n",
       "      <td>3.0</td>\n",
       "      <td>8051.828079</td>\n",
       "      <td>808.912823</td>\n",
       "      <td>0.487731</td>\n",
       "      <td>0.0222</td>\n",
       "      <td>0.0242</td>\n",
       "      <td>0.0340</td>\n",
       "      <td>0.0346</td>\n",
       "      <td>0.0486</td>\n",
       "      <td>0.0528</td>\n",
       "      <td>0.031608</td>\n",
       "      <td>0.034004</td>\n",
       "    </tr>\n",
       "  </tbody>\n",
       "</table>\n",
       "</div>"
      ],
      "text/plain": [
       "   iter   rank   l2   time_train     time_hr     error  hr1_valid  hr1_test  \\\n",
       "1   2.0   25.0  3.0    78.475813  113.038850  0.494249     0.0112    0.0120   \n",
       "2   2.0   50.0  3.0    96.907700  135.724623  0.462726     0.0150    0.0124   \n",
       "3   2.0  100.0  3.0   203.526416  183.145085  0.449411     0.0070    0.0050   \n",
       "4   2.0  200.0  3.0   685.206816  326.373781  0.455659     0.0156    0.0144   \n",
       "5   2.0  300.0  3.0  1605.296109  445.614811  0.458242     0.0120    0.0120   \n",
       "6   2.0  400.0  3.0  3134.698787  551.552045  0.470979     0.0184    0.0198   \n",
       "7   2.0  600.0  3.0  8051.828079  808.912823  0.487731     0.0222    0.0242   \n",
       "\n",
       "   hr3_valid  hr3_test  hr10_valid  hr10_test  mrr_valid  mrr_test  \n",
       "1     0.0178    0.0204      0.0308     0.0354   0.017554  0.019617  \n",
       "2     0.0222    0.0174      0.0318     0.0300   0.021343  0.018476  \n",
       "3     0.0154    0.0134      0.0242     0.0228   0.013403  0.011928  \n",
       "4     0.0230    0.0230      0.0370     0.0380   0.022815  0.022534  \n",
       "5     0.0224    0.0246      0.0344     0.0398   0.020688  0.022955  \n",
       "6     0.0276    0.0298      0.0392     0.0434   0.026413  0.028456  \n",
       "7     0.0340    0.0346      0.0486     0.0528   0.031608  0.034004  "
      ]
     },
     "execution_count": 30,
     "metadata": {},
     "output_type": "execute_result"
    }
   ],
   "source": [
    "table_results"
   ]
  },
  {
   "cell_type": "code",
   "execution_count": 31,
   "metadata": {},
   "outputs": [],
   "source": [
    "table_results.to_csv(\"Link_Prediction_Factors/WN18/results.csv\")"
   ]
  },
  {
   "cell_type": "code",
   "execution_count": 32,
   "metadata": {},
   "outputs": [
    {
     "data": {
      "text/plain": [
       "[<matplotlib.lines.Line2D at 0x7fe225a9f7d0>]"
      ]
     },
     "execution_count": 32,
     "metadata": {},
     "output_type": "execute_result"
    },
    {
     "data": {
      "image/png": "[encoded data removed]",
      "text/plain": [
       "<Figure size 432x288 with 1 Axes>"
      ]
     },
     "metadata": {
      "needs_background": "light"
     },
     "output_type": "display_data"
    }
   ],
   "source": [
    "plt.xlabel(\"Rank\")\n",
    "plt.ylabel(\"HR@10\")\n",
    "plt.title(f\"WN18 / WRCP-ALS3\")\n",
    "plt.xticks(table_results['rank'])\n",
    "#plt.yscale(\"log\")\n",
    "plt.plot(table_results['rank'], table_results['hr10_test'], '-*', c=\"#8b0a50\")"
   ]
  },
  {
   "cell_type": "code",
   "execution_count": null,
   "metadata": {},
   "outputs": [],
   "source": []
  }
 ],
 "metadata": {
  "kernelspec": {
   "display_name": "Python 3",
   "language": "python",
   "name": "python3"
  },
  "language_info": {
   "codemirror_mode": {
    "name": "ipython",
    "version": 3
   },
   "file_extension": ".py",
   "mimetype": "text/x-python",
   "name": "python",
   "nbconvert_exporter": "python",
   "pygments_lexer": "ipython3",
   "version": "3.7.4"
  }
 },
 "nbformat": 4,
 "nbformat_minor": 4
}
