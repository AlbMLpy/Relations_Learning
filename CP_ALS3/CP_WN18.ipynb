{
 "cells": [
  {
   "cell_type": "code",
   "execution_count": 1,
   "metadata": {},
   "outputs": [],
   "source": [
    "import numpy as np\n",
    "import pandas as pd\n",
    "import matplotlib.pyplot as plt\n",
    "\n",
    "import pickle\n",
    "import time\n",
    "from ipypb import track\n",
    "\n",
    "import CP_ALS3 as cp\n",
    "from general_functions import sqrt_err_relative, check_coo_tensor, gen_coo_tensor\n",
    "from general_functions import create_filter, hr"
   ]
  },
  {
   "cell_type": "markdown",
   "metadata": {},
   "source": [
    "### Zero launch of a function(for NUMBA):"
   ]
  },
  {
   "cell_type": "code",
   "execution_count": 2,
   "metadata": {},
   "outputs": [],
   "source": [
    "init_shape = (100, 100, 10)\n",
    "coo, vals = gen_coo_tensor(init_shape, density=0.002)\n",
    "assert check_coo_tensor(coo)!= \"Bad\""
   ]
  },
  {
   "cell_type": "code",
   "execution_count": 4,
   "metadata": {},
   "outputs": [
    {
     "name": "stdout",
     "output_type": "stream",
     "text": [
      "0.9344570379265399\n",
      "CPU times: user 6.62 ms, sys: 81 µs, total: 6.7 ms\n",
      "Wall time: 6.31 ms\n"
     ]
    }
   ],
   "source": [
    "%%time\n",
    "\n",
    "max_iter = 12\n",
    "rank = 5\n",
    "seed = 13\n",
    "\n",
    "a, b, c, _, _ = cp.cp_als3(\n",
    "    coo, vals, init_shape,\n",
    "    rank=rank,\n",
    "    max_iter=max_iter,\n",
    "    seed=seed,\n",
    "    show_iter=False,\n",
    "    it_over=False,\n",
    ")\n",
    "\n",
    "rerr = sqrt_err_relative(\n",
    "    coo, vals, init_shape, a, b, c,\n",
    ")\n",
    "\n",
    "print(rerr)"
   ]
  },
  {
   "cell_type": "markdown",
   "metadata": {},
   "source": [
    "### Load the data:"
   ]
  },
  {
   "cell_type": "code",
   "execution_count": 5,
   "metadata": {},
   "outputs": [],
   "source": [
    "path_data = \"../Link_Prediction_Data/WN18/\"\n",
    "entity_list = pickle.load(open(path_data + 'entity_list', 'rb'))\n",
    "relation_list = pickle.load(open(path_data + 'relation_list', 'rb'))\n",
    "\n",
    "train_triples = pickle.load(open(path_data + 'train_triples', 'rb'))\n",
    "valid_triples = pickle.load(open(path_data + 'valid_triples', 'rb'))\n",
    "test_triples = pickle.load(open(path_data + 'test_triples', 'rb'))\n",
    "train_valid_triples = pickle.load(open(path_data + 'train_valid_triples', 'rb'))\n",
    "\n",
    "entity_map = pickle.load(open(path_data + 'entity_map', 'rb'))\n",
    "relation_map = pickle.load(open(path_data + 'relation_map', 'rb'))\n",
    "\n",
    "all_triples = train_valid_triples + test_triples"
   ]
  },
  {
   "cell_type": "code",
   "execution_count": 6,
   "metadata": {},
   "outputs": [],
   "source": [
    "test_filter = create_filter(test_triples, all_triples)  \n",
    "valid_filter = create_filter(valid_triples, all_triples) "
   ]
  },
  {
   "cell_type": "markdown",
   "metadata": {},
   "source": [
    "### Create Sparse COO Train Tensor:"
   ]
  },
  {
   "cell_type": "code",
   "execution_count": 7,
   "metadata": {},
   "outputs": [
    {
     "data": {
      "text/plain": [
       "(40943, 18, 40943)"
      ]
     },
     "execution_count": 7,
     "metadata": {},
     "output_type": "execute_result"
    }
   ],
   "source": [
    "values = [1] * len(train_triples)\n",
    "values = np.array(values, dtype=np.float64)\n",
    "\n",
    "coords = np.array(train_triples, dtype=np.int32)\n",
    "nnz = len(train_triples)\n",
    "data_shape = (len(entity_list), len(relation_list), len(entity_list))\n",
    "data_shape"
   ]
  },
  {
   "cell_type": "markdown",
   "metadata": {},
   "source": [
    "## CP-ALS3:"
   ]
  },
  {
   "cell_type": "code",
   "execution_count": 8,
   "metadata": {},
   "outputs": [],
   "source": [
    "max_iter = 2\n",
    "rank = 25\n",
    "seed = 13"
   ]
  },
  {
   "cell_type": "code",
   "execution_count": 10,
   "metadata": {},
   "outputs": [
    {
     "name": "stdout",
     "output_type": "stream",
     "text": [
      "CPU times: user 1.05 s, sys: 40 ms, total: 1.09 s\n",
      "Wall time: 608 ms\n"
     ]
    }
   ],
   "source": [
    "%%time\n",
    "a, b, c, err_arr, it = cp.cp_als3(\n",
    "    coords, values, data_shape,\n",
    "    rank=rank,\n",
    "    max_iter=max_iter,\n",
    "    seed=seed,\n",
    "    show_iter=False,\n",
    "    it_over=False,\n",
    ")"
   ]
  },
  {
   "cell_type": "code",
   "execution_count": 11,
   "metadata": {},
   "outputs": [
    {
     "name": "stdout",
     "output_type": "stream",
     "text": [
      "Relative error = 0.9795680613090133\n"
     ]
    }
   ],
   "source": [
    "rerr = sqrt_err_relative(\n",
    "    coords, values, data_shape, a, b, c,\n",
    ")\n",
    "print(f\"Relative error = {rerr}\")"
   ]
  },
  {
   "cell_type": "code",
   "execution_count": 12,
   "metadata": {},
   "outputs": [
    {
     "name": "stdout",
     "output_type": "stream",
     "text": [
      "CPU times: user 12.5 s, sys: 7.61 ms, total: 12.5 s\n",
      "Wall time: 12.5 s\n"
     ]
    },
    {
     "data": {
      "text/plain": [
       "(0.003, 0.014, 0.019, 0.010322424449526586)"
      ]
     },
     "execution_count": 12,
     "metadata": {},
     "output_type": "execute_result"
    }
   ],
   "source": [
    "%%time\n",
    "hr(valid_filter[:1000], valid_triples[:1000], a, b, c, [1, 3, 10])"
   ]
  },
  {
   "cell_type": "code",
   "execution_count": 17,
   "metadata": {},
   "outputs": [
    {
     "name": "stdout",
     "output_type": "stream",
     "text": [
      "CPU times: user 58.8 s, sys: 31.6 ms, total: 58.8 s\n",
      "Wall time: 58.8 s\n"
     ]
    },
    {
     "data": {
      "text/plain": [
       "(0.006, 0.0118, 0.0232, 0.011458663172838963)"
      ]
     },
     "execution_count": 17,
     "metadata": {},
     "output_type": "execute_result"
    }
   ],
   "source": [
    "%%time\n",
    "hr(test_filter[:1000], test_triples[:1000], a, b, c, [1, 3, 10])"
   ]
  },
  {
   "cell_type": "markdown",
   "metadata": {},
   "source": [
    "## Find best parameters:"
   ]
  },
  {
   "cell_type": "code",
   "execution_count": 18,
   "metadata": {},
   "outputs": [],
   "source": [
    "ranks = [i for i in range(2, 800, 2)]\n",
    "n_iter = 2\n",
    "seed = 13"
   ]
  },
  {
   "cell_type": "code",
   "execution_count": 19,
   "metadata": {},
   "outputs": [
    {
     "data": {
      "text/html": [
       "<div>\n",
       "<style scoped>\n",
       "    .dataframe tbody tr th:only-of-type {\n",
       "        vertical-align: middle;\n",
       "    }\n",
       "\n",
       "    .dataframe tbody tr th {\n",
       "        vertical-align: top;\n",
       "    }\n",
       "\n",
       "    .dataframe thead th {\n",
       "        text-align: right;\n",
       "    }\n",
       "</style>\n",
       "<table border=\"1\" class=\"dataframe\">\n",
       "  <thead>\n",
       "    <tr style=\"text-align: right;\">\n",
       "      <th></th>\n",
       "      <th>iter</th>\n",
       "      <th>rank</th>\n",
       "      <th>time_train</th>\n",
       "      <th>time_hr</th>\n",
       "      <th>error</th>\n",
       "      <th>hr1_valid</th>\n",
       "      <th>hr1_test</th>\n",
       "      <th>hr3_valid</th>\n",
       "      <th>hr3_test</th>\n",
       "      <th>hr10_valid</th>\n",
       "      <th>hr10_test</th>\n",
       "      <th>mrr_valid</th>\n",
       "      <th>mrr_test</th>\n",
       "    </tr>\n",
       "  </thead>\n",
       "  <tbody>\n",
       "    <tr>\n",
       "      <td>1</td>\n",
       "      <td>0.0</td>\n",
       "      <td>0.0</td>\n",
       "      <td>0.0</td>\n",
       "      <td>0.0</td>\n",
       "      <td>0.0</td>\n",
       "      <td>0.0</td>\n",
       "      <td>0.0</td>\n",
       "      <td>0.0</td>\n",
       "      <td>0.0</td>\n",
       "      <td>0.0</td>\n",
       "      <td>0.0</td>\n",
       "      <td>0.0</td>\n",
       "      <td>0.0</td>\n",
       "    </tr>\n",
       "    <tr>\n",
       "      <td>2</td>\n",
       "      <td>0.0</td>\n",
       "      <td>0.0</td>\n",
       "      <td>0.0</td>\n",
       "      <td>0.0</td>\n",
       "      <td>0.0</td>\n",
       "      <td>0.0</td>\n",
       "      <td>0.0</td>\n",
       "      <td>0.0</td>\n",
       "      <td>0.0</td>\n",
       "      <td>0.0</td>\n",
       "      <td>0.0</td>\n",
       "      <td>0.0</td>\n",
       "      <td>0.0</td>\n",
       "    </tr>\n",
       "    <tr>\n",
       "      <td>3</td>\n",
       "      <td>0.0</td>\n",
       "      <td>0.0</td>\n",
       "      <td>0.0</td>\n",
       "      <td>0.0</td>\n",
       "      <td>0.0</td>\n",
       "      <td>0.0</td>\n",
       "      <td>0.0</td>\n",
       "      <td>0.0</td>\n",
       "      <td>0.0</td>\n",
       "      <td>0.0</td>\n",
       "      <td>0.0</td>\n",
       "      <td>0.0</td>\n",
       "      <td>0.0</td>\n",
       "    </tr>\n",
       "    <tr>\n",
       "      <td>4</td>\n",
       "      <td>0.0</td>\n",
       "      <td>0.0</td>\n",
       "      <td>0.0</td>\n",
       "      <td>0.0</td>\n",
       "      <td>0.0</td>\n",
       "      <td>0.0</td>\n",
       "      <td>0.0</td>\n",
       "      <td>0.0</td>\n",
       "      <td>0.0</td>\n",
       "      <td>0.0</td>\n",
       "      <td>0.0</td>\n",
       "      <td>0.0</td>\n",
       "      <td>0.0</td>\n",
       "    </tr>\n",
       "    <tr>\n",
       "      <td>5</td>\n",
       "      <td>0.0</td>\n",
       "      <td>0.0</td>\n",
       "      <td>0.0</td>\n",
       "      <td>0.0</td>\n",
       "      <td>0.0</td>\n",
       "      <td>0.0</td>\n",
       "      <td>0.0</td>\n",
       "      <td>0.0</td>\n",
       "      <td>0.0</td>\n",
       "      <td>0.0</td>\n",
       "      <td>0.0</td>\n",
       "      <td>0.0</td>\n",
       "      <td>0.0</td>\n",
       "    </tr>\n",
       "    <tr>\n",
       "      <td>...</td>\n",
       "      <td>...</td>\n",
       "      <td>...</td>\n",
       "      <td>...</td>\n",
       "      <td>...</td>\n",
       "      <td>...</td>\n",
       "      <td>...</td>\n",
       "      <td>...</td>\n",
       "      <td>...</td>\n",
       "      <td>...</td>\n",
       "      <td>...</td>\n",
       "      <td>...</td>\n",
       "      <td>...</td>\n",
       "      <td>...</td>\n",
       "    </tr>\n",
       "    <tr>\n",
       "      <td>395</td>\n",
       "      <td>0.0</td>\n",
       "      <td>0.0</td>\n",
       "      <td>0.0</td>\n",
       "      <td>0.0</td>\n",
       "      <td>0.0</td>\n",
       "      <td>0.0</td>\n",
       "      <td>0.0</td>\n",
       "      <td>0.0</td>\n",
       "      <td>0.0</td>\n",
       "      <td>0.0</td>\n",
       "      <td>0.0</td>\n",
       "      <td>0.0</td>\n",
       "      <td>0.0</td>\n",
       "    </tr>\n",
       "    <tr>\n",
       "      <td>396</td>\n",
       "      <td>0.0</td>\n",
       "      <td>0.0</td>\n",
       "      <td>0.0</td>\n",
       "      <td>0.0</td>\n",
       "      <td>0.0</td>\n",
       "      <td>0.0</td>\n",
       "      <td>0.0</td>\n",
       "      <td>0.0</td>\n",
       "      <td>0.0</td>\n",
       "      <td>0.0</td>\n",
       "      <td>0.0</td>\n",
       "      <td>0.0</td>\n",
       "      <td>0.0</td>\n",
       "    </tr>\n",
       "    <tr>\n",
       "      <td>397</td>\n",
       "      <td>0.0</td>\n",
       "      <td>0.0</td>\n",
       "      <td>0.0</td>\n",
       "      <td>0.0</td>\n",
       "      <td>0.0</td>\n",
       "      <td>0.0</td>\n",
       "      <td>0.0</td>\n",
       "      <td>0.0</td>\n",
       "      <td>0.0</td>\n",
       "      <td>0.0</td>\n",
       "      <td>0.0</td>\n",
       "      <td>0.0</td>\n",
       "      <td>0.0</td>\n",
       "    </tr>\n",
       "    <tr>\n",
       "      <td>398</td>\n",
       "      <td>0.0</td>\n",
       "      <td>0.0</td>\n",
       "      <td>0.0</td>\n",
       "      <td>0.0</td>\n",
       "      <td>0.0</td>\n",
       "      <td>0.0</td>\n",
       "      <td>0.0</td>\n",
       "      <td>0.0</td>\n",
       "      <td>0.0</td>\n",
       "      <td>0.0</td>\n",
       "      <td>0.0</td>\n",
       "      <td>0.0</td>\n",
       "      <td>0.0</td>\n",
       "    </tr>\n",
       "    <tr>\n",
       "      <td>399</td>\n",
       "      <td>0.0</td>\n",
       "      <td>0.0</td>\n",
       "      <td>0.0</td>\n",
       "      <td>0.0</td>\n",
       "      <td>0.0</td>\n",
       "      <td>0.0</td>\n",
       "      <td>0.0</td>\n",
       "      <td>0.0</td>\n",
       "      <td>0.0</td>\n",
       "      <td>0.0</td>\n",
       "      <td>0.0</td>\n",
       "      <td>0.0</td>\n",
       "      <td>0.0</td>\n",
       "    </tr>\n",
       "  </tbody>\n",
       "</table>\n",
       "<p>399 rows × 13 columns</p>\n",
       "</div>"
      ],
      "text/plain": [
       "     iter  rank  time_train  time_hr  error  hr1_valid  hr1_test  hr3_valid  \\\n",
       "1     0.0   0.0         0.0      0.0    0.0        0.0       0.0        0.0   \n",
       "2     0.0   0.0         0.0      0.0    0.0        0.0       0.0        0.0   \n",
       "3     0.0   0.0         0.0      0.0    0.0        0.0       0.0        0.0   \n",
       "4     0.0   0.0         0.0      0.0    0.0        0.0       0.0        0.0   \n",
       "5     0.0   0.0         0.0      0.0    0.0        0.0       0.0        0.0   \n",
       "..    ...   ...         ...      ...    ...        ...       ...        ...   \n",
       "395   0.0   0.0         0.0      0.0    0.0        0.0       0.0        0.0   \n",
       "396   0.0   0.0         0.0      0.0    0.0        0.0       0.0        0.0   \n",
       "397   0.0   0.0         0.0      0.0    0.0        0.0       0.0        0.0   \n",
       "398   0.0   0.0         0.0      0.0    0.0        0.0       0.0        0.0   \n",
       "399   0.0   0.0         0.0      0.0    0.0        0.0       0.0        0.0   \n",
       "\n",
       "     hr3_test  hr10_valid  hr10_test  mrr_valid  mrr_test  \n",
       "1         0.0         0.0        0.0        0.0       0.0  \n",
       "2         0.0         0.0        0.0        0.0       0.0  \n",
       "3         0.0         0.0        0.0        0.0       0.0  \n",
       "4         0.0         0.0        0.0        0.0       0.0  \n",
       "5         0.0         0.0        0.0        0.0       0.0  \n",
       "..        ...         ...        ...        ...       ...  \n",
       "395       0.0         0.0        0.0        0.0       0.0  \n",
       "396       0.0         0.0        0.0        0.0       0.0  \n",
       "397       0.0         0.0        0.0        0.0       0.0  \n",
       "398       0.0         0.0        0.0        0.0       0.0  \n",
       "399       0.0         0.0        0.0        0.0       0.0  \n",
       "\n",
       "[399 rows x 13 columns]"
      ]
     },
     "execution_count": 19,
     "metadata": {},
     "output_type": "execute_result"
    }
   ],
   "source": [
    "table_results = pd.DataFrame(\n",
    "    np.zeros((len(ranks), 13)),\n",
    "    index=[i for i in range(1, len(ranks) + 1)],\n",
    "    columns=(\"iter\", \"rank\", \"time_train\",\n",
    "             \"time_hr\", \"error\", \"hr1_valid\", \"hr1_test\",\n",
    "             \"hr3_valid\", \"hr3_test\", \"hr10_valid\", \"hr10_test\", \n",
    "             \"mrr_valid\", \"mrr_test\"),\n",
    ")\n",
    "table_results"
   ]
  },
  {
   "cell_type": "markdown",
   "metadata": {},
   "source": [
    "# Check on 1000 test/valid triples!"
   ]
  },
  {
   "cell_type": "code",
   "execution_count": 20,
   "metadata": {},
   "outputs": [
    {
     "data": {
      "text/html": [
       "<div><span class=\"Text-label\" style=\"display:inline-block; overflow:hidden; white-space:nowrap; text-overflow:ellipsis; min-width:0; max-width:15ex; vertical-align:middle; text-align:right\"></span>\n",
       "<progress style=\"width:60ex\" max=\"399\" value=\"399\" class=\"Progress-main\"/></progress>\n",
       "<span class=\"Progress-label\"><strong>100%</strong></span>\n",
       "<span class=\"Iteration-label\">399/399</span>\n",
       "<span class=\"Time-label\">[13:18:41<03:59, 120.10s/it]</span></div>"
      ],
      "text/plain": [
       "\u001b[A\u001b[2K\r",
       " [████████████████████████████████████████████████████████████] 399/399 [13:18:41<03:59, 120.10s/it]"
      ]
     },
     "metadata": {},
     "output_type": "display_data"
    }
   ],
   "source": [
    "idx = 0\n",
    "for rank in track(ranks):\n",
    "    idx += 1\n",
    "    # Train model\n",
    "    start_tr = time.time()\n",
    "    a, b, c, err_arr, it = cp.cp_als3(\n",
    "        coords, values, data_shape,\n",
    "        rank=rank,\n",
    "        max_iter=n_iter,\n",
    "        seed=seed,\n",
    "        show_iter=False,\n",
    "        it_over=False,\n",
    "    )\n",
    "    end_tr = time.time()\n",
    "            \n",
    "    # Find relative error\n",
    "    rerr = sqrt_err_relative(\n",
    "        coords, values, data_shape, a, b, c,\n",
    "    )\n",
    "    \n",
    "    # Find Hit Rate on a validation set\n",
    "    start_hr = time.time()\n",
    "    hr1_valid, hr3_valid, hr10_valid, mrr_valid = hr(\n",
    "        valid_filter[:1000], valid_triples[:1000], a, b, c, [1, 3, 10]\n",
    "    )\n",
    "    \n",
    "    # Find Hit Rate on a test set\n",
    "    hr1_test, hr3_test, hr10_test, mrr_test = hr(\n",
    "        test_filter[:1000], test_triples[:1000], a, b, c, [1, 3, 10]\n",
    "    )\n",
    "    end_hr = time.time()\n",
    "            \n",
    "    table_results.loc[idx][\"iter\"] = n_iter\n",
    "    table_results.loc[idx][\"rank\"] = rank\n",
    "    table_results.loc[idx][\"time_train\"] = end_tr - start_tr\n",
    "    table_results.loc[idx][\"time_hr\"] = end_hr - start_hr\n",
    "    table_results.loc[idx][\"error\"] = rerr\n",
    "    \n",
    "    table_results.loc[idx][\"hr1_valid\"] = hr1_valid\n",
    "    table_results.loc[idx][\"hr1_test\"] = hr1_test\n",
    "    \n",
    "    table_results.loc[idx][\"hr3_valid\"] = hr3_valid\n",
    "    table_results.loc[idx][\"hr3_test\"] = hr3_test\n",
    "    \n",
    "    table_results.loc[idx][\"hr10_valid\"] = hr10_valid\n",
    "    table_results.loc[idx][\"hr10_test\"] = hr10_test\n",
    "    \n",
    "    table_results.loc[idx][\"mrr_valid\"] = mrr_valid\n",
    "    table_results.loc[idx][\"mrr_test\"] = mrr_test "
   ]
  },
  {
   "cell_type": "code",
   "execution_count": 21,
   "metadata": {},
   "outputs": [
    {
     "data": {
      "text/html": [
       "<div>\n",
       "<style scoped>\n",
       "    .dataframe tbody tr th:only-of-type {\n",
       "        vertical-align: middle;\n",
       "    }\n",
       "\n",
       "    .dataframe tbody tr th {\n",
       "        vertical-align: top;\n",
       "    }\n",
       "\n",
       "    .dataframe thead th {\n",
       "        text-align: right;\n",
       "    }\n",
       "</style>\n",
       "<table border=\"1\" class=\"dataframe\">\n",
       "  <thead>\n",
       "    <tr style=\"text-align: right;\">\n",
       "      <th></th>\n",
       "      <th>iter</th>\n",
       "      <th>rank</th>\n",
       "      <th>time_train</th>\n",
       "      <th>time_hr</th>\n",
       "      <th>error</th>\n",
       "      <th>hr1_valid</th>\n",
       "      <th>hr1_test</th>\n",
       "      <th>hr3_valid</th>\n",
       "      <th>hr3_test</th>\n",
       "      <th>hr10_valid</th>\n",
       "      <th>hr10_test</th>\n",
       "      <th>mrr_valid</th>\n",
       "      <th>mrr_test</th>\n",
       "    </tr>\n",
       "  </thead>\n",
       "  <tbody>\n",
       "    <tr>\n",
       "      <td>1</td>\n",
       "      <td>2.0</td>\n",
       "      <td>2.0</td>\n",
       "      <td>0.410404</td>\n",
       "      <td>22.195526</td>\n",
       "      <td>0.997775</td>\n",
       "      <td>0.001</td>\n",
       "      <td>0.001</td>\n",
       "      <td>0.008</td>\n",
       "      <td>0.004</td>\n",
       "      <td>0.015</td>\n",
       "      <td>0.011</td>\n",
       "      <td>0.005407</td>\n",
       "      <td>0.003768</td>\n",
       "    </tr>\n",
       "    <tr>\n",
       "      <td>2</td>\n",
       "      <td>2.0</td>\n",
       "      <td>4.0</td>\n",
       "      <td>0.492663</td>\n",
       "      <td>20.769506</td>\n",
       "      <td>0.994874</td>\n",
       "      <td>0.003</td>\n",
       "      <td>0.001</td>\n",
       "      <td>0.010</td>\n",
       "      <td>0.006</td>\n",
       "      <td>0.021</td>\n",
       "      <td>0.012</td>\n",
       "      <td>0.008421</td>\n",
       "      <td>0.004767</td>\n",
       "    </tr>\n",
       "    <tr>\n",
       "      <td>3</td>\n",
       "      <td>2.0</td>\n",
       "      <td>6.0</td>\n",
       "      <td>0.337187</td>\n",
       "      <td>22.169066</td>\n",
       "      <td>0.992716</td>\n",
       "      <td>0.006</td>\n",
       "      <td>0.001</td>\n",
       "      <td>0.012</td>\n",
       "      <td>0.008</td>\n",
       "      <td>0.024</td>\n",
       "      <td>0.017</td>\n",
       "      <td>0.010899</td>\n",
       "      <td>0.006119</td>\n",
       "    </tr>\n",
       "    <tr>\n",
       "      <td>4</td>\n",
       "      <td>2.0</td>\n",
       "      <td>8.0</td>\n",
       "      <td>0.357160</td>\n",
       "      <td>20.148408</td>\n",
       "      <td>0.990460</td>\n",
       "      <td>0.004</td>\n",
       "      <td>0.004</td>\n",
       "      <td>0.007</td>\n",
       "      <td>0.005</td>\n",
       "      <td>0.015</td>\n",
       "      <td>0.015</td>\n",
       "      <td>0.007749</td>\n",
       "      <td>0.006900</td>\n",
       "    </tr>\n",
       "    <tr>\n",
       "      <td>5</td>\n",
       "      <td>2.0</td>\n",
       "      <td>10.0</td>\n",
       "      <td>0.385883</td>\n",
       "      <td>20.242488</td>\n",
       "      <td>0.989678</td>\n",
       "      <td>0.003</td>\n",
       "      <td>0.003</td>\n",
       "      <td>0.008</td>\n",
       "      <td>0.006</td>\n",
       "      <td>0.020</td>\n",
       "      <td>0.014</td>\n",
       "      <td>0.008568</td>\n",
       "      <td>0.007605</td>\n",
       "    </tr>\n",
       "    <tr>\n",
       "      <td>...</td>\n",
       "      <td>...</td>\n",
       "      <td>...</td>\n",
       "      <td>...</td>\n",
       "      <td>...</td>\n",
       "      <td>...</td>\n",
       "      <td>...</td>\n",
       "      <td>...</td>\n",
       "      <td>...</td>\n",
       "      <td>...</td>\n",
       "      <td>...</td>\n",
       "      <td>...</td>\n",
       "      <td>...</td>\n",
       "      <td>...</td>\n",
       "    </tr>\n",
       "    <tr>\n",
       "      <td>395</td>\n",
       "      <td>2.0</td>\n",
       "      <td>790.0</td>\n",
       "      <td>28.781610</td>\n",
       "      <td>204.059340</td>\n",
       "      <td>0.895218</td>\n",
       "      <td>0.034</td>\n",
       "      <td>0.030</td>\n",
       "      <td>0.054</td>\n",
       "      <td>0.048</td>\n",
       "      <td>0.082</td>\n",
       "      <td>0.079</td>\n",
       "      <td>0.049443</td>\n",
       "      <td>0.045708</td>\n",
       "    </tr>\n",
       "    <tr>\n",
       "      <td>396</td>\n",
       "      <td>2.0</td>\n",
       "      <td>792.0</td>\n",
       "      <td>27.727134</td>\n",
       "      <td>204.237664</td>\n",
       "      <td>0.893609</td>\n",
       "      <td>0.034</td>\n",
       "      <td>0.035</td>\n",
       "      <td>0.058</td>\n",
       "      <td>0.052</td>\n",
       "      <td>0.079</td>\n",
       "      <td>0.081</td>\n",
       "      <td>0.050937</td>\n",
       "      <td>0.051441</td>\n",
       "    </tr>\n",
       "    <tr>\n",
       "      <td>397</td>\n",
       "      <td>2.0</td>\n",
       "      <td>794.0</td>\n",
       "      <td>28.942822</td>\n",
       "      <td>204.362836</td>\n",
       "      <td>0.895294</td>\n",
       "      <td>0.046</td>\n",
       "      <td>0.032</td>\n",
       "      <td>0.057</td>\n",
       "      <td>0.048</td>\n",
       "      <td>0.080</td>\n",
       "      <td>0.084</td>\n",
       "      <td>0.057608</td>\n",
       "      <td>0.047666</td>\n",
       "    </tr>\n",
       "    <tr>\n",
       "      <td>398</td>\n",
       "      <td>2.0</td>\n",
       "      <td>796.0</td>\n",
       "      <td>28.406990</td>\n",
       "      <td>205.033712</td>\n",
       "      <td>0.894815</td>\n",
       "      <td>0.034</td>\n",
       "      <td>0.035</td>\n",
       "      <td>0.048</td>\n",
       "      <td>0.048</td>\n",
       "      <td>0.075</td>\n",
       "      <td>0.077</td>\n",
       "      <td>0.047530</td>\n",
       "      <td>0.049055</td>\n",
       "    </tr>\n",
       "    <tr>\n",
       "      <td>399</td>\n",
       "      <td>2.0</td>\n",
       "      <td>798.0</td>\n",
       "      <td>29.621228</td>\n",
       "      <td>209.348421</td>\n",
       "      <td>0.894240</td>\n",
       "      <td>0.038</td>\n",
       "      <td>0.034</td>\n",
       "      <td>0.053</td>\n",
       "      <td>0.055</td>\n",
       "      <td>0.073</td>\n",
       "      <td>0.078</td>\n",
       "      <td>0.050757</td>\n",
       "      <td>0.050269</td>\n",
       "    </tr>\n",
       "  </tbody>\n",
       "</table>\n",
       "<p>399 rows × 13 columns</p>\n",
       "</div>"
      ],
      "text/plain": [
       "     iter   rank  time_train     time_hr     error  hr1_valid  hr1_test  \\\n",
       "1     2.0    2.0    0.410404   22.195526  0.997775      0.001     0.001   \n",
       "2     2.0    4.0    0.492663   20.769506  0.994874      0.003     0.001   \n",
       "3     2.0    6.0    0.337187   22.169066  0.992716      0.006     0.001   \n",
       "4     2.0    8.0    0.357160   20.148408  0.990460      0.004     0.004   \n",
       "5     2.0   10.0    0.385883   20.242488  0.989678      0.003     0.003   \n",
       "..    ...    ...         ...         ...       ...        ...       ...   \n",
       "395   2.0  790.0   28.781610  204.059340  0.895218      0.034     0.030   \n",
       "396   2.0  792.0   27.727134  204.237664  0.893609      0.034     0.035   \n",
       "397   2.0  794.0   28.942822  204.362836  0.895294      0.046     0.032   \n",
       "398   2.0  796.0   28.406990  205.033712  0.894815      0.034     0.035   \n",
       "399   2.0  798.0   29.621228  209.348421  0.894240      0.038     0.034   \n",
       "\n",
       "     hr3_valid  hr3_test  hr10_valid  hr10_test  mrr_valid  mrr_test  \n",
       "1        0.008     0.004       0.015      0.011   0.005407  0.003768  \n",
       "2        0.010     0.006       0.021      0.012   0.008421  0.004767  \n",
       "3        0.012     0.008       0.024      0.017   0.010899  0.006119  \n",
       "4        0.007     0.005       0.015      0.015   0.007749  0.006900  \n",
       "5        0.008     0.006       0.020      0.014   0.008568  0.007605  \n",
       "..         ...       ...         ...        ...        ...       ...  \n",
       "395      0.054     0.048       0.082      0.079   0.049443  0.045708  \n",
       "396      0.058     0.052       0.079      0.081   0.050937  0.051441  \n",
       "397      0.057     0.048       0.080      0.084   0.057608  0.047666  \n",
       "398      0.048     0.048       0.075      0.077   0.047530  0.049055  \n",
       "399      0.053     0.055       0.073      0.078   0.050757  0.050269  \n",
       "\n",
       "[399 rows x 13 columns]"
      ]
     },
     "execution_count": 21,
     "metadata": {},
     "output_type": "execute_result"
    }
   ],
   "source": [
    "table_results"
   ]
  },
  {
   "cell_type": "code",
   "execution_count": 31,
   "metadata": {},
   "outputs": [
    {
     "data": {
      "text/plain": [
       "[<matplotlib.lines.Line2D at 0x7f20f9f71750>]"
      ]
     },
     "execution_count": 31,
     "metadata": {},
     "output_type": "execute_result"
    },
    {
     "data": {
      "image/png": "[encoded data removed]",
      "text/plain": [
       "<Figure size 432x288 with 1 Axes>"
      ]
     },
     "metadata": {
      "needs_background": "light"
     },
     "output_type": "display_data"
    }
   ],
   "source": [
    "plt.xlabel(\"Rank\")\n",
    "plt.ylabel(\"HR@10\")\n",
    "plt.title(f\"WN18 / CP-ALS3\")\n",
    "#plt.xticks(table_results['rank'])\n",
    "#plt.yscale(\"log\")\n",
    "plt.plot(table_results['rank'][300:], table_results['hr10_test'][300:], '-*', c=\"#8b0a50\")"
   ]
  },
  {
   "cell_type": "code",
   "execution_count": 25,
   "metadata": {},
   "outputs": [],
   "source": [
    "table_results.to_csv(\"Results/CP_WN18_results(1000set).csv\")"
   ]
  },
  {
   "cell_type": "code",
   "execution_count": null,
   "metadata": {},
   "outputs": [],
   "source": []
  }
 ],
 "metadata": {
  "kernelspec": {
   "display_name": "Python 3",
   "language": "python",
   "name": "python3"
  },
  "language_info": {
   "codemirror_mode": {
    "name": "ipython",
    "version": 3
   },
   "file_extension": ".py",
   "mimetype": "text/x-python",
   "name": "python",
   "nbconvert_exporter": "python",
   "pygments_lexer": "ipython3",
   "version": "3.7.4"
  }
 },
 "nbformat": 4,
 "nbformat_minor": 4
}
