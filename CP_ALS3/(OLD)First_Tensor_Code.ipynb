{
 "cells": [
  {
   "cell_type": "code",
   "execution_count": 1,
   "metadata": {},
   "outputs": [],
   "source": [
    "import numpy as np\n",
    "from numba import jit"
   ]
  },
  {
   "cell_type": "markdown",
   "metadata": {},
   "source": [
    "## Random tensor generator:"
   ]
  },
  {
   "cell_type": "code",
   "execution_count": 2,
   "metadata": {},
   "outputs": [
    {
     "data": {
      "text/plain": [
       "(array([], shape=(0, 3), dtype=int64), array([], dtype=float64), 0)"
      ]
     },
     "execution_count": 2,
     "metadata": {},
     "output_type": "execute_result"
    }
   ],
   "source": [
    "@jit(nopython=True) \n",
    "def coo_generate(shape, density=0.02):\n",
    "    nnz = int(density * shape[0] * shape[1] * shape[2])\n",
    "    m = np.random.choice(shape[0], nnz)\n",
    "    n = np.random.choice(shape[1], nnz)\n",
    "    k = np.random.choice(shape[2], nnz)\n",
    "    vals = np.random.rand(nnz)\n",
    "    return np.vstack((m, n, k)).T, vals, nnz\n",
    "\n",
    "# first slow:(\n",
    "coo_generate((2,2,2))"
   ]
  },
  {
   "cell_type": "code",
   "execution_count": 3,
   "metadata": {},
   "outputs": [],
   "source": [
    "@jit(nopython=True) \n",
    "def check(coo, nnz):\n",
    "    count = 0\n",
    "    for i in range(nnz):\n",
    "        for j in range(nnz):\n",
    "            if (coo[i]==coo[j]).sum() == 3:\n",
    "                count += 1\n",
    "                if count > 1:\n",
    "                    return \"Bad\"\n",
    "        count = 0  "
   ]
  },
  {
   "cell_type": "code",
   "execution_count": 4,
   "metadata": {},
   "outputs": [],
   "source": [
    "init_shape = (500, 600, 700)\n",
    "coo, vals, nnz = coo_generate(init_shape, density=0.00002)"
   ]
  },
  {
   "cell_type": "code",
   "execution_count": 5,
   "metadata": {},
   "outputs": [
    {
     "data": {
      "text/plain": [
       "4200"
      ]
     },
     "execution_count": 5,
     "metadata": {},
     "output_type": "execute_result"
    }
   ],
   "source": [
    "nnz"
   ]
  },
  {
   "cell_type": "markdown",
   "metadata": {},
   "source": [
    "## CP-ALS3:"
   ]
  },
  {
   "cell_type": "code",
   "execution_count": 6,
   "metadata": {},
   "outputs": [],
   "source": [
    "@jit(nopython=True) \n",
    "def mttcrp(coo_tensor, vals, nnz, shape, mode, a, b):\n",
    "    temp = np.zeros(shape=(shape[mode], a.shape[1]))\n",
    "    \n",
    "    if mode == 0:\n",
    "        mode_a = 1 \n",
    "        mode_b = 2\n",
    "        \n",
    "    elif mode == 1:\n",
    "        mode_a = 0\n",
    "        mode_b = 2\n",
    "        \n",
    "    else:\n",
    "        mode_a = 0\n",
    "        mode_b = 1\n",
    "        \n",
    "    for item in range(nnz):\n",
    "        coord = coo_tensor[item]\n",
    "        temp[coord[mode], :] += a[coord[mode_a], :] * b[coord[mode_b], :] * vals[item] \n",
    "    \n",
    "    return temp"
   ]
  },
  {
   "cell_type": "code",
   "execution_count": 7,
   "metadata": {},
   "outputs": [
    {
     "data": {
      "text/plain": [
       "(array([[0, 1, 0]]), array([0.53835594]), 1)"
      ]
     },
     "execution_count": 7,
     "metadata": {},
     "output_type": "execute_result"
    }
   ],
   "source": [
    "@jit(nopython=True) \n",
    "def cp_als(coo_tensor, vals, nnz, shape, rank=5, max_iter=200, tol=1e-8):\n",
    "    a = np.random.rand(shape[0], rank)\n",
    "    b = np.random.rand(shape[1], rank)\n",
    "    c = np.random.rand(shape[2], rank)\n",
    "    \n",
    "    it = 0\n",
    "    err1 = 1.0\n",
    "    err2 = 0.0\n",
    "    while np.abs(err1 - err2) > tol:\n",
    "        v1 = b.T @ b\n",
    "        v2 = c.T @ c\n",
    "        v = v1 * v2\n",
    "        v = np.linalg.pinv(v)\n",
    "        a = mttcrp(coo_tensor, vals, nnz, shape, 0, b, c) @ v\n",
    "        \n",
    "        v1 = a.T @ a\n",
    "        v2 = c.T @ c\n",
    "        v = v1 * v2\n",
    "        v = np.linalg.pinv(v)\n",
    "        b = mttcrp(coo_tensor, vals, nnz, shape, 1, a, c) @ v\n",
    "        \n",
    "        v1 = a.T @ a\n",
    "        v2 = b.T @ b\n",
    "        v = v1 * v2\n",
    "        v = np.linalg.pinv(v)\n",
    "        c = mttcrp(coo_tensor, vals, nnz, shape, 2, a, b) @ v\n",
    "        \n",
    "        error = sqrt_err(coo_tensor, vals, nnz, shape, a, b, c)\n",
    "        err2 = err1\n",
    "        err1 = error\n",
    "        #print(error)\n",
    "        it += 1\n",
    "        if it == max_iter:\n",
    "            print(\"iterations over\")\n",
    "            break\n",
    "    \n",
    "    return a, b, c \n",
    "\n",
    "coo_generate((2, 2, 2), density=0.2)"
   ]
  },
  {
   "cell_type": "code",
   "execution_count": 8,
   "metadata": {},
   "outputs": [],
   "source": [
    "@jit(nopython=True) \n",
    "def sqrt_err(coo_tensor, vals, nnz, shape, a, b, c):\n",
    "    result = 0.0\n",
    "    for item in range(nnz):\n",
    "        coord = coo_tensor[item]\n",
    "        result += (vals[item] - np.sum(\n",
    "            a[coord[0], :] * b[coord[1], :] * c[coord[2], :]))**2)        \n",
    "    return np.sqrt(result)  "
   ]
  },
  {
   "cell_type": "code",
   "execution_count": 9,
   "metadata": {},
   "outputs": [],
   "source": [
    "init_shape = (100, 100, 100)\n",
    "coo, vals, nnz = coo_generate(init_shape, density=0.00002)\n",
    "assert check(coo, nnz)!= \"Bad\""
   ]
  },
  {
   "cell_type": "code",
   "execution_count": 10,
   "metadata": {},
   "outputs": [
    {
     "data": {
      "text/plain": [
       "20"
      ]
     },
     "execution_count": 10,
     "metadata": {},
     "output_type": "execute_result"
    }
   ],
   "source": [
    "nnz"
   ]
  },
  {
   "cell_type": "markdown",
   "metadata": {},
   "source": [
    "## Experiments:"
   ]
  },
  {
   "cell_type": "code",
   "execution_count": 11,
   "metadata": {},
   "outputs": [
    {
     "name": "stderr",
     "output_type": "stream",
     "text": [
      "<ipython-input-7-70b3129c5b92>:15: NumbaPerformanceWarning: \u001b[1m\u001b[1m'@' is faster on contiguous arrays, called on (array(float64, 2d, C), array(float64, 2d, A))\u001b[0m\u001b[0m\n",
      "  a = mttcrp(coo_tensor, vals, nnz, shape, 0, b, c) @ v\n",
      "<ipython-input-7-70b3129c5b92>:21: NumbaPerformanceWarning: \u001b[1m\u001b[1m'@' is faster on contiguous arrays, called on (array(float64, 2d, C), array(float64, 2d, A))\u001b[0m\u001b[0m\n",
      "  b = mttcrp(coo_tensor, vals, nnz, shape, 1, a, c) @ v\n",
      "<ipython-input-7-70b3129c5b92>:27: NumbaPerformanceWarning: \u001b[1m\u001b[1m'@' is faster on contiguous arrays, called on (array(float64, 2d, C), array(float64, 2d, A))\u001b[0m\u001b[0m\n",
      "  c = mttcrp(coo_tensor, vals, nnz, shape, 2, a, b) @ v\n",
      "/home/albert/anaconda3/lib/python3.7/site-packages/numba/typing/npydecl.py:967: NumbaPerformanceWarning: \u001b[1m'@' is faster on contiguous arrays, called on (array(float64, 2d, C), array(float64, 2d, A))\u001b[0m\n",
      "  warnings.warn(NumbaPerformanceWarning(msg))\n",
      "/home/albert/anaconda3/lib/python3.7/site-packages/numba/typing/npydecl.py:967: NumbaPerformanceWarning: \u001b[1m'@' is faster on contiguous arrays, called on (array(float64, 2d, C), array(float64, 2d, A))\u001b[0m\n",
      "  warnings.warn(NumbaPerformanceWarning(msg))\n",
      "/home/albert/anaconda3/lib/python3.7/site-packages/numba/typing/npydecl.py:967: NumbaPerformanceWarning: \u001b[1m'@' is faster on contiguous arrays, called on (array(float64, 2d, C), array(float64, 2d, A))\u001b[0m\n",
      "  warnings.warn(NumbaPerformanceWarning(msg))\n"
     ]
    }
   ],
   "source": [
    "a, b, c = cp_als(coo, vals, nnz, init_shape, rank=200, max_iter=1_000_000)"
   ]
  },
  {
   "cell_type": "code",
   "execution_count": 12,
   "metadata": {},
   "outputs": [
    {
     "name": "stdout",
     "output_type": "stream",
     "text": [
      "0.09585654830366197\n"
     ]
    }
   ],
   "source": [
    "error = sqrt_err(coo, vals, nnz, init_shape, a, b, c)\n",
    "print(error)"
   ]
  },
  {
   "cell_type": "code",
   "execution_count": 13,
   "metadata": {},
   "outputs": [
    {
     "data": {
      "text/plain": [
       "0.03599308472004954"
      ]
     },
     "execution_count": 13,
     "metadata": {},
     "output_type": "execute_result"
    }
   ],
   "source": [
    "error/np.sqrt((vals**2).sum())"
   ]
  },
  {
   "cell_type": "code",
   "execution_count": null,
   "metadata": {},
   "outputs": [],
   "source": [
    "#################################################################################"
   ]
  },
  {
   "cell_type": "code",
   "execution_count": null,
   "metadata": {},
   "outputs": [],
   "source": []
  },
  {
   "cell_type": "code",
   "execution_count": null,
   "metadata": {},
   "outputs": [],
   "source": []
  },
  {
   "cell_type": "code",
   "execution_count": null,
   "metadata": {},
   "outputs": [],
   "source": []
  },
  {
   "cell_type": "code",
   "execution_count": null,
   "metadata": {},
   "outputs": [],
   "source": []
  },
  {
   "cell_type": "code",
   "execution_count": null,
   "metadata": {},
   "outputs": [],
   "source": []
  }
 ],
 "metadata": {
  "kernelspec": {
   "display_name": "Python 3",
   "language": "python",
   "name": "python3"
  },
  "language_info": {
   "codemirror_mode": {
    "name": "ipython",
    "version": 3
   },
   "file_extension": ".py",
   "mimetype": "text/x-python",
   "name": "python",
   "nbconvert_exporter": "python",
   "pygments_lexer": "ipython3",
   "version": "3.7.4"
  }
 },
 "nbformat": 4,
 "nbformat_minor": 4
}
