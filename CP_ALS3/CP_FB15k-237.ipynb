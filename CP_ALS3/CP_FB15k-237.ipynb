{
 "cells": [
  {
   "cell_type": "code",
   "execution_count": 33,
   "metadata": {},
   "outputs": [],
   "source": [
    "import numpy as np\n",
    "import pandas as pd\n",
    "import matplotlib.pyplot as plt\n",
    "\n",
    "import pickle\n",
    "import time\n",
    "from ipypb import track\n",
    "\n",
    "import CP_ALS3 as cp\n",
    "from general_functions import sqrt_err_relative, check_coo_tensor, gen_coo_tensor\n",
    "from general_functions import create_filter, hr"
   ]
  },
  {
   "cell_type": "markdown",
   "metadata": {},
   "source": [
    "### Zero launch of a function(for NUMBA):"
   ]
  },
  {
   "cell_type": "code",
   "execution_count": 2,
   "metadata": {},
   "outputs": [],
   "source": [
    "init_shape = (100, 100, 10)\n",
    "coo, vals = gen_coo_tensor(init_shape, density=0.002)\n",
    "assert check_coo_tensor(coo)!= \"Bad\""
   ]
  },
  {
   "cell_type": "code",
   "execution_count": 35,
   "metadata": {},
   "outputs": [
    {
     "name": "stdout",
     "output_type": "stream",
     "text": [
      "0.9453340948994764\n",
      "CPU times: user 5.59 ms, sys: 0 ns, total: 5.59 ms\n",
      "Wall time: 5.54 ms\n"
     ]
    }
   ],
   "source": [
    "%%time\n",
    "\n",
    "max_iter = 12\n",
    "rank = 5\n",
    "seed = 13\n",
    "\n",
    "a, b, c, _, _ = cp.cp_als3(\n",
    "    coo, vals, init_shape,\n",
    "    rank=rank,\n",
    "    max_iter=max_iter,\n",
    "    seed=seed,\n",
    "    show_iter=False,\n",
    "    it_over=False,\n",
    ")\n",
    "\n",
    "rerr = sqrt_err_relative(\n",
    "    coo, vals, init_shape, a, b, c,\n",
    ")\n",
    "\n",
    "print(rerr)"
   ]
  },
  {
   "cell_type": "markdown",
   "metadata": {},
   "source": [
    "### Load the data:"
   ]
  },
  {
   "cell_type": "code",
   "execution_count": 8,
   "metadata": {},
   "outputs": [],
   "source": [
    "path_data = \"../Link_Prediction_Data/FB15K237/\"\n",
    "entity_list = pickle.load(open(path_data + 'entity_list', 'rb'))\n",
    "relation_list = pickle.load(open(path_data + 'relation_list', 'rb'))\n",
    "\n",
    "train_triples = pickle.load(open(path_data + 'train_triples', 'rb'))\n",
    "valid_triples = pickle.load(open(path_data + 'valid_triples', 'rb'))\n",
    "test_triples = pickle.load(open(path_data + 'test_triples', 'rb'))\n",
    "train_valid_triples = pickle.load(open(path_data + 'train_valid_triples', 'rb'))\n",
    "\n",
    "entity_map = pickle.load(open(path_data + 'entity_map', 'rb'))\n",
    "relation_map = pickle.load(open(path_data + 'relation_map', 'rb'))\n",
    "\n",
    "all_triples = train_valid_triples + test_triples"
   ]
  },
  {
   "cell_type": "code",
   "execution_count": 9,
   "metadata": {},
   "outputs": [],
   "source": [
    "test_filter = create_filter(test_triples, all_triples)  \n",
    "valid_filter = create_filter(valid_triples, all_triples) "
   ]
  },
  {
   "cell_type": "markdown",
   "metadata": {},
   "source": [
    "### Create Sparse COO Train Tensor:"
   ]
  },
  {
   "cell_type": "code",
   "execution_count": 10,
   "metadata": {},
   "outputs": [
    {
     "data": {
      "text/plain": [
       "(14541, 237, 14541)"
      ]
     },
     "execution_count": 10,
     "metadata": {},
     "output_type": "execute_result"
    }
   ],
   "source": [
    "values = [1] * len(train_triples)\n",
    "values = np.array(values, dtype=np.float64)\n",
    "\n",
    "coords = np.array(train_triples, dtype=np.int32)\n",
    "nnz = len(train_triples)\n",
    "data_shape = (len(entity_list), len(relation_list), len(entity_list))\n",
    "data_shape"
   ]
  },
  {
   "cell_type": "markdown",
   "metadata": {},
   "source": [
    "## CP-ALS3:"
   ]
  },
  {
   "cell_type": "code",
   "execution_count": 59,
   "metadata": {},
   "outputs": [],
   "source": [
    "max_iter = 2\n",
    "rank = 111\n",
    "seed = 13"
   ]
  },
  {
   "cell_type": "code",
   "execution_count": 60,
   "metadata": {},
   "outputs": [
    {
     "name": "stdout",
     "output_type": "stream",
     "text": [
      "CPU times: user 3.63 s, sys: 153 ms, total: 3.79 s\n",
      "Wall time: 2.04 s\n"
     ]
    }
   ],
   "source": [
    "%%time\n",
    "a, b, c, err_arr, it = cp.cp_als3(\n",
    "    coords, values, data_shape,\n",
    "    rank=rank,\n",
    "    max_iter=max_iter,\n",
    "    seed=seed,\n",
    "    show_iter=False,\n",
    "    it_over=False,\n",
    ")"
   ]
  },
  {
   "cell_type": "code",
   "execution_count": 61,
   "metadata": {},
   "outputs": [
    {
     "name": "stdout",
     "output_type": "stream",
     "text": [
      "Relative error = 0.8690593754177467\n"
     ]
    }
   ],
   "source": [
    "rerr = sqrt_err_relative(\n",
    "    coords, values, data_shape, a, b, c,\n",
    ")\n",
    "print(f\"Relative error = {rerr}\")"
   ]
  },
  {
   "cell_type": "code",
   "execution_count": 62,
   "metadata": {},
   "outputs": [
    {
     "data": {
      "text/plain": [
       "[<matplotlib.lines.Line2D at 0x7fbbab1d2390>]"
      ]
     },
     "execution_count": 62,
     "metadata": {},
     "output_type": "execute_result"
    },
    {
     "data": {
      "image/png": "[encoded data removed]",
      "text/plain": [
       "<Figure size 432x288 with 1 Axes>"
      ]
     },
     "metadata": {
      "needs_background": "light"
     },
     "output_type": "display_data"
    }
   ],
   "source": [
    "plt.xlabel(\"Iteration\")\n",
    "plt.ylabel(\"Relative error\")\n",
    "plt.title(f\"FB15k-237 / CP-ALS3(R={rank})\")\n",
    "#plt.xticks(np.arange(it))\n",
    "plt.yscale(\"log\")\n",
    "plt.plot(np.arange(1, it+1), err_arr[:it], '-*', c=\"#8b0a50\")"
   ]
  },
  {
   "cell_type": "code",
   "execution_count": 63,
   "metadata": {},
   "outputs": [
    {
     "name": "stdout",
     "output_type": "stream",
     "text": [
      "CPU times: user 2min 59s, sys: 91.3 ms, total: 3min\n",
      "Wall time: 3min\n"
     ]
    },
    {
     "data": {
      "text/plain": [
       "(0.17560832600410436,\n",
       " 0.26067624352584773,\n",
       " 0.3544415127528584,\n",
       " 0.23614018446126778)"
      ]
     },
     "execution_count": 63,
     "metadata": {},
     "output_type": "execute_result"
    }
   ],
   "source": [
    "%%time\n",
    "hr(test_filter, test_triples, a, b, c, [1, 3, 10])"
   ]
  },
  {
   "cell_type": "markdown",
   "metadata": {},
   "source": [
    "## Find best parameters:"
   ]
  },
  {
   "cell_type": "code",
   "execution_count": 27,
   "metadata": {},
   "outputs": [],
   "source": [
    "ranks = (25, 50, 100, 200, 300, 400, 600, 700)\n",
    "n_iter = 2\n",
    "seed = 13"
   ]
  },
  {
   "cell_type": "code",
   "execution_count": 28,
   "metadata": {},
   "outputs": [
    {
     "data": {
      "text/html": [
       "<div>\n",
       "<style scoped>\n",
       "    .dataframe tbody tr th:only-of-type {\n",
       "        vertical-align: middle;\n",
       "    }\n",
       "\n",
       "    .dataframe tbody tr th {\n",
       "        vertical-align: top;\n",
       "    }\n",
       "\n",
       "    .dataframe thead th {\n",
       "        text-align: right;\n",
       "    }\n",
       "</style>\n",
       "<table border=\"1\" class=\"dataframe\">\n",
       "  <thead>\n",
       "    <tr style=\"text-align: right;\">\n",
       "      <th></th>\n",
       "      <th>iter</th>\n",
       "      <th>rank</th>\n",
       "      <th>time_train</th>\n",
       "      <th>time_hr</th>\n",
       "      <th>error</th>\n",
       "      <th>hr1_valid</th>\n",
       "      <th>hr1_test</th>\n",
       "      <th>hr3_valid</th>\n",
       "      <th>hr3_test</th>\n",
       "      <th>hr10_valid</th>\n",
       "      <th>hr10_test</th>\n",
       "      <th>mrr_valid</th>\n",
       "      <th>mrr_test</th>\n",
       "    </tr>\n",
       "  </thead>\n",
       "  <tbody>\n",
       "    <tr>\n",
       "      <td>1</td>\n",
       "      <td>0.0</td>\n",
       "      <td>0.0</td>\n",
       "      <td>0.0</td>\n",
       "      <td>0.0</td>\n",
       "      <td>0.0</td>\n",
       "      <td>0.0</td>\n",
       "      <td>0.0</td>\n",
       "      <td>0.0</td>\n",
       "      <td>0.0</td>\n",
       "      <td>0.0</td>\n",
       "      <td>0.0</td>\n",
       "      <td>0.0</td>\n",
       "      <td>0.0</td>\n",
       "    </tr>\n",
       "    <tr>\n",
       "      <td>2</td>\n",
       "      <td>0.0</td>\n",
       "      <td>0.0</td>\n",
       "      <td>0.0</td>\n",
       "      <td>0.0</td>\n",
       "      <td>0.0</td>\n",
       "      <td>0.0</td>\n",
       "      <td>0.0</td>\n",
       "      <td>0.0</td>\n",
       "      <td>0.0</td>\n",
       "      <td>0.0</td>\n",
       "      <td>0.0</td>\n",
       "      <td>0.0</td>\n",
       "      <td>0.0</td>\n",
       "    </tr>\n",
       "    <tr>\n",
       "      <td>3</td>\n",
       "      <td>0.0</td>\n",
       "      <td>0.0</td>\n",
       "      <td>0.0</td>\n",
       "      <td>0.0</td>\n",
       "      <td>0.0</td>\n",
       "      <td>0.0</td>\n",
       "      <td>0.0</td>\n",
       "      <td>0.0</td>\n",
       "      <td>0.0</td>\n",
       "      <td>0.0</td>\n",
       "      <td>0.0</td>\n",
       "      <td>0.0</td>\n",
       "      <td>0.0</td>\n",
       "    </tr>\n",
       "    <tr>\n",
       "      <td>4</td>\n",
       "      <td>0.0</td>\n",
       "      <td>0.0</td>\n",
       "      <td>0.0</td>\n",
       "      <td>0.0</td>\n",
       "      <td>0.0</td>\n",
       "      <td>0.0</td>\n",
       "      <td>0.0</td>\n",
       "      <td>0.0</td>\n",
       "      <td>0.0</td>\n",
       "      <td>0.0</td>\n",
       "      <td>0.0</td>\n",
       "      <td>0.0</td>\n",
       "      <td>0.0</td>\n",
       "    </tr>\n",
       "    <tr>\n",
       "      <td>5</td>\n",
       "      <td>0.0</td>\n",
       "      <td>0.0</td>\n",
       "      <td>0.0</td>\n",
       "      <td>0.0</td>\n",
       "      <td>0.0</td>\n",
       "      <td>0.0</td>\n",
       "      <td>0.0</td>\n",
       "      <td>0.0</td>\n",
       "      <td>0.0</td>\n",
       "      <td>0.0</td>\n",
       "      <td>0.0</td>\n",
       "      <td>0.0</td>\n",
       "      <td>0.0</td>\n",
       "    </tr>\n",
       "    <tr>\n",
       "      <td>6</td>\n",
       "      <td>0.0</td>\n",
       "      <td>0.0</td>\n",
       "      <td>0.0</td>\n",
       "      <td>0.0</td>\n",
       "      <td>0.0</td>\n",
       "      <td>0.0</td>\n",
       "      <td>0.0</td>\n",
       "      <td>0.0</td>\n",
       "      <td>0.0</td>\n",
       "      <td>0.0</td>\n",
       "      <td>0.0</td>\n",
       "      <td>0.0</td>\n",
       "      <td>0.0</td>\n",
       "    </tr>\n",
       "    <tr>\n",
       "      <td>7</td>\n",
       "      <td>0.0</td>\n",
       "      <td>0.0</td>\n",
       "      <td>0.0</td>\n",
       "      <td>0.0</td>\n",
       "      <td>0.0</td>\n",
       "      <td>0.0</td>\n",
       "      <td>0.0</td>\n",
       "      <td>0.0</td>\n",
       "      <td>0.0</td>\n",
       "      <td>0.0</td>\n",
       "      <td>0.0</td>\n",
       "      <td>0.0</td>\n",
       "      <td>0.0</td>\n",
       "    </tr>\n",
       "    <tr>\n",
       "      <td>8</td>\n",
       "      <td>0.0</td>\n",
       "      <td>0.0</td>\n",
       "      <td>0.0</td>\n",
       "      <td>0.0</td>\n",
       "      <td>0.0</td>\n",
       "      <td>0.0</td>\n",
       "      <td>0.0</td>\n",
       "      <td>0.0</td>\n",
       "      <td>0.0</td>\n",
       "      <td>0.0</td>\n",
       "      <td>0.0</td>\n",
       "      <td>0.0</td>\n",
       "      <td>0.0</td>\n",
       "    </tr>\n",
       "  </tbody>\n",
       "</table>\n",
       "</div>"
      ],
      "text/plain": [
       "   iter  rank  time_train  time_hr  error  hr1_valid  hr1_test  hr3_valid  \\\n",
       "1   0.0   0.0         0.0      0.0    0.0        0.0       0.0        0.0   \n",
       "2   0.0   0.0         0.0      0.0    0.0        0.0       0.0        0.0   \n",
       "3   0.0   0.0         0.0      0.0    0.0        0.0       0.0        0.0   \n",
       "4   0.0   0.0         0.0      0.0    0.0        0.0       0.0        0.0   \n",
       "5   0.0   0.0         0.0      0.0    0.0        0.0       0.0        0.0   \n",
       "6   0.0   0.0         0.0      0.0    0.0        0.0       0.0        0.0   \n",
       "7   0.0   0.0         0.0      0.0    0.0        0.0       0.0        0.0   \n",
       "8   0.0   0.0         0.0      0.0    0.0        0.0       0.0        0.0   \n",
       "\n",
       "   hr3_test  hr10_valid  hr10_test  mrr_valid  mrr_test  \n",
       "1       0.0         0.0        0.0        0.0       0.0  \n",
       "2       0.0         0.0        0.0        0.0       0.0  \n",
       "3       0.0         0.0        0.0        0.0       0.0  \n",
       "4       0.0         0.0        0.0        0.0       0.0  \n",
       "5       0.0         0.0        0.0        0.0       0.0  \n",
       "6       0.0         0.0        0.0        0.0       0.0  \n",
       "7       0.0         0.0        0.0        0.0       0.0  \n",
       "8       0.0         0.0        0.0        0.0       0.0  "
      ]
     },
     "execution_count": 28,
     "metadata": {},
     "output_type": "execute_result"
    }
   ],
   "source": [
    "table_results = pd.DataFrame(\n",
    "    np.zeros((len(ranks), 13)),\n",
    "    index=[i for i in range(1, len(ranks) + 1)],\n",
    "    columns=(\"iter\", \"rank\", \"time_train\",\n",
    "             \"time_hr\", \"error\", \"hr1_valid\", \"hr1_test\",\n",
    "             \"hr3_valid\", \"hr3_test\", \"hr10_valid\", \"hr10_test\", \n",
    "             \"mrr_valid\", \"mrr_test\"),\n",
    ")\n",
    "table_results"
   ]
  },
  {
   "cell_type": "code",
   "execution_count": 29,
   "metadata": {},
   "outputs": [
    {
     "data": {
      "text/html": [
       "<div><span class=\"Text-label\" style=\"display:inline-block; overflow:hidden; white-space:nowrap; text-overflow:ellipsis; min-width:0; max-width:15ex; vertical-align:middle; text-align:right\"></span>\n",
       "<progress style=\"width:60ex\" max=\"8\" value=\"8\" class=\"Progress-main\"/></progress>\n",
       "<span class=\"Progress-label\"><strong>100%</strong></span>\n",
       "<span class=\"Iteration-label\">8/8</span>\n",
       "<span class=\"Time-label\">[01:26:22<23:18, 647.81s/it]</span></div>"
      ],
      "text/plain": [
       "\u001b[A\u001b[2K\r",
       " [████████████████████████████████████████████████████████████] 8/8 [01:26:22<23:18, 647.81s/it]"
      ]
     },
     "metadata": {},
     "output_type": "display_data"
    }
   ],
   "source": [
    "idx = 0\n",
    "for rank in track(ranks):\n",
    "    idx += 1\n",
    "    # Train model\n",
    "    start_tr = time.time()\n",
    "    a, b, c, err_arr, it = cp.cp_als3(\n",
    "        coords, values, data_shape,\n",
    "        rank=rank,\n",
    "        max_iter=n_iter,\n",
    "        seed=seed,\n",
    "        show_iter=False,\n",
    "        it_over=False,\n",
    "    )\n",
    "    end_tr = time.time()\n",
    "            \n",
    "    # Find relative error\n",
    "    rerr = sqrt_err_relative(\n",
    "        coords, values, data_shape, a, b, c,\n",
    "    )\n",
    "    \n",
    "    # Find Hit Rate on a validation set\n",
    "    start_hr = time.time()\n",
    "    hr1_valid, hr3_valid, hr10_valid, mrr_valid = hr(\n",
    "        valid_filter, valid_triples, a, b, c, [1, 3, 10]\n",
    "    )\n",
    "    \n",
    "    # Find Hit Rate on a test set\n",
    "    hr1_test, hr3_test, hr10_test, mrr_test = hr(\n",
    "        test_filter, test_triples, a, b, c, [1, 3, 10]\n",
    "    )\n",
    "    end_hr = time.time()\n",
    "            \n",
    "    table_results.loc[idx][\"iter\"] = n_iter\n",
    "    table_results.loc[idx][\"rank\"] = rank\n",
    "    table_results.loc[idx][\"time_train\"] = end_tr - start_tr\n",
    "    table_results.loc[idx][\"time_hr\"] = end_hr - start_hr\n",
    "    table_results.loc[idx][\"error\"] = rerr\n",
    "    \n",
    "    table_results.loc[idx][\"hr1_valid\"] = hr1_valid\n",
    "    table_results.loc[idx][\"hr1_test\"] = hr1_test\n",
    "    \n",
    "    table_results.loc[idx][\"hr3_valid\"] = hr3_valid\n",
    "    table_results.loc[idx][\"hr3_test\"] = hr3_test\n",
    "    \n",
    "    table_results.loc[idx][\"hr10_valid\"] = hr10_valid\n",
    "    table_results.loc[idx][\"hr10_test\"] = hr10_test\n",
    "    \n",
    "    table_results.loc[idx][\"mrr_valid\"] = mrr_valid\n",
    "    table_results.loc[idx][\"mrr_test\"] = mrr_test "
   ]
  },
  {
   "cell_type": "code",
   "execution_count": 30,
   "metadata": {},
   "outputs": [
    {
     "data": {
      "text/html": [
       "<div>\n",
       "<style scoped>\n",
       "    .dataframe tbody tr th:only-of-type {\n",
       "        vertical-align: middle;\n",
       "    }\n",
       "\n",
       "    .dataframe tbody tr th {\n",
       "        vertical-align: top;\n",
       "    }\n",
       "\n",
       "    .dataframe thead th {\n",
       "        text-align: right;\n",
       "    }\n",
       "</style>\n",
       "<table border=\"1\" class=\"dataframe\">\n",
       "  <thead>\n",
       "    <tr style=\"text-align: right;\">\n",
       "      <th></th>\n",
       "      <th>iter</th>\n",
       "      <th>rank</th>\n",
       "      <th>time_train</th>\n",
       "      <th>time_hr</th>\n",
       "      <th>error</th>\n",
       "      <th>hr1_valid</th>\n",
       "      <th>hr1_test</th>\n",
       "      <th>hr3_valid</th>\n",
       "      <th>hr3_test</th>\n",
       "      <th>hr10_valid</th>\n",
       "      <th>hr10_test</th>\n",
       "      <th>mrr_valid</th>\n",
       "      <th>mrr_test</th>\n",
       "    </tr>\n",
       "  </thead>\n",
       "  <tbody>\n",
       "    <tr>\n",
       "      <td>1</td>\n",
       "      <td>2.0</td>\n",
       "      <td>25.0</td>\n",
       "      <td>0.822221</td>\n",
       "      <td>214.353995</td>\n",
       "      <td>0.929423</td>\n",
       "      <td>0.138010</td>\n",
       "      <td>0.134320</td>\n",
       "      <td>0.204334</td>\n",
       "      <td>0.200137</td>\n",
       "      <td>0.273168</td>\n",
       "      <td>0.272208</td>\n",
       "      <td>0.184354</td>\n",
       "      <td>0.181508</td>\n",
       "    </tr>\n",
       "    <tr>\n",
       "      <td>2</td>\n",
       "      <td>2.0</td>\n",
       "      <td>50.0</td>\n",
       "      <td>1.092014</td>\n",
       "      <td>234.171494</td>\n",
       "      <td>0.894879</td>\n",
       "      <td>0.147419</td>\n",
       "      <td>0.144972</td>\n",
       "      <td>0.225720</td>\n",
       "      <td>0.223981</td>\n",
       "      <td>0.319932</td>\n",
       "      <td>0.318089</td>\n",
       "      <td>0.205049</td>\n",
       "      <td>0.203141</td>\n",
       "    </tr>\n",
       "    <tr>\n",
       "      <td>3</td>\n",
       "      <td>2.0</td>\n",
       "      <td>100.0</td>\n",
       "      <td>2.281203</td>\n",
       "      <td>309.523475</td>\n",
       "      <td>0.872704</td>\n",
       "      <td>0.155061</td>\n",
       "      <td>0.150640</td>\n",
       "      <td>0.231195</td>\n",
       "      <td>0.229845</td>\n",
       "      <td>0.325406</td>\n",
       "      <td>0.323414</td>\n",
       "      <td>0.211299</td>\n",
       "      <td>0.208375</td>\n",
       "    </tr>\n",
       "    <tr>\n",
       "      <td>4</td>\n",
       "      <td>2.0</td>\n",
       "      <td>200.0</td>\n",
       "      <td>3.727995</td>\n",
       "      <td>481.419694</td>\n",
       "      <td>0.841144</td>\n",
       "      <td>0.150271</td>\n",
       "      <td>0.149223</td>\n",
       "      <td>0.233134</td>\n",
       "      <td>0.233363</td>\n",
       "      <td>0.331565</td>\n",
       "      <td>0.330548</td>\n",
       "      <td>0.210898</td>\n",
       "      <td>0.210078</td>\n",
       "    </tr>\n",
       "    <tr>\n",
       "      <td>5</td>\n",
       "      <td>2.0</td>\n",
       "      <td>300.0</td>\n",
       "      <td>4.382091</td>\n",
       "      <td>622.738222</td>\n",
       "      <td>0.818227</td>\n",
       "      <td>0.150898</td>\n",
       "      <td>0.148637</td>\n",
       "      <td>0.241745</td>\n",
       "      <td>0.244650</td>\n",
       "      <td>0.350670</td>\n",
       "      <td>0.353318</td>\n",
       "      <td>0.217292</td>\n",
       "      <td>0.217212</td>\n",
       "    </tr>\n",
       "    <tr>\n",
       "      <td>6</td>\n",
       "      <td>2.0</td>\n",
       "      <td>400.0</td>\n",
       "      <td>6.491583</td>\n",
       "      <td>781.417112</td>\n",
       "      <td>0.805237</td>\n",
       "      <td>0.154092</td>\n",
       "      <td>0.152448</td>\n",
       "      <td>0.250927</td>\n",
       "      <td>0.246653</td>\n",
       "      <td>0.369376</td>\n",
       "      <td>0.362797</td>\n",
       "      <td>0.223878</td>\n",
       "      <td>0.221161</td>\n",
       "    </tr>\n",
       "    <tr>\n",
       "      <td>7</td>\n",
       "      <td>2.0</td>\n",
       "      <td>600.0</td>\n",
       "      <td>10.632625</td>\n",
       "      <td>1110.074281</td>\n",
       "      <td>0.783079</td>\n",
       "      <td>0.143941</td>\n",
       "      <td>0.141796</td>\n",
       "      <td>0.240376</td>\n",
       "      <td>0.239959</td>\n",
       "      <td>0.363844</td>\n",
       "      <td>0.362455</td>\n",
       "      <td>0.215455</td>\n",
       "      <td>0.213758</td>\n",
       "    </tr>\n",
       "    <tr>\n",
       "      <td>8</td>\n",
       "      <td>2.0</td>\n",
       "      <td>700.0</td>\n",
       "      <td>12.967109</td>\n",
       "      <td>1384.008286</td>\n",
       "      <td>0.776263</td>\n",
       "      <td>0.140234</td>\n",
       "      <td>0.141894</td>\n",
       "      <td>0.238837</td>\n",
       "      <td>0.239421</td>\n",
       "      <td>0.366239</td>\n",
       "      <td>0.363921</td>\n",
       "      <td>0.213182</td>\n",
       "      <td>0.214417</td>\n",
       "    </tr>\n",
       "  </tbody>\n",
       "</table>\n",
       "</div>"
      ],
      "text/plain": [
       "   iter   rank  time_train      time_hr     error  hr1_valid  hr1_test  \\\n",
       "1   2.0   25.0    0.822221   214.353995  0.929423   0.138010  0.134320   \n",
       "2   2.0   50.0    1.092014   234.171494  0.894879   0.147419  0.144972   \n",
       "3   2.0  100.0    2.281203   309.523475  0.872704   0.155061  0.150640   \n",
       "4   2.0  200.0    3.727995   481.419694  0.841144   0.150271  0.149223   \n",
       "5   2.0  300.0    4.382091   622.738222  0.818227   0.150898  0.148637   \n",
       "6   2.0  400.0    6.491583   781.417112  0.805237   0.154092  0.152448   \n",
       "7   2.0  600.0   10.632625  1110.074281  0.783079   0.143941  0.141796   \n",
       "8   2.0  700.0   12.967109  1384.008286  0.776263   0.140234  0.141894   \n",
       "\n",
       "   hr3_valid  hr3_test  hr10_valid  hr10_test  mrr_valid  mrr_test  \n",
       "1   0.204334  0.200137    0.273168   0.272208   0.184354  0.181508  \n",
       "2   0.225720  0.223981    0.319932   0.318089   0.205049  0.203141  \n",
       "3   0.231195  0.229845    0.325406   0.323414   0.211299  0.208375  \n",
       "4   0.233134  0.233363    0.331565   0.330548   0.210898  0.210078  \n",
       "5   0.241745  0.244650    0.350670   0.353318   0.217292  0.217212  \n",
       "6   0.250927  0.246653    0.369376   0.362797   0.223878  0.221161  \n",
       "7   0.240376  0.239959    0.363844   0.362455   0.215455  0.213758  \n",
       "8   0.238837  0.239421    0.366239   0.363921   0.213182  0.214417  "
      ]
     },
     "execution_count": 30,
     "metadata": {},
     "output_type": "execute_result"
    }
   ],
   "source": [
    "table_results"
   ]
  },
  {
   "cell_type": "code",
   "execution_count": 32,
   "metadata": {},
   "outputs": [],
   "source": [
    "table_results.to_csv(\"Results/CP_FB15k-237_results.csv\")"
   ]
  },
  {
   "cell_type": "code",
   "execution_count": 31,
   "metadata": {},
   "outputs": [
    {
     "data": {
      "text/plain": [
       "[<matplotlib.lines.Line2D at 0x7fbba0f31a50>]"
      ]
     },
     "execution_count": 31,
     "metadata": {},
     "output_type": "execute_result"
    },
    {
     "data": {
      "image/png": "[encoded data removed]",
      "text/plain": [
       "<Figure size 432x288 with 1 Axes>"
      ]
     },
     "metadata": {
      "needs_background": "light"
     },
     "output_type": "display_data"
    }
   ],
   "source": [
    "plt.xlabel(\"Rank\")\n",
    "plt.ylabel(\"HR@10\")\n",
    "plt.title(f\"FB15K237 / CP-ALS3\")\n",
    "plt.xticks(table_results['rank'])\n",
    "#plt.yscale(\"log\")\n",
    "plt.plot(table_results['rank'], table_results['hr10_test'], '-*', c=\"#8b0a50\")"
   ]
  },
  {
   "cell_type": "code",
   "execution_count": null,
   "metadata": {},
   "outputs": [],
   "source": []
  }
 ],
 "metadata": {
  "kernelspec": {
   "display_name": "Python 3",
   "language": "python",
   "name": "python3"
  },
  "language_info": {
   "codemirror_mode": {
    "name": "ipython",
    "version": 3
   },
   "file_extension": ".py",
   "mimetype": "text/x-python",
   "name": "python",
   "nbconvert_exporter": "python",
   "pygments_lexer": "ipython3",
   "version": "3.7.4"
  }
 },
 "nbformat": 4,
 "nbformat_minor": 4
}
