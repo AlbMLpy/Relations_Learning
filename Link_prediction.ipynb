{
 "cells": [
  {
   "cell_type": "code",
   "execution_count": 7,
   "metadata": {},
   "outputs": [],
   "source": [
    "import pickle\n",
    "import numpy as np\n",
    "import matplotlib.pyplot as plt\n",
    "import CP_ALS3 as cp"
   ]
  },
  {
   "cell_type": "code",
   "execution_count": 4,
   "metadata": {},
   "outputs": [
    {
     "name": "stdout",
     "output_type": "stream",
     "text": [
      "iterations over\n",
      "0.036334077858544846\n",
      "CPU times: user 15.1 ms, sys: 0 ns, total: 15.1 ms\n",
      "Wall time: 15.6 ms\n"
     ]
    }
   ],
   "source": [
    "%%time\n",
    "init_shape = (10, 10, 10)\n",
    "coo, vals, nnz = cp.coo_tensor_gen(init_shape, density=0.02)\n",
    "assert cp.check_coo_tensor(coo, nnz)!= \"Bad\"\n",
    "\n",
    "a, b, c, _ = cp.cp_als3(coo, vals, nnz, init_shape, rank=30, max_iter=10)\n",
    "rerr = cp.sqrt_err_relative(coo, vals, nnz, init_shape, a, b, c)\n",
    "print(rerr)"
   ]
  },
  {
   "cell_type": "code",
   "execution_count": 5,
   "metadata": {},
   "outputs": [],
   "source": [
    "inds_list = pickle.load(open('../wikidata_tensors/fb_list.pcl', 'rb'))\n",
    "ind_to_entity = pickle.load(open('../wikidata_tensors/fb_idx2ent.pcl', 'rb'))\n",
    "ind_to_rel = pickle.load(open('../wikidata_tensors/fb_idx2rel.pcl', 'rb'))"
   ]
  },
  {
   "cell_type": "code",
   "execution_count": 6,
   "metadata": {},
   "outputs": [],
   "source": [
    "values = [1] * len(inds_list)\n",
    "values = np.array(values, dtype=np.float64)\n",
    "\n",
    "coords = np.array(inds_list, dtype=np.int32)\n",
    "nnz = len(inds_list)\n",
    "data_shape = (14242, 1182, 14242)"
   ]
  },
  {
   "cell_type": "code",
   "execution_count": 29,
   "metadata": {},
   "outputs": [],
   "source": [
    "max_iter=20"
   ]
  },
  {
   "cell_type": "code",
   "execution_count": 30,
   "metadata": {},
   "outputs": [
    {
     "name": "stdout",
     "output_type": "stream",
     "text": [
      "iterations over\n",
      "CPU times: user 1h 17min 5s, sys: 52 s, total: 1h 17min 57s\n",
      "Wall time: 42min 16s\n"
     ]
    }
   ],
   "source": [
    "%%time\n",
    "a, b, c, err_arr = cp.cp_als3(\n",
    "    coords,\n",
    "    values,\n",
    "    nnz=nnz,\n",
    "    shape=data_shape,\n",
    "    rank=3000,\n",
    "    max_iter=max_iter,\n",
    ")"
   ]
  },
  {
   "cell_type": "code",
   "execution_count": 31,
   "metadata": {},
   "outputs": [
    {
     "name": "stdout",
     "output_type": "stream",
     "text": [
      "Relative error = 294.3961571336841\n"
     ]
    }
   ],
   "source": [
    "rerr = cp.sqrt_err_relative(\n",
    "    coords,\n",
    "    values,\n",
    "    nnz,\n",
    "    data_shape,\n",
    "    a,\n",
    "    b,\n",
    "    c,\n",
    ")\n",
    "\n",
    "print(f\"Relative error = {rerr}\")"
   ]
  },
  {
   "cell_type": "code",
   "execution_count": 51,
   "metadata": {},
   "outputs": [
    {
     "data": {
      "text/plain": [
       "[<matplotlib.lines.Line2D at 0x7f70dbbb3410>]"
      ]
     },
     "execution_count": 51,
     "metadata": {},
     "output_type": "execute_result"
    },
    {
     "data": {
      "image/png": "[encoded data removed]",
      "text/plain": [
       "<Figure size 432x288 with 1 Axes>"
      ]
     },
     "metadata": {
      "needs_background": "light"
     },
     "output_type": "display_data"
    }
   ],
   "source": [
    "plt.xlabel(\"Iteration\")\n",
    "plt.ylabel(\"Relative error\")\n",
    "plt.title(\"FB15k23 / CP-ALS3(R=3000)\")\n",
    "plt.xticks(np.arange(max_iter))\n",
    "plt.plot(np.arange(max_iter), err_arr[:max_iter], 'r-*')"
   ]
  },
  {
   "cell_type": "code",
   "execution_count": null,
   "metadata": {},
   "outputs": [],
   "source": []
  },
  {
   "cell_type": "code",
   "execution_count": null,
   "metadata": {},
   "outputs": [],
   "source": []
  },
  {
   "cell_type": "markdown",
   "metadata": {},
   "source": [
    "## A couple of results:"
   ]
  },
  {
   "cell_type": "code",
   "execution_count": null,
   "metadata": {},
   "outputs": [],
   "source": [
    "rank=3000, max_iter=20, rerr=294 1h 17min"
   ]
  },
  {
   "cell_type": "code",
   "execution_count": null,
   "metadata": {},
   "outputs": [],
   "source": [
    "rank=2000, max_iter=10, rerr=342 25min"
   ]
  },
  {
   "cell_type": "code",
   "execution_count": null,
   "metadata": {},
   "outputs": [],
   "source": [
    "rank=1000, max_iter=200, rerr=383 1h 50min"
   ]
  },
  {
   "cell_type": "code",
   "execution_count": null,
   "metadata": {},
   "outputs": [],
   "source": [
    "rank=1000, max_iter=20, rerr=387"
   ]
  },
  {
   "cell_type": "code",
   "execution_count": null,
   "metadata": {},
   "outputs": [],
   "source": [
    "rank=400, max_iter=20, rerr=460 2min"
   ]
  }
 ],
 "metadata": {
  "kernelspec": {
   "display_name": "Python 3",
   "language": "python",
   "name": "python3"
  },
  "language_info": {
   "codemirror_mode": {
    "name": "ipython",
    "version": 3
   },
   "file_extension": ".py",
   "mimetype": "text/x-python",
   "name": "python",
   "nbconvert_exporter": "python",
   "pygments_lexer": "ipython3",
   "version": "3.7.4"
  }
 },
 "nbformat": 4,
 "nbformat_minor": 4
}
