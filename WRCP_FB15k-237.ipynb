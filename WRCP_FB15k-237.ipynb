{
 "cells": [
  {
   "cell_type": "code",
   "execution_count": 1,
   "metadata": {},
   "outputs": [],
   "source": [
    "import numpy as np\n",
    "import pandas as pd\n",
    "import matplotlib.pyplot as plt\n",
    "\n",
    "import pickle\n",
    "import time\n",
    "from ipypb import track\n",
    "\n",
    "import WRCP_ALS3 as wrcp\n",
    "from general_functions import sqrt_err_relative, check_coo_tensor, gen_coo_tensor\n",
    "from general_functions import create_filter, hr"
   ]
  },
  {
   "cell_type": "markdown",
   "metadata": {},
   "source": [
    "### Zero launch of a function(for NUMBA):"
   ]
  },
  {
   "cell_type": "code",
   "execution_count": 3,
   "metadata": {},
   "outputs": [],
   "source": [
    "init_shape = (100, 100, 10)\n",
    "coo, vals = gen_coo_tensor(init_shape, density=0.002)\n",
    "assert check_coo_tensor(coo)!= \"Bad\""
   ]
  },
  {
   "cell_type": "code",
   "execution_count": 5,
   "metadata": {},
   "outputs": [
    {
     "name": "stdout",
     "output_type": "stream",
     "text": [
      "0.34359292885977255\n",
      "CPU times: user 10.2 ms, sys: 0 ns, total: 10.2 ms\n",
      "Wall time: 10.1 ms\n"
     ]
    }
   ],
   "source": [
    "%%time\n",
    "\n",
    "max_iter = 12\n",
    "rank = 5\n",
    "seed = 13\n",
    "\n",
    "a, b, c, _, _ = wrcp.wrcp_als3(\n",
    "    coo, vals, init_shape,\n",
    "    rank=rank,\n",
    "    l2=0.25,\n",
    "    max_iter=max_iter,\n",
    "    seed=seed,\n",
    "    show_iter=False,\n",
    "    it_over=False,\n",
    ")\n",
    "\n",
    "rerr = sqrt_err_relative(\n",
    "    coo, vals, init_shape, a, b, c,\n",
    ")\n",
    "\n",
    "print(rerr)"
   ]
  },
  {
   "cell_type": "markdown",
   "metadata": {},
   "source": [
    "### Load the data:"
   ]
  },
  {
   "cell_type": "code",
   "execution_count": 6,
   "metadata": {},
   "outputs": [],
   "source": [
    "path_data = \"Link_Prediction_Data/FB15K237/\"\n",
    "entity_list = pickle.load(open(path_data + 'entity_list', 'rb'))\n",
    "relation_list = pickle.load(open(path_data + 'relation_list', 'rb'))\n",
    "\n",
    "train_triples = pickle.load(open(path_data + 'train_triples', 'rb'))\n",
    "valid_triples = pickle.load(open(path_data + 'valid_triples', 'rb'))\n",
    "test_triples = pickle.load(open(path_data + 'test_triples', 'rb'))\n",
    "train_valid_triples = pickle.load(open(path_data + 'train_valid_triples', 'rb'))\n",
    "\n",
    "entity_map = pickle.load(open(path_data + 'entity_map', 'rb'))\n",
    "relation_map = pickle.load(open(path_data + 'relation_map', 'rb'))\n",
    "\n",
    "all_triples = train_valid_triples + test_triples"
   ]
  },
  {
   "cell_type": "code",
   "execution_count": 6,
   "metadata": {},
   "outputs": [
    {
     "name": "stdout",
     "output_type": "stream",
     "text": [
      "['/m/010016', '/m/0100mt', '/m/0102t4'] \n",
      " 14541\n"
     ]
    }
   ],
   "source": [
    "print(entity_list[:3], \"\\n\", len(entity_list))"
   ]
  },
  {
   "cell_type": "code",
   "execution_count": 7,
   "metadata": {},
   "outputs": [
    {
     "name": "stdout",
     "output_type": "stream",
     "text": [
      "['/american_football/football_team/current_roster./sports/sports_team_roster/position', '/award/award_category/category_of', '/award/award_category/disciplines_or_subjects'] \n",
      " 237\n"
     ]
    }
   ],
   "source": [
    "print(relation_list[:3], \"\\n\", len(relation_list))"
   ]
  },
  {
   "cell_type": "code",
   "execution_count": 8,
   "metadata": {},
   "outputs": [
    {
     "data": {
      "text/plain": [
       "272115"
      ]
     },
     "execution_count": 8,
     "metadata": {},
     "output_type": "execute_result"
    }
   ],
   "source": [
    "len(train_triples)"
   ]
  },
  {
   "cell_type": "code",
   "execution_count": 9,
   "metadata": {},
   "outputs": [
    {
     "data": {
      "text/plain": [
       "17535"
      ]
     },
     "execution_count": 9,
     "metadata": {},
     "output_type": "execute_result"
    }
   ],
   "source": [
    "len(valid_triples)"
   ]
  },
  {
   "cell_type": "code",
   "execution_count": 10,
   "metadata": {},
   "outputs": [
    {
     "data": {
      "text/plain": [
       "20466"
      ]
     },
     "execution_count": 10,
     "metadata": {},
     "output_type": "execute_result"
    }
   ],
   "source": [
    "len(test_triples)"
   ]
  },
  {
   "cell_type": "code",
   "execution_count": 11,
   "metadata": {},
   "outputs": [
    {
     "data": {
      "text/plain": [
       "289650"
      ]
     },
     "execution_count": 11,
     "metadata": {},
     "output_type": "execute_result"
    }
   ],
   "source": [
    "len(train_valid_triples)"
   ]
  },
  {
   "cell_type": "code",
   "execution_count": 12,
   "metadata": {},
   "outputs": [
    {
     "data": {
      "text/plain": [
       "310116"
      ]
     },
     "execution_count": 12,
     "metadata": {},
     "output_type": "execute_result"
    }
   ],
   "source": [
    "len(all_triples)"
   ]
  },
  {
   "cell_type": "code",
   "execution_count": 13,
   "metadata": {},
   "outputs": [
    {
     "data": {
      "text/plain": [
       "[('/m/010016', 0), ('/m/0100mt', 1)]"
      ]
     },
     "execution_count": 13,
     "metadata": {},
     "output_type": "execute_result"
    }
   ],
   "source": [
    "list(entity_map.items())[:2]"
   ]
  },
  {
   "cell_type": "code",
   "execution_count": 14,
   "metadata": {},
   "outputs": [
    {
     "data": {
      "text/plain": [
       "[('/american_football/football_team/current_roster./sports/sports_team_roster/position',\n",
       "  0),\n",
       " ('/award/award_category/category_of', 1)]"
      ]
     },
     "execution_count": 14,
     "metadata": {},
     "output_type": "execute_result"
    }
   ],
   "source": [
    "list(relation_map.items())[:2]"
   ]
  },
  {
   "cell_type": "code",
   "execution_count": 7,
   "metadata": {},
   "outputs": [],
   "source": [
    "test_filter = create_filter(test_triples, all_triples)  \n",
    "valid_filter = create_filter(valid_triples, all_triples)  "
   ]
  },
  {
   "cell_type": "markdown",
   "metadata": {},
   "source": [
    "### Create Sparse COO Train Tensor:"
   ]
  },
  {
   "cell_type": "code",
   "execution_count": 8,
   "metadata": {},
   "outputs": [
    {
     "data": {
      "text/plain": [
       "(14541, 237, 14541)"
      ]
     },
     "execution_count": 8,
     "metadata": {},
     "output_type": "execute_result"
    }
   ],
   "source": [
    "values = [1] * len(train_triples)\n",
    "values = np.array(values, dtype=np.float64)\n",
    "\n",
    "coords = np.array(train_triples, dtype=np.int32)\n",
    "nnz = len(train_triples)\n",
    "data_shape = (len(entity_list), len(relation_list), len(entity_list))\n",
    "data_shape"
   ]
  },
  {
   "cell_type": "markdown",
   "metadata": {},
   "source": [
    "## WRCP-ALS3:"
   ]
  },
  {
   "cell_type": "code",
   "execution_count": 119,
   "metadata": {},
   "outputs": [],
   "source": [
    "max_iter = 4\n",
    "rank = 200\n",
    "l2 = 4e0\n",
    "seed = 13"
   ]
  },
  {
   "cell_type": "code",
   "execution_count": 120,
   "metadata": {},
   "outputs": [
    {
     "name": "stdout",
     "output_type": "stream",
     "text": [
      "CPU times: user 29min 17s, sys: 46.7 s, total: 30min 4s\n",
      "Wall time: 17min 59s\n"
     ]
    }
   ],
   "source": [
    "%%time\n",
    "a, b, c, err_arr, it = wrcp.wrcp_als3(\n",
    "    coords, values, data_shape,\n",
    "    rank=rank,\n",
    "    l2=l2,\n",
    "    max_iter=max_iter,\n",
    "    seed=seed,\n",
    "    show_iter=False,\n",
    "    it_over=False,\n",
    ")"
   ]
  },
  {
   "cell_type": "code",
   "execution_count": 121,
   "metadata": {},
   "outputs": [
    {
     "name": "stdout",
     "output_type": "stream",
     "text": [
      "Relative error = 0.2520450030424172\n"
     ]
    }
   ],
   "source": [
    "rerr = sqrt_err_relative(\n",
    "    coords, values, data_shape, a, b, c,\n",
    ")\n",
    "print(f\"Relative error = {rerr}\")"
   ]
  },
  {
   "cell_type": "code",
   "execution_count": 122,
   "metadata": {},
   "outputs": [
    {
     "data": {
      "text/plain": [
       "[<matplotlib.lines.Line2D at 0x7f6a9a45cdd0>]"
      ]
     },
     "execution_count": 122,
     "metadata": {},
     "output_type": "execute_result"
    },
    {
     "data": {
      "image/png": "[encoded data removed]",
      "text/plain": [
       "<Figure size 432x288 with 1 Axes>"
      ]
     },
     "metadata": {
      "needs_background": "light"
     },
     "output_type": "display_data"
    }
   ],
   "source": [
    "plt.xlabel(\"Iteration\")\n",
    "plt.ylabel(\"Relative error\")\n",
    "plt.title(f\"FB15k-237 / WRCP-ALS3(R={rank})\")\n",
    "#plt.xticks(np.arange(it))\n",
    "plt.yscale(\"log\")\n",
    "plt.plot(np.arange(1, it+1), err_arr[:it], '-*', c=\"#8b0a50\")"
   ]
  },
  {
   "cell_type": "code",
   "execution_count": 123,
   "metadata": {},
   "outputs": [
    {
     "name": "stdout",
     "output_type": "stream",
     "text": [
      "CPU times: user 2min 57s, sys: 82.1 ms, total: 2min 57s\n",
      "Wall time: 2min 57s\n"
     ]
    },
    {
     "data": {
      "text/plain": [
       "(0.15186769318505847,\n",
       " 0.2512118619903051,\n",
       " 0.37610493299116055,\n",
       " 0.22715337064941524)"
      ]
     },
     "execution_count": 123,
     "metadata": {},
     "output_type": "execute_result"
    }
   ],
   "source": [
    "%%time\n",
    "hr(valid_filter, valid_triples, a, b, c, [1, 3, 10])"
   ]
  },
  {
   "cell_type": "code",
   "execution_count": 124,
   "metadata": {},
   "outputs": [
    {
     "name": "stdout",
     "output_type": "stream",
     "text": [
      "CPU times: user 3min 30s, sys: 110 ms, total: 3min 30s\n",
      "Wall time: 3min 30s\n"
     ]
    },
    {
     "data": {
      "text/plain": [
       "(0.14697547151373008,\n",
       " 0.2457734779634516,\n",
       " 0.3702726473175022,\n",
       " 0.22171678978882012)"
      ]
     },
     "execution_count": 124,
     "metadata": {},
     "output_type": "execute_result"
    }
   ],
   "source": [
    "%%time\n",
    "hr(test_filter, test_triples, a, b, c, [1, 3, 10])"
   ]
  },
  {
   "cell_type": "markdown",
   "metadata": {},
   "source": [
    "## Find best parameters:"
   ]
  },
  {
   "cell_type": "code",
   "execution_count": 21,
   "metadata": {},
   "outputs": [],
   "source": [
    "ranks = (25, 50, 100, 200, 300, 400, 600, 700)\n",
    "l2 = 3e0\n",
    "n_iter = 2\n",
    "seed = 13"
   ]
  },
  {
   "cell_type": "code",
   "execution_count": 22,
   "metadata": {},
   "outputs": [
    {
     "data": {
      "text/html": [
       "<div>\n",
       "<style scoped>\n",
       "    .dataframe tbody tr th:only-of-type {\n",
       "        vertical-align: middle;\n",
       "    }\n",
       "\n",
       "    .dataframe tbody tr th {\n",
       "        vertical-align: top;\n",
       "    }\n",
       "\n",
       "    .dataframe thead th {\n",
       "        text-align: right;\n",
       "    }\n",
       "</style>\n",
       "<table border=\"1\" class=\"dataframe\">\n",
       "  <thead>\n",
       "    <tr style=\"text-align: right;\">\n",
       "      <th></th>\n",
       "      <th>iter</th>\n",
       "      <th>rank</th>\n",
       "      <th>l2</th>\n",
       "      <th>time_train</th>\n",
       "      <th>time_hr</th>\n",
       "      <th>error</th>\n",
       "      <th>hr1_valid</th>\n",
       "      <th>hr1_test</th>\n",
       "      <th>hr3_valid</th>\n",
       "      <th>hr3_test</th>\n",
       "      <th>hr10_valid</th>\n",
       "      <th>hr10_test</th>\n",
       "      <th>mrr_valid</th>\n",
       "      <th>mrr_test</th>\n",
       "    </tr>\n",
       "  </thead>\n",
       "  <tbody>\n",
       "    <tr>\n",
       "      <td>1</td>\n",
       "      <td>0.0</td>\n",
       "      <td>0.0</td>\n",
       "      <td>0.0</td>\n",
       "      <td>0.0</td>\n",
       "      <td>0.0</td>\n",
       "      <td>0.0</td>\n",
       "      <td>0.0</td>\n",
       "      <td>0.0</td>\n",
       "      <td>0.0</td>\n",
       "      <td>0.0</td>\n",
       "      <td>0.0</td>\n",
       "      <td>0.0</td>\n",
       "      <td>0.0</td>\n",
       "      <td>0.0</td>\n",
       "    </tr>\n",
       "    <tr>\n",
       "      <td>2</td>\n",
       "      <td>0.0</td>\n",
       "      <td>0.0</td>\n",
       "      <td>0.0</td>\n",
       "      <td>0.0</td>\n",
       "      <td>0.0</td>\n",
       "      <td>0.0</td>\n",
       "      <td>0.0</td>\n",
       "      <td>0.0</td>\n",
       "      <td>0.0</td>\n",
       "      <td>0.0</td>\n",
       "      <td>0.0</td>\n",
       "      <td>0.0</td>\n",
       "      <td>0.0</td>\n",
       "      <td>0.0</td>\n",
       "    </tr>\n",
       "    <tr>\n",
       "      <td>3</td>\n",
       "      <td>0.0</td>\n",
       "      <td>0.0</td>\n",
       "      <td>0.0</td>\n",
       "      <td>0.0</td>\n",
       "      <td>0.0</td>\n",
       "      <td>0.0</td>\n",
       "      <td>0.0</td>\n",
       "      <td>0.0</td>\n",
       "      <td>0.0</td>\n",
       "      <td>0.0</td>\n",
       "      <td>0.0</td>\n",
       "      <td>0.0</td>\n",
       "      <td>0.0</td>\n",
       "      <td>0.0</td>\n",
       "    </tr>\n",
       "    <tr>\n",
       "      <td>4</td>\n",
       "      <td>0.0</td>\n",
       "      <td>0.0</td>\n",
       "      <td>0.0</td>\n",
       "      <td>0.0</td>\n",
       "      <td>0.0</td>\n",
       "      <td>0.0</td>\n",
       "      <td>0.0</td>\n",
       "      <td>0.0</td>\n",
       "      <td>0.0</td>\n",
       "      <td>0.0</td>\n",
       "      <td>0.0</td>\n",
       "      <td>0.0</td>\n",
       "      <td>0.0</td>\n",
       "      <td>0.0</td>\n",
       "    </tr>\n",
       "    <tr>\n",
       "      <td>5</td>\n",
       "      <td>0.0</td>\n",
       "      <td>0.0</td>\n",
       "      <td>0.0</td>\n",
       "      <td>0.0</td>\n",
       "      <td>0.0</td>\n",
       "      <td>0.0</td>\n",
       "      <td>0.0</td>\n",
       "      <td>0.0</td>\n",
       "      <td>0.0</td>\n",
       "      <td>0.0</td>\n",
       "      <td>0.0</td>\n",
       "      <td>0.0</td>\n",
       "      <td>0.0</td>\n",
       "      <td>0.0</td>\n",
       "    </tr>\n",
       "    <tr>\n",
       "      <td>6</td>\n",
       "      <td>0.0</td>\n",
       "      <td>0.0</td>\n",
       "      <td>0.0</td>\n",
       "      <td>0.0</td>\n",
       "      <td>0.0</td>\n",
       "      <td>0.0</td>\n",
       "      <td>0.0</td>\n",
       "      <td>0.0</td>\n",
       "      <td>0.0</td>\n",
       "      <td>0.0</td>\n",
       "      <td>0.0</td>\n",
       "      <td>0.0</td>\n",
       "      <td>0.0</td>\n",
       "      <td>0.0</td>\n",
       "    </tr>\n",
       "    <tr>\n",
       "      <td>7</td>\n",
       "      <td>0.0</td>\n",
       "      <td>0.0</td>\n",
       "      <td>0.0</td>\n",
       "      <td>0.0</td>\n",
       "      <td>0.0</td>\n",
       "      <td>0.0</td>\n",
       "      <td>0.0</td>\n",
       "      <td>0.0</td>\n",
       "      <td>0.0</td>\n",
       "      <td>0.0</td>\n",
       "      <td>0.0</td>\n",
       "      <td>0.0</td>\n",
       "      <td>0.0</td>\n",
       "      <td>0.0</td>\n",
       "    </tr>\n",
       "    <tr>\n",
       "      <td>8</td>\n",
       "      <td>0.0</td>\n",
       "      <td>0.0</td>\n",
       "      <td>0.0</td>\n",
       "      <td>0.0</td>\n",
       "      <td>0.0</td>\n",
       "      <td>0.0</td>\n",
       "      <td>0.0</td>\n",
       "      <td>0.0</td>\n",
       "      <td>0.0</td>\n",
       "      <td>0.0</td>\n",
       "      <td>0.0</td>\n",
       "      <td>0.0</td>\n",
       "      <td>0.0</td>\n",
       "      <td>0.0</td>\n",
       "    </tr>\n",
       "  </tbody>\n",
       "</table>\n",
       "</div>"
      ],
      "text/plain": [
       "   iter  rank   l2  time_train  time_hr  error  hr1_valid  hr1_test  \\\n",
       "1   0.0   0.0  0.0         0.0      0.0    0.0        0.0       0.0   \n",
       "2   0.0   0.0  0.0         0.0      0.0    0.0        0.0       0.0   \n",
       "3   0.0   0.0  0.0         0.0      0.0    0.0        0.0       0.0   \n",
       "4   0.0   0.0  0.0         0.0      0.0    0.0        0.0       0.0   \n",
       "5   0.0   0.0  0.0         0.0      0.0    0.0        0.0       0.0   \n",
       "6   0.0   0.0  0.0         0.0      0.0    0.0        0.0       0.0   \n",
       "7   0.0   0.0  0.0         0.0      0.0    0.0        0.0       0.0   \n",
       "8   0.0   0.0  0.0         0.0      0.0    0.0        0.0       0.0   \n",
       "\n",
       "   hr3_valid  hr3_test  hr10_valid  hr10_test  mrr_valid  mrr_test  \n",
       "1        0.0       0.0         0.0        0.0        0.0       0.0  \n",
       "2        0.0       0.0         0.0        0.0        0.0       0.0  \n",
       "3        0.0       0.0         0.0        0.0        0.0       0.0  \n",
       "4        0.0       0.0         0.0        0.0        0.0       0.0  \n",
       "5        0.0       0.0         0.0        0.0        0.0       0.0  \n",
       "6        0.0       0.0         0.0        0.0        0.0       0.0  \n",
       "7        0.0       0.0         0.0        0.0        0.0       0.0  \n",
       "8        0.0       0.0         0.0        0.0        0.0       0.0  "
      ]
     },
     "execution_count": 22,
     "metadata": {},
     "output_type": "execute_result"
    }
   ],
   "source": [
    "table_results = pd.DataFrame(\n",
    "    np.zeros((len(ranks), 14)),\n",
    "    index=[i for i in range(1, len(ranks) + 1)],\n",
    "    columns=(\"iter\", \"rank\", \"l2\", \"time_train\",\n",
    "             \"time_hr\", \"error\", \"hr1_valid\", \"hr1_test\",\n",
    "             \"hr3_valid\", \"hr3_test\", \"hr10_valid\", \"hr10_test\", \n",
    "             \"mrr_valid\", \"mrr_test\"),\n",
    ")\n",
    "table_results"
   ]
  },
  {
   "cell_type": "code",
   "execution_count": 24,
   "metadata": {},
   "outputs": [
    {
     "data": {
      "text/html": [
       "<div><span class=\"Text-label\" style=\"display:inline-block; overflow:hidden; white-space:nowrap; text-overflow:ellipsis; min-width:0; max-width:15ex; vertical-align:middle; text-align:right\"></span>\n",
       "<progress style=\"width:60ex\" max=\"8\" value=\"8\" class=\"Progress-main\"/></progress>\n",
       "<span class=\"Progress-label\"><strong>100%</strong></span>\n",
       "<span class=\"Iteration-label\">8/8</span>\n",
       "<span class=\"Time-label\">[06:58:19<02:53:24, 3137.36s/it]</span></div>"
      ],
      "text/plain": [
       "\u001b[A\u001b[2K\r",
       " [████████████████████████████████████████████████████████████] 8/8 [06:58:19<02:53:24, 3137.36s/it]"
      ]
     },
     "metadata": {},
     "output_type": "display_data"
    }
   ],
   "source": [
    "idx = 0\n",
    "for rank in track(ranks):\n",
    "    idx += 1\n",
    "    # Train model\n",
    "    start_tr = time.time()\n",
    "    a, b, c, err_arr, it = wrcp.wrcp_als3(\n",
    "        coords, values, data_shape,\n",
    "        rank=rank,\n",
    "        l2=l2,\n",
    "        max_iter=n_iter,\n",
    "        seed=seed,\n",
    "        show_iter=False,\n",
    "        it_over=False,\n",
    "    )\n",
    "    end_tr = time.time()\n",
    "            \n",
    "    # Find relative error\n",
    "    rerr = sqrt_err_relative(\n",
    "        coords, values, data_shape, a, b, c,\n",
    "    )\n",
    "    \n",
    "    # Find Hit Rate on a validation set\n",
    "    start_hr = time.time()\n",
    "    hr1_valid, hr3_valid, hr10_valid, mrr_valid = hr(\n",
    "        valid_filter, valid_triples, a, b, c, [1, 3, 10]\n",
    "    )\n",
    "    \n",
    "    # Find Hit Rate on a test set\n",
    "    hr1_test, hr3_test, hr10_test, mrr_test = hr(\n",
    "        test_filter, test_triples, a, b, c, [1, 3, 10]\n",
    "    )\n",
    "    end_hr = time.time()\n",
    "            \n",
    "    table_results.loc[idx][\"iter\"] = n_iter\n",
    "    table_results.loc[idx][\"rank\"] = rank\n",
    "    table_results.loc[idx][\"l2\"] = l2\n",
    "    table_results.loc[idx][\"time_train\"] = end_tr - start_tr\n",
    "    table_results.loc[idx][\"time_hr\"] = end_hr - start_hr\n",
    "    table_results.loc[idx][\"error\"] = rerr\n",
    "    \n",
    "    table_results.loc[idx][\"hr1_valid\"] = hr1_valid\n",
    "    table_results.loc[idx][\"hr1_test\"] = hr1_test\n",
    "    \n",
    "    table_results.loc[idx][\"hr3_valid\"] = hr3_valid\n",
    "    table_results.loc[idx][\"hr3_test\"] = hr3_test\n",
    "    \n",
    "    table_results.loc[idx][\"hr10_valid\"] = hr10_valid\n",
    "    table_results.loc[idx][\"hr10_test\"] = hr10_test\n",
    "    \n",
    "    table_results.loc[idx][\"mrr_valid\"] = mrr_valid\n",
    "    table_results.loc[idx][\"mrr_test\"] = mrr_test "
   ]
  },
  {
   "cell_type": "code",
   "execution_count": 25,
   "metadata": {},
   "outputs": [
    {
     "data": {
      "text/html": [
       "<div>\n",
       "<style scoped>\n",
       "    .dataframe tbody tr th:only-of-type {\n",
       "        vertical-align: middle;\n",
       "    }\n",
       "\n",
       "    .dataframe tbody tr th {\n",
       "        vertical-align: top;\n",
       "    }\n",
       "\n",
       "    .dataframe thead th {\n",
       "        text-align: right;\n",
       "    }\n",
       "</style>\n",
       "<table border=\"1\" class=\"dataframe\">\n",
       "  <thead>\n",
       "    <tr style=\"text-align: right;\">\n",
       "      <th></th>\n",
       "      <th>iter</th>\n",
       "      <th>rank</th>\n",
       "      <th>l2</th>\n",
       "      <th>time_train</th>\n",
       "      <th>time_hr</th>\n",
       "      <th>error</th>\n",
       "      <th>hr1_valid</th>\n",
       "      <th>hr1_test</th>\n",
       "      <th>hr3_valid</th>\n",
       "      <th>hr3_test</th>\n",
       "      <th>hr10_valid</th>\n",
       "      <th>hr10_test</th>\n",
       "      <th>mrr_valid</th>\n",
       "      <th>mrr_test</th>\n",
       "    </tr>\n",
       "  </thead>\n",
       "  <tbody>\n",
       "    <tr>\n",
       "      <td>1</td>\n",
       "      <td>2.0</td>\n",
       "      <td>25.0</td>\n",
       "      <td>3.0</td>\n",
       "      <td>57.915908</td>\n",
       "      <td>173.991792</td>\n",
       "      <td>0.504821</td>\n",
       "      <td>0.087254</td>\n",
       "      <td>0.085068</td>\n",
       "      <td>0.170003</td>\n",
       "      <td>0.169501</td>\n",
       "      <td>0.284745</td>\n",
       "      <td>0.282175</td>\n",
       "      <td>0.151616</td>\n",
       "      <td>0.150058</td>\n",
       "    </tr>\n",
       "    <tr>\n",
       "      <td>2</td>\n",
       "      <td>2.0</td>\n",
       "      <td>50.0</td>\n",
       "      <td>3.0</td>\n",
       "      <td>77.459595</td>\n",
       "      <td>187.904727</td>\n",
       "      <td>0.467976</td>\n",
       "      <td>0.108412</td>\n",
       "      <td>0.109694</td>\n",
       "      <td>0.174109</td>\n",
       "      <td>0.171553</td>\n",
       "      <td>0.278586</td>\n",
       "      <td>0.272061</td>\n",
       "      <td>0.165335</td>\n",
       "      <td>0.164182</td>\n",
       "    </tr>\n",
       "    <tr>\n",
       "      <td>3</td>\n",
       "      <td>2.0</td>\n",
       "      <td>100.0</td>\n",
       "      <td>3.0</td>\n",
       "      <td>170.230220</td>\n",
       "      <td>245.698953</td>\n",
       "      <td>0.454250</td>\n",
       "      <td>0.121300</td>\n",
       "      <td>0.118734</td>\n",
       "      <td>0.209866</td>\n",
       "      <td>0.203606</td>\n",
       "      <td>0.335443</td>\n",
       "      <td>0.330304</td>\n",
       "      <td>0.191870</td>\n",
       "      <td>0.187841</td>\n",
       "    </tr>\n",
       "    <tr>\n",
       "      <td>4</td>\n",
       "      <td>2.0</td>\n",
       "      <td>200.0</td>\n",
       "      <td>3.0</td>\n",
       "      <td>601.279681</td>\n",
       "      <td>372.757279</td>\n",
       "      <td>0.448548</td>\n",
       "      <td>0.143370</td>\n",
       "      <td>0.141992</td>\n",
       "      <td>0.248760</td>\n",
       "      <td>0.246555</td>\n",
       "      <td>0.399544</td>\n",
       "      <td>0.397000</td>\n",
       "      <td>0.226974</td>\n",
       "      <td>0.225227</td>\n",
       "    </tr>\n",
       "    <tr>\n",
       "      <td>5</td>\n",
       "      <td>2.0</td>\n",
       "      <td>300.0</td>\n",
       "      <td>3.0</td>\n",
       "      <td>1388.557713</td>\n",
       "      <td>622.985583</td>\n",
       "      <td>0.440729</td>\n",
       "      <td>0.166182</td>\n",
       "      <td>0.162904</td>\n",
       "      <td>0.266724</td>\n",
       "      <td>0.260188</td>\n",
       "      <td>0.406159</td>\n",
       "      <td>0.403205</td>\n",
       "      <td>0.245227</td>\n",
       "      <td>0.241069</td>\n",
       "    </tr>\n",
       "    <tr>\n",
       "      <td>6</td>\n",
       "      <td>2.0</td>\n",
       "      <td>400.0</td>\n",
       "      <td>3.0</td>\n",
       "      <td>2581.152166</td>\n",
       "      <td>756.841233</td>\n",
       "      <td>0.448364</td>\n",
       "      <td>0.185572</td>\n",
       "      <td>0.176732</td>\n",
       "      <td>0.296436</td>\n",
       "      <td>0.287648</td>\n",
       "      <td>0.446136</td>\n",
       "      <td>0.439949</td>\n",
       "      <td>0.270000</td>\n",
       "      <td>0.262232</td>\n",
       "    </tr>\n",
       "    <tr>\n",
       "      <td>7</td>\n",
       "      <td>2.0</td>\n",
       "      <td>600.0</td>\n",
       "      <td>3.0</td>\n",
       "      <td>6361.325325</td>\n",
       "      <td>1095.169471</td>\n",
       "      <td>0.436204</td>\n",
       "      <td>0.151069</td>\n",
       "      <td>0.147904</td>\n",
       "      <td>0.258112</td>\n",
       "      <td>0.252907</td>\n",
       "      <td>0.393670</td>\n",
       "      <td>0.386886</td>\n",
       "      <td>0.233253</td>\n",
       "      <td>0.228886</td>\n",
       "    </tr>\n",
       "    <tr>\n",
       "      <td>8</td>\n",
       "      <td>2.0</td>\n",
       "      <td>700.0</td>\n",
       "      <td>3.0</td>\n",
       "      <td>9149.126648</td>\n",
       "      <td>1254.202000</td>\n",
       "      <td>0.438820</td>\n",
       "      <td>0.197434</td>\n",
       "      <td>0.191146</td>\n",
       "      <td>0.314172</td>\n",
       "      <td>0.304016</td>\n",
       "      <td>0.449672</td>\n",
       "      <td>0.445959</td>\n",
       "      <td>0.282388</td>\n",
       "      <td>0.275306</td>\n",
       "    </tr>\n",
       "  </tbody>\n",
       "</table>\n",
       "</div>"
      ],
      "text/plain": [
       "   iter   rank   l2   time_train      time_hr     error  hr1_valid  hr1_test  \\\n",
       "1   2.0   25.0  3.0    57.915908   173.991792  0.504821   0.087254  0.085068   \n",
       "2   2.0   50.0  3.0    77.459595   187.904727  0.467976   0.108412  0.109694   \n",
       "3   2.0  100.0  3.0   170.230220   245.698953  0.454250   0.121300  0.118734   \n",
       "4   2.0  200.0  3.0   601.279681   372.757279  0.448548   0.143370  0.141992   \n",
       "5   2.0  300.0  3.0  1388.557713   622.985583  0.440729   0.166182  0.162904   \n",
       "6   2.0  400.0  3.0  2581.152166   756.841233  0.448364   0.185572  0.176732   \n",
       "7   2.0  600.0  3.0  6361.325325  1095.169471  0.436204   0.151069  0.147904   \n",
       "8   2.0  700.0  3.0  9149.126648  1254.202000  0.438820   0.197434  0.191146   \n",
       "\n",
       "   hr3_valid  hr3_test  hr10_valid  hr10_test  mrr_valid  mrr_test  \n",
       "1   0.170003  0.169501    0.284745   0.282175   0.151616  0.150058  \n",
       "2   0.174109  0.171553    0.278586   0.272061   0.165335  0.164182  \n",
       "3   0.209866  0.203606    0.335443   0.330304   0.191870  0.187841  \n",
       "4   0.248760  0.246555    0.399544   0.397000   0.226974  0.225227  \n",
       "5   0.266724  0.260188    0.406159   0.403205   0.245227  0.241069  \n",
       "6   0.296436  0.287648    0.446136   0.439949   0.270000  0.262232  \n",
       "7   0.258112  0.252907    0.393670   0.386886   0.233253  0.228886  \n",
       "8   0.314172  0.304016    0.449672   0.445959   0.282388  0.275306  "
      ]
     },
     "execution_count": 25,
     "metadata": {},
     "output_type": "execute_result"
    }
   ],
   "source": [
    "table_results"
   ]
  },
  {
   "cell_type": "code",
   "execution_count": 27,
   "metadata": {},
   "outputs": [],
   "source": [
    "table_results.to_csv(\"Link_Prediction_Factors/FB15K237/results.csv\")"
   ]
  },
  {
   "cell_type": "code",
   "execution_count": 29,
   "metadata": {},
   "outputs": [
    {
     "data": {
      "text/plain": [
       "[<matplotlib.lines.Line2D at 0x7f6a9a50e250>]"
      ]
     },
     "execution_count": 29,
     "metadata": {},
     "output_type": "execute_result"
    },
    {
     "data": {
      "image/png": "[encoded data removed]",
      "text/plain": [
       "<Figure size 432x288 with 1 Axes>"
      ]
     },
     "metadata": {
      "needs_background": "light"
     },
     "output_type": "display_data"
    }
   ],
   "source": [
    "plt.xlabel(\"Rank\")\n",
    "plt.ylabel(\"HR@10\")\n",
    "plt.title(f\"FB15K237 / WRCP-ALS3\")\n",
    "plt.xticks(table_results['rank'])\n",
    "#plt.yscale(\"log\")\n",
    "plt.plot(table_results['rank'], table_results['hr10_test'], '-*', c=\"#8b0a50\")"
   ]
  },
  {
   "cell_type": "markdown",
   "metadata": {},
   "source": [
    "## Merge train and valid sets:"
   ]
  },
  {
   "cell_type": "code",
   "execution_count": 42,
   "metadata": {},
   "outputs": [
    {
     "data": {
      "text/plain": [
       "(14206, 235, 14206)"
      ]
     },
     "execution_count": 42,
     "metadata": {},
     "output_type": "execute_result"
    }
   ],
   "source": [
    "tv_values = [1] * len(train_valid_triples)\n",
    "tv_values = np.array(tv_values, dtype=np.float64)\n",
    "\n",
    "tv_coords = np.array(train_valid_triples, dtype=np.int32)\n",
    "nnz = len(train_valid_triples)\n",
    "data_shape = (len(entity_list), len(relation_list), len(entity_list))\n",
    "data_shape"
   ]
  },
  {
   "cell_type": "code",
   "execution_count": 43,
   "metadata": {},
   "outputs": [],
   "source": [
    "max_iter = 2\n",
    "rank = 700\n",
    "l2 = 3e0\n",
    "seed = 13"
   ]
  },
  {
   "cell_type": "code",
   "execution_count": 44,
   "metadata": {},
   "outputs": [
    {
     "name": "stdout",
     "output_type": "stream",
     "text": [
      "CPU times: user 3h 36min 47s, sys: 3min 59s, total: 3h 40min 47s\n",
      "Wall time: 2h 44min 50s\n"
     ]
    }
   ],
   "source": [
    "%%time\n",
    "a, b, c, err_arr, it = wrcp.wrcp_als3(\n",
    "    coords, values, data_shape,\n",
    "    rank=rank,\n",
    "    l2=l2,\n",
    "    max_iter=max_iter,\n",
    "    seed=seed,\n",
    "    show_iter=False,\n",
    "    it_over=False,\n",
    ")"
   ]
  },
  {
   "cell_type": "code",
   "execution_count": 45,
   "metadata": {},
   "outputs": [
    {
     "name": "stdout",
     "output_type": "stream",
     "text": [
      "CPU times: user 46min 58s, sys: 8min 57s, total: 55min 56s\n",
      "Wall time: 55min 45s\n"
     ]
    },
    {
     "data": {
      "text/plain": [
       "(0.4224198573007738, 8407, 19902)"
      ]
     },
     "execution_count": 45,
     "metadata": {},
     "output_type": "execute_result"
    }
   ],
   "source": [
    "%%time\n",
    "hr(test_filter, test_triples, a, b, c, [1, 3, 10])"
   ]
  },
  {
   "cell_type": "markdown",
   "metadata": {},
   "source": [
    "### Save Factors:"
   ]
  },
  {
   "cell_type": "code",
   "execution_count": 47,
   "metadata": {},
   "outputs": [],
   "source": [
    "path_factors = \"Link_Prediction_Factors/FB15K237/\"\n",
    "\n",
    "pickle.dump(a, open(path_factors + 'A_factor', 'wb'))\n",
    "pickle.dump(b, open(path_factors + 'B_factor', 'wb'))\n",
    "pickle.dump(c, open(path_factors + 'C_factor', 'wb'))\n",
    "pickle.dump(err_arr, open(path_factors + 'Errors', 'wb'))"
   ]
  },
  {
   "cell_type": "markdown",
   "metadata": {},
   "source": [
    "## We can load calculated factors:"
   ]
  },
  {
   "cell_type": "code",
   "execution_count": null,
   "metadata": {},
   "outputs": [],
   "source": [
    "path_factors = \"Link_Prediction_Factors/FB15K237/\"\n",
    "\n",
    "a = pickle.load(open(path_factors + 'A_factor', 'rb'))\n",
    "b = pickle.load(open(path_factors + 'B_factor', 'rb'))\n",
    "c = pickle.load(open(path_factors + 'C_factor', 'rb'))"
   ]
  },
  {
   "cell_type": "code",
   "execution_count": null,
   "metadata": {},
   "outputs": [],
   "source": [
    "%%time\n",
    "hr(valid_filter, valid_triples, a, b, c, [1, 3, 10])"
   ]
  },
  {
   "cell_type": "code",
   "execution_count": null,
   "metadata": {},
   "outputs": [],
   "source": [
    "%%time\n",
    "hr(test_filter, test_triples, a, b, c, [1, 3, 10])"
   ]
  },
  {
   "cell_type": "markdown",
   "metadata": {},
   "source": [
    "## Let's look at Tucker TD:"
   ]
  },
  {
   "cell_type": "code",
   "execution_count": 45,
   "metadata": {},
   "outputs": [],
   "source": [
    "import polara.lib.hosvd as hosvd"
   ]
  },
  {
   "cell_type": "code",
   "execution_count": 66,
   "metadata": {},
   "outputs": [
    {
     "name": "stdout",
     "output_type": "stream",
     "text": [
      "Step 1 of 100\n",
      "growth of the core: 1.000000\n",
      "Step 2 of 100\n",
      "growth of the core: 0.071140\n",
      "Step 3 of 100\n",
      "growth of the core: 0.004568\n",
      "Core is no longer growing. Norm of the core: 264.036868\n",
      "Done\n",
      "CPU times: user 57.5 s, sys: 1.46 s, total: 59 s\n",
      "Wall time: 32.9 s\n"
     ]
    }
   ],
   "source": [
    "%%time\n",
    "core_shape = (50, 50, 50)\n",
    "p, q, r, g = hosvd.tucker_als(\n",
    "    idx=coords,\n",
    "    val=values,\n",
    "    shape=data_shape,\n",
    "    core_shape=core_shape,\n",
    "    iters=100,\n",
    "    growth_tol=0.01,\n",
    "    batch_run=False,\n",
    "    seed=15,\n",
    ")"
   ]
  },
  {
   "cell_type": "code",
   "execution_count": 47,
   "metadata": {},
   "outputs": [],
   "source": [
    "from numba import jit\n",
    "\n",
    "@jit(nopython=True) \n",
    "def sqrt_err_tucker(coo_tensor, vals, shape, a, b, c, g):\n",
    "    result = 0.0\n",
    "    for item in range(coo_tensor.shape[0]):\n",
    "        coord = coo_tensor[item]\n",
    "        elem = 0.0\n",
    "        for p in range(a.shape[1]):\n",
    "            for q in range(b.shape[1]):\n",
    "                for r in range(c.shape[1]):\n",
    "                    elem += g[p, q, r] * a[coord[0], p] * b[coord[1], q] * c[coord[2], r]\n",
    "        \n",
    "        result += (vals[item] - elem)**2  \n",
    "    return np.sqrt(result)\n",
    "\n",
    "@jit(nopython=True) \n",
    "def sqrt_err_relative_tucker(coo_tensor, vals, shape, a, b, c, g):\n",
    "    result = sqrt_err_tucker(coo_tensor, vals, shape, a, b, c, g)        \n",
    "    return result / np.sqrt((vals**2).sum())"
   ]
  },
  {
   "cell_type": "code",
   "execution_count": 48,
   "metadata": {},
   "outputs": [
    {
     "name": "stdout",
     "output_type": "stream",
     "text": [
      "Relative error = 0.8359549117941131\n"
     ]
    }
   ],
   "source": [
    "rerr = sqrt_err_relative_tucker(\n",
    "    coords,\n",
    "    values,\n",
    "    data_shape,\n",
    "    p,\n",
    "    q,\n",
    "    r,\n",
    "    g,\n",
    ")\n",
    "print(f\"Relative error = {rerr}\")"
   ]
  },
  {
   "cell_type": "code",
   "execution_count": 89,
   "metadata": {},
   "outputs": [
    {
     "data": {
      "text/plain": [
       "(0.0, 0, 5)"
      ]
     },
     "execution_count": 89,
     "metadata": {},
     "output_type": "execute_result"
    }
   ],
   "source": [
    "@jit(nopython=True)\n",
    "def hit_rate_tucker_raw(test_triples, a, b, c, g,\n",
    "             how_many=10, iter_show=False, freq=3000):\n",
    "    \n",
    "    total = len(test_triples)\n",
    "    hit = 0\n",
    "    iteration = 0\n",
    "    for entity in test_triples:\n",
    "        iteration += 1\n",
    "        p = entity[0]\n",
    "        q = entity[1]\n",
    "        r = entity[2]\n",
    "        \n",
    "        candidate_values = np.sum(g[p, q, :] * a[p, :] * b[q, :] * c, axis=1)\n",
    "        candidate_values = sigmoid(candidate_values)\n",
    "        \n",
    "        top = np.argsort(candidate_values)[::-1][:how_many]\n",
    "        \n",
    "        for x in top:\n",
    "            if x == r:\n",
    "                hit += 1\n",
    "                \n",
    "        if iter_show:\n",
    "            if iteration % freq == 0:\n",
    "                print(hit / iteration, hit, iteration)\n",
    "            \n",
    "    return hit / total, hit, total\n",
    "\n",
    "hit_rate_tucker_raw(\n",
    "    test_triples[:5],\n",
    "    p, q, r, g, 10,\n",
    "    iter_show=False,\n",
    "    freq=2,\n",
    ")"
   ]
  },
  {
   "cell_type": "code",
   "execution_count": null,
   "metadata": {},
   "outputs": [
    {
     "name": "stdout",
     "output_type": "stream",
     "text": [
      "0.017 17 1000\n",
      "0.0125 25 2000\n",
      "0.010333333333333333 31 3000\n",
      "0.01 40 4000\n",
      "0.0108 54 5000\n",
      "0.011"
     ]
    }
   ],
   "source": [
    "hit_rate_tucker_raw(\n",
    "    test_triples,\n",
    "    p, q, r, g, 10,\n",
    "    iter_show=True,\n",
    "    freq=1000,\n",
    ")"
   ]
  },
  {
   "cell_type": "code",
   "execution_count": null,
   "metadata": {},
   "outputs": [],
   "source": []
  }
 ],
 "metadata": {
  "kernelspec": {
   "display_name": "Python 3",
   "language": "python",
   "name": "python3"
  },
  "language_info": {
   "codemirror_mode": {
    "name": "ipython",
    "version": 3
   },
   "file_extension": ".py",
   "mimetype": "text/x-python",
   "name": "python",
   "nbconvert_exporter": "python",
   "pygments_lexer": "ipython3",
   "version": "3.7.4"
  }
 },
 "nbformat": 4,
 "nbformat_minor": 4
}
