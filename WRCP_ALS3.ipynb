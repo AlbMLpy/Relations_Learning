{
 "cells": [
  {
   "cell_type": "code",
   "execution_count": 1,
   "metadata": {},
   "outputs": [],
   "source": [
    "import numpy as np\n",
    "import matplotlib.pyplot as plt\n",
    "from numba import jit, prange\n",
    "\n",
    "from general_functions import sqrt_err_relative, check_coo_tensor, gen_coo_tensor"
   ]
  },
  {
   "cell_type": "code",
   "execution_count": 2,
   "metadata": {},
   "outputs": [],
   "source": [
    "@jit(nopython=True)\n",
    "def generate_system(coo_tensor, vals, shape, mode, a, b, l2, step):\n",
    "    mtx = np.zeros((a.shape[1], a.shape[1]))\n",
    "    right = np.zeros((a.shape[1]))\n",
    "    coo_step = coo_tensor[coo_tensor[:, mode] == step]\n",
    "    \n",
    "    if mode == 0:\n",
    "        mode_a = 1 \n",
    "        mode_b = 2\n",
    "        \n",
    "    elif mode == 1:\n",
    "        mode_a = 0\n",
    "        mode_b = 2\n",
    "        \n",
    "    else:\n",
    "        mode_a = 0\n",
    "        mode_b = 1\n",
    "        \n",
    "    for i in range(a.shape[1]):\n",
    "        for j in range(a.shape[1]):\n",
    "            for item in range(coo_step.shape[0]):\n",
    "                coord = coo_step[item]\n",
    "                mtx[i, j] += (a[coord[mode_a], i] \n",
    "                              * b[coord[mode_b], i] \n",
    "                              * a[coord[mode_a], j] \n",
    "                              * b[coord[mode_b], j])\n",
    "                if i == 0:\n",
    "                    right[j] += a[coord[mode_a], j] * b[coord[mode_b], j] * vals[item]\n",
    "            \n",
    "            if i == j:\n",
    "                mtx[i, j] += l2\n",
    "    \n",
    "    return mtx, right"
   ]
  },
  {
   "cell_type": "code",
   "execution_count": 127,
   "metadata": {},
   "outputs": [],
   "source": [
    "@jit(nopython=True) \n",
    "def wrcp_als3(coo_tensor,\n",
    "              vals,\n",
    "              shape,\n",
    "              rank=5,\n",
    "              l2=0.5,\n",
    "              max_iter=50,\n",
    "              tol=1e-8):\n",
    "    \n",
    "    a = np.random.rand(shape[0], rank)\n",
    "    b = np.random.rand(shape[1], rank)\n",
    "    c = np.random.rand(shape[2], rank)\n",
    "    err_arr = np.empty((max_iter, 1))  \n",
    "    \n",
    "    it = 0\n",
    "    err1 = 1.0\n",
    "    err2 = 0.0\n",
    "    while np.abs(err1 - err2) > tol:\n",
    "        it += 1\n",
    "        \n",
    "        for i in range(shape[0]):\n",
    "            A, right = generate_system(coo_tensor,\n",
    "                                       vals,\n",
    "                                       shape,\n",
    "                                       0,\n",
    "                                       b,\n",
    "                                       c, \n",
    "                                       l2,\n",
    "                                       i)\n",
    "            \n",
    "            a[i, :] = np.linalg.pinv(A) @ right\n",
    "            #a[i, :] = np.linalg.solve(A, right)\n",
    "            \n",
    "        for j in range(shape[1]):\n",
    "            A, right = generate_system(coo_tensor,\n",
    "                                       vals,\n",
    "                                       shape,\n",
    "                                       1,\n",
    "                                       a,\n",
    "                                       c, \n",
    "                                       l2,\n",
    "                                       j)\n",
    "            \n",
    "            b[j :] = np.linalg.pinv(A) @ right\n",
    "            #b[j :] = np.linalg.solve(A, right)\n",
    "            \n",
    "        for k in range(shape[2]):   \n",
    "            A, right = generate_system(coo_tensor,\n",
    "                                       vals,\n",
    "                                       shape,\n",
    "                                       2,\n",
    "                                       a,\n",
    "                                       b, \n",
    "                                       l2,\n",
    "                                       k)\n",
    "            \n",
    "            c[k, :] = np.linalg.pinv(A) @ right\n",
    "            #c[k, :] = np.linalg.solve(A, right)\n",
    "    \n",
    "        error = sqrt_err_relative(coo_tensor, vals, shape, a, b, c)\n",
    "        err_arr[it - 1] = error\n",
    "        err2 = err1\n",
    "        err1 = error\n",
    "        if it == max_iter:\n",
    "            print(\"iterations over\")\n",
    "            break\n",
    "    \n",
    "    return a, b, c, err_arr"
   ]
  },
  {
   "cell_type": "markdown",
   "metadata": {},
   "source": [
    "## Random Matrix"
   ]
  },
  {
   "cell_type": "code",
   "execution_count": 6,
   "metadata": {},
   "outputs": [
    {
     "name": "stdout",
     "output_type": "stream",
     "text": [
      "CPU times: user 2.42 ms, sys: 0 ns, total: 2.42 ms\n",
      "Wall time: 4.39 ms\n"
     ]
    }
   ],
   "source": [
    "%%time\n",
    "init_shape = (10, 20, 30)\n",
    "coo, vals = gen_coo_tensor(init_shape, density=0.02)\n",
    "assert check_coo_tensor(coo)!= \"Bad\""
   ]
  },
  {
   "cell_type": "code",
   "execution_count": 7,
   "metadata": {},
   "outputs": [
    {
     "data": {
      "text/plain": [
       "120"
      ]
     },
     "execution_count": 7,
     "metadata": {},
     "output_type": "execute_result"
    }
   ],
   "source": [
    "coo.shape[0]"
   ]
  },
  {
   "cell_type": "code",
   "execution_count": 149,
   "metadata": {},
   "outputs": [
    {
     "name": "stdout",
     "output_type": "stream",
     "text": [
      "iterations over\n",
      "CPU times: user 366 ms, sys: 24 ms, total: 390 ms\n",
      "Wall time: 222 ms\n"
     ]
    }
   ],
   "source": [
    "%%time\n",
    "max_iter = 12\n",
    "rank = 40\n",
    "a, b, c, err = wrcp_als3(coo, vals, init_shape, rank=rank, l2=0.9, max_iter=max_iter)"
   ]
  },
  {
   "cell_type": "code",
   "execution_count": 150,
   "metadata": {},
   "outputs": [
    {
     "name": "stdout",
     "output_type": "stream",
     "text": [
      "Rel err = 1.9547440228145752;\n"
     ]
    }
   ],
   "source": [
    "rerror = sqrt_err_relative(coo, vals, init_shape, a, b, c)\n",
    "print(f\"Rel err = {rerror};\")"
   ]
  },
  {
   "cell_type": "code",
   "execution_count": 151,
   "metadata": {},
   "outputs": [
    {
     "data": {
      "text/plain": [
       "[<matplotlib.lines.Line2D at 0x7fb2867f3d90>]"
      ]
     },
     "execution_count": 151,
     "metadata": {},
     "output_type": "execute_result"
    },
    {
     "data": {
      "image/png": "[encoded data removed]",
      "text/plain": [
       "<Figure size 432x288 with 1 Axes>"
      ]
     },
     "metadata": {
      "needs_background": "light"
     },
     "output_type": "display_data"
    }
   ],
   "source": [
    "plt.xlabel(\"Iteration\")\n",
    "plt.ylabel(\"Relative error\")\n",
    "plt.title(f\"Random tensor{init_shape} / WRCP-ALS3(R={rank})\")\n",
    "plt.xticks(np.arange(max_iter))\n",
    "plt.yscale(\"log\")\n",
    "plt.plot(np.arange(max_iter), err[:max_iter], 'r-*')"
   ]
  },
  {
   "cell_type": "markdown",
   "metadata": {},
   "source": [
    "## Small Rank Matrix"
   ]
  },
  {
   "cell_type": "code",
   "execution_count": 152,
   "metadata": {},
   "outputs": [
    {
     "data": {
      "text/plain": [
       "315"
      ]
     },
     "execution_count": 152,
     "metadata": {},
     "output_type": "execute_result"
    }
   ],
   "source": [
    "shape = (5, 7, 9)\n",
    "rank = 3\n",
    "ten = np.zeros(shape=shape)\n",
    "p = np.zeros(shape=(shape[0], rank))\n",
    "q = np.zeros(shape=(shape[1], rank))\n",
    "r = np.zeros(shape=(shape[2], rank))\n",
    "all_elem = np.prod(shape)\n",
    "all_elem"
   ]
  },
  {
   "cell_type": "code",
   "execution_count": 153,
   "metadata": {},
   "outputs": [],
   "source": [
    "p[0] = [1, 0, 0]\n",
    "p[1] = [0, 1, 0]\n",
    "p[2] = [0, 0, 1]\n",
    "\n",
    "q[0] = [1, 0, 0]\n",
    "q[1] = [0, 1, 0]\n",
    "q[2] = [0, 0, 1]\n",
    "\n",
    "r[0] = [1, 0, 0]\n",
    "r[1] = [0, 1, 0]\n",
    "r[2] = [0, 0, 1]\n",
    "\n",
    "p[3] = [1, 1, 1]\n",
    "q[3] = [1, 0, 1]\n",
    "r[3] = [1, 0, 1]\n",
    "\n",
    "p[4] = [1, 1, 1]\n",
    "q[5] = [1, 0, 1]\n",
    "r[6] = [1, 0, 1]"
   ]
  },
  {
   "cell_type": "code",
   "execution_count": 154,
   "metadata": {},
   "outputs": [],
   "source": [
    "coo = list()\n",
    "vals = list()\n",
    "nnz = 0\n",
    "for i in range(shape[0]):\n",
    "    for j in range(shape[1]):\n",
    "        for k in range(shape[2]):\n",
    "            temp = np.sum(p[i, :] * q[j, :] * r[k, :])\n",
    "            ten[i, j, k] = temp\n",
    "            if temp != 0:\n",
    "                vals.append(temp)\n",
    "                coo.append((i, j, k))\n",
    "                nnz += 1\n",
    "coo = np.array(coo)\n",
    "vals = np.array(vals)"
   ]
  },
  {
   "cell_type": "code",
   "execution_count": 155,
   "metadata": {},
   "outputs": [
    {
     "data": {
      "text/plain": [
       "49"
      ]
     },
     "execution_count": 155,
     "metadata": {},
     "output_type": "execute_result"
    }
   ],
   "source": [
    "nnz"
   ]
  },
  {
   "cell_type": "code",
   "execution_count": 302,
   "metadata": {},
   "outputs": [
    {
     "name": "stdout",
     "output_type": "stream",
     "text": [
      "iterations over\n",
      "CPU times: user 6.36 ms, sys: 47 µs, total: 6.4 ms\n",
      "Wall time: 7.16 ms\n"
     ]
    }
   ],
   "source": [
    "%%time\n",
    "max_iter = 10\n",
    "rank = 3\n",
    "a, b, c, err = wrcp_als3(coo, vals, shape, rank=rank, l2=0, max_iter=max_iter)"
   ]
  },
  {
   "cell_type": "code",
   "execution_count": 303,
   "metadata": {},
   "outputs": [
    {
     "name": "stdout",
     "output_type": "stream",
     "text": [
      "Rel err = 0.938725251123111;\n"
     ]
    }
   ],
   "source": [
    "rerror = sqrt_err_relative(coo, vals, init_shape, a, b, c)\n",
    "print(f\"Rel err = {rerror};\")"
   ]
  },
  {
   "cell_type": "code",
   "execution_count": 304,
   "metadata": {},
   "outputs": [
    {
     "data": {
      "text/plain": [
       "[<matplotlib.lines.Line2D at 0x7fb28535ab10>]"
      ]
     },
     "execution_count": 304,
     "metadata": {},
     "output_type": "execute_result"
    },
    {
     "data": {
      "image/png": "[encoded data removed]",
      "text/plain": [
       "<Figure size 432x288 with 1 Axes>"
      ]
     },
     "metadata": {
      "needs_background": "light"
     },
     "output_type": "display_data"
    }
   ],
   "source": [
    "plt.xlabel(\"Iteration\")\n",
    "plt.ylabel(\"Relative error\")\n",
    "plt.title(f\"Random tensor{init_shape} / WRCP-ALS3(R={rank})\")\n",
    "plt.xticks(np.arange(max_iter))\n",
    "plt.yscale(\"log\")\n",
    "plt.plot(np.arange(max_iter), err[:max_iter], 'r-*')"
   ]
  },
  {
   "cell_type": "code",
   "execution_count": 168,
   "metadata": {},
   "outputs": [],
   "source": [
    "import tensorly as tl\n",
    "from tensorly.decomposition import parafac"
   ]
  },
  {
   "cell_type": "code",
   "execution_count": 305,
   "metadata": {},
   "outputs": [],
   "source": [
    "_, f = parafac(ten, 3, init=\"random\", random_state=1)"
   ]
  },
  {
   "cell_type": "code",
   "execution_count": 306,
   "metadata": {},
   "outputs": [
    {
     "name": "stdout",
     "output_type": "stream",
     "text": [
      "Rel err = 1.1641833883783917e-07;\n"
     ]
    }
   ],
   "source": [
    "rerror = sqrt_err_relative(coo, vals, init_shape, f[0], f[1], f[2])\n",
    "print(f\"Rel err = {rerror};\")"
   ]
  },
  {
   "cell_type": "code",
   "execution_count": 187,
   "metadata": {},
   "outputs": [],
   "source": [
    "import CP_ALS3 as cp"
   ]
  },
  {
   "cell_type": "code",
   "execution_count": 315,
   "metadata": {},
   "outputs": [
    {
     "name": "stdout",
     "output_type": "stream",
     "text": [
      "iterations over\n",
      "CPU times: user 3.35 ms, sys: 0 ns, total: 3.35 ms\n",
      "Wall time: 3.35 ms\n"
     ]
    }
   ],
   "source": [
    "%%time\n",
    "max_iter = 15\n",
    "rank = 3\n",
    "a, b, c, err = cp.cp_als3(coo, vals, shape, rank=rank, max_iter=max_iter)"
   ]
  },
  {
   "cell_type": "code",
   "execution_count": 316,
   "metadata": {},
   "outputs": [
    {
     "name": "stdout",
     "output_type": "stream",
     "text": [
      "Rel err = 0.009859650497655362;\n"
     ]
    }
   ],
   "source": [
    "rerror = sqrt_err_relative(coo, vals, init_shape, a, b, c)\n",
    "print(f\"Rel err = {rerror};\")"
   ]
  },
  {
   "cell_type": "code",
   "execution_count": 211,
   "metadata": {},
   "outputs": [
    {
     "data": {
      "text/plain": [
       "[<matplotlib.lines.Line2D at 0x7fb28ad15310>]"
      ]
     },
     "execution_count": 211,
     "metadata": {},
     "output_type": "execute_result"
    },
    {
     "data": {
      "image/png": "[encoded data removed]",
      "text/plain": [
       "<Figure size 432x288 with 1 Axes>"
      ]
     },
     "metadata": {
      "needs_background": "light"
     },
     "output_type": "display_data"
    }
   ],
   "source": [
    "plt.xlabel(\"Iteration\")\n",
    "plt.ylabel(\"Relative error\")\n",
    "plt.title(f\"Random tensor{init_shape} / WRCP-ALS3(R={rank})\")\n",
    "plt.xticks(np.arange(max_iter))\n",
    "plt.yscale(\"log\")\n",
    "plt.plot(np.arange(max_iter), err[:max_iter], 'r-*')"
   ]
  }
 ],
 "metadata": {
  "kernelspec": {
   "display_name": "Python 3",
   "language": "python",
   "name": "python3"
  },
  "language_info": {
   "codemirror_mode": {
    "name": "ipython",
    "version": 3
   },
   "file_extension": ".py",
   "mimetype": "text/x-python",
   "name": "python",
   "nbconvert_exporter": "python",
   "pygments_lexer": "ipython3",
   "version": "3.7.4"
  }
 },
 "nbformat": 4,
 "nbformat_minor": 4
}
