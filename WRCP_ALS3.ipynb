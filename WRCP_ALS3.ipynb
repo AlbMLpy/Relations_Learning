{
 "cells": [
  {
   "cell_type": "code",
   "execution_count": 140,
   "metadata": {},
   "outputs": [],
   "source": [
    "import numpy as np\n",
    "import matplotlib.pyplot as plt\n",
    "from numba import jit, prange\n",
    "\n",
    "import tensorly as tl\n",
    "from tensorly.decomposition import parafac\n",
    "\n",
    "import CP_ALS3 as cp\n",
    "from general_functions import sqrt_err_relative, check_coo_tensor, gen_coo_tensor"
   ]
  },
  {
   "cell_type": "code",
   "execution_count": 141,
   "metadata": {},
   "outputs": [],
   "source": [
    "@jit(nopython=True)\n",
    "def generate_system(coo_tensor, vals, shape, mode, a, b, l2, step):\n",
    "    mtx = np.zeros((a.shape[1], a.shape[1]))\n",
    "    right = np.zeros((a.shape[1]))\n",
    "    mask = coo_tensor[:, mode] == step\n",
    "    coo_step = coo_tensor[mask]\n",
    "    vals_step = vals[mask]\n",
    "    \n",
    "    if mode == 0:\n",
    "        mode_a = 1 \n",
    "        mode_b = 2\n",
    "        \n",
    "    elif mode == 1:\n",
    "        mode_a = 0\n",
    "        mode_b = 2\n",
    "        \n",
    "    else:\n",
    "        mode_a = 0\n",
    "        mode_b = 1\n",
    "        \n",
    "    for i in range(a.shape[1]):\n",
    "        for j in range(a.shape[1]):\n",
    "            for item in range(coo_step.shape[0]):\n",
    "                coord = coo_step[item]\n",
    "                mtx[i, j] += (a[coord[mode_a], i] \n",
    "                              * b[coord[mode_b], i] \n",
    "                              * a[coord[mode_a], j] \n",
    "                              * b[coord[mode_b], j])\n",
    "                if i == 0:\n",
    "                    right[j] += a[coord[mode_a], j] * b[coord[mode_b], j] * vals_step[item]\n",
    "            \n",
    "            if i == j:\n",
    "                mtx[i, j] += l2\n",
    "    \n",
    "    return mtx, right"
   ]
  },
  {
   "cell_type": "code",
   "execution_count": 147,
   "metadata": {},
   "outputs": [],
   "source": [
    "@jit(nopython=True) \n",
    "def wrcp_als3(coo_tensor,\n",
    "              vals,\n",
    "              shape,\n",
    "              rank=5,\n",
    "              l2=0.5,\n",
    "              max_iter=50,\n",
    "              tol=1e-8):\n",
    "    \n",
    "    a = np.random.normal(0.0, 0.1, size=(shape[0], rank))\n",
    "    b = np.random.normal(0.0, 0.1, size=(shape[1], rank))\n",
    "    c = np.random.normal(0.0, 0.1, size=(shape[2], rank))\n",
    "    err_arr = np.empty((max_iter, 1))  \n",
    "    \n",
    "    it = 0\n",
    "    err1 = 1.0\n",
    "    err2 = 0.0\n",
    "    while np.abs(err1 - err2) > tol:\n",
    "        it += 1\n",
    "        \n",
    "        for i in range(shape[0]):\n",
    "            A, right = generate_system(coo_tensor,\n",
    "                                       vals,\n",
    "                                       shape,\n",
    "                                       0,\n",
    "                                       b,\n",
    "                                       c, \n",
    "                                       l2,\n",
    "                                       i)\n",
    "            \n",
    "            #a[i, :] = np.linalg.pinv(A) @ right\n",
    "            a[i, :] = np.linalg.solve(A, right)\n",
    "         \n",
    "        for j in range(shape[1]):\n",
    "            A, right = generate_system(coo_tensor,\n",
    "                                       vals,\n",
    "                                       shape,\n",
    "                                       1,\n",
    "                                       a,\n",
    "                                       c, \n",
    "                                       l2,\n",
    "                                       j)\n",
    "            \n",
    "            #b[j :] = np.linalg.pinv(A) @ right\n",
    "            b[j :] = np.linalg.solve(A, right)\n",
    "        \n",
    "        for k in prange(shape[2]):   \n",
    "            A, right = generate_system(coo_tensor,\n",
    "                                       vals,\n",
    "                                       shape,\n",
    "                                       2,\n",
    "                                       a,\n",
    "                                       b, \n",
    "                                       l2,\n",
    "                                       k)\n",
    "            \n",
    "            #c[k, :] = np.linalg.pinv(A) @ right\n",
    "            c[k, :] = np.linalg.solve(A, right)\n",
    "    \n",
    "        error = sqrt_err_relative(coo_tensor, vals, shape, a, b, c)\n",
    "        err_arr[it - 1] = error\n",
    "        err2 = err1\n",
    "        err1 = error\n",
    "        if it == max_iter:\n",
    "            print(\"iterations over\")\n",
    "            break\n",
    "    \n",
    "    return a, b, c, err_arr, it"
   ]
  },
  {
   "cell_type": "markdown",
   "metadata": {},
   "source": [
    "# Random Matrix:"
   ]
  },
  {
   "cell_type": "code",
   "execution_count": 143,
   "metadata": {},
   "outputs": [
    {
     "name": "stdout",
     "output_type": "stream",
     "text": [
      "CPU times: user 118 µs, sys: 2 µs, total: 120 µs\n",
      "Wall time: 127 µs\n"
     ]
    },
    {
     "data": {
      "text/plain": [
       "13"
      ]
     },
     "execution_count": 143,
     "metadata": {},
     "output_type": "execute_result"
    }
   ],
   "source": [
    "%%time\n",
    "init_shape = (7, 9, 11)\n",
    "coo, vals = gen_coo_tensor(init_shape, density=0.02)\n",
    "assert check_coo_tensor(coo)!= \"Bad\"\n",
    "coo.shape[0]"
   ]
  },
  {
   "cell_type": "markdown",
   "metadata": {},
   "source": [
    "## WRCP-ALS3:"
   ]
  },
  {
   "cell_type": "code",
   "execution_count": 153,
   "metadata": {},
   "outputs": [
    {
     "name": "stdout",
     "output_type": "stream",
     "text": [
      "Rel err = 2.454211405054028e-07;\n",
      "CPU times: user 1.31 ms, sys: 0 ns, total: 1.31 ms\n",
      "Wall time: 1.27 ms\n"
     ]
    }
   ],
   "source": [
    "%%time\n",
    "max_iter = 25\n",
    "rank = 3\n",
    "l2 = 1e-5\n",
    "a, b, c, err, it = wrcp_als3(coo, vals, init_shape, rank=rank, l2=l2, max_iter=max_iter)\n",
    "rerror = sqrt_err_relative(coo, vals, init_shape, a, b, c)\n",
    "print(f\"Rel err = {rerror};\")"
   ]
  },
  {
   "cell_type": "code",
   "execution_count": 154,
   "metadata": {},
   "outputs": [
    {
     "data": {
      "text/plain": [
       "[<matplotlib.lines.Line2D at 0x7f2518662f10>]"
      ]
     },
     "execution_count": 154,
     "metadata": {},
     "output_type": "execute_result"
    },
    {
     "data": {
      "image/png": "[encoded data removed]",
      "text/plain": [
       "<Figure size 432x288 with 1 Axes>"
      ]
     },
     "metadata": {
      "needs_background": "light"
     },
     "output_type": "display_data"
    }
   ],
   "source": [
    "plt.xlabel(\"Iteration\")\n",
    "plt.ylabel(\"Relative error\")\n",
    "plt.title(f\"Random tensor{init_shape} / WRCP-ALS3(R={rank}, l2={l2})\")\n",
    "plt.xticks(np.arange(it))\n",
    "plt.yscale(\"log\")\n",
    "plt.plot(np.arange(it), err[:it], 'r-*')"
   ]
  },
  {
   "cell_type": "markdown",
   "metadata": {},
   "source": [
    "# Small Rank Matrix:"
   ]
  },
  {
   "cell_type": "code",
   "execution_count": 155,
   "metadata": {},
   "outputs": [
    {
     "data": {
      "text/plain": [
       "315"
      ]
     },
     "execution_count": 155,
     "metadata": {},
     "output_type": "execute_result"
    }
   ],
   "source": [
    "shape = (5, 7, 9)\n",
    "rank = 3\n",
    "ten = np.zeros(shape=shape)\n",
    "p = np.zeros(shape=(shape[0], rank))\n",
    "q = np.zeros(shape=(shape[1], rank))\n",
    "r = np.zeros(shape=(shape[2], rank))\n",
    "all_elem = np.prod(shape)\n",
    "all_elem"
   ]
  },
  {
   "cell_type": "code",
   "execution_count": 156,
   "metadata": {},
   "outputs": [],
   "source": [
    "p[0] = [1, 0, 0]\n",
    "p[1] = [0, 1, 0]\n",
    "p[2] = [0, 0, 1]\n",
    "\n",
    "q[0] = [1, 0, 0]\n",
    "q[1] = [0, 1, 0]\n",
    "q[2] = [0, 0, 1]\n",
    "\n",
    "r[0] = [1, 0, 0]\n",
    "r[1] = [0, 1, 0]\n",
    "r[2] = [0, 0, 1]\n",
    "\n",
    "p[3] = [1, 1, 1]\n",
    "q[3] = [1, 0, 1]\n",
    "r[3] = [1, 0, 1]\n",
    "\n",
    "p[4] = [1, 1, 1]\n",
    "q[5] = [1, 0, 1]\n",
    "r[6] = [1, 0, 1]\n",
    "r[8] = [1, 1, 1]"
   ]
  },
  {
   "cell_type": "code",
   "execution_count": 157,
   "metadata": {},
   "outputs": [
    {
     "data": {
      "text/plain": [
       "66"
      ]
     },
     "execution_count": 157,
     "metadata": {},
     "output_type": "execute_result"
    }
   ],
   "source": [
    "coo = list()\n",
    "vals = list()\n",
    "nnz = 0\n",
    "for i in range(shape[0]):\n",
    "    for j in range(shape[1]):\n",
    "        for k in range(shape[2]):\n",
    "            temp = np.sum(p[i, :] * q[j, :] * r[k, :])\n",
    "            ten[i, j, k] = temp\n",
    "            if temp != 0:\n",
    "                vals.append(temp)\n",
    "                coo.append((i, j, k))\n",
    "                nnz += 1\n",
    "coo = np.array(coo)\n",
    "vals = np.array(vals)\n",
    "nnz"
   ]
  },
  {
   "cell_type": "markdown",
   "metadata": {},
   "source": [
    "## Let Max_Iter = 25:"
   ]
  },
  {
   "cell_type": "code",
   "execution_count": 158,
   "metadata": {},
   "outputs": [],
   "source": [
    "max_iter = 25\n",
    "rank = 3"
   ]
  },
  {
   "cell_type": "markdown",
   "metadata": {},
   "source": [
    "## WRCP-ALS3:"
   ]
  },
  {
   "cell_type": "code",
   "execution_count": 165,
   "metadata": {},
   "outputs": [
    {
     "name": "stdout",
     "output_type": "stream",
     "text": [
      "iterations over\n",
      "Rel err = 0.0025268461091489205;\n",
      "CPU times: user 2.09 ms, sys: 29 µs, total: 2.12 ms\n",
      "Wall time: 2.07 ms\n"
     ]
    }
   ],
   "source": [
    "%%time\n",
    "l2 = 1e-4\n",
    "a, b, c, err, it = wrcp_als3(coo, vals, shape, rank=rank, l2=l2, max_iter=max_iter)\n",
    "rerror = sqrt_err_relative(coo, vals, shape, a, b, c)\n",
    "print(f\"Rel err = {rerror};\")"
   ]
  },
  {
   "cell_type": "code",
   "execution_count": 166,
   "metadata": {},
   "outputs": [
    {
     "data": {
      "text/plain": [
       "[<matplotlib.lines.Line2D at 0x7f25174c0a90>]"
      ]
     },
     "execution_count": 166,
     "metadata": {},
     "output_type": "execute_result"
    },
    {
     "data": {
      "image/png": "[encoded data removed]",
      "text/plain": [
       "<Figure size 432x288 with 1 Axes>"
      ]
     },
     "metadata": {
      "needs_background": "light"
     },
     "output_type": "display_data"
    }
   ],
   "source": [
    "plt.xlabel(\"Iteration\")\n",
    "plt.ylabel(\"Relative error\")\n",
    "plt.title(f\"Tensor{shape}, rank={rank} / WRCP-ALS3(R={rank}, l2={l2})\")\n",
    "plt.xticks(np.arange(it))\n",
    "plt.yscale(\"log\")\n",
    "plt.plot(np.arange(it), err[:it], 'r-*')"
   ]
  },
  {
   "cell_type": "markdown",
   "metadata": {},
   "source": [
    "## TensorLy:"
   ]
  },
  {
   "cell_type": "code",
   "execution_count": 82,
   "metadata": {},
   "outputs": [
    {
     "name": "stdout",
     "output_type": "stream",
     "text": [
      "Rel err = 0.0005907832440585863;\n"
     ]
    }
   ],
   "source": [
    "(w, f), err = parafac(\n",
    "    tensor=ten,\n",
    "    rank=rank,\n",
    "    n_iter_max=max_iter,\n",
    "    init=\"random\",\n",
    "    random_state=1,\n",
    "    return_errors=True,\n",
    ")\n",
    "rerror = sqrt_err_relative(coo, vals, shape, f[0], f[1], f[2])\n",
    "print(f\"Rel err = {rerror};\")"
   ]
  },
  {
   "cell_type": "code",
   "execution_count": 83,
   "metadata": {},
   "outputs": [
    {
     "data": {
      "text/plain": [
       "[<matplotlib.lines.Line2D at 0x7f251b9be650>]"
      ]
     },
     "execution_count": 83,
     "metadata": {},
     "output_type": "execute_result"
    },
    {
     "data": {
      "image/png": "[encoded data removed]",
      "text/plain": [
       "<Figure size 432x288 with 1 Axes>"
      ]
     },
     "metadata": {
      "needs_background": "light"
     },
     "output_type": "display_data"
    }
   ],
   "source": [
    "name = \"CP-ALS3_TensorLy\"\n",
    "plt.xlabel(\"Iteration\")\n",
    "plt.ylabel(\"Relative error\")\n",
    "plt.title(f\"Tensor{shape}, rank={rank} / {name}(R={rank})\")\n",
    "plt.xticks(np.arange(len(err)))\n",
    "plt.yscale(\"log\")\n",
    "plt.plot(np.arange(len(err)), err, 'b-*')"
   ]
  },
  {
   "cell_type": "markdown",
   "metadata": {},
   "source": [
    "## CP-ALS3:"
   ]
  },
  {
   "cell_type": "code",
   "execution_count": 85,
   "metadata": {},
   "outputs": [
    {
     "name": "stdout",
     "output_type": "stream",
     "text": [
      "iterations over\n",
      "Rel err = 0.0004488507741826047;\n",
      "CPU times: user 4.78 ms, sys: 0 ns, total: 4.78 ms\n",
      "Wall time: 4.2 ms\n"
     ]
    }
   ],
   "source": [
    "%%time\n",
    "a, b, c, err, it = cp.cp_als3(coo, vals, shape, rank=rank, max_iter=max_iter)\n",
    "rerror = sqrt_err_relative(coo, vals, shape, a, b, c)\n",
    "print(f\"Rel err = {rerror};\")"
   ]
  },
  {
   "cell_type": "code",
   "execution_count": 86,
   "metadata": {},
   "outputs": [
    {
     "data": {
      "text/plain": [
       "[<matplotlib.lines.Line2D at 0x7f251bd8d9d0>]"
      ]
     },
     "execution_count": 86,
     "metadata": {},
     "output_type": "execute_result"
    },
    {
     "data": {
      "image/png": "[encoded data removed]",
      "text/plain": [
       "<Figure size 432x288 with 1 Axes>"
      ]
     },
     "metadata": {
      "needs_background": "light"
     },
     "output_type": "display_data"
    }
   ],
   "source": [
    "plt.xlabel(\"Iteration\")\n",
    "plt.ylabel(\"Relative error\")\n",
    "plt.title(f\"Tensor{shape}, rank={rank} / WRCP-ALS3(R={rank})\")\n",
    "plt.xticks(np.arange(max_iter))\n",
    "plt.yscale(\"log\")\n",
    "plt.plot(np.arange(max_iter), err[:max_iter], 'g-*')"
   ]
  },
  {
   "cell_type": "markdown",
   "metadata": {},
   "source": [
    "## Let Max_Iter = 100:"
   ]
  },
  {
   "cell_type": "code",
   "execution_count": 87,
   "metadata": {},
   "outputs": [],
   "source": [
    "max_iter = 100\n",
    "rank = 3"
   ]
  },
  {
   "cell_type": "markdown",
   "metadata": {},
   "source": [
    "## WRCP-ALS3:"
   ]
  },
  {
   "cell_type": "code",
   "execution_count": 105,
   "metadata": {},
   "outputs": [
    {
     "name": "stdout",
     "output_type": "stream",
     "text": [
      "iterations over\n",
      "Rel err = 0.00045191841987055764;\n",
      "CPU times: user 11 ms, sys: 43 µs, total: 11 ms\n",
      "Wall time: 10.9 ms\n"
     ]
    }
   ],
   "source": [
    "%%time\n",
    "l2 = 1e-4\n",
    "a, b, c, err, it = wrcp_als3(coo, vals, shape, rank=rank, l2=l2, max_iter=max_iter)\n",
    "rerror = sqrt_err_relative(coo, vals, shape, a, b, c)\n",
    "print(f\"Rel err = {rerror};\")"
   ]
  },
  {
   "cell_type": "code",
   "execution_count": 106,
   "metadata": {},
   "outputs": [
    {
     "data": {
      "text/plain": [
       "[<matplotlib.lines.Line2D at 0x7f251d19fc90>]"
      ]
     },
     "execution_count": 106,
     "metadata": {},
     "output_type": "execute_result"
    },
    {
     "data": {
      "image/png": "[encoded data removed]",
      "text/plain": [
       "<Figure size 432x288 with 1 Axes>"
      ]
     },
     "metadata": {
      "needs_background": "light"
     },
     "output_type": "display_data"
    }
   ],
   "source": [
    "plt.xlabel(\"Iteration\")\n",
    "plt.ylabel(\"Relative error\")\n",
    "plt.title(f\"Tensor{shape}, rank={rank} / WRCP-ALS3(R={rank}, l2={l2})\")\n",
    "#plt.xticks(np.arange(it))\n",
    "plt.yscale(\"log\")\n",
    "plt.plot(np.arange(it), err[:it], 'r-*')"
   ]
  },
  {
   "cell_type": "markdown",
   "metadata": {},
   "source": [
    "## TensorLy:"
   ]
  },
  {
   "cell_type": "code",
   "execution_count": 108,
   "metadata": {},
   "outputs": [
    {
     "name": "stdout",
     "output_type": "stream",
     "text": [
      "Rel err = 4.690342960223186e-06;\n"
     ]
    }
   ],
   "source": [
    "(w, f), err = parafac(\n",
    "    tensor=ten,\n",
    "    rank=rank,\n",
    "    n_iter_max=max_iter,\n",
    "    init=\"random\",\n",
    "    random_state=1,\n",
    "    return_errors=True,\n",
    ")\n",
    "rerror = sqrt_err_relative(coo, vals, shape, f[0], f[1], f[2])\n",
    "print(f\"Rel err = {rerror};\")"
   ]
  },
  {
   "cell_type": "code",
   "execution_count": 109,
   "metadata": {},
   "outputs": [
    {
     "data": {
      "text/plain": [
       "[<matplotlib.lines.Line2D at 0x7f251c3d9050>]"
      ]
     },
     "execution_count": 109,
     "metadata": {},
     "output_type": "execute_result"
    },
    {
     "data": {
      "image/png": "[encoded data removed]",
      "text/plain": [
       "<Figure size 432x288 with 1 Axes>"
      ]
     },
     "metadata": {
      "needs_background": "light"
     },
     "output_type": "display_data"
    }
   ],
   "source": [
    "name = \"CP-ALS3_TensorLy\"\n",
    "plt.xlabel(\"Iteration\")\n",
    "plt.ylabel(\"Relative error\")\n",
    "plt.title(f\"Tensor{shape}, rank={rank} / {name}(R={rank})\")\n",
    "#plt.xticks(np.arange(len(err)))\n",
    "plt.yscale(\"log\")\n",
    "plt.plot(np.arange(len(err)), err, 'b-*')"
   ]
  },
  {
   "cell_type": "markdown",
   "metadata": {},
   "source": [
    "## CP-ALS3:"
   ]
  },
  {
   "cell_type": "code",
   "execution_count": 114,
   "metadata": {},
   "outputs": [
    {
     "name": "stdout",
     "output_type": "stream",
     "text": [
      "iterations over\n",
      "Rel err = 2.7654371129513924e-07;\n",
      "CPU times: user 11 ms, sys: 42 µs, total: 11 ms\n",
      "Wall time: 10.6 ms\n"
     ]
    }
   ],
   "source": [
    "%%time\n",
    "a, b, c, err, it = cp.cp_als3(coo, vals, shape, rank=rank, max_iter=max_iter)\n",
    "rerror = sqrt_err_relative(coo, vals, shape, a, b, c)\n",
    "print(f\"Rel err = {rerror};\")"
   ]
  },
  {
   "cell_type": "code",
   "execution_count": 117,
   "metadata": {},
   "outputs": [
    {
     "data": {
      "text/plain": [
       "[<matplotlib.lines.Line2D at 0x7f251b12a2d0>]"
      ]
     },
     "execution_count": 117,
     "metadata": {},
     "output_type": "execute_result"
    },
    {
     "data": {
      "image/png": "[encoded data removed]",
      "text/plain": [
       "<Figure size 432x288 with 1 Axes>"
      ]
     },
     "metadata": {
      "needs_background": "light"
     },
     "output_type": "display_data"
    }
   ],
   "source": [
    "plt.xlabel(\"Iteration\")\n",
    "plt.ylabel(\"Relative error\")\n",
    "plt.title(f\"Tensor{shape}, rank={rank} / WRCP-ALS3(R={rank})\")\n",
    "#plt.xticks(np.arange(max_iter))\n",
    "plt.yscale(\"log\")\n",
    "plt.plot(np.arange(it), err[:it], 'g-*')"
   ]
  },
  {
   "cell_type": "markdown",
   "metadata": {},
   "source": [
    "## Tucker:"
   ]
  },
  {
   "cell_type": "code",
   "execution_count": 118,
   "metadata": {},
   "outputs": [],
   "source": [
    "import polara.lib.hosvd as hosvd"
   ]
  },
  {
   "cell_type": "code",
   "execution_count": 138,
   "metadata": {},
   "outputs": [
    {
     "name": "stdout",
     "output_type": "stream",
     "text": [
      "Step 1 of 25\n",
      "growth of the core: 1.000000\n",
      "Step 2 of 25\n",
      "growth of the core: 0.000000\n",
      "Core is no longer growing. Norm of the core: 10.099505\n",
      "Done\n",
      "CPU times: user 12.7 ms, sys: 10 µs, total: 12.7 ms\n",
      "Wall time: 11.9 ms\n"
     ]
    }
   ],
   "source": [
    "%%time\n",
    "core_shape = (3, 3, 3)\n",
    "p, q, r, g = hosvd.tucker_als(\n",
    "    idx=coo,\n",
    "    val=vals,\n",
    "    shape=shape,\n",
    "    core_shape=core_shape,\n",
    "    iters=25,\n",
    "    growth_tol=0.01,\n",
    "    batch_run=False,\n",
    "    seed=None,\n",
    ")"
   ]
  },
  {
   "cell_type": "code",
   "execution_count": 127,
   "metadata": {},
   "outputs": [],
   "source": [
    "from numba import jit"
   ]
  },
  {
   "cell_type": "code",
   "execution_count": 128,
   "metadata": {},
   "outputs": [],
   "source": [
    "@jit(nopython=True) \n",
    "def sqrt_err_tucker(coo_tensor, vals, shape, a, b, c, g):\n",
    "    result = 0.0\n",
    "    for item in range(coo_tensor.shape[0]):\n",
    "        coord = coo_tensor[item]\n",
    "        elem = 0.0\n",
    "        for p in range(a.shape[1]):\n",
    "            for q in range(b.shape[1]):\n",
    "                for r in range(c.shape[1]):\n",
    "                    elem += g[p, q, r] * a[coord[0], p] * b[coord[1], q] * c[coord[2], r]\n",
    "        \n",
    "        result += (vals[item] - elem)**2  \n",
    "    return np.sqrt(result)\n",
    "\n",
    "@jit(nopython=True) \n",
    "def sqrt_err_relative_tucker(coo_tensor, vals, shape, a, b, c, g):\n",
    "    result = sqrt_err_tucker(coo_tensor, vals, shape, a, b, c, g)        \n",
    "    return result / np.sqrt((vals**2).sum())"
   ]
  },
  {
   "cell_type": "code",
   "execution_count": 139,
   "metadata": {},
   "outputs": [
    {
     "name": "stdout",
     "output_type": "stream",
     "text": [
      "Relative error = 7.967349055175334e-16\n"
     ]
    }
   ],
   "source": [
    "rerr = sqrt_err_relative_tucker(\n",
    "    coo,\n",
    "    vals,\n",
    "    shape,\n",
    "    p,\n",
    "    q,\n",
    "    r,\n",
    "    g,\n",
    ")\n",
    "print(f\"Relative error = {rerr}\")"
   ]
  }
 ],
 "metadata": {
  "kernelspec": {
   "display_name": "Python 3",
   "language": "python",
   "name": "python3"
  },
  "language_info": {
   "codemirror_mode": {
    "name": "ipython",
    "version": 3
   },
   "file_extension": ".py",
   "mimetype": "text/x-python",
   "name": "python",
   "nbconvert_exporter": "python",
   "pygments_lexer": "ipython3",
   "version": "3.7.4"
  }
 },
 "nbformat": 4,
 "nbformat_minor": 4
}
