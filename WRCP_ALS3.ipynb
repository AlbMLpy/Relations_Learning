{
 "cells": [
  {
   "cell_type": "code",
   "execution_count": 1,
   "metadata": {},
   "outputs": [],
   "source": [
    "import numpy as np\n",
    "import matplotlib.pyplot as plt\n",
    "from numba import jit, prange\n",
    "\n",
    "import tensorly as tl\n",
    "from tensorly.decomposition import parafac\n",
    "\n",
    "import CP_ALS3 as cp\n",
    "from general_functions import sqrt_err_relative, check_coo_tensor, gen_coo_tensor"
   ]
  },
  {
   "cell_type": "code",
   "execution_count": 2,
   "metadata": {},
   "outputs": [],
   "source": [
    "@jit(nopython=True)\n",
    "def generate_system(coo_tensor, vals, shape, mode, a, b, l2, step):\n",
    "    mtx = np.zeros((a.shape[1], a.shape[1]))\n",
    "    right = np.zeros((a.shape[1]))\n",
    "    mask = coo_tensor[:, mode] == step\n",
    "    coo_step = coo_tensor[mask]\n",
    "    vals_step = vals[mask]\n",
    "    \n",
    "    if mode == 0:\n",
    "        mode_a = 1 \n",
    "        mode_b = 2\n",
    "        \n",
    "    elif mode == 1:\n",
    "        mode_a = 0\n",
    "        mode_b = 2\n",
    "        \n",
    "    else:\n",
    "        mode_a = 0\n",
    "        mode_b = 1\n",
    "        \n",
    "    for i in range(a.shape[1]):\n",
    "        for j in range(a.shape[1]):\n",
    "            for item in range(coo_step.shape[0]):\n",
    "                coord = coo_step[item]\n",
    "                mtx[i, j] += (a[coord[mode_a], i] \n",
    "                              * b[coord[mode_b], i] \n",
    "                              * a[coord[mode_a], j] \n",
    "                              * b[coord[mode_b], j])\n",
    "                if i == 0:\n",
    "                    right[j] += a[coord[mode_a], j] * b[coord[mode_b], j] * vals_step[item]\n",
    "            \n",
    "            if i == j:\n",
    "                mtx[i, j] += l2\n",
    "    \n",
    "    return mtx, right"
   ]
  },
  {
   "cell_type": "code",
   "execution_count": 3,
   "metadata": {},
   "outputs": [],
   "source": [
    "@jit(nopython=True) \n",
    "def wrcp_als3(coo_tensor,\n",
    "              vals,\n",
    "              shape,\n",
    "              rank=5,\n",
    "              l2=0.5,\n",
    "              max_iter=50,\n",
    "              tol=1e-8):\n",
    "    \n",
    "    a = np.random.normal(0.0, 0.1, size=(shape[0], rank))\n",
    "    b = np.random.normal(0.0, 0.1, size=(shape[1], rank))\n",
    "    c = np.random.normal(0.0, 0.1, size=(shape[2], rank))\n",
    "    err_arr = np.empty((max_iter, 1))  \n",
    "    \n",
    "    it = 0\n",
    "    err1 = 1.0\n",
    "    err2 = 0.0\n",
    "    while np.abs(err1 - err2) > tol:\n",
    "        it += 1\n",
    "        \n",
    "        for i in range(shape[0]):\n",
    "            A, right = generate_system(coo_tensor,\n",
    "                                       vals,\n",
    "                                       shape,\n",
    "                                       0,\n",
    "                                       b,\n",
    "                                       c, \n",
    "                                       l2,\n",
    "                                       i)\n",
    "            \n",
    "            #a[i, :] = np.linalg.pinv(A) @ right\n",
    "            a[i, :] = np.linalg.solve(A, right)\n",
    "            \n",
    "        for j in range(shape[1]):\n",
    "            A, right = generate_system(coo_tensor,\n",
    "                                       vals,\n",
    "                                       shape,\n",
    "                                       1,\n",
    "                                       a,\n",
    "                                       c, \n",
    "                                       l2,\n",
    "                                       j)\n",
    "            \n",
    "            #b[j :] = np.linalg.pinv(A) @ right\n",
    "            b[j :] = np.linalg.solve(A, right)\n",
    "            \n",
    "        for k in range(shape[2]):   \n",
    "            A, right = generate_system(coo_tensor,\n",
    "                                       vals,\n",
    "                                       shape,\n",
    "                                       2,\n",
    "                                       a,\n",
    "                                       b, \n",
    "                                       l2,\n",
    "                                       k)\n",
    "            \n",
    "            #c[k, :] = np.linalg.pinv(A) @ right\n",
    "            c[k, :] = np.linalg.solve(A, right)\n",
    "    \n",
    "        error = sqrt_err_relative(coo_tensor, vals, shape, a, b, c)\n",
    "        err_arr[it - 1] = error\n",
    "        err2 = err1\n",
    "        err1 = error\n",
    "        if it == max_iter:\n",
    "            print(\"iterations over\")\n",
    "            break\n",
    "    \n",
    "    return a, b, c, err_arr, it"
   ]
  },
  {
   "cell_type": "markdown",
   "metadata": {},
   "source": [
    "# Random Matrix:"
   ]
  },
  {
   "cell_type": "code",
   "execution_count": 4,
   "metadata": {},
   "outputs": [
    {
     "name": "stdout",
     "output_type": "stream",
     "text": [
      "CPU times: user 1.43 s, sys: 15.2 ms, total: 1.45 s\n",
      "Wall time: 1.45 s\n"
     ]
    },
    {
     "data": {
      "text/plain": [
       "13"
      ]
     },
     "execution_count": 4,
     "metadata": {},
     "output_type": "execute_result"
    }
   ],
   "source": [
    "%%time\n",
    "init_shape = (7, 9, 11)\n",
    "coo, vals = gen_coo_tensor(init_shape, density=0.02)\n",
    "assert check_coo_tensor(coo)!= \"Bad\"\n",
    "coo.shape[0]"
   ]
  },
  {
   "cell_type": "markdown",
   "metadata": {},
   "source": [
    "## WRCP-ALS3:"
   ]
  },
  {
   "cell_type": "code",
   "execution_count": 9,
   "metadata": {},
   "outputs": [
    {
     "name": "stdout",
     "output_type": "stream",
     "text": [
      "iterations over\n",
      "Rel err = 9.542946931537581e-06;\n",
      "CPU times: user 2.36 ms, sys: 0 ns, total: 2.36 ms\n",
      "Wall time: 2.29 ms\n"
     ]
    }
   ],
   "source": [
    "%%time\n",
    "max_iter = 25\n",
    "rank = 2\n",
    "l2 = 1e-5\n",
    "a, b, c, err, it = wrcp_als3(coo, vals, init_shape, rank=rank, l2=l2, max_iter=max_iter)\n",
    "rerror = sqrt_err_relative(coo, vals, init_shape, a, b, c)\n",
    "print(f\"Rel err = {rerror};\")"
   ]
  },
  {
   "cell_type": "code",
   "execution_count": 10,
   "metadata": {},
   "outputs": [
    {
     "data": {
      "text/plain": [
       "[<matplotlib.lines.Line2D at 0x7f251e072b90>]"
      ]
     },
     "execution_count": 10,
     "metadata": {},
     "output_type": "execute_result"
    },
    {
     "data": {
      "image/png": "[encoded data removed]",
      "text/plain": [
       "<Figure size 432x288 with 1 Axes>"
      ]
     },
     "metadata": {
      "needs_background": "light"
     },
     "output_type": "display_data"
    }
   ],
   "source": [
    "plt.xlabel(\"Iteration\")\n",
    "plt.ylabel(\"Relative error\")\n",
    "plt.title(f\"Random tensor{init_shape} / WRCP-ALS3(R={rank}, l2={l2})\")\n",
    "plt.xticks(np.arange(it))\n",
    "plt.yscale(\"log\")\n",
    "plt.plot(np.arange(it), err[:it], 'r-*')"
   ]
  },
  {
   "cell_type": "markdown",
   "metadata": {},
   "source": [
    "# Small Rank Matrix:"
   ]
  },
  {
   "cell_type": "code",
   "execution_count": 11,
   "metadata": {},
   "outputs": [
    {
     "data": {
      "text/plain": [
       "315"
      ]
     },
     "execution_count": 11,
     "metadata": {},
     "output_type": "execute_result"
    }
   ],
   "source": [
    "shape = (5, 7, 9)\n",
    "rank = 3\n",
    "ten = np.zeros(shape=shape)\n",
    "p = np.zeros(shape=(shape[0], rank))\n",
    "q = np.zeros(shape=(shape[1], rank))\n",
    "r = np.zeros(shape=(shape[2], rank))\n",
    "all_elem = np.prod(shape)\n",
    "all_elem"
   ]
  },
  {
   "cell_type": "code",
   "execution_count": 12,
   "metadata": {},
   "outputs": [],
   "source": [
    "p[0] = [1, 0, 0]\n",
    "p[1] = [0, 1, 0]\n",
    "p[2] = [0, 0, 1]\n",
    "\n",
    "q[0] = [1, 0, 0]\n",
    "q[1] = [0, 1, 0]\n",
    "q[2] = [0, 0, 1]\n",
    "\n",
    "r[0] = [1, 0, 0]\n",
    "r[1] = [0, 1, 0]\n",
    "r[2] = [0, 0, 1]\n",
    "\n",
    "p[3] = [1, 1, 1]\n",
    "q[3] = [1, 0, 1]\n",
    "r[3] = [1, 0, 1]\n",
    "\n",
    "p[4] = [1, 1, 1]\n",
    "q[5] = [1, 0, 1]\n",
    "r[6] = [1, 0, 1]\n",
    "r[8] = [1, 1, 1]"
   ]
  },
  {
   "cell_type": "code",
   "execution_count": 13,
   "metadata": {},
   "outputs": [
    {
     "data": {
      "text/plain": [
       "66"
      ]
     },
     "execution_count": 13,
     "metadata": {},
     "output_type": "execute_result"
    }
   ],
   "source": [
    "coo = list()\n",
    "vals = list()\n",
    "nnz = 0\n",
    "for i in range(shape[0]):\n",
    "    for j in range(shape[1]):\n",
    "        for k in range(shape[2]):\n",
    "            temp = np.sum(p[i, :] * q[j, :] * r[k, :])\n",
    "            ten[i, j, k] = temp\n",
    "            if temp != 0:\n",
    "                vals.append(temp)\n",
    "                coo.append((i, j, k))\n",
    "                nnz += 1\n",
    "coo = np.array(coo)\n",
    "vals = np.array(vals)\n",
    "nnz"
   ]
  },
  {
   "cell_type": "markdown",
   "metadata": {},
   "source": [
    "## Let Max_Iter = 25:"
   ]
  },
  {
   "cell_type": "code",
   "execution_count": 14,
   "metadata": {},
   "outputs": [],
   "source": [
    "max_iter = 25\n",
    "rank = 3"
   ]
  },
  {
   "cell_type": "markdown",
   "metadata": {},
   "source": [
    "## WRCP-ALS3:"
   ]
  },
  {
   "cell_type": "code",
   "execution_count": 15,
   "metadata": {},
   "outputs": [
    {
     "name": "stdout",
     "output_type": "stream",
     "text": [
      "iterations over\n",
      "Rel err = 0.0020520415524844593;\n",
      "CPU times: user 5.23 s, sys: 7.68 ms, total: 5.24 s\n",
      "Wall time: 5.24 s\n"
     ]
    }
   ],
   "source": [
    "%%time\n",
    "l2 = 1e-4\n",
    "a, b, c, err, it = wrcp_als3(coo, vals, shape, rank=rank, l2=l2, max_iter=max_iter)\n",
    "rerror = sqrt_err_relative(coo, vals, shape, a, b, c)\n",
    "print(f\"Rel err = {rerror};\")"
   ]
  },
  {
   "cell_type": "code",
   "execution_count": 16,
   "metadata": {},
   "outputs": [
    {
     "data": {
      "text/plain": [
       "[<matplotlib.lines.Line2D at 0x7f251e1bde50>]"
      ]
     },
     "execution_count": 16,
     "metadata": {},
     "output_type": "execute_result"
    },
    {
     "data": {
      "image/png": "[encoded data removed]",
      "text/plain": [
       "<Figure size 432x288 with 1 Axes>"
      ]
     },
     "metadata": {
      "needs_background": "light"
     },
     "output_type": "display_data"
    }
   ],
   "source": [
    "plt.xlabel(\"Iteration\")\n",
    "plt.ylabel(\"Relative error\")\n",
    "plt.title(f\"Tensor{shape}, rank={rank} / WRCP-ALS3(R={rank}, l2={l2})\")\n",
    "plt.xticks(np.arange(it))\n",
    "plt.yscale(\"log\")\n",
    "plt.plot(np.arange(it), err[:it], 'r-*')"
   ]
  },
  {
   "cell_type": "markdown",
   "metadata": {},
   "source": [
    "## TensorLy:"
   ]
  },
  {
   "cell_type": "code",
   "execution_count": 17,
   "metadata": {},
   "outputs": [
    {
     "name": "stdout",
     "output_type": "stream",
     "text": [
      "Rel err = 0.0012857429426993312;\n"
     ]
    }
   ],
   "source": [
    "(w, f), err = parafac(\n",
    "    tensor=ten,\n",
    "    rank=rank,\n",
    "    n_iter_max=max_iter,\n",
    "    init=\"random\",\n",
    "    random_state=1,\n",
    "    return_errors=True,\n",
    ")\n",
    "rerror = sqrt_err_relative(coo, vals, shape, f[0], f[1], f[2])\n",
    "print(f\"Rel err = {rerror};\")"
   ]
  },
  {
   "cell_type": "code",
   "execution_count": 18,
   "metadata": {},
   "outputs": [
    {
     "data": {
      "text/plain": [
       "[<matplotlib.lines.Line2D at 0x7f251e804810>]"
      ]
     },
     "execution_count": 18,
     "metadata": {},
     "output_type": "execute_result"
    },
    {
     "data": {
      "image/png": "[encoded data removed]",
      "text/plain": [
       "<Figure size 432x288 with 1 Axes>"
      ]
     },
     "metadata": {
      "needs_background": "light"
     },
     "output_type": "display_data"
    }
   ],
   "source": [
    "name = \"CP-ALS3_TensorLy\"\n",
    "plt.xlabel(\"Iteration\")\n",
    "plt.ylabel(\"Relative error\")\n",
    "plt.title(f\"Tensor{shape}, rank={rank} / {name}(R={rank})\")\n",
    "plt.xticks(np.arange(len(err)))\n",
    "plt.yscale(\"log\")\n",
    "plt.plot(np.arange(len(err)), err, 'b-*')"
   ]
  },
  {
   "cell_type": "markdown",
   "metadata": {},
   "source": [
    "## CP-ALS3:"
   ]
  },
  {
   "cell_type": "code",
   "execution_count": 21,
   "metadata": {},
   "outputs": [
    {
     "name": "stdout",
     "output_type": "stream",
     "text": [
      "iterations over\n",
      "Rel err = 0.0007433936814097446;\n",
      "CPU times: user 6.06 ms, sys: 34 µs, total: 6.1 ms\n",
      "Wall time: 5.66 ms\n"
     ]
    }
   ],
   "source": [
    "%%time\n",
    "a, b, c, err, it = cp.cp_als3(coo, vals, shape, rank=rank, max_iter=max_iter)\n",
    "rerror = sqrt_err_relative(coo, vals, shape, a, b, c)\n",
    "print(f\"Rel err = {rerror};\")"
   ]
  },
  {
   "cell_type": "code",
   "execution_count": 22,
   "metadata": {},
   "outputs": [
    {
     "data": {
      "text/plain": [
       "[<matplotlib.lines.Line2D at 0x7f251da6ff90>]"
      ]
     },
     "execution_count": 22,
     "metadata": {},
     "output_type": "execute_result"
    },
    {
     "data": {
      "image/png": "[encoded data removed]",
      "text/plain": [
       "<Figure size 432x288 with 1 Axes>"
      ]
     },
     "metadata": {
      "needs_background": "light"
     },
     "output_type": "display_data"
    }
   ],
   "source": [
    "plt.xlabel(\"Iteration\")\n",
    "plt.ylabel(\"Relative error\")\n",
    "plt.title(f\"Tensor{shape}, rank={rank} / WRCP-ALS3(R={rank})\")\n",
    "plt.xticks(np.arange(max_iter))\n",
    "plt.yscale(\"log\")\n",
    "plt.plot(np.arange(max_iter), err[:max_iter], 'g-*')"
   ]
  },
  {
   "cell_type": "markdown",
   "metadata": {},
   "source": [
    "## Let Max_Iter = 100:"
   ]
  },
  {
   "cell_type": "code",
   "execution_count": 23,
   "metadata": {},
   "outputs": [],
   "source": [
    "max_iter = 100\n",
    "rank = 3"
   ]
  },
  {
   "cell_type": "markdown",
   "metadata": {},
   "source": [
    "## WRCP-ALS3:"
   ]
  },
  {
   "cell_type": "code",
   "execution_count": 43,
   "metadata": {},
   "outputs": [
    {
     "name": "stdout",
     "output_type": "stream",
     "text": [
      "iterations over\n",
      "Rel err = 0.0007015725768910664;\n",
      "CPU times: user 9.42 ms, sys: 23 µs, total: 9.44 ms\n",
      "Wall time: 9.88 ms\n"
     ]
    }
   ],
   "source": [
    "%%time\n",
    "l2 = 1e-4\n",
    "a, b, c, err, it = wrcp_als3(coo, vals, shape, rank=rank, l2=l2, max_iter=max_iter)\n",
    "rerror = sqrt_err_relative(coo, vals, shape, a, b, c)\n",
    "print(f\"Rel err = {rerror};\")"
   ]
  },
  {
   "cell_type": "code",
   "execution_count": 44,
   "metadata": {},
   "outputs": [
    {
     "data": {
      "text/plain": [
       "[<matplotlib.lines.Line2D at 0x7f251ea2fa50>]"
      ]
     },
     "execution_count": 44,
     "metadata": {},
     "output_type": "execute_result"
    },
    {
     "data": {
      "image/png": "[encoded data removed]",
      "text/plain": [
       "<Figure size 432x288 with 1 Axes>"
      ]
     },
     "metadata": {
      "needs_background": "light"
     },
     "output_type": "display_data"
    }
   ],
   "source": [
    "plt.xlabel(\"Iteration\")\n",
    "plt.ylabel(\"Relative error\")\n",
    "plt.title(f\"Tensor{shape}, rank={rank} / WRCP-ALS3(R={rank}, l2={l2})\")\n",
    "#plt.xticks(np.arange(it))\n",
    "plt.yscale(\"log\")\n",
    "plt.plot(np.arange(it), err[:it], 'r-*')"
   ]
  },
  {
   "cell_type": "markdown",
   "metadata": {},
   "source": [
    "## TensorLy:"
   ]
  },
  {
   "cell_type": "code",
   "execution_count": 45,
   "metadata": {},
   "outputs": [
    {
     "name": "stdout",
     "output_type": "stream",
     "text": [
      "Rel err = 2.3803386025349737e-07;\n"
     ]
    }
   ],
   "source": [
    "(w, f), err = parafac(\n",
    "    tensor=ten,\n",
    "    rank=rank,\n",
    "    n_iter_max=max_iter,\n",
    "    init=\"random\",\n",
    "    random_state=1,\n",
    "    return_errors=True,\n",
    ")\n",
    "rerror = sqrt_err_relative(coo, vals, shape, f[0], f[1], f[2])\n",
    "print(f\"Rel err = {rerror};\")"
   ]
  },
  {
   "cell_type": "code",
   "execution_count": 46,
   "metadata": {},
   "outputs": [
    {
     "data": {
      "text/plain": [
       "[<matplotlib.lines.Line2D at 0x7f251d5a12d0>]"
      ]
     },
     "execution_count": 46,
     "metadata": {},
     "output_type": "execute_result"
    },
    {
     "data": {
      "image/png": "[encoded data removed]",
      "text/plain": [
       "<Figure size 432x288 with 1 Axes>"
      ]
     },
     "metadata": {
      "needs_background": "light"
     },
     "output_type": "display_data"
    }
   ],
   "source": [
    "name = \"CP-ALS3_TensorLy\"\n",
    "plt.xlabel(\"Iteration\")\n",
    "plt.ylabel(\"Relative error\")\n",
    "plt.title(f\"Tensor{shape}, rank={rank} / {name}(R={rank})\")\n",
    "#plt.xticks(np.arange(len(err)))\n",
    "plt.yscale(\"log\")\n",
    "plt.plot(np.arange(len(err)), err, 'b-*')"
   ]
  },
  {
   "cell_type": "markdown",
   "metadata": {},
   "source": [
    "## CP-ALS3:"
   ]
  },
  {
   "cell_type": "code",
   "execution_count": 48,
   "metadata": {},
   "outputs": [
    {
     "name": "stdout",
     "output_type": "stream",
     "text": [
      "iterations over\n",
      "Rel err = 1.546963673034994e-07;\n",
      "CPU times: user 12.8 ms, sys: 11 µs, total: 12.8 ms\n",
      "Wall time: 12.4 ms\n"
     ]
    }
   ],
   "source": [
    "%%time\n",
    "a, b, c, err, it = cp.cp_als3(coo, vals, shape, rank=rank, max_iter=max_iter)\n",
    "rerror = sqrt_err_relative(coo, vals, shape, a, b, c)\n",
    "print(f\"Rel err = {rerror};\")"
   ]
  },
  {
   "cell_type": "code",
   "execution_count": 49,
   "metadata": {},
   "outputs": [
    {
     "data": {
      "text/plain": [
       "[<matplotlib.lines.Line2D at 0x7f251e6bb3d0>]"
      ]
     },
     "execution_count": 49,
     "metadata": {},
     "output_type": "execute_result"
    },
    {
     "data": {
      "image/png": "[encoded data removed]",
      "text/plain": [
       "<Figure size 432x288 with 1 Axes>"
      ]
     },
     "metadata": {
      "needs_background": "light"
     },
     "output_type": "display_data"
    }
   ],
   "source": [
    "plt.xlabel(\"Iteration\")\n",
    "plt.ylabel(\"Relative error\")\n",
    "plt.title(f\"Tensor{shape}, rank={rank} / WRCP-ALS3(R={rank})\")\n",
    "#plt.xticks(np.arange(max_iter))\n",
    "plt.yscale(\"log\")\n",
    "plt.plot(np.arange(max_iter), err[:max_iter], 'g-*')"
   ]
  },
  {
   "cell_type": "code",
   "execution_count": null,
   "metadata": {},
   "outputs": [],
   "source": []
  }
 ],
 "metadata": {
  "kernelspec": {
   "display_name": "Python 3",
   "language": "python",
   "name": "python3"
  },
  "language_info": {
   "codemirror_mode": {
    "name": "ipython",
    "version": 3
   },
   "file_extension": ".py",
   "mimetype": "text/x-python",
   "name": "python",
   "nbconvert_exporter": "python",
   "pygments_lexer": "ipython3",
   "version": "3.7.4"
  }
 },
 "nbformat": 4,
 "nbformat_minor": 4
}
