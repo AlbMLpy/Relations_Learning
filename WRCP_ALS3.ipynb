{
 "cells": [
  {
   "cell_type": "code",
   "execution_count": 1,
   "metadata": {},
   "outputs": [],
   "source": [
    "import numpy as np\n",
    "import matplotlib.pyplot as plt\n",
    "from numba import jit, prange\n",
    "\n",
    "import CP_ALS3 as cp"
   ]
  },
  {
   "cell_type": "code",
   "execution_count": 2,
   "metadata": {},
   "outputs": [],
   "source": [
    "@jit(nopython=True)\n",
    "def generate_system(coo_tensor, val, shape, mode, a, b, l2, step):\n",
    "    mtx = np.zeros((a.shape[1], a.shape[1]))\n",
    "    right = np.zeros((a.shape[1]))\n",
    "    coo_step = coo_tensor[coo_tensor[:, mode] == step]\n",
    "    \n",
    "    if mode == 0:\n",
    "        mode_a = 1 \n",
    "        mode_b = 2\n",
    "        \n",
    "    elif mode == 1:\n",
    "        mode_a = 0\n",
    "        mode_b = 2\n",
    "        \n",
    "    else:\n",
    "        mode_a = 0\n",
    "        mode_b = 1\n",
    "        \n",
    "    for i in range(a.shape[1]):\n",
    "        for j in range(a.shape[1]):\n",
    "            for item in range(coo_step.shape[0]):\n",
    "                coord = coo_step[item]\n",
    "                mtx[i, j] += (a[coord[mode_a], i] \n",
    "                              * b[coord[mode_b], i] \n",
    "                              * a[coord[mode_a], j] \n",
    "                              * b[coord[mode_b], j])\n",
    "                if i == 0:\n",
    "                    right[j] += a[coord[mode_a], j] * b[coord[mode_b], j] * vals[item]\n",
    "            \n",
    "            if i == j:\n",
    "                mtx[i, j] += l2\n",
    "    \n",
    "    return mtx, right"
   ]
  },
  {
   "cell_type": "code",
   "execution_count": 3,
   "metadata": {},
   "outputs": [],
   "source": [
    "@jit(nopython=True) \n",
    "def wrcp_als3(coo_tensor,\n",
    "              vals,\n",
    "              shape,\n",
    "              rank=5,\n",
    "              l2=0.5,\n",
    "              max_iter=50,\n",
    "              tol=1e-8):\n",
    "    \n",
    "    a = np.random.rand(shape[0], rank)\n",
    "    b = np.random.rand(shape[1], rank)\n",
    "    c = np.random.rand(shape[2], rank)\n",
    "    err_arr = np.empty((max_iter, 1))  \n",
    "    \n",
    "    it = 0\n",
    "    err1 = 1.0\n",
    "    err2 = 0.0\n",
    "    while np.abs(err1 - err2) > tol:\n",
    "        it += 1\n",
    "        \n",
    "        for i in range(shape[0]):\n",
    "            A, right = generate_system(coo_tensor,\n",
    "                                       vals,\n",
    "                                       shape,\n",
    "                                       0,\n",
    "                                       b,\n",
    "                                       c, \n",
    "                                       l2,\n",
    "                                       i)\n",
    "            \n",
    "            a[i, :] = np.linalg.solve(A, right)\n",
    "            \n",
    "        for j in range(shape[1]):\n",
    "            A, right = generate_system(coo_tensor,\n",
    "                                       vals,\n",
    "                                       shape,\n",
    "                                       1,\n",
    "                                       a,\n",
    "                                       c, \n",
    "                                       l2,\n",
    "                                       j)\n",
    "            \n",
    "            b[j :] = np.linalg.solve(A, right)\n",
    "            \n",
    "        for k in range(shape[2]):   \n",
    "            A, right = generate_system(coo_tensor,\n",
    "                                       vals,\n",
    "                                       shape,\n",
    "                                       2,\n",
    "                                       a,\n",
    "                                       b, \n",
    "                                       l2,\n",
    "                                       k)\n",
    "            \n",
    "            c[k, :] = np.linalg.solve(A, right)\n",
    "    \n",
    "        error = cp.sqrt_err_relative(coo_tensor, vals, shape, a, b, c)\n",
    "        err_arr[it - 1] = error\n",
    "        err2 = err1\n",
    "        err1 = error\n",
    "        if it == max_iter:\n",
    "            print(\"iterations over\")\n",
    "            break\n",
    "    \n",
    "    return a, b, c, err_arr"
   ]
  },
  {
   "cell_type": "code",
   "execution_count": 44,
   "metadata": {},
   "outputs": [
    {
     "name": "stdout",
     "output_type": "stream",
     "text": [
      "CPU times: user 1.91 ms, sys: 0 ns, total: 1.91 ms\n",
      "Wall time: 1.92 ms\n"
     ]
    }
   ],
   "source": [
    "%%time\n",
    "init_shape = (10, 20, 30)\n",
    "coo, vals = cp.gen_coo_tensor(init_shape, density=0.02)\n",
    "assert cp.check_coo_tensor(coo)!= \"Bad\""
   ]
  },
  {
   "cell_type": "code",
   "execution_count": 45,
   "metadata": {},
   "outputs": [
    {
     "data": {
      "text/plain": [
       "120"
      ]
     },
     "execution_count": 45,
     "metadata": {},
     "output_type": "execute_result"
    }
   ],
   "source": [
    "coo.shape[0]"
   ]
  },
  {
   "cell_type": "code",
   "execution_count": 120,
   "metadata": {},
   "outputs": [
    {
     "name": "stdout",
     "output_type": "stream",
     "text": [
      "iterations over\n",
      "CPU times: user 88.8 ms, sys: 13 µs, total: 88.8 ms\n",
      "Wall time: 88.2 ms\n"
     ]
    }
   ],
   "source": [
    "%%time\n",
    "max_iter = 12\n",
    "rank = 40\n",
    "a, b, c, err = wrcp_als3(coo, vals, init_shape, rank=rank, l2=0.25, max_iter=max_iter)"
   ]
  },
  {
   "cell_type": "code",
   "execution_count": 121,
   "metadata": {},
   "outputs": [
    {
     "name": "stdout",
     "output_type": "stream",
     "text": [
      "Abs err = 33.95256229896487;\n",
      "Rel err = 5.283128444507683;\n"
     ]
    }
   ],
   "source": [
    "error = cp.sqrt_err(coo, vals, init_shape, a, b, c)\n",
    "rerror = cp.sqrt_err_relative(coo, vals, init_shape, a, b, c)\n",
    "print(f\"Abs err = {error};\\nRel err = {rerror};\")"
   ]
  },
  {
   "cell_type": "code",
   "execution_count": 122,
   "metadata": {},
   "outputs": [
    {
     "data": {
      "text/plain": [
       "[<matplotlib.lines.Line2D at 0x7f239008df90>]"
      ]
     },
     "execution_count": 122,
     "metadata": {},
     "output_type": "execute_result"
    },
    {
     "data": {
      "image/png": "[encoded data removed]",
      "text/plain": [
       "<Figure size 432x288 with 1 Axes>"
      ]
     },
     "metadata": {
      "needs_background": "light"
     },
     "output_type": "display_data"
    }
   ],
   "source": [
    "plt.xlabel(\"Iteration\")\n",
    "plt.ylabel(\"Relative error\")\n",
    "plt.title(f\"Random tensor{init_shape} / WRCP-ALS3(R={rank})\")\n",
    "plt.xticks(np.arange(max_iter))\n",
    "plt.yscale(\"log\")\n",
    "plt.plot(np.arange(max_iter), err[:max_iter], 'r-*')"
   ]
  },
  {
   "cell_type": "code",
   "execution_count": null,
   "metadata": {},
   "outputs": [],
   "source": []
  }
 ],
 "metadata": {
  "kernelspec": {
   "display_name": "Python 3",
   "language": "python",
   "name": "python3"
  },
  "language_info": {
   "codemirror_mode": {
    "name": "ipython",
    "version": 3
   },
   "file_extension": ".py",
   "mimetype": "text/x-python",
   "name": "python",
   "nbconvert_exporter": "python",
   "pygments_lexer": "ipython3",
   "version": "3.7.4"
  }
 },
 "nbformat": 4,
 "nbformat_minor": 4
}
