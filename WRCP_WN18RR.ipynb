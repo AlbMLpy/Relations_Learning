{
 "cells": [
  {
   "cell_type": "code",
   "execution_count": 1,
   "metadata": {},
   "outputs": [],
   "source": [
    "import numpy as np\n",
    "import pandas as pd\n",
    "import matplotlib.pyplot as plt\n",
    "\n",
    "import pickle\n",
    "import time\n",
    "from ipypb import track\n",
    "\n",
    "import WRCP_ALS3 as wrcp\n",
    "from general_functions import sqrt_err_relative, check_coo_tensor, gen_coo_tensor\n",
    "from general_functions import create_filter, hr"
   ]
  },
  {
   "cell_type": "markdown",
   "metadata": {},
   "source": [
    "### Zero launch of a function(for NUMBA):"
   ]
  },
  {
   "cell_type": "code",
   "execution_count": 2,
   "metadata": {},
   "outputs": [],
   "source": [
    "init_shape = (100, 100, 10)\n",
    "coo, vals = gen_coo_tensor(init_shape, density=0.002)\n",
    "assert check_coo_tensor(coo)!= \"Bad\""
   ]
  },
  {
   "cell_type": "code",
   "execution_count": 3,
   "metadata": {},
   "outputs": [
    {
     "name": "stdout",
     "output_type": "stream",
     "text": [
      "0.4148021077431751\n",
      "CPU times: user 7.27 s, sys: 8.32 ms, total: 7.28 s\n",
      "Wall time: 7.32 s\n"
     ]
    }
   ],
   "source": [
    "%%time\n",
    "\n",
    "max_iter = 12\n",
    "rank = 5\n",
    "seed = 13\n",
    "\n",
    "a, b, c, _, _ = wrcp.wrcp_als3(\n",
    "    coo, vals, init_shape,\n",
    "    rank=rank,\n",
    "    l2=0.25,\n",
    "    max_iter=max_iter,\n",
    "    seed=seed,\n",
    "    show_iter=False,\n",
    "    it_over=False,\n",
    ")\n",
    "rerr = sqrt_err_relative(\n",
    "    coo, vals, init_shape, a, b, c,\n",
    ")\n",
    "print(rerr)"
   ]
  },
  {
   "cell_type": "markdown",
   "metadata": {},
   "source": [
    "### Load the data:"
   ]
  },
  {
   "cell_type": "code",
   "execution_count": 4,
   "metadata": {},
   "outputs": [],
   "source": [
    "path_data = \"Link_Prediction_Data/WN18RR/\"\n",
    "entity_list = pickle.load(open(path_data + 'entity_list', 'rb'))\n",
    "relation_list = pickle.load(open(path_data + 'relation_list', 'rb'))\n",
    "\n",
    "train_triples = pickle.load(open(path_data + 'train_triples', 'rb'))\n",
    "valid_triples = pickle.load(open(path_data + 'valid_triples', 'rb'))\n",
    "test_triples = pickle.load(open(path_data + 'test_triples', 'rb'))\n",
    "train_valid_triples = pickle.load(open(path_data + 'train_valid_triples', 'rb'))\n",
    "\n",
    "entity_map = pickle.load(open(path_data + 'entity_map', 'rb'))\n",
    "relation_map = pickle.load(open(path_data + 'relation_map', 'rb'))\n",
    "\n",
    "all_triples = train_valid_triples + test_triples"
   ]
  },
  {
   "cell_type": "code",
   "execution_count": 5,
   "metadata": {},
   "outputs": [
    {
     "name": "stdout",
     "output_type": "stream",
     "text": [
      "['00001740', '00001930', '00002137'] \n",
      " 40943\n"
     ]
    }
   ],
   "source": [
    "print(entity_list[:3], \"\\n\", len(entity_list))"
   ]
  },
  {
   "cell_type": "code",
   "execution_count": 6,
   "metadata": {},
   "outputs": [
    {
     "name": "stdout",
     "output_type": "stream",
     "text": [
      "['_also_see', '_derivationally_related_form', '_has_part'] \n",
      " 11\n"
     ]
    }
   ],
   "source": [
    "print(relation_list[:3], \"\\n\", len(relation_list))"
   ]
  },
  {
   "cell_type": "code",
   "execution_count": 7,
   "metadata": {},
   "outputs": [
    {
     "data": {
      "text/plain": [
       "86835"
      ]
     },
     "execution_count": 7,
     "metadata": {},
     "output_type": "execute_result"
    }
   ],
   "source": [
    "len(train_triples)"
   ]
  },
  {
   "cell_type": "code",
   "execution_count": 8,
   "metadata": {},
   "outputs": [
    {
     "data": {
      "text/plain": [
       "3034"
      ]
     },
     "execution_count": 8,
     "metadata": {},
     "output_type": "execute_result"
    }
   ],
   "source": [
    "len(valid_triples)"
   ]
  },
  {
   "cell_type": "code",
   "execution_count": 9,
   "metadata": {},
   "outputs": [
    {
     "data": {
      "text/plain": [
       "3134"
      ]
     },
     "execution_count": 9,
     "metadata": {},
     "output_type": "execute_result"
    }
   ],
   "source": [
    "len(test_triples)"
   ]
  },
  {
   "cell_type": "code",
   "execution_count": 10,
   "metadata": {},
   "outputs": [
    {
     "data": {
      "text/plain": [
       "89869"
      ]
     },
     "execution_count": 10,
     "metadata": {},
     "output_type": "execute_result"
    }
   ],
   "source": [
    "len(train_valid_triples)"
   ]
  },
  {
   "cell_type": "code",
   "execution_count": 11,
   "metadata": {},
   "outputs": [],
   "source": [
    "test_filter = create_filter(test_triples, all_triples)  \n",
    "valid_filter = create_filter(valid_triples, all_triples)  "
   ]
  },
  {
   "cell_type": "markdown",
   "metadata": {},
   "source": [
    "### Create Sparse COO Train Tensor:"
   ]
  },
  {
   "cell_type": "code",
   "execution_count": 12,
   "metadata": {},
   "outputs": [
    {
     "data": {
      "text/plain": [
       "(40943, 11, 40943)"
      ]
     },
     "execution_count": 12,
     "metadata": {},
     "output_type": "execute_result"
    }
   ],
   "source": [
    "values = [1] * len(train_triples)\n",
    "values = np.array(values, dtype=np.float64)\n",
    "\n",
    "coords = np.array(train_triples, dtype=np.int32)\n",
    "nnz = len(train_triples)\n",
    "data_shape = (len(entity_list), len(relation_list), len(entity_list))\n",
    "data_shape"
   ]
  },
  {
   "cell_type": "markdown",
   "metadata": {},
   "source": [
    "## WRCP-ALS3:"
   ]
  },
  {
   "cell_type": "code",
   "execution_count": 13,
   "metadata": {},
   "outputs": [],
   "source": [
    "max_iter = 2\n",
    "rank = 25\n",
    "l2 = 3e0\n",
    "seed = 13"
   ]
  },
  {
   "cell_type": "code",
   "execution_count": 14,
   "metadata": {},
   "outputs": [
    {
     "name": "stdout",
     "output_type": "stream",
     "text": [
      "CPU times: user 59.8 s, sys: 155 ms, total: 59.9 s\n",
      "Wall time: 59.8 s\n"
     ]
    }
   ],
   "source": [
    "%%time\n",
    "a, b, c, err_arr, it = wrcp.wrcp_als3(\n",
    "    coords, values, data_shape,\n",
    "    rank=rank,\n",
    "    l2=l2,\n",
    "    max_iter=max_iter,\n",
    "    seed=seed,\n",
    "    show_iter=False,\n",
    "    it_over=False,\n",
    ")"
   ]
  },
  {
   "cell_type": "code",
   "execution_count": 15,
   "metadata": {},
   "outputs": [
    {
     "name": "stdout",
     "output_type": "stream",
     "text": [
      "Relative error = 0.49658088525545224\n"
     ]
    }
   ],
   "source": [
    "rerr = sqrt_err_relative(\n",
    "    coords, values, data_shape, a, b, c,\n",
    ")\n",
    "print(f\"Relative error = {rerr}\")"
   ]
  },
  {
   "cell_type": "code",
   "execution_count": 16,
   "metadata": {},
   "outputs": [
    {
     "data": {
      "text/plain": [
       "[<matplotlib.lines.Line2D at 0x7f9c08fc29d0>]"
      ]
     },
     "execution_count": 16,
     "metadata": {},
     "output_type": "execute_result"
    },
    {
     "data": {
      "image/png": "[encoded data removed]",
      "text/plain": [
       "<Figure size 432x288 with 1 Axes>"
      ]
     },
     "metadata": {
      "needs_background": "light"
     },
     "output_type": "display_data"
    }
   ],
   "source": [
    "plt.xlabel(\"Iteration\")\n",
    "plt.ylabel(\"Relative error\")\n",
    "plt.title(f\"WN18RR / WRCP-ALS3(R={rank})\")\n",
    "#plt.xticks(np.arange(it))\n",
    "plt.yscale(\"log\")\n",
    "plt.plot(np.arange(1, it+1), err_arr[:it], '-*', c=\"#8b0a50\")"
   ]
  },
  {
   "cell_type": "code",
   "execution_count": 17,
   "metadata": {},
   "outputs": [
    {
     "name": "stdout",
     "output_type": "stream",
     "text": [
      "CPU times: user 30.3 s, sys: 32 ms, total: 30.3 s\n",
      "Wall time: 30.4 s\n"
     ]
    },
    {
     "data": {
      "text/plain": [
       "(0.004614370468029005,\n",
       " 0.0065919578114700065,\n",
       " 0.013843111404087014,\n",
       " 0.007630990103543702)"
      ]
     },
     "execution_count": 17,
     "metadata": {},
     "output_type": "execute_result"
    }
   ],
   "source": [
    "%%time\n",
    "hr(valid_filter, valid_triples, a, b, c, [1, 3, 10])"
   ]
  },
  {
   "cell_type": "code",
   "execution_count": 18,
   "metadata": {},
   "outputs": [
    {
     "name": "stdout",
     "output_type": "stream",
     "text": [
      "CPU times: user 30.2 s, sys: 16 ms, total: 30.2 s\n",
      "Wall time: 30.2 s\n"
     ]
    },
    {
     "data": {
      "text/plain": [
       "(0.004148053605615826,\n",
       " 0.010848755583918315,\n",
       " 0.018506700701978303,\n",
       " 0.008887707273917725)"
      ]
     },
     "execution_count": 18,
     "metadata": {},
     "output_type": "execute_result"
    }
   ],
   "source": [
    "%%time\n",
    "hr(test_filter, test_triples, a, b, c, [1, 3, 10])"
   ]
  },
  {
   "cell_type": "code",
   "execution_count": 19,
   "metadata": {},
   "outputs": [
    {
     "name": "stdout",
     "output_type": "stream",
     "text": [
      "Iter 1; l2 0.01; seed 1; rerr 0.03335520989691975; hr10 0.0006381620931716656\n",
      "Iter 1; l2 0.01; seed 2; rerr 0.02861553174918933; hr10 0.0003190810465858328\n",
      "Iter 1; l2 0.01; seed 3; rerr 0.02938969816876038; hr10 0.0009572431397574984\n",
      "Iter 1; l2 0.01; seed 4; rerr 0.025287123615043684; hr10 0.0003190810465858328\n",
      "Iter 1; l2 0.01; seed 5; rerr 0.026679388543347678; hr10 0.0003190810465858328\n",
      "Iter 1; l2 0.01; seed 13; rerr 0.028812956983503883; hr10 0.0006381620931716656\n",
      "Iter 1; l2 0.01; seed 15; rerr 0.02472889281227918; hr10 0.0003190810465858328\n",
      "Iter 1; l2 0.01; seed 20; rerr 0.03117221828327692; hr10 0.0009572431397574984\n",
      "Iter 1; l2 0.1; seed 1; rerr 0.04213231091974827; hr10 0.001595405232929164\n",
      "Iter 1; l2 0.1; seed 2; rerr 0.03823671226553737; hr10 0.0006381620931716656\n",
      "Iter 1; l2 0.1; seed 3; rerr 0.037969682068715205; hr10 0.0009572431397574984\n",
      "Iter 1; l2 0.1; seed 4; rerr 0.03350399483208313; hr10 0.0003190810465858328\n",
      "Iter 1; l2 0.1; seed 5; rerr 0.03534780067014793; hr10 0.0006381620931716656\n",
      "Iter 1; l2 0.1; seed 13; rerr 0.03806776566644947; hr10 0.0009572431397574984\n",
      "Iter 1; l2 0.1; seed 15; rerr 0.03354236795212685; hr10 0.0006381620931716656\n",
      "Iter 1; l2 0.1; seed 20; rerr 0.041549713793873; hr10 0.0009572431397574984\n",
      "Iter 1; l2 1.0; seed 1; rerr 0.44525088670286617; hr10 0.00797702616464582\n",
      "Iter 1; l2 1.0; seed 2; rerr 0.38905560690808977; hr10 0.009891512444160817\n",
      "Iter 1; l2 1.0; seed 3; rerr 0.4505609316920153; hr10 0.012125079770261647\n",
      "Iter 1; l2 1.0; seed 4; rerr 0.44336898784422746; hr10 0.009572431397574984\n",
      "Iter 1; l2 1.0; seed 5; rerr 0.416709545770699; hr10 0.00797702616464582\n",
      "Iter 1; l2 1.0; seed 13; rerr 0.3959098851590012; hr10 0.00797702616464582\n",
      "Iter 1; l2 1.0; seed 15; rerr 0.41179401691860074; hr10 0.007657945118059987\n",
      "Iter 1; l2 1.0; seed 20; rerr 0.4101770807596895; hr10 0.010529674537332482\n",
      "Iter 1; l2 2.0; seed 1; rerr 0.9047454317758534; hr10 0.01021059349074665\n",
      "Iter 1; l2 2.0; seed 2; rerr 0.8338137364575563; hr10 0.009253350350989151\n",
      "Iter 1; l2 2.0; seed 3; rerr 0.8926791905587794; hr10 0.00797702616464582\n",
      "Iter 1; l2 2.0; seed 4; rerr 0.8801892753593032; hr10 0.010529674537332482\n",
      "Iter 1; l2 2.0; seed 5; rerr 0.8495317413924496; hr10 0.013082322910019146\n",
      "Iter 1; l2 2.0; seed 13; rerr 0.8335330596262576; hr10 0.011167836630504148\n",
      "Iter 1; l2 2.0; seed 15; rerr 0.8504049482979252; hr10 0.011167836630504148\n",
      "Iter 1; l2 2.0; seed 20; rerr 0.8333775444547553; hr10 0.011167836630504148\n",
      "Iter 1; l2 3.0; seed 1; rerr 0.9871215248859865; hr10 0.011167836630504148\n",
      "Iter 1; l2 3.0; seed 2; rerr 0.9692655325774451; hr10 0.014358647096362476\n",
      "Iter 1; l2 3.0; seed 3; rerr 0.9816407112975413; hr10 0.010848755583918315\n",
      "Iter 1; l2 3.0; seed 4; rerr 0.9781384912472645; hr10 0.01595405232929164\n",
      "Iter 1; l2 3.0; seed 5; rerr 0.9694420035184093; hr10 0.01021059349074665\n",
      "Iter 1; l2 3.0; seed 13; rerr 0.9624483772402158; hr10 0.014677728142948309\n",
      "Iter 1; l2 3.0; seed 15; rerr 0.9685886726310495; hr10 0.011805998723675814\n",
      "Iter 1; l2 3.0; seed 20; rerr 0.9712774530689589; hr10 0.01372048500319081\n",
      "Iter 1; l2 4.0; seed 1; rerr 0.9979193515979824; hr10 0.010529674537332482\n",
      "Iter 1; l2 4.0; seed 2; rerr 0.9937831984602599; hr10 0.01372048500319081\n",
      "Iter 1; l2 4.0; seed 3; rerr 0.9966914979184864; hr10 0.010529674537332482\n",
      "Iter 1; l2 4.0; seed 4; rerr 0.9957355360829425; hr10 0.01691129546904914\n",
      "Iter 1; l2 4.0; seed 5; rerr 0.9935915713796434; hr10 0.008934269304403318\n",
      "Iter 1; l2 4.0; seed 13; rerr 0.9900908043388906; hr10 0.011805998723675814\n",
      "Iter 1; l2 4.0; seed 15; rerr 0.9932178802727625; hr10 0.013082322910019146\n",
      "Iter 1; l2 4.0; seed 20; rerr 0.994925941562635; hr10 0.014996809189534142\n",
      "Iter 1; l2 10.0; seed 1; rerr 0.9999964018098308; hr10 0.010848755583918315\n",
      "Iter 1; l2 10.0; seed 2; rerr 0.9999881988517205; hr10 0.01372048500319081\n",
      "Iter 1; l2 10.0; seed 3; rerr 0.9999940350374249; hr10 0.010529674537332482\n",
      "Iter 1; l2 10.0; seed 4; rerr 0.9999919376095995; hr10 0.016592214422463305\n",
      "Iter 1; l2 10.0; seed 5; rerr 0.9999876856825675; hr10 0.008934269304403318\n",
      "Iter 1; l2 10.0; seed 13; rerr 0.9999764813927603; hr10 0.012125079770261647\n",
      "Iter 1; l2 10.0; seed 15; rerr 0.9999869081694551; hr10 0.012763241863433313\n",
      "Iter 1; l2 10.0; seed 20; rerr 0.9999909089945562; hr10 0.015315890236119975\n",
      "Iter 2; l2 0.01; seed 1; rerr 0.002836321649914726; hr10 0.0012763241863433313\n",
      "Iter 2; l2 0.01; seed 2; rerr 0.002927959918871796; hr10 0.0006381620931716656\n",
      "Iter 2; l2 0.01; seed 3; rerr 0.0033400456664965223; hr10 0.0006381620931716656\n",
      "Iter 2; l2 0.01; seed 4; rerr 0.0031600467377303552; hr10 0.0012763241863433313\n",
      "Iter 2; l2 0.01; seed 5; rerr 0.00216645231017782; hr10 0.0\n",
      "Iter 2; l2 0.01; seed 13; rerr 0.0029939095658906515; hr10 0.0012763241863433313\n",
      "Iter 2; l2 0.01; seed 15; rerr 0.002165226534905715; hr10 0.0019144862795149968\n",
      "Iter 2; l2 0.01; seed 20; rerr 0.002845401427523279; hr10 0.0\n",
      "Iter 2; l2 0.1; seed 1; rerr 0.009562101227665376; hr10 0.001595405232929164\n",
      "Iter 2; l2 0.1; seed 2; rerr 0.009495612543788282; hr10 0.0009572431397574984\n",
      "Iter 2; l2 0.1; seed 3; rerr 0.010198990293432382; hr10 0.0012763241863433313\n",
      "Iter 2; l2 0.1; seed 4; rerr 0.009056736044880914; hr10 0.0025526483726866626\n",
      "Iter 2; l2 0.1; seed 5; rerr 0.009102955208718518; hr10 0.0003190810465858328\n",
      "Iter 2; l2 0.1; seed 13; rerr 0.009079007336834385; hr10 0.0012763241863433313\n",
      "Iter 2; l2 0.1; seed 15; rerr 0.009070201382762055; hr10 0.0006381620931716656\n",
      "Iter 2; l2 0.1; seed 20; rerr 0.009440328954274994; hr10 0.001595405232929164\n",
      "Iter 2; l2 1.0; seed 1; rerr 0.16566286473000455; hr10 0.014039566049776643\n",
      "Iter 2; l2 1.0; seed 2; rerr 0.1513179950039548; hr10 0.015315890236119975\n",
      "Iter 2; l2 1.0; seed 3; rerr 0.1656354411450381; hr10 0.012125079770261647\n",
      "Iter 2; l2 1.0; seed 4; rerr 0.16211361143079747; hr10 0.014677728142948309\n",
      "Iter 2; l2 1.0; seed 5; rerr 0.15985145640814669; hr10 0.01148691767708998\n",
      "Iter 2; l2 1.0; seed 13; rerr 0.15031664731720634; hr10 0.009253350350989151\n",
      "Iter 2; l2 1.0; seed 15; rerr 0.1641304823390156; hr10 0.013401403956604978\n",
      "Iter 2; l2 1.0; seed 20; rerr 0.14821236246346683; hr10 0.014039566049776643\n",
      "Iter 2; l2 2.0; seed 1; rerr 0.315963209215562; hr10 0.013401403956604978\n",
      "Iter 2; l2 2.0; seed 2; rerr 0.30900509338466464; hr10 0.01244416081684748\n",
      "Iter 2; l2 2.0; seed 3; rerr 0.33779026382358135; hr10 0.013401403956604978\n",
      "Iter 2; l2 2.0; seed 4; rerr 0.31678439140071923; hr10 0.01595405232929164\n",
      "Iter 2; l2 2.0; seed 5; rerr 0.3270786274697171; hr10 0.00797702616464582\n",
      "Iter 2; l2 2.0; seed 13; rerr 0.31368316059289336; hr10 0.010848755583918315\n",
      "Iter 2; l2 2.0; seed 15; rerr 0.3305998906532503; hr10 0.011805998723675814\n",
      "Iter 2; l2 2.0; seed 20; rerr 0.33567845366655347; hr10 0.01372048500319081\n",
      "Iter 2; l2 3.0; seed 1; rerr 0.5964365455546573; hr10 0.01723037651563497\n",
      "Iter 2; l2 3.0; seed 2; rerr 0.5252559292042416; hr10 0.01723037651563497\n",
      "Iter 2; l2 3.0; seed 3; rerr 0.6015217990956221; hr10 0.0194639438417358\n",
      "Iter 2; l2 3.0; seed 4; rerr 0.5715564527036512; hr10 0.023931078493937462\n",
      "Iter 2; l2 3.0; seed 5; rerr 0.5526998622540259; hr10 0.012763241863433313\n",
      "Iter 2; l2 3.0; seed 13; rerr 0.49658088525545224; hr10 0.018506700701978303\n",
      "Iter 2; l2 3.0; seed 15; rerr 0.5523636022487043; hr10 0.017868538608806637\n",
      "Iter 2; l2 3.0; seed 20; rerr 0.5332798743625038; hr10 0.013401403956604978\n",
      "Iter 2; l2 4.0; seed 1; rerr 0.9177346717242371; hr10 0.01148691767708998\n",
      "Iter 2; l2 4.0; seed 2; rerr 0.8241410271215527; hr10 0.014358647096362476\n",
      "Iter 2; l2 4.0; seed 3; rerr 0.9171580016642213; hr10 0.014358647096362476\n",
      "Iter 2; l2 4.0; seed 4; rerr 0.8695571158482638; hr10 0.018187619655392468\n",
      "Iter 2; l2 4.0; seed 5; rerr 0.8451172808812691; hr10 0.016273133375877474\n",
      "Iter 2; l2 4.0; seed 13; rerr 0.8139168402609592; hr10 0.017549457562220806\n",
      "Iter 2; l2 4.0; seed 15; rerr 0.8846226152007711; hr10 0.010848755583918315\n",
      "Iter 2; l2 4.0; seed 20; rerr 0.7924048392272638; hr10 0.01372048500319081\n",
      "Iter 2; l2 10.0; seed 1; rerr 0.9999999999496303; hr10 0.010529674537332482\n",
      "Iter 2; l2 10.0; seed 2; rerr 0.9999999835093442; hr10 0.014358647096362476\n",
      "Iter 2; l2 10.0; seed 3; rerr 0.999999999101779; hr10 0.009253350350989151\n",
      "Iter 2; l2 10.0; seed 4; rerr 0.9999999629599983; hr10 0.01372048500319081\n",
      "Iter 2; l2 10.0; seed 5; rerr 0.9999999429145314; hr10 0.012125079770261647\n",
      "Iter 2; l2 10.0; seed 13; rerr 0.9999939479907445; hr10 0.009891512444160817\n",
      "Iter 2; l2 10.0; seed 15; rerr 0.9999999822331227; hr10 0.012763241863433313\n",
      "Iter 2; l2 10.0; seed 20; rerr 0.9999999992587387; hr10 0.009891512444160817\n",
      "Iter 3; l2 0.01; seed 1; rerr 0.0021061732429758498; hr10 0.0012763241863433313\n",
      "Iter 3; l2 0.01; seed 2; rerr 0.002084897309315007; hr10 0.0009572431397574984\n"
     ]
    },
    {
     "ename": "KeyboardInterrupt",
     "evalue": "",
     "output_type": "error",
     "traceback": [
      "\u001b[0;31m---------------------------------------------------------------------------\u001b[0m",
      "\u001b[0;31mKeyboardInterrupt\u001b[0m                         Traceback (most recent call last)",
      "\u001b[0;32m<ipython-input-19-c6ee90e949f9>\u001b[0m in \u001b[0;36m<module>\u001b[0;34m\u001b[0m\n\u001b[1;32m     21\u001b[0m \u001b[0;34m\u001b[0m\u001b[0m\n\u001b[1;32m     22\u001b[0m             hr1_test, hr3_test, hr10_test, mrr_test = hr(\n\u001b[0;32m---> 23\u001b[0;31m                 \u001b[0mtest_filter\u001b[0m\u001b[0;34m,\u001b[0m \u001b[0mtest_triples\u001b[0m\u001b[0;34m,\u001b[0m \u001b[0ma\u001b[0m\u001b[0;34m,\u001b[0m \u001b[0mb\u001b[0m\u001b[0;34m,\u001b[0m \u001b[0mc\u001b[0m\u001b[0;34m,\u001b[0m \u001b[0;34m[\u001b[0m\u001b[0;36m1\u001b[0m\u001b[0;34m,\u001b[0m \u001b[0;36m3\u001b[0m\u001b[0;34m,\u001b[0m \u001b[0;36m10\u001b[0m\u001b[0;34m]\u001b[0m\u001b[0;34m,\u001b[0m\u001b[0;34m\u001b[0m\u001b[0;34m\u001b[0m\u001b[0m\n\u001b[0m\u001b[1;32m     24\u001b[0m             )\n\u001b[1;32m     25\u001b[0m             \u001b[0mprint\u001b[0m\u001b[0;34m(\u001b[0m\u001b[0;34mf\"Iter {iterat}; l2 {l}; seed {s}; rerr {rerr}; hr10 {hr10_test}\"\u001b[0m\u001b[0;34m)\u001b[0m\u001b[0;34m\u001b[0m\u001b[0;34m\u001b[0m\u001b[0m\n",
      "\u001b[0;32m~/Tensors/Relations_Learning/general_functions.py\u001b[0m in \u001b[0;36mhr\u001b[0;34m(test_filter, test_triples, a, b, c, how_many, iter_show, freq)\u001b[0m\n\u001b[1;32m     55\u001b[0m             \u001b[0mtop\u001b[0m\u001b[0;34m.\u001b[0m\u001b[0mremove\u001b[0m\u001b[0;34m(\u001b[0m\u001b[0mobj\u001b[0m\u001b[0;34m)\u001b[0m\u001b[0;34m\u001b[0m\u001b[0;34m\u001b[0m\u001b[0m\n\u001b[1;32m     56\u001b[0m \u001b[0;34m\u001b[0m\u001b[0m\n\u001b[0;32m---> 57\u001b[0;31m         \u001b[0mind\u001b[0m \u001b[0;34m=\u001b[0m \u001b[0mtop\u001b[0m\u001b[0;34m.\u001b[0m\u001b[0mindex\u001b[0m\u001b[0;34m(\u001b[0m\u001b[0mr\u001b[0m\u001b[0;34m)\u001b[0m\u001b[0;34m\u001b[0m\u001b[0;34m\u001b[0m\u001b[0m\n\u001b[0m\u001b[1;32m     58\u001b[0m         \u001b[0;32mfor\u001b[0m \u001b[0mi\u001b[0m\u001b[0;34m,\u001b[0m \u001b[0mh\u001b[0m \u001b[0;32min\u001b[0m \u001b[0menumerate\u001b[0m\u001b[0;34m(\u001b[0m\u001b[0mhow_many\u001b[0m\u001b[0;34m)\u001b[0m\u001b[0;34m:\u001b[0m\u001b[0;34m\u001b[0m\u001b[0;34m\u001b[0m\u001b[0m\n\u001b[1;32m     59\u001b[0m             \u001b[0;32mif\u001b[0m \u001b[0mind\u001b[0m \u001b[0;34m<\u001b[0m \u001b[0mh\u001b[0m\u001b[0;34m:\u001b[0m\u001b[0;34m\u001b[0m\u001b[0;34m\u001b[0m\u001b[0m\n",
      "\u001b[0;31mKeyboardInterrupt\u001b[0m: "
     ]
    }
   ],
   "source": [
    "max_iter = [1, 2, 3, 4, 5]\n",
    "rank = 25\n",
    "l2 = [1e-2, 1e-1, 1e0, 2e0, 3e0, 4e0, 10e0]\n",
    "seed = [1, 2, 3, 4, 5, 13, 15, 20]\n",
    "for iterat in max_iter:\n",
    "    for l in l2:\n",
    "        for s in seed:\n",
    "            a, b, c, err_arr, it = wrcp.wrcp_als3(\n",
    "                coords, values, data_shape,\n",
    "                rank=rank,\n",
    "                l2=l,\n",
    "                max_iter=iterat,\n",
    "                seed=s,\n",
    "                show_iter=False,\n",
    "                it_over=False,\n",
    "            ) \n",
    "            \n",
    "            rerr = sqrt_err_relative(\n",
    "                coords, values, data_shape, a, b, c,\n",
    "            )\n",
    "            \n",
    "            hr1_test, hr3_test, hr10_test, mrr_test = hr(\n",
    "                test_filter, test_triples, a, b, c, [1, 3, 10],\n",
    "            )\n",
    "            print(f\"Iter {iterat}; l2 {l}; seed {s}; rerr {rerr}; hr10 {hr10_test}\")"
   ]
  },
  {
   "cell_type": "markdown",
   "metadata": {},
   "source": [
    "## Find best parameters:"
   ]
  },
  {
   "cell_type": "code",
   "execution_count": 20,
   "metadata": {},
   "outputs": [],
   "source": [
    "ranks = (25, 50, 100, 200, 300, 400, 600)\n",
    "l2 = 3e0\n",
    "n_iter = 2\n",
    "seed = 13"
   ]
  },
  {
   "cell_type": "code",
   "execution_count": 21,
   "metadata": {},
   "outputs": [
    {
     "data": {
      "text/html": [
       "<div>\n",
       "<style scoped>\n",
       "    .dataframe tbody tr th:only-of-type {\n",
       "        vertical-align: middle;\n",
       "    }\n",
       "\n",
       "    .dataframe tbody tr th {\n",
       "        vertical-align: top;\n",
       "    }\n",
       "\n",
       "    .dataframe thead th {\n",
       "        text-align: right;\n",
       "    }\n",
       "</style>\n",
       "<table border=\"1\" class=\"dataframe\">\n",
       "  <thead>\n",
       "    <tr style=\"text-align: right;\">\n",
       "      <th></th>\n",
       "      <th>iter</th>\n",
       "      <th>rank</th>\n",
       "      <th>l2</th>\n",
       "      <th>time_train</th>\n",
       "      <th>time_hr</th>\n",
       "      <th>error</th>\n",
       "      <th>hr1_valid</th>\n",
       "      <th>hr1_test</th>\n",
       "      <th>hr3_valid</th>\n",
       "      <th>hr3_test</th>\n",
       "      <th>hr10_valid</th>\n",
       "      <th>hr10_test</th>\n",
       "      <th>mrr_valid</th>\n",
       "      <th>mrr_test</th>\n",
       "    </tr>\n",
       "  </thead>\n",
       "  <tbody>\n",
       "    <tr>\n",
       "      <td>1</td>\n",
       "      <td>0.0</td>\n",
       "      <td>0.0</td>\n",
       "      <td>0.0</td>\n",
       "      <td>0.0</td>\n",
       "      <td>0.0</td>\n",
       "      <td>0.0</td>\n",
       "      <td>0.0</td>\n",
       "      <td>0.0</td>\n",
       "      <td>0.0</td>\n",
       "      <td>0.0</td>\n",
       "      <td>0.0</td>\n",
       "      <td>0.0</td>\n",
       "      <td>0.0</td>\n",
       "      <td>0.0</td>\n",
       "    </tr>\n",
       "    <tr>\n",
       "      <td>2</td>\n",
       "      <td>0.0</td>\n",
       "      <td>0.0</td>\n",
       "      <td>0.0</td>\n",
       "      <td>0.0</td>\n",
       "      <td>0.0</td>\n",
       "      <td>0.0</td>\n",
       "      <td>0.0</td>\n",
       "      <td>0.0</td>\n",
       "      <td>0.0</td>\n",
       "      <td>0.0</td>\n",
       "      <td>0.0</td>\n",
       "      <td>0.0</td>\n",
       "      <td>0.0</td>\n",
       "      <td>0.0</td>\n",
       "    </tr>\n",
       "    <tr>\n",
       "      <td>3</td>\n",
       "      <td>0.0</td>\n",
       "      <td>0.0</td>\n",
       "      <td>0.0</td>\n",
       "      <td>0.0</td>\n",
       "      <td>0.0</td>\n",
       "      <td>0.0</td>\n",
       "      <td>0.0</td>\n",
       "      <td>0.0</td>\n",
       "      <td>0.0</td>\n",
       "      <td>0.0</td>\n",
       "      <td>0.0</td>\n",
       "      <td>0.0</td>\n",
       "      <td>0.0</td>\n",
       "      <td>0.0</td>\n",
       "    </tr>\n",
       "    <tr>\n",
       "      <td>4</td>\n",
       "      <td>0.0</td>\n",
       "      <td>0.0</td>\n",
       "      <td>0.0</td>\n",
       "      <td>0.0</td>\n",
       "      <td>0.0</td>\n",
       "      <td>0.0</td>\n",
       "      <td>0.0</td>\n",
       "      <td>0.0</td>\n",
       "      <td>0.0</td>\n",
       "      <td>0.0</td>\n",
       "      <td>0.0</td>\n",
       "      <td>0.0</td>\n",
       "      <td>0.0</td>\n",
       "      <td>0.0</td>\n",
       "    </tr>\n",
       "    <tr>\n",
       "      <td>5</td>\n",
       "      <td>0.0</td>\n",
       "      <td>0.0</td>\n",
       "      <td>0.0</td>\n",
       "      <td>0.0</td>\n",
       "      <td>0.0</td>\n",
       "      <td>0.0</td>\n",
       "      <td>0.0</td>\n",
       "      <td>0.0</td>\n",
       "      <td>0.0</td>\n",
       "      <td>0.0</td>\n",
       "      <td>0.0</td>\n",
       "      <td>0.0</td>\n",
       "      <td>0.0</td>\n",
       "      <td>0.0</td>\n",
       "    </tr>\n",
       "    <tr>\n",
       "      <td>6</td>\n",
       "      <td>0.0</td>\n",
       "      <td>0.0</td>\n",
       "      <td>0.0</td>\n",
       "      <td>0.0</td>\n",
       "      <td>0.0</td>\n",
       "      <td>0.0</td>\n",
       "      <td>0.0</td>\n",
       "      <td>0.0</td>\n",
       "      <td>0.0</td>\n",
       "      <td>0.0</td>\n",
       "      <td>0.0</td>\n",
       "      <td>0.0</td>\n",
       "      <td>0.0</td>\n",
       "      <td>0.0</td>\n",
       "    </tr>\n",
       "    <tr>\n",
       "      <td>7</td>\n",
       "      <td>0.0</td>\n",
       "      <td>0.0</td>\n",
       "      <td>0.0</td>\n",
       "      <td>0.0</td>\n",
       "      <td>0.0</td>\n",
       "      <td>0.0</td>\n",
       "      <td>0.0</td>\n",
       "      <td>0.0</td>\n",
       "      <td>0.0</td>\n",
       "      <td>0.0</td>\n",
       "      <td>0.0</td>\n",
       "      <td>0.0</td>\n",
       "      <td>0.0</td>\n",
       "      <td>0.0</td>\n",
       "    </tr>\n",
       "  </tbody>\n",
       "</table>\n",
       "</div>"
      ],
      "text/plain": [
       "   iter  rank   l2  time_train  time_hr  error  hr1_valid  hr1_test  \\\n",
       "1   0.0   0.0  0.0         0.0      0.0    0.0        0.0       0.0   \n",
       "2   0.0   0.0  0.0         0.0      0.0    0.0        0.0       0.0   \n",
       "3   0.0   0.0  0.0         0.0      0.0    0.0        0.0       0.0   \n",
       "4   0.0   0.0  0.0         0.0      0.0    0.0        0.0       0.0   \n",
       "5   0.0   0.0  0.0         0.0      0.0    0.0        0.0       0.0   \n",
       "6   0.0   0.0  0.0         0.0      0.0    0.0        0.0       0.0   \n",
       "7   0.0   0.0  0.0         0.0      0.0    0.0        0.0       0.0   \n",
       "\n",
       "   hr3_valid  hr3_test  hr10_valid  hr10_test  mrr_valid  mrr_test  \n",
       "1        0.0       0.0         0.0        0.0        0.0       0.0  \n",
       "2        0.0       0.0         0.0        0.0        0.0       0.0  \n",
       "3        0.0       0.0         0.0        0.0        0.0       0.0  \n",
       "4        0.0       0.0         0.0        0.0        0.0       0.0  \n",
       "5        0.0       0.0         0.0        0.0        0.0       0.0  \n",
       "6        0.0       0.0         0.0        0.0        0.0       0.0  \n",
       "7        0.0       0.0         0.0        0.0        0.0       0.0  "
      ]
     },
     "execution_count": 21,
     "metadata": {},
     "output_type": "execute_result"
    }
   ],
   "source": [
    "table_results = pd.DataFrame(\n",
    "    np.zeros((len(ranks), 14)),\n",
    "    index=[i for i in range(1, len(ranks) + 1)],\n",
    "    columns=(\"iter\", \"rank\", \"l2\", \"time_train\",\n",
    "             \"time_hr\", \"error\", \"hr1_valid\", \"hr1_test\",\n",
    "             \"hr3_valid\", \"hr3_test\", \"hr10_valid\", \"hr10_test\", \n",
    "             \"mrr_valid\", \"mrr_test\"),\n",
    ")\n",
    "table_results"
   ]
  },
  {
   "cell_type": "code",
   "execution_count": 22,
   "metadata": {},
   "outputs": [
    {
     "data": {
      "text/html": [
       "<div><span class=\"Text-label\" style=\"display:inline-block; overflow:hidden; white-space:nowrap; text-overflow:ellipsis; min-width:0; max-width:15ex; vertical-align:middle; text-align:right\"></span>\n",
       "<progress style=\"width:60ex\" max=\"7\" value=\"7\" class=\"Progress-main\"/></progress>\n",
       "<span class=\"Progress-label\"><strong>100%</strong></span>\n",
       "<span class=\"Iteration-label\">7/7</span>\n",
       "<span class=\"Time-label\">[03:01:52<01:39:24, 1558.90s/it]</span></div>"
      ],
      "text/plain": [
       "\u001b[A\u001b[2K\r",
       " [████████████████████████████████████████████████████████████] 7/7 [03:01:52<01:39:24, 1558.90s/it]"
      ]
     },
     "metadata": {},
     "output_type": "display_data"
    }
   ],
   "source": [
    "idx = 0\n",
    "for rank in track(ranks):\n",
    "    idx += 1\n",
    "    # Train model\n",
    "    start_tr = time.time()\n",
    "    a, b, c, err_arr, it = wrcp.wrcp_als3(\n",
    "        coords, values, data_shape,\n",
    "        rank=rank,\n",
    "        l2=l2,\n",
    "        max_iter=n_iter,\n",
    "        seed=seed,\n",
    "        show_iter=False,\n",
    "        it_over=False,\n",
    "    )\n",
    "    end_tr = time.time()\n",
    "            \n",
    "    # Find relative error\n",
    "    rerr = sqrt_err_relative(\n",
    "        coords, values, data_shape, a, b, c,\n",
    "    )\n",
    "    \n",
    "    # Find Hit Rate on a validation set\n",
    "    start_hr = time.time()\n",
    "    hr1_valid, hr3_valid, hr10_valid, mrr_valid = hr(\n",
    "        valid_filter, valid_triples, a, b, c, [1, 3, 10]\n",
    "    )\n",
    "    \n",
    "    # Find Hit Rate on a test set\n",
    "    hr1_test, hr3_test, hr10_test, mrr_test = hr(\n",
    "        test_filter, test_triples, a, b, c, [1, 3, 10]\n",
    "    )\n",
    "    end_hr = time.time()\n",
    "            \n",
    "    table_results.loc[idx][\"iter\"] = n_iter\n",
    "    table_results.loc[idx][\"rank\"] = rank\n",
    "    table_results.loc[idx][\"l2\"] = l2\n",
    "    table_results.loc[idx][\"time_train\"] = end_tr - start_tr\n",
    "    table_results.loc[idx][\"time_hr\"] = end_hr - start_hr\n",
    "    table_results.loc[idx][\"error\"] = rerr\n",
    "    \n",
    "    table_results.loc[idx][\"hr1_valid\"] = hr1_valid\n",
    "    table_results.loc[idx][\"hr1_test\"] = hr1_test\n",
    "    \n",
    "    table_results.loc[idx][\"hr3_valid\"] = hr3_valid\n",
    "    table_results.loc[idx][\"hr3_test\"] = hr3_test\n",
    "    \n",
    "    table_results.loc[idx][\"hr10_valid\"] = hr10_valid\n",
    "    table_results.loc[idx][\"hr10_test\"] = hr10_test\n",
    "    \n",
    "    table_results.loc[idx][\"mrr_valid\"] = mrr_valid\n",
    "    table_results.loc[idx][\"mrr_test\"] = mrr_test "
   ]
  },
  {
   "cell_type": "code",
   "execution_count": 23,
   "metadata": {},
   "outputs": [
    {
     "data": {
      "text/html": [
       "<div>\n",
       "<style scoped>\n",
       "    .dataframe tbody tr th:only-of-type {\n",
       "        vertical-align: middle;\n",
       "    }\n",
       "\n",
       "    .dataframe tbody tr th {\n",
       "        vertical-align: top;\n",
       "    }\n",
       "\n",
       "    .dataframe thead th {\n",
       "        text-align: right;\n",
       "    }\n",
       "</style>\n",
       "<table border=\"1\" class=\"dataframe\">\n",
       "  <thead>\n",
       "    <tr style=\"text-align: right;\">\n",
       "      <th></th>\n",
       "      <th>iter</th>\n",
       "      <th>rank</th>\n",
       "      <th>l2</th>\n",
       "      <th>time_train</th>\n",
       "      <th>time_hr</th>\n",
       "      <th>error</th>\n",
       "      <th>hr1_valid</th>\n",
       "      <th>hr1_test</th>\n",
       "      <th>hr3_valid</th>\n",
       "      <th>hr3_test</th>\n",
       "      <th>hr10_valid</th>\n",
       "      <th>hr10_test</th>\n",
       "      <th>mrr_valid</th>\n",
       "      <th>mrr_test</th>\n",
       "    </tr>\n",
       "  </thead>\n",
       "  <tbody>\n",
       "    <tr>\n",
       "      <td>1</td>\n",
       "      <td>2.0</td>\n",
       "      <td>25.0</td>\n",
       "      <td>3.0</td>\n",
       "      <td>49.028272</td>\n",
       "      <td>61.219212</td>\n",
       "      <td>0.496581</td>\n",
       "      <td>0.004614</td>\n",
       "      <td>0.004148</td>\n",
       "      <td>0.006592</td>\n",
       "      <td>0.010849</td>\n",
       "      <td>0.013843</td>\n",
       "      <td>0.018507</td>\n",
       "      <td>0.007631</td>\n",
       "      <td>0.008888</td>\n",
       "    </tr>\n",
       "    <tr>\n",
       "      <td>2</td>\n",
       "      <td>2.0</td>\n",
       "      <td>50.0</td>\n",
       "      <td>3.0</td>\n",
       "      <td>69.097993</td>\n",
       "      <td>72.839429</td>\n",
       "      <td>0.504270</td>\n",
       "      <td>0.001978</td>\n",
       "      <td>0.003510</td>\n",
       "      <td>0.006592</td>\n",
       "      <td>0.009253</td>\n",
       "      <td>0.016480</td>\n",
       "      <td>0.018188</td>\n",
       "      <td>0.006618</td>\n",
       "      <td>0.008635</td>\n",
       "    </tr>\n",
       "    <tr>\n",
       "      <td>3</td>\n",
       "      <td>2.0</td>\n",
       "      <td>100.0</td>\n",
       "      <td>3.0</td>\n",
       "      <td>131.901831</td>\n",
       "      <td>102.556725</td>\n",
       "      <td>0.493359</td>\n",
       "      <td>0.003955</td>\n",
       "      <td>0.005424</td>\n",
       "      <td>0.008240</td>\n",
       "      <td>0.011487</td>\n",
       "      <td>0.018787</td>\n",
       "      <td>0.022336</td>\n",
       "      <td>0.009344</td>\n",
       "      <td>0.011404</td>\n",
       "    </tr>\n",
       "    <tr>\n",
       "      <td>4</td>\n",
       "      <td>2.0</td>\n",
       "      <td>200.0</td>\n",
       "      <td>3.0</td>\n",
       "      <td>458.617133</td>\n",
       "      <td>186.182451</td>\n",
       "      <td>0.471960</td>\n",
       "      <td>0.006262</td>\n",
       "      <td>0.003191</td>\n",
       "      <td>0.010547</td>\n",
       "      <td>0.006063</td>\n",
       "      <td>0.022413</td>\n",
       "      <td>0.020421</td>\n",
       "      <td>0.011904</td>\n",
       "      <td>0.008921</td>\n",
       "    </tr>\n",
       "    <tr>\n",
       "      <td>5</td>\n",
       "      <td>2.0</td>\n",
       "      <td>300.0</td>\n",
       "      <td>3.0</td>\n",
       "      <td>1073.498654</td>\n",
       "      <td>261.743319</td>\n",
       "      <td>0.468977</td>\n",
       "      <td>0.008899</td>\n",
       "      <td>0.008934</td>\n",
       "      <td>0.014832</td>\n",
       "      <td>0.017869</td>\n",
       "      <td>0.028016</td>\n",
       "      <td>0.027441</td>\n",
       "      <td>0.015171</td>\n",
       "      <td>0.016022</td>\n",
       "    </tr>\n",
       "    <tr>\n",
       "      <td>6</td>\n",
       "      <td>2.0</td>\n",
       "      <td>400.0</td>\n",
       "      <td>3.0</td>\n",
       "      <td>2153.167999</td>\n",
       "      <td>328.318747</td>\n",
       "      <td>0.491871</td>\n",
       "      <td>0.010877</td>\n",
       "      <td>0.008934</td>\n",
       "      <td>0.018128</td>\n",
       "      <td>0.018507</td>\n",
       "      <td>0.033619</td>\n",
       "      <td>0.035099</td>\n",
       "      <td>0.018609</td>\n",
       "      <td>0.018686</td>\n",
       "    </tr>\n",
       "    <tr>\n",
       "      <td>7</td>\n",
       "      <td>2.0</td>\n",
       "      <td>600.0</td>\n",
       "      <td>3.0</td>\n",
       "      <td>5485.094754</td>\n",
       "      <td>478.421974</td>\n",
       "      <td>0.469418</td>\n",
       "      <td>0.006922</td>\n",
       "      <td>0.008296</td>\n",
       "      <td>0.010547</td>\n",
       "      <td>0.014997</td>\n",
       "      <td>0.025709</td>\n",
       "      <td>0.026484</td>\n",
       "      <td>0.013021</td>\n",
       "      <td>0.015005</td>\n",
       "    </tr>\n",
       "  </tbody>\n",
       "</table>\n",
       "</div>"
      ],
      "text/plain": [
       "   iter   rank   l2   time_train     time_hr     error  hr1_valid  hr1_test  \\\n",
       "1   2.0   25.0  3.0    49.028272   61.219212  0.496581   0.004614  0.004148   \n",
       "2   2.0   50.0  3.0    69.097993   72.839429  0.504270   0.001978  0.003510   \n",
       "3   2.0  100.0  3.0   131.901831  102.556725  0.493359   0.003955  0.005424   \n",
       "4   2.0  200.0  3.0   458.617133  186.182451  0.471960   0.006262  0.003191   \n",
       "5   2.0  300.0  3.0  1073.498654  261.743319  0.468977   0.008899  0.008934   \n",
       "6   2.0  400.0  3.0  2153.167999  328.318747  0.491871   0.010877  0.008934   \n",
       "7   2.0  600.0  3.0  5485.094754  478.421974  0.469418   0.006922  0.008296   \n",
       "\n",
       "   hr3_valid  hr3_test  hr10_valid  hr10_test  mrr_valid  mrr_test  \n",
       "1   0.006592  0.010849    0.013843   0.018507   0.007631  0.008888  \n",
       "2   0.006592  0.009253    0.016480   0.018188   0.006618  0.008635  \n",
       "3   0.008240  0.011487    0.018787   0.022336   0.009344  0.011404  \n",
       "4   0.010547  0.006063    0.022413   0.020421   0.011904  0.008921  \n",
       "5   0.014832  0.017869    0.028016   0.027441   0.015171  0.016022  \n",
       "6   0.018128  0.018507    0.033619   0.035099   0.018609  0.018686  \n",
       "7   0.010547  0.014997    0.025709   0.026484   0.013021  0.015005  "
      ]
     },
     "execution_count": 23,
     "metadata": {},
     "output_type": "execute_result"
    }
   ],
   "source": [
    "table_results"
   ]
  },
  {
   "cell_type": "code",
   "execution_count": 24,
   "metadata": {},
   "outputs": [],
   "source": [
    "table_results.to_csv(\"Link_Prediction_Factors/WN18RR/results.csv\")"
   ]
  },
  {
   "cell_type": "code",
   "execution_count": 25,
   "metadata": {},
   "outputs": [
    {
     "data": {
      "text/plain": [
       "[<matplotlib.lines.Line2D at 0x7f9c09916450>]"
      ]
     },
     "execution_count": 25,
     "metadata": {},
     "output_type": "execute_result"
    },
    {
     "data": {
      "image/png": "[encoded data removed]",
      "text/plain": [
       "<Figure size 432x288 with 1 Axes>"
      ]
     },
     "metadata": {
      "needs_background": "light"
     },
     "output_type": "display_data"
    }
   ],
   "source": [
    "plt.xlabel(\"Rank\")\n",
    "plt.ylabel(\"HR@10\")\n",
    "plt.title(f\"WN18RR / WRCP-ALS3\")\n",
    "plt.xticks(table_results['rank'])\n",
    "#plt.yscale(\"log\")\n",
    "plt.plot(table_results['rank'], table_results['hr10_test'], '-*', c=\"#8b0a50\")"
   ]
  },
  {
   "cell_type": "code",
   "execution_count": null,
   "metadata": {},
   "outputs": [],
   "source": []
  }
 ],
 "metadata": {
  "kernelspec": {
   "display_name": "Python 3",
   "language": "python",
   "name": "python3"
  },
  "language_info": {
   "codemirror_mode": {
    "name": "ipython",
    "version": 3
   },
   "file_extension": ".py",
   "mimetype": "text/x-python",
   "name": "python",
   "nbconvert_exporter": "python",
   "pygments_lexer": "ipython3",
   "version": "3.7.4"
  }
 },
 "nbformat": 4,
 "nbformat_minor": 4
}
