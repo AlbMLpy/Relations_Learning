{
 "cells": [
  {
   "cell_type": "code",
   "execution_count": 1,
   "metadata": {},
   "outputs": [],
   "source": [
    "import numpy as np\n",
    "import pandas as pd\n",
    "import matplotlib.pyplot as plt\n",
    "\n",
    "import pickle\n",
    "import time\n",
    "from ipypb import track\n",
    "\n",
    "import WRCP_ALS3 as wrcp\n",
    "from general_functions import sqrt_err_relative, check_coo_tensor, gen_coo_tensor"
   ]
  },
  {
   "cell_type": "markdown",
   "metadata": {},
   "source": [
    "### Zero launch of a function(for NUMBA):"
   ]
  },
  {
   "cell_type": "code",
   "execution_count": 2,
   "metadata": {},
   "outputs": [],
   "source": [
    "init_shape = (100, 100, 100)\n",
    "coo, vals = gen_coo_tensor(init_shape, density=0.002)\n",
    "assert check_coo_tensor(coo)!= \"Bad\""
   ]
  },
  {
   "cell_type": "code",
   "execution_count": 4,
   "metadata": {},
   "outputs": [
    {
     "name": "stdout",
     "output_type": "stream",
     "text": [
      "0.3425008883587162\n",
      "CPU times: user 55.1 ms, sys: 0 ns, total: 55.1 ms\n",
      "Wall time: 54.9 ms\n"
     ]
    }
   ],
   "source": [
    "%%time\n",
    "\n",
    "max_iter = 12\n",
    "rank = 5\n",
    "seed = 13\n",
    "\n",
    "a, b, c, _, _ = wrcp.wrcp_als3(\n",
    "    coo, vals, init_shape,\n",
    "    rank=rank,\n",
    "    l2=0.25,\n",
    "    max_iter=max_iter,\n",
    "    seed=seed,\n",
    "    show_iter=False,\n",
    "    it_over=False,\n",
    ")\n",
    "rerr = sqrt_err_relative(\n",
    "    coo, vals, init_shape, a, b, c,\n",
    ")\n",
    "print(rerr)"
   ]
  },
  {
   "cell_type": "markdown",
   "metadata": {},
   "source": [
    "### Load the data:"
   ]
  },
  {
   "cell_type": "code",
   "execution_count": 5,
   "metadata": {},
   "outputs": [],
   "source": [
    "path_data = \"Link_Prediction_Data/FB15K/\"\n",
    "entity_list = pickle.load(open(path_data + 'entity_list', 'rb'))\n",
    "relation_list = pickle.load(open(path_data + 'relation_list', 'rb'))\n",
    "\n",
    "train_triples = pickle.load(open(path_data + 'train_triples', 'rb'))\n",
    "valid_triples = pickle.load(open(path_data + 'valid_triples', 'rb'))\n",
    "test_triples = pickle.load(open(path_data + 'test_triples', 'rb'))\n",
    "\n",
    "entity_map = pickle.load(open(path_data + 'entity_map', 'rb'))\n",
    "relation_map = pickle.load(open(path_data + 'relation_map', 'rb'))"
   ]
  },
  {
   "cell_type": "code",
   "execution_count": 9,
   "metadata": {},
   "outputs": [
    {
     "name": "stdout",
     "output_type": "stream",
     "text": [
      "['Northridge', 'Croatian American', 'Bob Clampett'] \n",
      " 14240\n"
     ]
    }
   ],
   "source": [
    "print(entity_list[:3], \"\\n\", len(entity_list))"
   ]
  },
  {
   "cell_type": "code",
   "execution_count": 10,
   "metadata": {},
   "outputs": [
    {
     "name": "stdout",
     "output_type": "stream",
     "text": [
      "['/people/person/children', '/location/statistical_region/rent50_1./measurement_unit/dated_money_value/currency', '/base/locations/countries/continent'] \n",
      " 1172\n"
     ]
    }
   ],
   "source": [
    "print(relation_list[:3], \"\\n\", len(relation_list))"
   ]
  },
  {
   "cell_type": "code",
   "execution_count": 11,
   "metadata": {},
   "outputs": [
    {
     "data": {
      "text/plain": [
       "459209"
      ]
     },
     "execution_count": 11,
     "metadata": {},
     "output_type": "execute_result"
    }
   ],
   "source": [
    "len(train_triples)"
   ]
  },
  {
   "cell_type": "code",
   "execution_count": 12,
   "metadata": {},
   "outputs": [
    {
     "data": {
      "text/plain": [
       "47788"
      ]
     },
     "execution_count": 12,
     "metadata": {},
     "output_type": "execute_result"
    }
   ],
   "source": [
    "len(valid_triples)"
   ]
  },
  {
   "cell_type": "code",
   "execution_count": 13,
   "metadata": {},
   "outputs": [
    {
     "data": {
      "text/plain": [
       "56361"
      ]
     },
     "execution_count": 13,
     "metadata": {},
     "output_type": "execute_result"
    }
   ],
   "source": [
    "len(test_triples)"
   ]
  },
  {
   "cell_type": "code",
   "execution_count": 14,
   "metadata": {},
   "outputs": [
    {
     "data": {
      "text/plain": [
       "[('Northridge', 0), ('Croatian American', 1)]"
      ]
     },
     "execution_count": 14,
     "metadata": {},
     "output_type": "execute_result"
    }
   ],
   "source": [
    "list(entity_map.items())[:2]"
   ]
  },
  {
   "cell_type": "code",
   "execution_count": 15,
   "metadata": {},
   "outputs": [
    {
     "data": {
      "text/plain": [
       "[('/people/person/children', 0),\n",
       " ('/location/statistical_region/rent50_1./measurement_unit/dated_money_value/currency',\n",
       "  1)]"
      ]
     },
     "execution_count": 15,
     "metadata": {},
     "output_type": "execute_result"
    }
   ],
   "source": [
    "list(relation_map.items())[:2]"
   ]
  },
  {
   "cell_type": "markdown",
   "metadata": {},
   "source": [
    "### (OPTIONAL)If we want to merge train and valid sets:"
   ]
  },
  {
   "cell_type": "code",
   "execution_count": 12,
   "metadata": {},
   "outputs": [],
   "source": [
    "train_triples.extend(valid_triples)"
   ]
  },
  {
   "cell_type": "code",
   "execution_count": 13,
   "metadata": {},
   "outputs": [
    {
     "data": {
      "text/plain": [
       "506997"
      ]
     },
     "execution_count": 13,
     "metadata": {},
     "output_type": "execute_result"
    }
   ],
   "source": [
    "len(train_triples)"
   ]
  },
  {
   "cell_type": "markdown",
   "metadata": {},
   "source": [
    "### Create Sparse COO Train Tensor:"
   ]
  },
  {
   "cell_type": "code",
   "execution_count": 6,
   "metadata": {},
   "outputs": [
    {
     "data": {
      "text/plain": [
       "(14240, 1172, 14240)"
      ]
     },
     "execution_count": 6,
     "metadata": {},
     "output_type": "execute_result"
    }
   ],
   "source": [
    "values = [1] * len(train_triples)\n",
    "values = np.array(values, dtype=np.float64)\n",
    "\n",
    "coords = np.array(train_triples, dtype=np.int32)\n",
    "nnz = len(train_triples)\n",
    "data_shape = (len(entity_list), len(relation_list), len(entity_list))\n",
    "data_shape"
   ]
  },
  {
   "cell_type": "markdown",
   "metadata": {},
   "source": [
    "## WRCP-ALS3:"
   ]
  },
  {
   "cell_type": "code",
   "execution_count": 7,
   "metadata": {},
   "outputs": [],
   "source": [
    "max_iter = 2\n",
    "rank = 10\n",
    "l2 = 3e0\n",
    "seed = 13"
   ]
  },
  {
   "cell_type": "code",
   "execution_count": 8,
   "metadata": {},
   "outputs": [
    {
     "name": "stdout",
     "output_type": "stream",
     "text": [
      "CPU times: user 1min 32s, sys: 441 ms, total: 1min 32s\n",
      "Wall time: 1min 32s\n"
     ]
    }
   ],
   "source": [
    "%%time\n",
    "a, b, c, err_arr, it = wrcp.wrcp_als3(\n",
    "    coords, values, data_shape,\n",
    "    rank=rank,\n",
    "    l2=l2,\n",
    "    max_iter=max_iter,\n",
    "    seed=seed,\n",
    "    show_iter=False,\n",
    "    it_over=False,\n",
    ")"
   ]
  },
  {
   "cell_type": "code",
   "execution_count": 9,
   "metadata": {},
   "outputs": [
    {
     "name": "stdout",
     "output_type": "stream",
     "text": [
      "Relative error = 0.4905787024539982\n"
     ]
    }
   ],
   "source": [
    "rerr = sqrt_err_relative(\n",
    "    coords, values, data_shape, a, b, c,\n",
    ")\n",
    "print(f\"Relative error = {rerr}\")"
   ]
  },
  {
   "cell_type": "code",
   "execution_count": 33,
   "metadata": {},
   "outputs": [
    {
     "data": {
      "text/plain": [
       "[<matplotlib.lines.Line2D at 0x7fcfe43f7190>]"
      ]
     },
     "execution_count": 33,
     "metadata": {},
     "output_type": "execute_result"
    },
    {
     "data": {
      "image/png": "[encoded data removed]",
      "text/plain": [
       "<Figure size 432x288 with 1 Axes>"
      ]
     },
     "metadata": {
      "needs_background": "light"
     },
     "output_type": "display_data"
    }
   ],
   "source": [
    "plt.xlabel(\"Iteration\")\n",
    "plt.ylabel(\"Relative error\")\n",
    "plt.title(f\"FB15K / WRCP-ALS3(R={rank})\")\n",
    "#plt.xticks(np.arange(it))\n",
    "plt.yscale(\"log\")\n",
    "plt.plot(np.arange(1, it+1), err_arr[:it], '-*', c=\"#8b0a50\")"
   ]
  },
  {
   "cell_type": "code",
   "execution_count": 11,
   "metadata": {},
   "outputs": [
    {
     "data": {
      "text/plain": [
       "(0.2, 1, 5)"
      ]
     },
     "execution_count": 11,
     "metadata": {},
     "output_type": "execute_result"
    }
   ],
   "source": [
    "from numba import jit\n",
    "from numba.errors import NumbaDeprecationWarning, NumbaPendingDeprecationWarning\n",
    "import warnings\n",
    "\n",
    "warnings.simplefilter('ignore', category=NumbaDeprecationWarning)\n",
    "warnings.simplefilter('ignore', category=NumbaPendingDeprecationWarning)\n",
    "\n",
    "\n",
    "@jit(nopython=True)\n",
    "def sigmoid(x):\n",
    "    return 1 / (1 + np.exp(-x))\n",
    "\n",
    "@jit(nopython=True)\n",
    "def hit_rate(train_triples, test_triples, a, b, c,\n",
    "             how_many=10, iter_show=False, freq=3000):\n",
    "    \n",
    "    total = len(test_triples)\n",
    "    hit = 0\n",
    "    iteration = 0\n",
    "    for entity in test_triples:\n",
    "        iteration += 1\n",
    "        p = entity[0]\n",
    "        q = entity[1]\n",
    "        r = entity[2]\n",
    "\n",
    "        candidate_values = np.sum(a[p, :] * b[q, :] * c, axis=1)\n",
    "        candidate_values = sigmoid(candidate_values)\n",
    "        \n",
    "        top = np.argsort(candidate_values)[::-1]\n",
    "        ltop = [i for i in top]\n",
    "        \n",
    "\n",
    "        for tr in train_triples:\n",
    "                \n",
    "            if (p == tr[0]) and (q == tr[1]):\n",
    "                if tr[2] == r:\n",
    "                    print(tr, entity)\n",
    "                if tr[2] in ltop:\n",
    "                    ltop.remove(tr[2])\n",
    "        \n",
    "        ltop = ltop[:how_many]\n",
    "        \n",
    "        for x in ltop:\n",
    "            if x == r:\n",
    "                hit += 1\n",
    "        if iter_show:\n",
    "            if iteration % freq == 0:\n",
    "                print(hit / iteration, hit, iteration)\n",
    "            \n",
    "    return hit / total, hit, total\n",
    "\n",
    "hit_rate(\n",
    "    train_triples[:5],\n",
    "    test_triples[:5],\n",
    "    a, b, c, 10,\n",
    "    iter_show=False,\n",
    "    freq=3000,\n",
    ")"
   ]
  },
  {
   "cell_type": "code",
   "execution_count": 12,
   "metadata": {},
   "outputs": [
    {
     "name": "stdout",
     "output_type": "stream",
     "text": [
      "CPU times: user 4min 25s, sys: 573 ms, total: 4min 26s\n",
      "Wall time: 4min 25s\n"
     ]
    },
    {
     "data": {
      "text/plain": [
       "(0.12602686254679654, 7103, 56361)"
      ]
     },
     "execution_count": 12,
     "metadata": {},
     "output_type": "execute_result"
    }
   ],
   "source": [
    "%%time\n",
    "hit_rate(train_triples, test_triples, a, b, c, 10, iter_show=False, freq=3000)"
   ]
  },
  {
   "cell_type": "code",
   "execution_count": 13,
   "metadata": {},
   "outputs": [
    {
     "name": "stdout",
     "output_type": "stream",
     "text": [
      "CPU times: user 3min 44s, sys: 560 ms, total: 3min 45s\n",
      "Wall time: 3min 44s\n"
     ]
    },
    {
     "data": {
      "text/plain": [
       "(0.12639156273541474, 6040, 47788)"
      ]
     },
     "execution_count": 13,
     "metadata": {},
     "output_type": "execute_result"
    }
   ],
   "source": [
    "%%time\n",
    "hit_rate(train_triples, valid_triples, a, b, c, 10, iter_show=False, freq=3000)"
   ]
  },
  {
   "cell_type": "markdown",
   "metadata": {},
   "source": [
    "### Save Factors:"
   ]
  },
  {
   "cell_type": "code",
   "execution_count": null,
   "metadata": {},
   "outputs": [],
   "source": [
    "path_factors = \"Link_Prediction_Factors/FB15K/\"\n",
    "\n",
    "pickle.dump(a, open(path_factors + 'A_factor', 'wb'))\n",
    "pickle.dump(b, open(path_factors + 'B_factor', 'wb'))\n",
    "pickle.dump(c, open(path_factors + 'C_factor', 'wb'))\n",
    "pickle.dump(err_arr, open(path_factors + 'Errors', 'wb'))"
   ]
  },
  {
   "cell_type": "markdown",
   "metadata": {},
   "source": [
    "## Find best parameters:"
   ]
  },
  {
   "cell_type": "code",
   "execution_count": 14,
   "metadata": {},
   "outputs": [],
   "source": [
    "ranks = (25, 50, 100, 200, 250)\n",
    "l2 = 3e0\n",
    "n_iter = 2\n",
    "seed = 13"
   ]
  },
  {
   "cell_type": "code",
   "execution_count": 15,
   "metadata": {},
   "outputs": [
    {
     "data": {
      "text/html": [
       "<div>\n",
       "<style scoped>\n",
       "    .dataframe tbody tr th:only-of-type {\n",
       "        vertical-align: middle;\n",
       "    }\n",
       "\n",
       "    .dataframe tbody tr th {\n",
       "        vertical-align: top;\n",
       "    }\n",
       "\n",
       "    .dataframe thead th {\n",
       "        text-align: right;\n",
       "    }\n",
       "</style>\n",
       "<table border=\"1\" class=\"dataframe\">\n",
       "  <thead>\n",
       "    <tr style=\"text-align: right;\">\n",
       "      <th></th>\n",
       "      <th>iter</th>\n",
       "      <th>rank</th>\n",
       "      <th>l2</th>\n",
       "      <th>time_train</th>\n",
       "      <th>time_hr</th>\n",
       "      <th>error</th>\n",
       "      <th>hr_valid</th>\n",
       "      <th>hr_test</th>\n",
       "    </tr>\n",
       "  </thead>\n",
       "  <tbody>\n",
       "    <tr>\n",
       "      <td>1</td>\n",
       "      <td>0.0</td>\n",
       "      <td>0.0</td>\n",
       "      <td>0.0</td>\n",
       "      <td>0.0</td>\n",
       "      <td>0.0</td>\n",
       "      <td>0.0</td>\n",
       "      <td>0.0</td>\n",
       "      <td>0.0</td>\n",
       "    </tr>\n",
       "    <tr>\n",
       "      <td>2</td>\n",
       "      <td>0.0</td>\n",
       "      <td>0.0</td>\n",
       "      <td>0.0</td>\n",
       "      <td>0.0</td>\n",
       "      <td>0.0</td>\n",
       "      <td>0.0</td>\n",
       "      <td>0.0</td>\n",
       "      <td>0.0</td>\n",
       "    </tr>\n",
       "    <tr>\n",
       "      <td>3</td>\n",
       "      <td>0.0</td>\n",
       "      <td>0.0</td>\n",
       "      <td>0.0</td>\n",
       "      <td>0.0</td>\n",
       "      <td>0.0</td>\n",
       "      <td>0.0</td>\n",
       "      <td>0.0</td>\n",
       "      <td>0.0</td>\n",
       "    </tr>\n",
       "    <tr>\n",
       "      <td>4</td>\n",
       "      <td>0.0</td>\n",
       "      <td>0.0</td>\n",
       "      <td>0.0</td>\n",
       "      <td>0.0</td>\n",
       "      <td>0.0</td>\n",
       "      <td>0.0</td>\n",
       "      <td>0.0</td>\n",
       "      <td>0.0</td>\n",
       "    </tr>\n",
       "    <tr>\n",
       "      <td>5</td>\n",
       "      <td>0.0</td>\n",
       "      <td>0.0</td>\n",
       "      <td>0.0</td>\n",
       "      <td>0.0</td>\n",
       "      <td>0.0</td>\n",
       "      <td>0.0</td>\n",
       "      <td>0.0</td>\n",
       "      <td>0.0</td>\n",
       "    </tr>\n",
       "  </tbody>\n",
       "</table>\n",
       "</div>"
      ],
      "text/plain": [
       "   iter  rank   l2  time_train  time_hr  error  hr_valid  hr_test\n",
       "1   0.0   0.0  0.0         0.0      0.0    0.0       0.0      0.0\n",
       "2   0.0   0.0  0.0         0.0      0.0    0.0       0.0      0.0\n",
       "3   0.0   0.0  0.0         0.0      0.0    0.0       0.0      0.0\n",
       "4   0.0   0.0  0.0         0.0      0.0    0.0       0.0      0.0\n",
       "5   0.0   0.0  0.0         0.0      0.0    0.0       0.0      0.0"
      ]
     },
     "execution_count": 15,
     "metadata": {},
     "output_type": "execute_result"
    }
   ],
   "source": [
    "table_results = pd.DataFrame(\n",
    "    np.zeros((len(ranks), 8)),\n",
    "    index=[i for i in range(1, 6)],\n",
    "    columns=(\"iter\", \"rank\", \"l2\", \"time_train\", \"time_hr\", \"error\", \"hr_valid\", \"hr_test\"),\n",
    ")\n",
    "table_results"
   ]
  },
  {
   "cell_type": "code",
   "execution_count": 16,
   "metadata": {},
   "outputs": [
    {
     "data": {
      "text/html": [
       "<div><span class=\"Text-label\" style=\"display:inline-block; overflow:hidden; white-space:nowrap; text-overflow:ellipsis; min-width:0; max-width:15ex; vertical-align:middle; text-align:right\"></span>\n",
       "<progress style=\"width:60ex\" max=\"5\" value=\"5\" class=\"Progress-main\"/></progress>\n",
       "<span class=\"Progress-label\"><strong>100%</strong></span>\n",
       "<span class=\"Iteration-label\">5/5</span>\n",
       "<span class=\"Time-label\">[03:10:36<01:20:40, 2287.25s/it]</span></div>"
      ],
      "text/plain": [
       "\u001b[A\u001b[2K\r",
       " [████████████████████████████████████████████████████████████] 5/5 [03:10:36<01:20:40, 2287.25s/it]"
      ]
     },
     "metadata": {},
     "output_type": "display_data"
    }
   ],
   "source": [
    "idx = 0\n",
    "for rank in track(ranks):\n",
    "    idx += 1\n",
    "    # Train model\n",
    "    start_tr = time.time()\n",
    "    a, b, c, err_arr, it = wrcp.wrcp_als3(\n",
    "        coords, values, data_shape,\n",
    "        rank=rank,\n",
    "        l2=l2,\n",
    "        max_iter=n_iter,\n",
    "        seed=seed,\n",
    "        show_iter=False,\n",
    "        it_over=False,\n",
    "    )\n",
    "    end_tr = time.time()\n",
    "            \n",
    "    # Find relative error\n",
    "    rerr = sqrt_err_relative(\n",
    "        coords, values, data_shape, a, b, c,\n",
    "    )\n",
    "     \n",
    "        \n",
    "    # Find Hit Rate on a validation set\n",
    "    start_hr = time.time()\n",
    "    hr_valid, _, _ = hit_rate(train_triples, valid_triples, a, b, c, 10)\n",
    "    # Find Hit Rate on a test set\n",
    "    hr_test, _, _ = hit_rate(train_triples, test_triples, a, b, c, 10)\n",
    "    end_hr = time.time()\n",
    "            \n",
    "    table_results.loc[idx][\"iter\"] = n_iter\n",
    "    table_results.loc[idx][\"rank\"] = rank\n",
    "    table_results.loc[idx][\"l2\"] = l2\n",
    "    table_results.loc[idx][\"time_train\"] = end_tr - start_tr\n",
    "    table_results.loc[idx][\"time_hr\"] = end_hr - start_hr\n",
    "    table_results.loc[idx][\"error\"] = rerr\n",
    "    table_results.loc[idx][\"hr_valid\"] = hr_valid\n",
    "    table_results.loc[idx][\"hr_test\"] = hr_test"
   ]
  },
  {
   "cell_type": "code",
   "execution_count": 17,
   "metadata": {},
   "outputs": [
    {
     "data": {
      "text/html": [
       "<div>\n",
       "<style scoped>\n",
       "    .dataframe tbody tr th:only-of-type {\n",
       "        vertical-align: middle;\n",
       "    }\n",
       "\n",
       "    .dataframe tbody tr th {\n",
       "        vertical-align: top;\n",
       "    }\n",
       "\n",
       "    .dataframe thead th {\n",
       "        text-align: right;\n",
       "    }\n",
       "</style>\n",
       "<table border=\"1\" class=\"dataframe\">\n",
       "  <thead>\n",
       "    <tr style=\"text-align: right;\">\n",
       "      <th></th>\n",
       "      <th>iter</th>\n",
       "      <th>rank</th>\n",
       "      <th>l2</th>\n",
       "      <th>time_train</th>\n",
       "      <th>time_hr</th>\n",
       "      <th>error</th>\n",
       "      <th>hr_valid</th>\n",
       "      <th>hr_test</th>\n",
       "    </tr>\n",
       "  </thead>\n",
       "  <tbody>\n",
       "    <tr>\n",
       "      <td>1</td>\n",
       "      <td>2.0</td>\n",
       "      <td>25.0</td>\n",
       "      <td>3.0</td>\n",
       "      <td>96.812222</td>\n",
       "      <td>607.982382</td>\n",
       "      <td>0.429689</td>\n",
       "      <td>0.163598</td>\n",
       "      <td>0.161246</td>\n",
       "    </tr>\n",
       "    <tr>\n",
       "      <td>2</td>\n",
       "      <td>2.0</td>\n",
       "      <td>50.0</td>\n",
       "      <td>3.0</td>\n",
       "      <td>131.789263</td>\n",
       "      <td>800.068590</td>\n",
       "      <td>0.406800</td>\n",
       "      <td>0.214803</td>\n",
       "      <td>0.212186</td>\n",
       "    </tr>\n",
       "    <tr>\n",
       "      <td>3</td>\n",
       "      <td>2.0</td>\n",
       "      <td>100.0</td>\n",
       "      <td>3.0</td>\n",
       "      <td>285.574123</td>\n",
       "      <td>1205.464221</td>\n",
       "      <td>0.389291</td>\n",
       "      <td>0.275697</td>\n",
       "      <td>0.273576</td>\n",
       "    </tr>\n",
       "    <tr>\n",
       "      <td>4</td>\n",
       "      <td>2.0</td>\n",
       "      <td>200.0</td>\n",
       "      <td>3.0</td>\n",
       "      <td>985.066544</td>\n",
       "      <td>2482.327854</td>\n",
       "      <td>0.390810</td>\n",
       "      <td>0.323303</td>\n",
       "      <td>0.315253</td>\n",
       "    </tr>\n",
       "    <tr>\n",
       "      <td>5</td>\n",
       "      <td>2.0</td>\n",
       "      <td>250.0</td>\n",
       "      <td>3.0</td>\n",
       "      <td>1574.199990</td>\n",
       "      <td>3265.579626</td>\n",
       "      <td>0.387988</td>\n",
       "      <td>0.325165</td>\n",
       "      <td>0.324267</td>\n",
       "    </tr>\n",
       "  </tbody>\n",
       "</table>\n",
       "</div>"
      ],
      "text/plain": [
       "   iter   rank   l2   time_train      time_hr     error  hr_valid   hr_test\n",
       "1   2.0   25.0  3.0    96.812222   607.982382  0.429689  0.163598  0.161246\n",
       "2   2.0   50.0  3.0   131.789263   800.068590  0.406800  0.214803  0.212186\n",
       "3   2.0  100.0  3.0   285.574123  1205.464221  0.389291  0.275697  0.273576\n",
       "4   2.0  200.0  3.0   985.066544  2482.327854  0.390810  0.323303  0.315253\n",
       "5   2.0  250.0  3.0  1574.199990  3265.579626  0.387988  0.325165  0.324267"
      ]
     },
     "execution_count": 17,
     "metadata": {},
     "output_type": "execute_result"
    }
   ],
   "source": [
    "table_results"
   ]
  },
  {
   "cell_type": "code",
   "execution_count": 18,
   "metadata": {},
   "outputs": [],
   "source": [
    "table_results.to_csv(\"Link_Prediction_Factors/FB15K/results.csv\")"
   ]
  },
  {
   "cell_type": "code",
   "execution_count": 32,
   "metadata": {},
   "outputs": [
    {
     "data": {
      "text/plain": [
       "[<matplotlib.lines.Line2D at 0x7fcfe443d910>]"
      ]
     },
     "execution_count": 32,
     "metadata": {},
     "output_type": "execute_result"
    },
    {
     "data": {
      "image/png": "[encoded data removed]",
      "text/plain": [
       "<Figure size 432x288 with 1 Axes>"
      ]
     },
     "metadata": {
      "needs_background": "light"
     },
     "output_type": "display_data"
    }
   ],
   "source": [
    "plt.xlabel(\"Rank\")\n",
    "plt.ylabel(\"HR@10\")\n",
    "plt.title(f\"FB15K / WRCP-ALS3\")\n",
    "plt.xticks(table_results['rank'])\n",
    "#plt.yscale(\"log\")\n",
    "plt.plot(table_results['rank'], table_results['hr_test'], '-*', c=\"#8b0a50\")"
   ]
  },
  {
   "cell_type": "markdown",
   "metadata": {},
   "source": [
    "## We can load calculated factors:"
   ]
  },
  {
   "cell_type": "code",
   "execution_count": 3,
   "metadata": {},
   "outputs": [],
   "source": [
    "path_factors = \"Link_Prediction_Factors/FB15K/\"\n",
    "\n",
    "a = pickle.load(open(path_factors + 'A_factor', 'rb'))\n",
    "b = pickle.load(open(path_factors + 'B_factor', 'rb'))\n",
    "c = pickle.load(open(path_factors + 'C_factor', 'rb'))"
   ]
  },
  {
   "cell_type": "code",
   "execution_count": 21,
   "metadata": {},
   "outputs": [
    {
     "name": "stdout",
     "output_type": "stream",
     "text": [
      "0.341 682 2000\n",
      "0.32975 1319 4000\n",
      "0.3285 1971 6000\n",
      "0.32625 2610 8000\n",
      "0.3287 3287 10000\n",
      "0.3329166666666667 3995 12000\n",
      "0.33314285714285713 4664 14000\n",
      "0.3335 5336 16000\n",
      "0.3333333333333333 6000 18000\n",
      "0.33095 6619 20000\n",
      "0.3321363636363636 7307 22000\n",
      "0.331625 7959 24000\n",
      "0.3323076923076923 8640 26000\n",
      "0.33182142857142854 9291 28000\n",
      "0.3323333333333333 9970 30000\n",
      "0.33225 10632 32000\n",
      "0.33276470588235296 11314 34000\n",
      "0.33361111111111114 12010 36000\n",
      "0.3335526315789474 12675 38000\n",
      "0.3337 13348 40000\n",
      "0.33330952380952383 13999 42000\n",
      "0.3335681818181818 14677 44000\n",
      "0.33360869565217394 15346 46000\n",
      "0.33420833333333333 16042 48000\n",
      "0.33436 16718 50000\n",
      "0.3340192307692308 17369 52000\n",
      "0.3337037037037037 18020 54000\n",
      "0.33325 18662 56000\n"
     ]
    },
    {
     "data": {
      "text/plain": [
       "(0.3332446195063963, 18782, 56361)"
      ]
     },
     "execution_count": 21,
     "metadata": {},
     "output_type": "execute_result"
    }
   ],
   "source": [
    "hit_rate(train_triples, test_triples, a, b, c, 10)"
   ]
  },
  {
   "cell_type": "code",
   "execution_count": null,
   "metadata": {},
   "outputs": [],
   "source": [
    "hit_rate(train_triples, valid_triples, a, b, c, 10)"
   ]
  },
  {
   "cell_type": "markdown",
   "metadata": {},
   "source": [
    "## Let's look at Tucker TD:"
   ]
  },
  {
   "cell_type": "code",
   "execution_count": 4,
   "metadata": {},
   "outputs": [],
   "source": [
    "import polara.lib.hosvd as hosvd"
   ]
  },
  {
   "cell_type": "code",
   "execution_count": 10,
   "metadata": {},
   "outputs": [
    {
     "name": "stdout",
     "output_type": "stream",
     "text": [
      "Step 1 of 100\n",
      "growth of the core: 1.000000\n",
      "Step 2 of 100\n",
      "growth of the core: 0.111823\n",
      "Step 3 of 100\n",
      "growth of the core: 0.008425\n",
      "Core is no longer growing. Norm of the core: 298.005022\n",
      "Done\n",
      "CPU times: user 1min 5s, sys: 1.46 s, total: 1min 7s\n",
      "Wall time: 39.1 s\n"
     ]
    }
   ],
   "source": [
    "%%time\n",
    "core_shape = (50, 50, 50)\n",
    "p, q, r, g = hosvd.tucker_als(\n",
    "    idx=coords,\n",
    "    val=values,\n",
    "    shape=data_shape,\n",
    "    core_shape=core_shape,\n",
    "    iters=100,\n",
    "    growth_tol=0.01,\n",
    "    batch_run=False,\n",
    "    seed=None,\n",
    ")"
   ]
  },
  {
   "cell_type": "markdown",
   "metadata": {},
   "source": [
    "### Write function to calculate the error:"
   ]
  },
  {
   "cell_type": "code",
   "execution_count": 6,
   "metadata": {},
   "outputs": [],
   "source": [
    "from numba import jit"
   ]
  },
  {
   "cell_type": "code",
   "execution_count": 7,
   "metadata": {},
   "outputs": [],
   "source": [
    "@jit(nopython=True) \n",
    "def sqrt_err_tucker(coo_tensor, vals, shape, a, b, c, g):\n",
    "    result = 0.0\n",
    "    for item in range(coo_tensor.shape[0]):\n",
    "        coord = coo_tensor[item]\n",
    "        elem = 0.0\n",
    "        for p in range(a.shape[1]):\n",
    "            for q in range(b.shape[1]):\n",
    "                for r in range(c.shape[1]):\n",
    "                    elem += g[p, q, r] * a[coord[0], p] * b[coord[1], q] * c[coord[2], r]\n",
    "        \n",
    "        result += (vals[item] - elem)**2  \n",
    "    return np.sqrt(result)"
   ]
  },
  {
   "cell_type": "code",
   "execution_count": 8,
   "metadata": {},
   "outputs": [],
   "source": [
    "@jit(nopython=True) \n",
    "def sqrt_err_relative_tucker(coo_tensor, vals, shape, a, b, c, g):\n",
    "    result = sqrt_err_tucker(coo_tensor, vals, shape, a, b, c, g)        \n",
    "    return result / np.sqrt((vals**2).sum())"
   ]
  },
  {
   "cell_type": "code",
   "execution_count": 11,
   "metadata": {},
   "outputs": [
    {
     "name": "stdout",
     "output_type": "stream",
     "text": [
      "Relative error = 0.8692521793191307\n"
     ]
    }
   ],
   "source": [
    "rerr = sqrt_err_relative_tucker(\n",
    "    coords,\n",
    "    values,\n",
    "    data_shape,\n",
    "    p,\n",
    "    q,\n",
    "    r,\n",
    "    g,\n",
    ")\n",
    "print(f\"Relative error = {rerr}\")"
   ]
  },
  {
   "cell_type": "code",
   "execution_count": null,
   "metadata": {},
   "outputs": [],
   "source": []
  }
 ],
 "metadata": {
  "kernelspec": {
   "display_name": "Python 3",
   "language": "python",
   "name": "python3"
  },
  "language_info": {
   "codemirror_mode": {
    "name": "ipython",
    "version": 3
   },
   "file_extension": ".py",
   "mimetype": "text/x-python",
   "name": "python",
   "nbconvert_exporter": "python",
   "pygments_lexer": "ipython3",
   "version": "3.7.4"
  }
 },
 "nbformat": 4,
 "nbformat_minor": 4
}
